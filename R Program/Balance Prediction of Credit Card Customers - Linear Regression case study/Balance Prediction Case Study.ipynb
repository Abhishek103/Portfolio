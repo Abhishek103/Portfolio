{
 "cells": [
  {
   "cell_type": "markdown",
   "metadata": {},
   "source": [
    "# Credit Card Balance Prediction "
   ]
  },
  {
   "cell_type": "markdown",
   "metadata": {},
   "source": [
    "## Case Overview\n",
    "\n",
    "A leading Credit Card issuer bank is looking to develop analytical strategies for its upcoming marketing campaigns to target profitable prospects. They are looking to develope a Life Time Value model of its customers and a model predicting the balance would be a key input into the LTV model. The business wants to identify those key factors that helps maintain higher balances.\n",
    "\n",
    "The company decides that they would like to predict the average monthly balance considering the balance in the first 6 months of enrollment. They run 4 campaighns a year and use this model in them.  \n",
    "\n",
    "The given dataset is the data that was used in the June'14 campaign"
   ]
  },
  {
   "cell_type": "markdown",
   "metadata": {},
   "source": [
    "## Case Solution\n",
    "\n",
    "The case clearly states that from the given factors the Credit Card company seeks to build a model for predicting the ***\"Average Monthly Balance\"***. This variable to be predicted is a numeric variable.\n",
    "\n",
    "As the problem requires prediction of numeric variable, the \"Traditional\" and a very reliable statistical analysis that can be used is Linear Regression. Linear Regression essentially fits a straight line which can be generallized as a \\begin{equation*} Y = mX+ C \\end{equation*}\n",
    "\n",
    "The ***Y*** here being the predicted variable and ***X*** the predictor. The ***m*** is a slope value (The rate at which X changes to a change in Y) and ***C*** denotes a fixed constant that is added regardless of the value of X or Y. \n",
    "\n",
    "In a more complex problem there are a lot of predictors that help in predicting the most accurate value of the Y.  Such models that include more factors are called ***Multiple Linear Regression***. In such a case there are more than 1 X variable, but still only 1 Y variable exists.\n",
    "\n",
    "Because of more advancements in mathametics and the field of Data Science, with the advent of increased use of Machine Learning, these new Machine Algorithms are being used more often as a substitute for Linear Regression as they go beyond just fitting a straight line into the model. \n",
    "\n",
    "In this solution here, we will first explore a solution using Multiple Linear Regression run some model tuning and a few measures to check how well the model will work for future unseen data. After that, a Machine Learning model will also be created with the help of a few tuning parameters and the results of both these models will be compared to see the extent to which the ML model outperforms a the Traditional Linear Regression model."
   ]
  },
  {
   "cell_type": "markdown",
   "metadata": {},
   "source": [
    "Firstly, let's load the required libraries for the model that we are going to use for the first Multiple Linear Regression Model"
   ]
  },
  {
   "cell_type": "code",
   "execution_count": 2,
   "metadata": {},
   "outputs": [],
   "source": [
    "library(data.table)\n",
    "library(dplyr)\n",
    "library(caret)\n",
    "library(fastDummies)\n",
    "library(DescTools)\n",
    "library(rcompanion)\n",
    "options(scipen = 999) # This is used to print the complete numeric value instead of values in scientific notation\n",
    "# options(warn=1)"
   ]
  },
  {
   "cell_type": "markdown",
   "metadata": {},
   "source": [
    "Next, we import the required data file into the environment"
   ]
  },
  {
   "cell_type": "code",
   "execution_count": 3,
   "metadata": {
    "scrolled": true
   },
   "outputs": [],
   "source": [
    "setwd(\"C:/Users/HOME/Desktop/Portfolio Publication/Linear Regression\")\n",
    "cust_data <- fread(\"Cust_Database.csv\")\n"
   ]
  },
  {
   "cell_type": "markdown",
   "metadata": {},
   "source": [
    "We examine the imported data"
   ]
  },
  {
   "cell_type": "code",
   "execution_count": 4,
   "metadata": {},
   "outputs": [
    {
     "data": {
      "text/html": [
       "<table>\n",
       "<thead><tr><th scope=col>custid</th><th scope=col>region</th><th scope=col>townsize</th><th scope=col>gender</th><th scope=col>age</th><th scope=col>agecat</th><th scope=col>birthmonth</th><th scope=col>ed</th><th scope=col>edcat</th><th scope=col>jobcat</th><th scope=col>...</th><th scope=col>owncd</th><th scope=col>ownpda</th><th scope=col>ownpc</th><th scope=col>ownipod</th><th scope=col>owngame</th><th scope=col>ownfax</th><th scope=col>news</th><th scope=col>response_01</th><th scope=col>response_02</th><th scope=col>response_03</th></tr></thead>\n",
       "<tbody>\n",
       "\t<tr><td>3964-QJWTRG-NPN</td><td>1              </td><td>2              </td><td>1              </td><td>20             </td><td>2              </td><td>September      </td><td>15             </td><td>3              </td><td>1              </td><td>...            </td><td>0              </td><td>0              </td><td>0              </td><td>1              </td><td>1              </td><td>0              </td><td>0              </td><td>0              </td><td>1              </td><td>0              </td></tr>\n",
       "\t<tr><td>0648-AIPJSP-UVM</td><td>5              </td><td>5              </td><td>0              </td><td>22             </td><td>2              </td><td>May            </td><td>17             </td><td>4              </td><td>2              </td><td>...            </td><td>1              </td><td>1              </td><td>1              </td><td>1              </td><td>1              </td><td>1              </td><td>1              </td><td>0              </td><td>0              </td><td>0              </td></tr>\n",
       "\t<tr><td>5195-TLUDJE-HVO</td><td>3              </td><td>4              </td><td>1              </td><td>67             </td><td>6              </td><td>June           </td><td>14             </td><td>2              </td><td>2              </td><td>...            </td><td>1              </td><td>0              </td><td>0              </td><td>0              </td><td>0              </td><td>0              </td><td>1              </td><td>0              </td><td>0              </td><td>0              </td></tr>\n",
       "\t<tr><td>4459-VLPQUH-3OL</td><td>4              </td><td>3              </td><td>0              </td><td>23             </td><td>2              </td><td>May            </td><td>16             </td><td>3              </td><td>2              </td><td>...            </td><td>1              </td><td>0              </td><td>1              </td><td>1              </td><td>1              </td><td>0              </td><td>1              </td><td>1              </td><td>0              </td><td>0              </td></tr>\n",
       "\t<tr><td>8158-SMTQFB-CNO</td><td>2              </td><td>2              </td><td>0              </td><td>26             </td><td>3              </td><td>July           </td><td>16             </td><td>3              </td><td>2              </td><td>...            </td><td>1              </td><td>0              </td><td>1              </td><td>0              </td><td>1              </td><td>0              </td><td>0              </td><td>0              </td><td>1              </td><td>0              </td></tr>\n",
       "\t<tr><td>9662-FUSYIM-1IV</td><td>4              </td><td>4              </td><td>0              </td><td>64             </td><td>5              </td><td>August         </td><td>17             </td><td>4              </td><td>3              </td><td>...            </td><td>1              </td><td>1              </td><td>0              </td><td>0              </td><td>0              </td><td>0              </td><td>0              </td><td>0              </td><td>1              </td><td>0              </td></tr>\n",
       "</tbody>\n",
       "</table>\n"
      ],
      "text/latex": [
       "\\begin{tabular}{r|llllllllllllllllllllllllllllllllllllllllllllllllllllllllllllllllllllllllllllllllllllllllllllllllllllllllllllllllllllllllllllllllllll}\n",
       " custid & region & townsize & gender & age & agecat & birthmonth & ed & edcat & jobcat & ... & owncd & ownpda & ownpc & ownipod & owngame & ownfax & news & response\\_01 & response\\_02 & response\\_03\\\\\n",
       "\\hline\n",
       "\t 3964-QJWTRG-NPN & 1               & 2               & 1               & 20              & 2               & September       & 15              & 3               & 1               & ...             & 0               & 0               & 0               & 1               & 1               & 0               & 0               & 0               & 1               & 0              \\\\\n",
       "\t 0648-AIPJSP-UVM & 5               & 5               & 0               & 22              & 2               & May             & 17              & 4               & 2               & ...             & 1               & 1               & 1               & 1               & 1               & 1               & 1               & 0               & 0               & 0              \\\\\n",
       "\t 5195-TLUDJE-HVO & 3               & 4               & 1               & 67              & 6               & June            & 14              & 2               & 2               & ...             & 1               & 0               & 0               & 0               & 0               & 0               & 1               & 0               & 0               & 0              \\\\\n",
       "\t 4459-VLPQUH-3OL & 4               & 3               & 0               & 23              & 2               & May             & 16              & 3               & 2               & ...             & 1               & 0               & 1               & 1               & 1               & 0               & 1               & 1               & 0               & 0              \\\\\n",
       "\t 8158-SMTQFB-CNO & 2               & 2               & 0               & 26              & 3               & July            & 16              & 3               & 2               & ...             & 1               & 0               & 1               & 0               & 1               & 0               & 0               & 0               & 1               & 0              \\\\\n",
       "\t 9662-FUSYIM-1IV & 4               & 4               & 0               & 64              & 5               & August          & 17              & 4               & 3               & ...             & 1               & 1               & 0               & 0               & 0               & 0               & 0               & 0               & 1               & 0              \\\\\n",
       "\\end{tabular}\n"
      ],
      "text/markdown": [
       "\n",
       "| custid | region | townsize | gender | age | agecat | birthmonth | ed | edcat | jobcat | ... | owncd | ownpda | ownpc | ownipod | owngame | ownfax | news | response_01 | response_02 | response_03 |\n",
       "|---|---|---|---|---|---|---|---|---|---|---|---|---|---|---|---|---|---|---|---|---|\n",
       "| 3964-QJWTRG-NPN | 1               | 2               | 1               | 20              | 2               | September       | 15              | 3               | 1               | ...             | 0               | 0               | 0               | 1               | 1               | 0               | 0               | 0               | 1               | 0               |\n",
       "| 0648-AIPJSP-UVM | 5               | 5               | 0               | 22              | 2               | May             | 17              | 4               | 2               | ...             | 1               | 1               | 1               | 1               | 1               | 1               | 1               | 0               | 0               | 0               |\n",
       "| 5195-TLUDJE-HVO | 3               | 4               | 1               | 67              | 6               | June            | 14              | 2               | 2               | ...             | 1               | 0               | 0               | 0               | 0               | 0               | 1               | 0               | 0               | 0               |\n",
       "| 4459-VLPQUH-3OL | 4               | 3               | 0               | 23              | 2               | May             | 16              | 3               | 2               | ...             | 1               | 0               | 1               | 1               | 1               | 0               | 1               | 1               | 0               | 0               |\n",
       "| 8158-SMTQFB-CNO | 2               | 2               | 0               | 26              | 3               | July            | 16              | 3               | 2               | ...             | 1               | 0               | 1               | 0               | 1               | 0               | 0               | 0               | 1               | 0               |\n",
       "| 9662-FUSYIM-1IV | 4               | 4               | 0               | 64              | 5               | August          | 17              | 4               | 3               | ...             | 1               | 1               | 0               | 0               | 0               | 0               | 0               | 0               | 1               | 0               |\n",
       "\n"
      ],
      "text/plain": [
       "  custid          region townsize gender age agecat birthmonth ed edcat jobcat\n",
       "1 3964-QJWTRG-NPN 1      2        1      20  2      September  15 3     1     \n",
       "2 0648-AIPJSP-UVM 5      5        0      22  2      May        17 4     2     \n",
       "3 5195-TLUDJE-HVO 3      4        1      67  6      June       14 2     2     \n",
       "4 4459-VLPQUH-3OL 4      3        0      23  2      May        16 3     2     \n",
       "5 8158-SMTQFB-CNO 2      2        0      26  3      July       16 3     2     \n",
       "6 9662-FUSYIM-1IV 4      4        0      64  5      August     17 4     3     \n",
       "  ... owncd ownpda ownpc ownipod owngame ownfax news response_01 response_02\n",
       "1 ... 0     0      0     1       1       0      0    0           1          \n",
       "2 ... 1     1      1     1       1       1      1    0           0          \n",
       "3 ... 1     0      0     0       0       0      1    0           0          \n",
       "4 ... 1     0      1     1       1       0      1    1           0          \n",
       "5 ... 1     0      1     0       1       0      0    0           1          \n",
       "6 ... 1     1      0     0       0       0      0    0           1          \n",
       "  response_03\n",
       "1 0          \n",
       "2 0          \n",
       "3 0          \n",
       "4 0          \n",
       "5 0          \n",
       "6 0          "
      ]
     },
     "metadata": {},
     "output_type": "display_data"
    }
   ],
   "source": [
    "head(cust_data)"
   ]
  },
  {
   "cell_type": "code",
   "execution_count": 46,
   "metadata": {
    "scrolled": true
   },
   "outputs": [
    {
     "name": "stdout",
     "output_type": "stream",
     "text": [
      "Classes 'data.table' and 'data.frame':\t5000 obs. of  132 variables:\n",
      " $ custid           : chr  \"3964-QJWTRG-NPN\" \"0648-AIPJSP-UVM\" \"5195-TLUDJE-HVO\" \"4459-VLPQUH-3OL\" ...\n",
      " $ region           : num  1 5 3 4 2 4 2 3 2 2 ...\n",
      " $ townsize         : num  2 5 4 3 2 4 5 4 3 2 ...\n",
      " $ gender           : num  1 0 1 0 0 0 1 1 1 0 ...\n",
      " $ age              : num  20 22 67 23 26 64 52 44 66 47 ...\n",
      " $ agecat           : num  2 2 6 2 3 5 5 4 6 4 ...\n",
      " $ birthmonth       : chr  \"September\" \"May\" \"June\" \"May\" ...\n",
      " $ ed               : num  15 17 14 16 16 17 14 16 12 11 ...\n",
      " $ edcat            : num  3 4 2 3 3 4 2 3 2 1 ...\n",
      " $ jobcat           : num  1 2 2 2 2 3 1 1 1 6 ...\n",
      " $ union            : num  1 0 0 0 0 0 0 0 0 0 ...\n",
      " $ employ           : num  0 0 16 0 1 22 10 11 15 19 ...\n",
      " $ empcat           : num  1 1 5 1 1 5 3 4 4 5 ...\n",
      " $ retire           : num  0 0 0 0 0 0 0 0 1 0 ...\n",
      " $ income           : num  31 15 35 20 23 107 77 97 16 84 ...\n",
      " $ lninc            : num  3.43 2.71 3.56 3 3.14 4.67 4.34 4.57 2.77 4.43 ...\n",
      " $ inccat           : num  2 1 2 1 1 4 4 4 1 4 ...\n",
      " $ debtinc          : num  11.1 18.6 9.9 5.7 1.7 5.6 1.9 14.4 2.6 4.1 ...\n",
      " $ creddebt         : num  1.2 1.22 0.93 0.02 0.21 1.06 0.5 5.95 0.1 1.77 ...\n",
      " $ lncreddebt       : num  0.18 0.2 -0.07 -3.78 -1.54 0.06 -0.69 1.78 -2.28 0.57 ...\n",
      " $ othdebt          : num  2.24 1.57 2.54 1.12 0.18 4.93 0.96 8.02 0.31 1.67 ...\n",
      " $ lnothdebt        : num  0.81 0.45 0.93 0.11 -1.74 1.6 -0.04 2.08 -1.16 0.52 ...\n",
      " $ default          : num  1 1 0 1 0 0 0 0 0 0 ...\n",
      " $ jobsat           : num  1 1 4 2 1 2 2 5 2 4 ...\n",
      " $ marital          : num  0 0 1 1 1 0 0 1 0 0 ...\n",
      " $ spoused          : num  -1 -1 13 18 13 -1 -1 15 -1 -1 ...\n",
      " $ spousedcat       : num  -1 -1 2 4 2 -1 -1 3 -1 -1 ...\n",
      " $ reside           : num  3 2 3 5 4 1 1 2 1 2 ...\n",
      " $ pets             : num  0 6 3 0 0 11 2 10 1 1 ...\n",
      " $ pets_cats        : num  0 0 2 0 0 1 0 0 1 1 ...\n",
      " $ pets_dogs        : num  0 0 1 0 0 1 2 2 0 0 ...\n",
      " $ pets_birds       : num  0 0 0 0 0 0 0 0 0 0 ...\n",
      " $ pets_reptiles    : num  0 0 0 0 0 0 0 0 0 0 ...\n",
      " $ pets_small       : num  0 0 0 0 0 2 0 0 0 0 ...\n",
      " $ pets_saltfish    : num  0 0 0 0 0 0 0 0 0 0 ...\n",
      " $ pets_freshfish   : num  0 6 0 0 0 7 0 8 0 0 ...\n",
      " $ homeown          : num  0 1 1 1 0 1 0 1 1 1 ...\n",
      " $ hometype         : num  2 3 1 3 2 1 3 3 1 1 ...\n",
      " $ address          : num  0 2 30 3 3 31 21 20 21 19 ...\n",
      " $ addresscat       : num  1 1 5 2 2 5 4 4 4 4 ...\n",
      " $ cars             : num  2 2 3 3 1 0 2 1 1 4 ...\n",
      " $ carown           : num  1 1 1 1 0 -1 1 1 1 1 ...\n",
      " $ cartype          : num  0 1 1 1 1 -1 0 0 1 0 ...\n",
      " $ carvalue         : num  14.3 6.8 18.8 8.7 10.6 -1 25.6 55.5 8.6 41 ...\n",
      " $ carcatvalue      : num  1 1 1 1 1 -1 2 3 1 3 ...\n",
      " $ carbought        : num  0 0 0 0 0 -1 1 0 0 1 ...\n",
      " $ carbuy           : num  0 0 1 1 1 0 0 1 0 0 ...\n",
      " $ commute          : num  8 1 4 1 6 8 4 5 4 1 ...\n",
      " $ commutecat       : num  4 1 3 1 3 4 3 3 3 1 ...\n",
      " $ commutetime      : num  22 29 24 38 32 23 32 31 25 29 ...\n",
      " $ commutecar       : num  0 1 1 1 0 0 1 0 1 1 ...\n",
      " $ commutemotorcycle: num  1 0 0 0 0 0 0 0 1 1 ...\n",
      " $ commutecarpool   : num  1 0 1 0 0 0 0 0 0 0 ...\n",
      " $ commutebus       : num  0 1 1 0 0 0 1 0 1 0 ...\n",
      " $ commuterail      : num  0 0 1 0 0 1 0 1 1 0 ...\n",
      " $ commutepublic    : num  0 0 0 0 1 0 0 0 0 0 ...\n",
      " $ commutebike      : num  0 1 0 0 0 0 1 0 0 0 ...\n",
      " $ commutewalk      : num  1 0 0 0 1 1 1 0 0 0 ...\n",
      " $ commutenonmotor  : num  0 1 0 0 0 0 0 0 0 0 ...\n",
      " $ telecommute      : num  0 1 0 0 0 0 0 0 0 0 ...\n",
      " $ reason           : num  9 9 2 9 9 9 9 2 9 9 ...\n",
      " $ polview          : num  6 4 5 3 4 4 4 6 3 3 ...\n",
      " $ polparty         : num  1 1 1 0 0 0 0 0 1 1 ...\n",
      " $ polcontrib       : num  0 0 0 0 0 0 0 0 1 1 ...\n",
      " $ vote             : num  1 0 0 0 0 0 0 1 1 1 ...\n",
      " $ card             : num  3 2 2 2 4 2 5 1 3 5 ...\n",
      " $ cardtype         : num  1 4 1 1 2 4 3 1 4 4 ...\n",
      " $ cardbenefit      : num  1 1 4 4 1 1 1 4 2 1 ...\n",
      " $ cardfee          : num  0 0 0 0 0 1 1 0 0 0 ...\n",
      " $ cardtenure       : num  2 4 35 5 8 18 3 25 26 2 ...\n",
      " $ cardtenurecat    : num  2 2 5 2 3 5 2 5 5 2 ...\n",
      " $ card2            : num  5 4 4 3 1 3 2 3 2 2 ...\n",
      " $ card2type        : num  3 1 1 2 3 3 3 1 4 2 ...\n",
      " $ card2benefit     : num  1 3 3 4 2 2 4 4 3 1 ...\n",
      " $ card2fee         : num  0 0 0 0 0 1 0 0 0 0 ...\n",
      " $ card2tenure      : num  3 4 25 5 9 9 2 20 17 2 ...\n",
      " $ card2tenurecat   : num  2 2 5 2 3 3 2 5 5 2 ...\n",
      " $ carditems        : num  5 5 9 17 8 11 20 6 12 11 ...\n",
      " $ cardspent        : num  81.7 42.6 184.2 341 255.1 ...\n",
      " $ card2items       : num  4 2 7 1 7 0 5 7 6 5 ...\n",
      " $ card2spent       : num  67.8 34.9 175.8 18.4 252.7 ...\n",
      " $ active           : num  0 1 0 1 1 0 0 0 1 1 ...\n",
      " $ bfast            : num  3 1 3 1 3 3 2 3 3 3 ...\n",
      " $ tenure           : num  5 39 65 36 21 28 15 46 53 3 ...\n",
      " $ churn            : num  1 0 0 0 0 0 0 0 0 1 ...\n",
      " $ longmon          : num  6.5 8.9 28.4 6 3.05 ...\n",
      " $ lnlongmon        : num  1.87 2.19 3.35 1.79 1.12 2.09 1.34 2.7 3.05 1.29 ...\n",
      " $ longten          : num  34.4 330.6 1858.3 199.4 74.1 ...\n",
      " $ lnlongten        : num  3.54 5.8 7.53 5.3 4.31 5.58 3.8 6.42 6.98 3 ...\n",
      " $ tollfree         : num  1 0 0 0 1 1 0 1 0 0 ...\n",
      " $ tollmon          : num  29 0 0 0 16.5 ...\n",
      " $ lntollmon        : num  3.37 NA NA NA 2.8 3.29 NA 3.18 NA NA ...\n",
      " $ tollten          : num  161 0 0 0 388 ...\n",
      " $ lntollten        : num  5.08 NA NA NA 5.96 6.59 NA 7.01 NA NA ...\n",
      " $ equip            : num  1 1 0 0 0 1 0 0 0 0 ...\n",
      " $ equipmon         : num  29.5 54.9 0 0 0 ...\n",
      " $ lnequipmon       : num  3.38 4 NA NA NA 3.57 NA NA NA NA ...\n",
      " $ equipten         : num  126 1975 0 0 0 ...\n",
      " $ lnequipten       : num  4.84 7.59 NA NA NA 6.88 NA NA NA NA ...\n",
      "  [list output truncated]\n",
      " - attr(*, \".internal.selfref\")=<externalptr> \n"
     ]
    }
   ],
   "source": [
    "str(cust_data)"
   ]
  },
  {
   "cell_type": "markdown",
   "metadata": {},
   "source": [
    "The above codes give us a brief view of all the data available and the _str()_ function gives us an idea of the columns, class of the column and a few samples\n",
    "\n",
    "From the given variables, we identify and seperate the numeric variables based on the variable definitions"
   ]
  },
  {
   "cell_type": "markdown",
   "metadata": {},
   "source": [
    "### Numeric Variables"
   ]
  },
  {
   "cell_type": "code",
   "execution_count": 5,
   "metadata": {},
   "outputs": [],
   "source": [
    "numerics <- c(\"age\",\"ed\",\"union\",\"income\",\"lninc\",\"debtinc\",\"creddebt\",\"lncreddebt\",\"othdebt\",\"lnothdebt\",\"spoused\",\n",
    "              \"reside\",\"pets\",\"pets_cats\",\"pets_dogs\",\"pets_birds\",\"pets_reptiles\",\"pets_small\",\"pets_saltfish\",\"pets_freshfish\",\n",
    "              \"carvalue\",\"commutetime\",\"carditems\",\"cardspent\",\"card2items\",\"card2spent\",\"tenure\",\"longmon\",\"lnlongmon\",\"longten\",\n",
    "              \"lnlongten\",\"tollmon\",\"lntollmon\",\"tollten\",\"lntollten\",\"equipmon\",\"lnequipmon\",\"equipten\",\"lnequipten\",\"cardmon\",       \n",
    "              \"lncardmon\",\"cardten\",\"lncardten\",\"wiremon\",\"lnwiremon\",\"wireten\",\"lnwireten\",\"hourstv\")\n",
    "cust_ <- cust_data"
   ]
  },
  {
   "cell_type": "markdown",
   "metadata": {},
   "source": [
    "Now we create user defined functions to get basic insights from our dataset"
   ]
  },
  {
   "cell_type": "code",
   "execution_count": 6,
   "metadata": {},
   "outputs": [],
   "source": [
    "about_nums <- function(x){\n",
    "  \n",
    "  n = length(x)\n",
    "  nmiss = sum(is.na(x))\n",
    "  nmiss_pct = (mean(is.na(x)))*100\n",
    "  sum = sum(x, na.rm=T)\n",
    "  mean = mean(x, na.rm=T)\n",
    "  median = quantile(x, p=0.5, na.rm=T)\n",
    "  std = sd(x, na.rm=T)\n",
    "  var = var(x, na.rm=T)\n",
    "  pctl = quantile(x, p=c(0, 0.01, 0.05,0.1,0.25,0.5, 0.75,0.9,0.95,0.99,1), na.rm=T)\n",
    "  return(c(N=n, Nmiss =nmiss, Nmiss_pct = nmiss_pct, sum=sum, avg=mean, meidan=median, std=std, var=var, pctl=pctl))\n",
    "  \n",
    "}\n",
    "\n",
    "about_cats <- function(x){\n",
    "  \n",
    "  n = length(x)\n",
    "  nmiss = sum(is.na(x))\n",
    "  nmiss_pct = (mean(is.na(x)))*100\n",
    "  return(c(N=n, Nmiss =nmiss, Nmiss_pct = nmiss_pct))\n",
    "  \n",
    "}"
   ]
  },
  {
   "cell_type": "markdown",
   "metadata": {},
   "source": [
    "The numeric and non-numeric variables are taken as two seperate datasets"
   ]
  },
  {
   "cell_type": "code",
   "execution_count": 7,
   "metadata": {},
   "outputs": [],
   "source": [
    "nums <- cust_[,numerics,with = F]\n",
    "rest <- cust_[,!numerics,with = F]"
   ]
  },
  {
   "cell_type": "markdown",
   "metadata": {},
   "source": [
    "First, the numeric variables are examined"
   ]
  },
  {
   "cell_type": "code",
   "execution_count": 8,
   "metadata": {
    "scrolled": true
   },
   "outputs": [
    {
     "name": "stderr",
     "output_type": "stream",
     "text": [
      "Warning message:\n",
      "\"package 'bindrcpp' was built under R version 3.5.2\""
     ]
    },
    {
     "data": {
      "text/html": [
       "<table>\n",
       "<thead><tr><th scope=col>N</th><th scope=col>Nmiss</th><th scope=col>Nmiss_pct</th><th scope=col>sum</th><th scope=col>avg</th><th scope=col>meidan.50%</th><th scope=col>std</th><th scope=col>var</th><th scope=col>pctl.0%</th><th scope=col>pctl.1%</th><th scope=col>pctl.5%</th><th scope=col>pctl.10%</th><th scope=col>pctl.25%</th><th scope=col>pctl.50%</th><th scope=col>pctl.75%</th><th scope=col>pctl.90%</th><th scope=col>pctl.95%</th><th scope=col>pctl.99%</th><th scope=col>pctl.100%</th><th scope=col>vars</th></tr></thead>\n",
       "<tbody>\n",
       "\t<tr><td>5000            </td><td>3656            </td><td>73.12           </td><td>   4845.05      </td><td>  3.6049479     </td><td>  3.60          </td><td>   0.3901961    </td><td>      0.15225301</td><td> 2.54           </td><td> 2.8086         </td><td> 2.9930         </td><td>  3.120         </td><td>  3.3300        </td><td>  3.60          </td><td>   3.8625       </td><td>   4.100        </td><td>   4.2700       </td><td>   4.5757       </td><td>    5.23        </td><td>lnwiremon       </td></tr>\n",
       "\t<tr><td>5000            </td><td>3656            </td><td>73.12           </td><td>   9150.06      </td><td>  6.8080804     </td><td>  7.15          </td><td>   1.2840396    </td><td>      1.64875774</td><td> 2.54           </td><td> 3.0400         </td><td> 4.1165         </td><td>  4.883         </td><td>  6.1600        </td><td>  7.15          </td><td>   7.7600       </td><td>   8.107        </td><td>   8.3100       </td><td>   8.6914       </td><td>    9.46        </td><td>lnwireten       </td></tr>\n",
       "\t<tr><td>5000            </td><td>3296            </td><td>65.92           </td><td>   6134.90      </td><td>  3.6002934     </td><td>  3.60          </td><td>   0.2834255    </td><td>      0.08033004</td><td> 2.83           </td><td> 2.9700         </td><td> 3.1400         </td><td>  3.230         </td><td>  3.4100        </td><td>  3.60          </td><td>   3.7900       </td><td>   3.970        </td><td>   4.0685       </td><td>   4.2697       </td><td>    4.67        </td><td>lnequipmon      </td></tr>\n",
       "\t<tr><td>5000            </td><td>3296            </td><td>65.92           </td><td>  11497.42      </td><td>  6.7473122     </td><td>  7.05          </td><td>   1.1992365    </td><td>      1.43816811</td><td> 2.49           </td><td> 3.1703         </td><td> 4.2515         </td><td>  5.030         </td><td>  6.1700        </td><td>  7.05          </td><td>   7.6500       </td><td>   7.980        </td><td>   8.1200       </td><td>   8.3700       </td><td>    8.78        </td><td>lnequipten      </td></tr>\n",
       "\t<tr><td>5000            </td><td>2622            </td><td>52.44           </td><td>   7712.61      </td><td>  3.2433179     </td><td>  3.23          </td><td>   0.4048211    </td><td>      0.16388015</td><td> 2.08           </td><td> 2.3454         </td><td> 2.5800         </td><td>  2.740         </td><td>  2.9700        </td><td>  3.23          </td><td>   3.5200       </td><td>   3.790        </td><td>   3.9300       </td><td>   4.1900       </td><td>    4.62        </td><td>lntollmon       </td></tr>\n",
       "\t<tr><td>5000            </td><td>2622            </td><td>52.44           </td><td>  15658.51      </td><td>  6.5847393     </td><td>  6.86          </td><td>   1.2219854    </td><td>      1.49324833</td><td> 2.17           </td><td> 2.7854         </td><td> 4.2085         </td><td>  4.820         </td><td>  5.9100        </td><td>  6.86          </td><td>   7.4600       </td><td>   7.880        </td><td>   8.1100       </td><td>   8.4300       </td><td>    8.84        </td><td>lntollten       </td></tr>\n",
       "\t<tr><td>5000            </td><td>1422            </td><td>28.44           </td><td>  22992.92      </td><td>  6.4261934     </td><td>  6.64          </td><td>   1.1720479    </td><td>      1.37369638</td><td> 1.56           </td><td> 2.4800         </td><td> 4.0900         </td><td>  4.940         </td><td>  5.8600        </td><td>  6.64          </td><td>   7.2200       </td><td>   7.670        </td><td>   7.9200       </td><td>   8.3900       </td><td>    9.53        </td><td>lncardten       </td></tr>\n",
       "\t<tr><td>5000            </td><td>1419            </td><td>28.38           </td><td>  10419.31      </td><td>  2.9096090     </td><td>  2.90          </td><td>   0.5651877    </td><td>      0.31943717</td><td> 1.18           </td><td> 1.6600         </td><td> 1.9800         </td><td>  2.170         </td><td>  2.5500        </td><td>  2.90          </td><td>   3.3000       </td><td>   3.640        </td><td>   3.8400       </td><td>   4.2400       </td><td>    5.24        </td><td>lncardmon       </td></tr>\n",
       "\t<tr><td>5000            </td><td>   3            </td><td> 0.06           </td><td>3542232.15      </td><td>708.8717531     </td><td>350.00          </td><td> 979.2910723    </td><td> 959011.00425049</td><td> 0.90           </td><td> 2.4000         </td><td>12.6200         </td><td> 28.290         </td><td>104.6000        </td><td>350.00          </td><td> 913.8500       </td><td>1808.840        </td><td>2567.6500       </td><td>4689.0660       </td><td>13046.50        </td><td>longten         </td></tr>\n",
       "\t<tr><td>5000            </td><td>   3            </td><td> 0.06           </td><td>  28039.80      </td><td>  5.6113268     </td><td>  5.86          </td><td>   1.6493283    </td><td>      2.72028373</td><td>-0.11           </td><td> 0.8800         </td><td> 2.5380         </td><td>  3.340         </td><td>  4.6500        </td><td>  5.86          </td><td>   6.8200       </td><td>   7.500        </td><td>   7.8500       </td><td>   8.4504       </td><td>    9.48        </td><td>lnlongten       </td></tr>\n",
       "\t<tr><td>5000            </td><td>   2            </td><td> 0.04           </td><td> 126677.00      </td><td> 25.3455382     </td><td> 25.00          </td><td>   5.8791487    </td><td>     34.56438973</td><td> 8.00           </td><td>13.0000         </td><td>16.0000         </td><td> 18.000         </td><td> 21.0000        </td><td> 25.00          </td><td>  29.0000       </td><td>  33.000        </td><td>  35.0000       </td><td>  40.0300       </td><td>   48.00        </td><td>commutetime     </td></tr>\n",
       "\t<tr><td>5000            </td><td>   2            </td><td> 0.04           </td><td>3600951.00      </td><td>720.4783914     </td><td>425.00          </td><td> 922.2255266    </td><td> 850499.92193642</td><td> 0.00           </td><td> 0.0000         </td><td> 0.0000         </td><td>  0.000         </td><td>  0.0000        </td><td>425.00          </td><td>1080.0000       </td><td>1871.500        </td><td>2455.7500       </td><td>4011.2000       </td><td>13705.00        </td><td>cardten         </td></tr>\n",
       "\t<tr><td>5000            </td><td>   1            </td><td> 0.02           </td><td>   -652.17      </td><td> -0.1304601     </td><td> -0.08          </td><td>   1.2730207    </td><td>      1.62058170</td><td>-6.60           </td><td>-3.4002         </td><td>-2.2900         </td><td> -1.740         </td><td> -0.9500        </td><td> -0.08          </td><td>   0.7200       </td><td>   1.460        </td><td>   1.8510       </td><td>   2.6600       </td><td>    4.69        </td><td>lncreddebt      </td></tr>\n",
       "\t<tr><td>5000            </td><td>   1            </td><td> 0.02           </td><td>   3484.05      </td><td>  0.6969494     </td><td>  0.74          </td><td>   1.1285878    </td><td>      1.27371040</td><td>-4.09           </td><td>-2.1700         </td><td>-1.2410         </td><td> -0.780         </td><td> -0.0200        </td><td>  0.74          </td><td>   1.4600       </td><td>   2.090        </td><td>   2.4700       </td><td>   3.1802       </td><td>    4.95        </td><td>lnothdebt       </td></tr>\n",
       "\t<tr><td>5000            </td><td>   0            </td><td> 0.00           </td><td> 235128.00      </td><td> 47.0256000     </td><td> 47.00          </td><td>  17.7703377    </td><td>    315.78490162</td><td>18.00           </td><td>18.0000         </td><td>20.0000         </td><td> 23.000         </td><td> 31.0000        </td><td> 47.00          </td><td>  62.0000       </td><td>  72.000        </td><td>  76.0000       </td><td>  79.0000       </td><td>   79.00        </td><td>age             </td></tr>\n",
       "\t<tr><td>5000            </td><td>   0            </td><td> 0.00           </td><td>  72715.00      </td><td> 14.5430000     </td><td> 14.00          </td><td>   3.2810828    </td><td>     10.76550410</td><td> 6.00           </td><td> 8.0000         </td><td> 9.0000         </td><td> 10.000         </td><td> 12.0000        </td><td> 14.00          </td><td>  17.0000       </td><td>  19.000        </td><td>  20.0000       </td><td>  21.0000       </td><td>   23.00        </td><td>ed              </td></tr>\n",
       "\t<tr><td>5000            </td><td>   0            </td><td> 0.00           </td><td>    756.00      </td><td>  0.1512000     </td><td>  0.00          </td><td>   0.3582795    </td><td>      0.12836423</td><td> 0.00           </td><td> 0.0000         </td><td> 0.0000         </td><td>  0.000         </td><td>  0.0000        </td><td>  0.00          </td><td>   0.0000       </td><td>   1.000        </td><td>   1.0000       </td><td>   1.0000       </td><td>    1.00        </td><td>union           </td></tr>\n",
       "\t<tr><td>5000            </td><td>   0            </td><td> 0.00           </td><td> 273798.00      </td><td> 54.7596000     </td><td> 38.00          </td><td>  55.3775112    </td><td>   3066.66874159</td><td> 9.00           </td><td> 9.0000         </td><td>13.0000         </td><td> 16.000         </td><td> 24.0000        </td><td> 38.00          </td><td>  67.0000       </td><td> 109.100        </td><td> 147.0000       </td><td> 272.0100       </td><td> 1073.00        </td><td>income          </td></tr>\n",
       "\t<tr><td>5000            </td><td>   0            </td><td> 0.00           </td><td>  18499.20      </td><td>  3.6998400     </td><td>  3.64          </td><td>   0.7469453    </td><td>      0.55792728</td><td> 2.20           </td><td> 2.2000         </td><td> 2.5600         </td><td>  2.770         </td><td>  3.1800        </td><td>  3.64          </td><td>   4.2000       </td><td>   4.691        </td><td>   4.9900       </td><td>   5.6100       </td><td>    6.98        </td><td>lninc           </td></tr>\n",
       "\t<tr><td>5000            </td><td>   0            </td><td> 0.00           </td><td>  49770.80      </td><td>  9.9541600     </td><td>  8.80          </td><td>   6.3997833    </td><td>     40.95722614</td><td> 0.00           </td><td> 0.7000         </td><td> 1.9000         </td><td>  2.800         </td><td>  5.1000        </td><td>  8.80          </td><td>  13.6000       </td><td>  18.600        </td><td>  22.2000       </td><td>  29.2000       </td><td>   43.10        </td><td>debtinc         </td></tr>\n",
       "\t<tr><td>5000            </td><td>   0            </td><td> 0.00           </td><td>   9286.82      </td><td>  1.8573640     </td><td>  0.93          </td><td>   3.4157893    </td><td>     11.66761641</td><td> 0.00           </td><td> 0.0300         </td><td> 0.1000         </td><td>  0.180         </td><td>  0.3900        </td><td>  0.93          </td><td>   2.0600       </td><td>   4.300        </td><td>   6.3715       </td><td>  14.2804       </td><td>  109.07        </td><td>creddebt        </td></tr>\n",
       "\t<tr><td>5000            </td><td>   0            </td><td> 0.00           </td><td>  18272.28      </td><td>  3.6544560     </td><td>  2.10          </td><td>   5.3952137    </td><td>     29.10833109</td><td> 0.00           </td><td> 0.1100         </td><td> 0.2900         </td><td>  0.460         </td><td>  0.9800        </td><td>  2.10          </td><td>   4.3100       </td><td>   8.060        </td><td>  11.8120       </td><td>  24.0618       </td><td>  141.46        </td><td>othdebt         </td></tr>\n",
       "\t<tr><td>5000            </td><td>   0            </td><td> 0.00           </td><td>  30564.00      </td><td>  6.1128000     </td><td> -1.00          </td><td>   7.7435178    </td><td>     59.96206857</td><td>-1.00           </td><td>-1.0000         </td><td>-1.0000         </td><td> -1.000         </td><td> -1.0000        </td><td> -1.00          </td><td>  14.0000       </td><td>  16.000        </td><td>  18.0000       </td><td>  20.0000       </td><td>   24.00        </td><td>spoused         </td></tr>\n",
       "\t<tr><td>5000            </td><td>   0            </td><td> 0.00           </td><td>  11020.00      </td><td>  2.2040000     </td><td>  2.00          </td><td>   1.3939773    </td><td>      1.94317263</td><td> 1.00           </td><td> 1.0000         </td><td> 1.0000         </td><td>  1.000         </td><td>  1.0000        </td><td>  2.00          </td><td>   3.0000       </td><td>   4.000        </td><td>   5.0000       </td><td>   6.0000       </td><td>    9.00        </td><td>reside          </td></tr>\n",
       "\t<tr><td>5000            </td><td>   0            </td><td> 0.00           </td><td>  15337.00      </td><td>  3.0674000     </td><td>  2.00          </td><td>   3.4144969    </td><td>     11.65878900</td><td> 0.00           </td><td> 0.0000         </td><td> 0.0000         </td><td>  0.000         </td><td>  0.0000        </td><td>  2.00          </td><td>   5.0000       </td><td>   8.000        </td><td>  10.0000       </td><td>  13.0000       </td><td>   21.00        </td><td>pets            </td></tr>\n",
       "\t<tr><td>5000            </td><td>   0            </td><td> 0.00           </td><td>   2502.00      </td><td>  0.5004000     </td><td>  0.00          </td><td>   0.8607834    </td><td>      0.74094803</td><td> 0.00           </td><td> 0.0000         </td><td> 0.0000         </td><td>  0.000         </td><td>  0.0000        </td><td>  0.00          </td><td>   1.0000       </td><td>   2.000        </td><td>   2.0000       </td><td>   3.0000       </td><td>    6.00        </td><td>pets_cats       </td></tr>\n",
       "\t<tr><td>5000            </td><td>   0            </td><td> 0.00           </td><td>   1962.00      </td><td>  0.3924000     </td><td>  0.00          </td><td>   0.7960835    </td><td>      0.63374899</td><td> 0.00           </td><td> 0.0000         </td><td> 0.0000         </td><td>  0.000         </td><td>  0.0000        </td><td>  0.00          </td><td>   0.0000       </td><td>   2.000        </td><td>   2.0000       </td><td>   3.0000       </td><td>    7.00        </td><td>pets_dogs       </td></tr>\n",
       "\t<tr><td>5000            </td><td>   0            </td><td> 0.00           </td><td>    552.00      </td><td>  0.1104000     </td><td>  0.00          </td><td>   0.4942274    </td><td>      0.24426069</td><td> 0.00           </td><td> 0.0000         </td><td> 0.0000         </td><td>  0.000         </td><td>  0.0000        </td><td>  0.00          </td><td>   0.0000       </td><td>   0.000        </td><td>   1.0000       </td><td>   3.0000       </td><td>    5.00        </td><td>pets_birds      </td></tr>\n",
       "\t<tr><td>5000            </td><td>   0            </td><td> 0.00           </td><td>    278.00      </td><td>  0.0556000     </td><td>  0.00          </td><td>   0.3257758    </td><td>      0.10612987</td><td> 0.00           </td><td> 0.0000         </td><td> 0.0000         </td><td>  0.000         </td><td>  0.0000        </td><td>  0.00          </td><td>   0.0000       </td><td>   0.000        </td><td>   0.0000       </td><td>   2.0000       </td><td>    6.00        </td><td>pets_reptiles   </td></tr>\n",
       "\t<tr><td>5000            </td><td>   0            </td><td> 0.00           </td><td>    573.00      </td><td>  0.1146000     </td><td>  0.00          </td><td>   0.5687983    </td><td>      0.32353155</td><td> 0.00           </td><td> 0.0000         </td><td> 0.0000         </td><td>  0.000         </td><td>  0.0000        </td><td>  0.00          </td><td>   0.0000       </td><td>   0.000        </td><td>   1.0000       </td><td>   3.0000       </td><td>    7.00        </td><td>pets_small      </td></tr>\n",
       "\t<tr><td>5000            </td><td>   0            </td><td> 0.00           </td><td>    233.00      </td><td>  0.0466000     </td><td>  0.00          </td><td>   0.4695450    </td><td>      0.22047253</td><td> 0.00           </td><td> 0.0000         </td><td> 0.0000         </td><td>  0.000         </td><td>  0.0000        </td><td>  0.00          </td><td>   0.0000       </td><td>   0.000        </td><td>   0.0000       </td><td>   2.0000       </td><td>    8.00        </td><td>pets_saltfish   </td></tr>\n",
       "\t<tr><td>5000            </td><td>   0            </td><td> 0.00           </td><td>   9237.00      </td><td>  1.8474000     </td><td>  0.00          </td><td>   3.0748015    </td><td>      9.45440412</td><td> 0.00           </td><td> 0.0000         </td><td> 0.0000         </td><td>  0.000         </td><td>  0.0000        </td><td>  0.00          </td><td>   4.0000       </td><td>   7.000        </td><td>   8.0000       </td><td>  11.0000       </td><td>   16.00        </td><td>pets_freshfish  </td></tr>\n",
       "\t<tr><td>5000            </td><td>   0            </td><td> 0.00           </td><td> 116162.90      </td><td> 23.2325800     </td><td> 17.00          </td><td>  21.2316367    </td><td>    450.78239702</td><td>-1.00           </td><td>-1.0000         </td><td>-1.0000         </td><td>  2.490         </td><td>  9.2000        </td><td> 17.00          </td><td>  31.1000       </td><td>  52.910        </td><td>  72.0000       </td><td>  92.0010       </td><td>   99.60        </td><td>carvalue        </td></tr>\n",
       "\t<tr><td>5000            </td><td>   0            </td><td> 0.00           </td><td>  50887.00      </td><td> 10.1774000     </td><td> 10.00          </td><td>   3.3911398    </td><td>     11.49982921</td><td> 0.00           </td><td> 2.0000         </td><td> 5.0000         </td><td>  6.000         </td><td>  8.0000        </td><td> 10.00          </td><td>  12.0000       </td><td>  15.000        </td><td>  16.0000       </td><td>  19.0000       </td><td>   23.00        </td><td>carditems       </td></tr>\n",
       "\t<tr><td>5000            </td><td>   0            </td><td> 0.00           </td><td>1686012.60      </td><td>337.2025200     </td><td>276.36          </td><td> 245.1450683    </td><td>  60096.10451011</td><td> 0.00           </td><td>40.8195         </td><td>91.3045         </td><td>122.534         </td><td>183.3775        </td><td>276.36          </td><td> 418.5375       </td><td> 610.062        </td><td> 782.3155       </td><td>1215.8072       </td><td> 3926.41        </td><td>cardspent       </td></tr>\n",
       "\t<tr><td>5000            </td><td>   0            </td><td> 0.00           </td><td>  23333.00      </td><td>  4.6666000     </td><td>  5.00          </td><td>   2.4970165    </td><td>      6.23509146</td><td> 0.00           </td><td> 0.0000         </td><td> 1.0000         </td><td>  1.000         </td><td>  3.0000        </td><td>  5.00          </td><td>   6.0000       </td><td>   8.000        </td><td>   9.0000       </td><td>  11.0000       </td><td>   15.00        </td><td>card2items      </td></tr>\n",
       "\t<tr><td>5000            </td><td>   0            </td><td> 0.00           </td><td> 804380.55      </td><td>160.8761100     </td><td>125.34          </td><td> 146.2927708    </td><td>  21401.57477904</td><td> 0.00           </td><td> 0.0000         </td><td>14.8195         </td><td> 28.639         </td><td> 66.9675        </td><td>125.34          </td><td> 208.3100       </td><td> 324.718        </td><td> 419.4470       </td><td> 712.1298       </td><td> 2069.25        </td><td>card2spent      </td></tr>\n",
       "\t<tr><td>5000            </td><td>   0            </td><td> 0.00           </td><td> 191024.00      </td><td> 38.2048000     </td><td> 38.00          </td><td>  22.6618880    </td><td>    513.56116919</td><td> 0.00           </td><td> 1.0000         </td><td> 4.0000         </td><td>  7.000         </td><td> 18.0000        </td><td> 38.00          </td><td>  59.0000       </td><td>  69.000        </td><td>  72.0000       </td><td>  72.0000       </td><td>   72.00        </td><td>tenure          </td></tr>\n",
       "\t<tr><td>5000            </td><td>   0            </td><td> 0.00           </td><td>  67357.25      </td><td> 13.4714500     </td><td>  9.55          </td><td>  12.7733812    </td><td>    163.15926625</td><td> 0.90           </td><td> 1.8500         </td><td> 2.9000         </td><td>  3.700         </td><td>  5.7000        </td><td>  9.55          </td><td>  16.5500       </td><td>  27.000        </td><td>  36.7575       </td><td>  65.2010       </td><td>  179.85        </td><td>longmon         </td></tr>\n",
       "\t<tr><td>5000            </td><td>   0            </td><td> 0.00           </td><td>  11443.93      </td><td>  2.2887860     </td><td>  2.26          </td><td>   0.7751004    </td><td>      0.60078070</td><td>-0.11           </td><td> 0.6200         </td><td> 1.0600         </td><td>  1.310         </td><td>  1.7400        </td><td>  2.26          </td><td>   2.8100       </td><td>   3.300        </td><td>   3.6005       </td><td>   4.1800       </td><td>    5.19        </td><td>lnlongmon       </td></tr>\n",
       "\t<tr><td>5000            </td><td>   0            </td><td> 0.00           </td><td>  66322.25      </td><td> 13.2644500     </td><td>  0.00          </td><td>  16.3100178    </td><td>    266.01668203</td><td> 0.00           </td><td> 0.0000         </td><td> 0.0000         </td><td>  0.000         </td><td>  0.0000        </td><td>  0.00          </td><td>  24.5000       </td><td>  35.500        </td><td>  43.5000       </td><td>  58.7525       </td><td>  173.00        </td><td>tollmon         </td></tr>\n",
       "\t<tr><td>5000            </td><td>   0            </td><td> 0.00           </td><td>2889162.55      </td><td>577.8325100     </td><td>  0.00          </td><td> 949.1515863    </td><td> 900888.73378736</td><td> 0.00           </td><td> 0.0000         </td><td> 0.0000         </td><td>  0.000         </td><td>  0.0000        </td><td>  0.00          </td><td> 885.4500       </td><td>1918.955        </td><td>2620.2125       </td><td>3977.2705       </td><td> 6923.45        </td><td>tollten         </td></tr>\n",
       "\t<tr><td>5000            </td><td>   0            </td><td> 0.00           </td><td>  64956.55      </td><td> 12.9913100     </td><td>  0.00          </td><td>  19.2129426    </td><td>    369.13716342</td><td> 0.00           </td><td> 0.0000         </td><td> 0.0000         </td><td>  0.000         </td><td>  0.0000        </td><td>  0.00          </td><td>  30.8000       </td><td>  42.700        </td><td>  49.0525       </td><td>  63.3005       </td><td>  106.30        </td><td>equipmon        </td></tr>\n",
       "\t<tr><td>5000            </td><td>   0            </td><td> 0.00           </td><td>2350882.00      </td><td>470.1764000     </td><td>  0.00          </td><td> 912.2206241    </td><td> 832146.46711346</td><td> 0.00           </td><td> 0.0000         </td><td> 0.0000         </td><td>  0.000         </td><td>  0.0000        </td><td>  0.00          </td><td> 510.1625       </td><td>1912.325        </td><td>2600.9900       </td><td>3679.4575       </td><td> 6525.30        </td><td>equipten        </td></tr>\n",
       "\t<tr><td>5000            </td><td>   0            </td><td> 0.00           </td><td>  77219.25      </td><td> 15.4438500     </td><td> 13.75          </td><td>  15.0075691    </td><td>    225.22713010</td><td> 0.00           </td><td> 0.0000         </td><td> 0.0000         </td><td>  0.000         </td><td>  0.0000        </td><td> 13.75          </td><td>  22.7500       </td><td>  34.000        </td><td>  42.0000       </td><td>  64.2500       </td><td>  188.50        </td><td>cardmon         </td></tr>\n",
       "\t<tr><td>5000            </td><td>   0            </td><td> 0.00           </td><td>  53505.95      </td><td> 10.7011900     </td><td>  0.00          </td><td>  19.7998365    </td><td>    392.03352679</td><td> 0.00           </td><td> 0.0000         </td><td> 0.0000         </td><td>  0.000         </td><td>  0.0000        </td><td>  0.00          </td><td>  20.9625       </td><td>  40.860        </td><td>  51.3050       </td><td>  78.3040       </td><td>  186.25        </td><td>wiremon         </td></tr>\n",
       "\t<tr><td>5000            </td><td>   0            </td><td> 0.00           </td><td>2109923.05      </td><td>421.9846100     </td><td>  0.00          </td><td>1001.0032867    </td><td>1002007.58007266</td><td> 0.00           </td><td> 0.0000         </td><td> 0.0000         </td><td>  0.000         </td><td>  0.0000        </td><td>  0.00          </td><td>  89.9625       </td><td>1778.535        </td><td>2687.9225       </td><td>4530.1860       </td><td>12858.65        </td><td>wireten         </td></tr>\n",
       "\t<tr><td>5000            </td><td>   0            </td><td> 0.00           </td><td>  98225.00      </td><td> 19.6450000     </td><td> 20.00          </td><td>   5.1656086    </td><td>     26.68351170</td><td> 0.00           </td><td> 0.0000         </td><td>12.0000         </td><td> 14.000         </td><td> 17.0000        </td><td> 20.00          </td><td>  23.0000       </td><td>  26.000        </td><td>  28.0000       </td><td>  31.0000       </td><td>   36.00        </td><td>hourstv         </td></tr>\n",
       "</tbody>\n",
       "</table>\n"
      ],
      "text/latex": [
       "\\begin{tabular}{r|llllllllllllllllllll}\n",
       " N & Nmiss & Nmiss\\_pct & sum & avg & meidan.50\\% & std & var & pctl.0\\% & pctl.1\\% & pctl.5\\% & pctl.10\\% & pctl.25\\% & pctl.50\\% & pctl.75\\% & pctl.90\\% & pctl.95\\% & pctl.99\\% & pctl.100\\% & vars\\\\\n",
       "\\hline\n",
       "\t 5000             & 3656             & 73.12            &    4845.05       &   3.6049479      &   3.60           &    0.3901961     &       0.15225301 &  2.54            &  2.8086          &  2.9930          &   3.120          &   3.3300         &   3.60           &    3.8625        &    4.100         &    4.2700        &    4.5757        &     5.23         & lnwiremon       \\\\\n",
       "\t 5000             & 3656             & 73.12            &    9150.06       &   6.8080804      &   7.15           &    1.2840396     &       1.64875774 &  2.54            &  3.0400          &  4.1165          &   4.883          &   6.1600         &   7.15           &    7.7600        &    8.107         &    8.3100        &    8.6914        &     9.46         & lnwireten       \\\\\n",
       "\t 5000             & 3296             & 65.92            &    6134.90       &   3.6002934      &   3.60           &    0.2834255     &       0.08033004 &  2.83            &  2.9700          &  3.1400          &   3.230          &   3.4100         &   3.60           &    3.7900        &    3.970         &    4.0685        &    4.2697        &     4.67         & lnequipmon      \\\\\n",
       "\t 5000             & 3296             & 65.92            &   11497.42       &   6.7473122      &   7.05           &    1.1992365     &       1.43816811 &  2.49            &  3.1703          &  4.2515          &   5.030          &   6.1700         &   7.05           &    7.6500        &    7.980         &    8.1200        &    8.3700        &     8.78         & lnequipten      \\\\\n",
       "\t 5000             & 2622             & 52.44            &    7712.61       &   3.2433179      &   3.23           &    0.4048211     &       0.16388015 &  2.08            &  2.3454          &  2.5800          &   2.740          &   2.9700         &   3.23           &    3.5200        &    3.790         &    3.9300        &    4.1900        &     4.62         & lntollmon       \\\\\n",
       "\t 5000             & 2622             & 52.44            &   15658.51       &   6.5847393      &   6.86           &    1.2219854     &       1.49324833 &  2.17            &  2.7854          &  4.2085          &   4.820          &   5.9100         &   6.86           &    7.4600        &    7.880         &    8.1100        &    8.4300        &     8.84         & lntollten       \\\\\n",
       "\t 5000             & 1422             & 28.44            &   22992.92       &   6.4261934      &   6.64           &    1.1720479     &       1.37369638 &  1.56            &  2.4800          &  4.0900          &   4.940          &   5.8600         &   6.64           &    7.2200        &    7.670         &    7.9200        &    8.3900        &     9.53         & lncardten       \\\\\n",
       "\t 5000             & 1419             & 28.38            &   10419.31       &   2.9096090      &   2.90           &    0.5651877     &       0.31943717 &  1.18            &  1.6600          &  1.9800          &   2.170          &   2.5500         &   2.90           &    3.3000        &    3.640         &    3.8400        &    4.2400        &     5.24         & lncardmon       \\\\\n",
       "\t 5000             &    3             &  0.06            & 3542232.15       & 708.8717531      & 350.00           &  979.2910723     &  959011.00425049 &  0.90            &  2.4000          & 12.6200          &  28.290          & 104.6000         & 350.00           &  913.8500        & 1808.840         & 2567.6500        & 4689.0660        & 13046.50         & longten         \\\\\n",
       "\t 5000             &    3             &  0.06            &   28039.80       &   5.6113268      &   5.86           &    1.6493283     &       2.72028373 & -0.11            &  0.8800          &  2.5380          &   3.340          &   4.6500         &   5.86           &    6.8200        &    7.500         &    7.8500        &    8.4504        &     9.48         & lnlongten       \\\\\n",
       "\t 5000             &    2             &  0.04            &  126677.00       &  25.3455382      &  25.00           &    5.8791487     &      34.56438973 &  8.00            & 13.0000          & 16.0000          &  18.000          &  21.0000         &  25.00           &   29.0000        &   33.000         &   35.0000        &   40.0300        &    48.00         & commutetime     \\\\\n",
       "\t 5000             &    2             &  0.04            & 3600951.00       & 720.4783914      & 425.00           &  922.2255266     &  850499.92193642 &  0.00            &  0.0000          &  0.0000          &   0.000          &   0.0000         & 425.00           & 1080.0000        & 1871.500         & 2455.7500        & 4011.2000        & 13705.00         & cardten         \\\\\n",
       "\t 5000             &    1             &  0.02            &    -652.17       &  -0.1304601      &  -0.08           &    1.2730207     &       1.62058170 & -6.60            & -3.4002          & -2.2900          &  -1.740          &  -0.9500         &  -0.08           &    0.7200        &    1.460         &    1.8510        &    2.6600        &     4.69         & lncreddebt      \\\\\n",
       "\t 5000             &    1             &  0.02            &    3484.05       &   0.6969494      &   0.74           &    1.1285878     &       1.27371040 & -4.09            & -2.1700          & -1.2410          &  -0.780          &  -0.0200         &   0.74           &    1.4600        &    2.090         &    2.4700        &    3.1802        &     4.95         & lnothdebt       \\\\\n",
       "\t 5000             &    0             &  0.00            &  235128.00       &  47.0256000      &  47.00           &   17.7703377     &     315.78490162 & 18.00            & 18.0000          & 20.0000          &  23.000          &  31.0000         &  47.00           &   62.0000        &   72.000         &   76.0000        &   79.0000        &    79.00         & age             \\\\\n",
       "\t 5000             &    0             &  0.00            &   72715.00       &  14.5430000      &  14.00           &    3.2810828     &      10.76550410 &  6.00            &  8.0000          &  9.0000          &  10.000          &  12.0000         &  14.00           &   17.0000        &   19.000         &   20.0000        &   21.0000        &    23.00         & ed              \\\\\n",
       "\t 5000             &    0             &  0.00            &     756.00       &   0.1512000      &   0.00           &    0.3582795     &       0.12836423 &  0.00            &  0.0000          &  0.0000          &   0.000          &   0.0000         &   0.00           &    0.0000        &    1.000         &    1.0000        &    1.0000        &     1.00         & union           \\\\\n",
       "\t 5000             &    0             &  0.00            &  273798.00       &  54.7596000      &  38.00           &   55.3775112     &    3066.66874159 &  9.00            &  9.0000          & 13.0000          &  16.000          &  24.0000         &  38.00           &   67.0000        &  109.100         &  147.0000        &  272.0100        &  1073.00         & income          \\\\\n",
       "\t 5000             &    0             &  0.00            &   18499.20       &   3.6998400      &   3.64           &    0.7469453     &       0.55792728 &  2.20            &  2.2000          &  2.5600          &   2.770          &   3.1800         &   3.64           &    4.2000        &    4.691         &    4.9900        &    5.6100        &     6.98         & lninc           \\\\\n",
       "\t 5000             &    0             &  0.00            &   49770.80       &   9.9541600      &   8.80           &    6.3997833     &      40.95722614 &  0.00            &  0.7000          &  1.9000          &   2.800          &   5.1000         &   8.80           &   13.6000        &   18.600         &   22.2000        &   29.2000        &    43.10         & debtinc         \\\\\n",
       "\t 5000             &    0             &  0.00            &    9286.82       &   1.8573640      &   0.93           &    3.4157893     &      11.66761641 &  0.00            &  0.0300          &  0.1000          &   0.180          &   0.3900         &   0.93           &    2.0600        &    4.300         &    6.3715        &   14.2804        &   109.07         & creddebt        \\\\\n",
       "\t 5000             &    0             &  0.00            &   18272.28       &   3.6544560      &   2.10           &    5.3952137     &      29.10833109 &  0.00            &  0.1100          &  0.2900          &   0.460          &   0.9800         &   2.10           &    4.3100        &    8.060         &   11.8120        &   24.0618        &   141.46         & othdebt         \\\\\n",
       "\t 5000             &    0             &  0.00            &   30564.00       &   6.1128000      &  -1.00           &    7.7435178     &      59.96206857 & -1.00            & -1.0000          & -1.0000          &  -1.000          &  -1.0000         &  -1.00           &   14.0000        &   16.000         &   18.0000        &   20.0000        &    24.00         & spoused         \\\\\n",
       "\t 5000             &    0             &  0.00            &   11020.00       &   2.2040000      &   2.00           &    1.3939773     &       1.94317263 &  1.00            &  1.0000          &  1.0000          &   1.000          &   1.0000         &   2.00           &    3.0000        &    4.000         &    5.0000        &    6.0000        &     9.00         & reside          \\\\\n",
       "\t 5000             &    0             &  0.00            &   15337.00       &   3.0674000      &   2.00           &    3.4144969     &      11.65878900 &  0.00            &  0.0000          &  0.0000          &   0.000          &   0.0000         &   2.00           &    5.0000        &    8.000         &   10.0000        &   13.0000        &    21.00         & pets            \\\\\n",
       "\t 5000             &    0             &  0.00            &    2502.00       &   0.5004000      &   0.00           &    0.8607834     &       0.74094803 &  0.00            &  0.0000          &  0.0000          &   0.000          &   0.0000         &   0.00           &    1.0000        &    2.000         &    2.0000        &    3.0000        &     6.00         & pets\\_cats     \\\\\n",
       "\t 5000             &    0             &  0.00            &    1962.00       &   0.3924000      &   0.00           &    0.7960835     &       0.63374899 &  0.00            &  0.0000          &  0.0000          &   0.000          &   0.0000         &   0.00           &    0.0000        &    2.000         &    2.0000        &    3.0000        &     7.00         & pets\\_dogs     \\\\\n",
       "\t 5000             &    0             &  0.00            &     552.00       &   0.1104000      &   0.00           &    0.4942274     &       0.24426069 &  0.00            &  0.0000          &  0.0000          &   0.000          &   0.0000         &   0.00           &    0.0000        &    0.000         &    1.0000        &    3.0000        &     5.00         & pets\\_birds    \\\\\n",
       "\t 5000             &    0             &  0.00            &     278.00       &   0.0556000      &   0.00           &    0.3257758     &       0.10612987 &  0.00            &  0.0000          &  0.0000          &   0.000          &   0.0000         &   0.00           &    0.0000        &    0.000         &    0.0000        &    2.0000        &     6.00         & pets\\_reptiles \\\\\n",
       "\t 5000             &    0             &  0.00            &     573.00       &   0.1146000      &   0.00           &    0.5687983     &       0.32353155 &  0.00            &  0.0000          &  0.0000          &   0.000          &   0.0000         &   0.00           &    0.0000        &    0.000         &    1.0000        &    3.0000        &     7.00         & pets\\_small    \\\\\n",
       "\t 5000             &    0             &  0.00            &     233.00       &   0.0466000      &   0.00           &    0.4695450     &       0.22047253 &  0.00            &  0.0000          &  0.0000          &   0.000          &   0.0000         &   0.00           &    0.0000        &    0.000         &    0.0000        &    2.0000        &     8.00         & pets\\_saltfish \\\\\n",
       "\t 5000             &    0             &  0.00            &    9237.00       &   1.8474000      &   0.00           &    3.0748015     &       9.45440412 &  0.00            &  0.0000          &  0.0000          &   0.000          &   0.0000         &   0.00           &    4.0000        &    7.000         &    8.0000        &   11.0000        &    16.00         & pets\\_freshfish\\\\\n",
       "\t 5000             &    0             &  0.00            &  116162.90       &  23.2325800      &  17.00           &   21.2316367     &     450.78239702 & -1.00            & -1.0000          & -1.0000          &   2.490          &   9.2000         &  17.00           &   31.1000        &   52.910         &   72.0000        &   92.0010        &    99.60         & carvalue        \\\\\n",
       "\t 5000             &    0             &  0.00            &   50887.00       &  10.1774000      &  10.00           &    3.3911398     &      11.49982921 &  0.00            &  2.0000          &  5.0000          &   6.000          &   8.0000         &  10.00           &   12.0000        &   15.000         &   16.0000        &   19.0000        &    23.00         & carditems       \\\\\n",
       "\t 5000             &    0             &  0.00            & 1686012.60       & 337.2025200      & 276.36           &  245.1450683     &   60096.10451011 &  0.00            & 40.8195          & 91.3045          & 122.534          & 183.3775         & 276.36           &  418.5375        &  610.062         &  782.3155        & 1215.8072        &  3926.41         & cardspent       \\\\\n",
       "\t 5000             &    0             &  0.00            &   23333.00       &   4.6666000      &   5.00           &    2.4970165     &       6.23509146 &  0.00            &  0.0000          &  1.0000          &   1.000          &   3.0000         &   5.00           &    6.0000        &    8.000         &    9.0000        &   11.0000        &    15.00         & card2items      \\\\\n",
       "\t 5000             &    0             &  0.00            &  804380.55       & 160.8761100      & 125.34           &  146.2927708     &   21401.57477904 &  0.00            &  0.0000          & 14.8195          &  28.639          &  66.9675         & 125.34           &  208.3100        &  324.718         &  419.4470        &  712.1298        &  2069.25         & card2spent      \\\\\n",
       "\t 5000             &    0             &  0.00            &  191024.00       &  38.2048000      &  38.00           &   22.6618880     &     513.56116919 &  0.00            &  1.0000          &  4.0000          &   7.000          &  18.0000         &  38.00           &   59.0000        &   69.000         &   72.0000        &   72.0000        &    72.00         & tenure          \\\\\n",
       "\t 5000             &    0             &  0.00            &   67357.25       &  13.4714500      &   9.55           &   12.7733812     &     163.15926625 &  0.90            &  1.8500          &  2.9000          &   3.700          &   5.7000         &   9.55           &   16.5500        &   27.000         &   36.7575        &   65.2010        &   179.85         & longmon         \\\\\n",
       "\t 5000             &    0             &  0.00            &   11443.93       &   2.2887860      &   2.26           &    0.7751004     &       0.60078070 & -0.11            &  0.6200          &  1.0600          &   1.310          &   1.7400         &   2.26           &    2.8100        &    3.300         &    3.6005        &    4.1800        &     5.19         & lnlongmon       \\\\\n",
       "\t 5000             &    0             &  0.00            &   66322.25       &  13.2644500      &   0.00           &   16.3100178     &     266.01668203 &  0.00            &  0.0000          &  0.0000          &   0.000          &   0.0000         &   0.00           &   24.5000        &   35.500         &   43.5000        &   58.7525        &   173.00         & tollmon         \\\\\n",
       "\t 5000             &    0             &  0.00            & 2889162.55       & 577.8325100      &   0.00           &  949.1515863     &  900888.73378736 &  0.00            &  0.0000          &  0.0000          &   0.000          &   0.0000         &   0.00           &  885.4500        & 1918.955         & 2620.2125        & 3977.2705        &  6923.45         & tollten         \\\\\n",
       "\t 5000             &    0             &  0.00            &   64956.55       &  12.9913100      &   0.00           &   19.2129426     &     369.13716342 &  0.00            &  0.0000          &  0.0000          &   0.000          &   0.0000         &   0.00           &   30.8000        &   42.700         &   49.0525        &   63.3005        &   106.30         & equipmon        \\\\\n",
       "\t 5000             &    0             &  0.00            & 2350882.00       & 470.1764000      &   0.00           &  912.2206241     &  832146.46711346 &  0.00            &  0.0000          &  0.0000          &   0.000          &   0.0000         &   0.00           &  510.1625        & 1912.325         & 2600.9900        & 3679.4575        &  6525.30         & equipten        \\\\\n",
       "\t 5000             &    0             &  0.00            &   77219.25       &  15.4438500      &  13.75           &   15.0075691     &     225.22713010 &  0.00            &  0.0000          &  0.0000          &   0.000          &   0.0000         &  13.75           &   22.7500        &   34.000         &   42.0000        &   64.2500        &   188.50         & cardmon         \\\\\n",
       "\t 5000             &    0             &  0.00            &   53505.95       &  10.7011900      &   0.00           &   19.7998365     &     392.03352679 &  0.00            &  0.0000          &  0.0000          &   0.000          &   0.0000         &   0.00           &   20.9625        &   40.860         &   51.3050        &   78.3040        &   186.25         & wiremon         \\\\\n",
       "\t 5000             &    0             &  0.00            & 2109923.05       & 421.9846100      &   0.00           & 1001.0032867     & 1002007.58007266 &  0.00            &  0.0000          &  0.0000          &   0.000          &   0.0000         &   0.00           &   89.9625        & 1778.535         & 2687.9225        & 4530.1860        & 12858.65         & wireten         \\\\\n",
       "\t 5000             &    0             &  0.00            &   98225.00       &  19.6450000      &  20.00           &    5.1656086     &      26.68351170 &  0.00            &  0.0000          & 12.0000          &  14.000          &  17.0000         &  20.00           &   23.0000        &   26.000         &   28.0000        &   31.0000        &    36.00         & hourstv         \\\\\n",
       "\\end{tabular}\n"
      ],
      "text/markdown": [
       "\n",
       "| N | Nmiss | Nmiss_pct | sum | avg | meidan.50% | std | var | pctl.0% | pctl.1% | pctl.5% | pctl.10% | pctl.25% | pctl.50% | pctl.75% | pctl.90% | pctl.95% | pctl.99% | pctl.100% | vars |\n",
       "|---|---|---|---|---|---|---|---|---|---|---|---|---|---|---|---|---|---|---|---|\n",
       "| 5000             | 3656             | 73.12            |    4845.05       |   3.6049479      |   3.60           |    0.3901961     |       0.15225301 |  2.54            |  2.8086          |  2.9930          |   3.120          |   3.3300         |   3.60           |    3.8625        |    4.100         |    4.2700        |    4.5757        |     5.23         | lnwiremon        |\n",
       "| 5000             | 3656             | 73.12            |    9150.06       |   6.8080804      |   7.15           |    1.2840396     |       1.64875774 |  2.54            |  3.0400          |  4.1165          |   4.883          |   6.1600         |   7.15           |    7.7600        |    8.107         |    8.3100        |    8.6914        |     9.46         | lnwireten        |\n",
       "| 5000             | 3296             | 65.92            |    6134.90       |   3.6002934      |   3.60           |    0.2834255     |       0.08033004 |  2.83            |  2.9700          |  3.1400          |   3.230          |   3.4100         |   3.60           |    3.7900        |    3.970         |    4.0685        |    4.2697        |     4.67         | lnequipmon       |\n",
       "| 5000             | 3296             | 65.92            |   11497.42       |   6.7473122      |   7.05           |    1.1992365     |       1.43816811 |  2.49            |  3.1703          |  4.2515          |   5.030          |   6.1700         |   7.05           |    7.6500        |    7.980         |    8.1200        |    8.3700        |     8.78         | lnequipten       |\n",
       "| 5000             | 2622             | 52.44            |    7712.61       |   3.2433179      |   3.23           |    0.4048211     |       0.16388015 |  2.08            |  2.3454          |  2.5800          |   2.740          |   2.9700         |   3.23           |    3.5200        |    3.790         |    3.9300        |    4.1900        |     4.62         | lntollmon        |\n",
       "| 5000             | 2622             | 52.44            |   15658.51       |   6.5847393      |   6.86           |    1.2219854     |       1.49324833 |  2.17            |  2.7854          |  4.2085          |   4.820          |   5.9100         |   6.86           |    7.4600        |    7.880         |    8.1100        |    8.4300        |     8.84         | lntollten        |\n",
       "| 5000             | 1422             | 28.44            |   22992.92       |   6.4261934      |   6.64           |    1.1720479     |       1.37369638 |  1.56            |  2.4800          |  4.0900          |   4.940          |   5.8600         |   6.64           |    7.2200        |    7.670         |    7.9200        |    8.3900        |     9.53         | lncardten        |\n",
       "| 5000             | 1419             | 28.38            |   10419.31       |   2.9096090      |   2.90           |    0.5651877     |       0.31943717 |  1.18            |  1.6600          |  1.9800          |   2.170          |   2.5500         |   2.90           |    3.3000        |    3.640         |    3.8400        |    4.2400        |     5.24         | lncardmon        |\n",
       "| 5000             |    3             |  0.06            | 3542232.15       | 708.8717531      | 350.00           |  979.2910723     |  959011.00425049 |  0.90            |  2.4000          | 12.6200          |  28.290          | 104.6000         | 350.00           |  913.8500        | 1808.840         | 2567.6500        | 4689.0660        | 13046.50         | longten          |\n",
       "| 5000             |    3             |  0.06            |   28039.80       |   5.6113268      |   5.86           |    1.6493283     |       2.72028373 | -0.11            |  0.8800          |  2.5380          |   3.340          |   4.6500         |   5.86           |    6.8200        |    7.500         |    7.8500        |    8.4504        |     9.48         | lnlongten        |\n",
       "| 5000             |    2             |  0.04            |  126677.00       |  25.3455382      |  25.00           |    5.8791487     |      34.56438973 |  8.00            | 13.0000          | 16.0000          |  18.000          |  21.0000         |  25.00           |   29.0000        |   33.000         |   35.0000        |   40.0300        |    48.00         | commutetime      |\n",
       "| 5000             |    2             |  0.04            | 3600951.00       | 720.4783914      | 425.00           |  922.2255266     |  850499.92193642 |  0.00            |  0.0000          |  0.0000          |   0.000          |   0.0000         | 425.00           | 1080.0000        | 1871.500         | 2455.7500        | 4011.2000        | 13705.00         | cardten          |\n",
       "| 5000             |    1             |  0.02            |    -652.17       |  -0.1304601      |  -0.08           |    1.2730207     |       1.62058170 | -6.60            | -3.4002          | -2.2900          |  -1.740          |  -0.9500         |  -0.08           |    0.7200        |    1.460         |    1.8510        |    2.6600        |     4.69         | lncreddebt       |\n",
       "| 5000             |    1             |  0.02            |    3484.05       |   0.6969494      |   0.74           |    1.1285878     |       1.27371040 | -4.09            | -2.1700          | -1.2410          |  -0.780          |  -0.0200         |   0.74           |    1.4600        |    2.090         |    2.4700        |    3.1802        |     4.95         | lnothdebt        |\n",
       "| 5000             |    0             |  0.00            |  235128.00       |  47.0256000      |  47.00           |   17.7703377     |     315.78490162 | 18.00            | 18.0000          | 20.0000          |  23.000          |  31.0000         |  47.00           |   62.0000        |   72.000         |   76.0000        |   79.0000        |    79.00         | age              |\n",
       "| 5000             |    0             |  0.00            |   72715.00       |  14.5430000      |  14.00           |    3.2810828     |      10.76550410 |  6.00            |  8.0000          |  9.0000          |  10.000          |  12.0000         |  14.00           |   17.0000        |   19.000         |   20.0000        |   21.0000        |    23.00         | ed               |\n",
       "| 5000             |    0             |  0.00            |     756.00       |   0.1512000      |   0.00           |    0.3582795     |       0.12836423 |  0.00            |  0.0000          |  0.0000          |   0.000          |   0.0000         |   0.00           |    0.0000        |    1.000         |    1.0000        |    1.0000        |     1.00         | union            |\n",
       "| 5000             |    0             |  0.00            |  273798.00       |  54.7596000      |  38.00           |   55.3775112     |    3066.66874159 |  9.00            |  9.0000          | 13.0000          |  16.000          |  24.0000         |  38.00           |   67.0000        |  109.100         |  147.0000        |  272.0100        |  1073.00         | income           |\n",
       "| 5000             |    0             |  0.00            |   18499.20       |   3.6998400      |   3.64           |    0.7469453     |       0.55792728 |  2.20            |  2.2000          |  2.5600          |   2.770          |   3.1800         |   3.64           |    4.2000        |    4.691         |    4.9900        |    5.6100        |     6.98         | lninc            |\n",
       "| 5000             |    0             |  0.00            |   49770.80       |   9.9541600      |   8.80           |    6.3997833     |      40.95722614 |  0.00            |  0.7000          |  1.9000          |   2.800          |   5.1000         |   8.80           |   13.6000        |   18.600         |   22.2000        |   29.2000        |    43.10         | debtinc          |\n",
       "| 5000             |    0             |  0.00            |    9286.82       |   1.8573640      |   0.93           |    3.4157893     |      11.66761641 |  0.00            |  0.0300          |  0.1000          |   0.180          |   0.3900         |   0.93           |    2.0600        |    4.300         |    6.3715        |   14.2804        |   109.07         | creddebt         |\n",
       "| 5000             |    0             |  0.00            |   18272.28       |   3.6544560      |   2.10           |    5.3952137     |      29.10833109 |  0.00            |  0.1100          |  0.2900          |   0.460          |   0.9800         |   2.10           |    4.3100        |    8.060         |   11.8120        |   24.0618        |   141.46         | othdebt          |\n",
       "| 5000             |    0             |  0.00            |   30564.00       |   6.1128000      |  -1.00           |    7.7435178     |      59.96206857 | -1.00            | -1.0000          | -1.0000          |  -1.000          |  -1.0000         |  -1.00           |   14.0000        |   16.000         |   18.0000        |   20.0000        |    24.00         | spoused          |\n",
       "| 5000             |    0             |  0.00            |   11020.00       |   2.2040000      |   2.00           |    1.3939773     |       1.94317263 |  1.00            |  1.0000          |  1.0000          |   1.000          |   1.0000         |   2.00           |    3.0000        |    4.000         |    5.0000        |    6.0000        |     9.00         | reside           |\n",
       "| 5000             |    0             |  0.00            |   15337.00       |   3.0674000      |   2.00           |    3.4144969     |      11.65878900 |  0.00            |  0.0000          |  0.0000          |   0.000          |   0.0000         |   2.00           |    5.0000        |    8.000         |   10.0000        |   13.0000        |    21.00         | pets             |\n",
       "| 5000             |    0             |  0.00            |    2502.00       |   0.5004000      |   0.00           |    0.8607834     |       0.74094803 |  0.00            |  0.0000          |  0.0000          |   0.000          |   0.0000         |   0.00           |    1.0000        |    2.000         |    2.0000        |    3.0000        |     6.00         | pets_cats        |\n",
       "| 5000             |    0             |  0.00            |    1962.00       |   0.3924000      |   0.00           |    0.7960835     |       0.63374899 |  0.00            |  0.0000          |  0.0000          |   0.000          |   0.0000         |   0.00           |    0.0000        |    2.000         |    2.0000        |    3.0000        |     7.00         | pets_dogs        |\n",
       "| 5000             |    0             |  0.00            |     552.00       |   0.1104000      |   0.00           |    0.4942274     |       0.24426069 |  0.00            |  0.0000          |  0.0000          |   0.000          |   0.0000         |   0.00           |    0.0000        |    0.000         |    1.0000        |    3.0000        |     5.00         | pets_birds       |\n",
       "| 5000             |    0             |  0.00            |     278.00       |   0.0556000      |   0.00           |    0.3257758     |       0.10612987 |  0.00            |  0.0000          |  0.0000          |   0.000          |   0.0000         |   0.00           |    0.0000        |    0.000         |    0.0000        |    2.0000        |     6.00         | pets_reptiles    |\n",
       "| 5000             |    0             |  0.00            |     573.00       |   0.1146000      |   0.00           |    0.5687983     |       0.32353155 |  0.00            |  0.0000          |  0.0000          |   0.000          |   0.0000         |   0.00           |    0.0000        |    0.000         |    1.0000        |    3.0000        |     7.00         | pets_small       |\n",
       "| 5000             |    0             |  0.00            |     233.00       |   0.0466000      |   0.00           |    0.4695450     |       0.22047253 |  0.00            |  0.0000          |  0.0000          |   0.000          |   0.0000         |   0.00           |    0.0000        |    0.000         |    0.0000        |    2.0000        |     8.00         | pets_saltfish    |\n",
       "| 5000             |    0             |  0.00            |    9237.00       |   1.8474000      |   0.00           |    3.0748015     |       9.45440412 |  0.00            |  0.0000          |  0.0000          |   0.000          |   0.0000         |   0.00           |    4.0000        |    7.000         |    8.0000        |   11.0000        |    16.00         | pets_freshfish   |\n",
       "| 5000             |    0             |  0.00            |  116162.90       |  23.2325800      |  17.00           |   21.2316367     |     450.78239702 | -1.00            | -1.0000          | -1.0000          |   2.490          |   9.2000         |  17.00           |   31.1000        |   52.910         |   72.0000        |   92.0010        |    99.60         | carvalue         |\n",
       "| 5000             |    0             |  0.00            |   50887.00       |  10.1774000      |  10.00           |    3.3911398     |      11.49982921 |  0.00            |  2.0000          |  5.0000          |   6.000          |   8.0000         |  10.00           |   12.0000        |   15.000         |   16.0000        |   19.0000        |    23.00         | carditems        |\n",
       "| 5000             |    0             |  0.00            | 1686012.60       | 337.2025200      | 276.36           |  245.1450683     |   60096.10451011 |  0.00            | 40.8195          | 91.3045          | 122.534          | 183.3775         | 276.36           |  418.5375        |  610.062         |  782.3155        | 1215.8072        |  3926.41         | cardspent        |\n",
       "| 5000             |    0             |  0.00            |   23333.00       |   4.6666000      |   5.00           |    2.4970165     |       6.23509146 |  0.00            |  0.0000          |  1.0000          |   1.000          |   3.0000         |   5.00           |    6.0000        |    8.000         |    9.0000        |   11.0000        |    15.00         | card2items       |\n",
       "| 5000             |    0             |  0.00            |  804380.55       | 160.8761100      | 125.34           |  146.2927708     |   21401.57477904 |  0.00            |  0.0000          | 14.8195          |  28.639          |  66.9675         | 125.34           |  208.3100        |  324.718         |  419.4470        |  712.1298        |  2069.25         | card2spent       |\n",
       "| 5000             |    0             |  0.00            |  191024.00       |  38.2048000      |  38.00           |   22.6618880     |     513.56116919 |  0.00            |  1.0000          |  4.0000          |   7.000          |  18.0000         |  38.00           |   59.0000        |   69.000         |   72.0000        |   72.0000        |    72.00         | tenure           |\n",
       "| 5000             |    0             |  0.00            |   67357.25       |  13.4714500      |   9.55           |   12.7733812     |     163.15926625 |  0.90            |  1.8500          |  2.9000          |   3.700          |   5.7000         |   9.55           |   16.5500        |   27.000         |   36.7575        |   65.2010        |   179.85         | longmon          |\n",
       "| 5000             |    0             |  0.00            |   11443.93       |   2.2887860      |   2.26           |    0.7751004     |       0.60078070 | -0.11            |  0.6200          |  1.0600          |   1.310          |   1.7400         |   2.26           |    2.8100        |    3.300         |    3.6005        |    4.1800        |     5.19         | lnlongmon        |\n",
       "| 5000             |    0             |  0.00            |   66322.25       |  13.2644500      |   0.00           |   16.3100178     |     266.01668203 |  0.00            |  0.0000          |  0.0000          |   0.000          |   0.0000         |   0.00           |   24.5000        |   35.500         |   43.5000        |   58.7525        |   173.00         | tollmon          |\n",
       "| 5000             |    0             |  0.00            | 2889162.55       | 577.8325100      |   0.00           |  949.1515863     |  900888.73378736 |  0.00            |  0.0000          |  0.0000          |   0.000          |   0.0000         |   0.00           |  885.4500        | 1918.955         | 2620.2125        | 3977.2705        |  6923.45         | tollten          |\n",
       "| 5000             |    0             |  0.00            |   64956.55       |  12.9913100      |   0.00           |   19.2129426     |     369.13716342 |  0.00            |  0.0000          |  0.0000          |   0.000          |   0.0000         |   0.00           |   30.8000        |   42.700         |   49.0525        |   63.3005        |   106.30         | equipmon         |\n",
       "| 5000             |    0             |  0.00            | 2350882.00       | 470.1764000      |   0.00           |  912.2206241     |  832146.46711346 |  0.00            |  0.0000          |  0.0000          |   0.000          |   0.0000         |   0.00           |  510.1625        | 1912.325         | 2600.9900        | 3679.4575        |  6525.30         | equipten         |\n",
       "| 5000             |    0             |  0.00            |   77219.25       |  15.4438500      |  13.75           |   15.0075691     |     225.22713010 |  0.00            |  0.0000          |  0.0000          |   0.000          |   0.0000         |  13.75           |   22.7500        |   34.000         |   42.0000        |   64.2500        |   188.50         | cardmon          |\n",
       "| 5000             |    0             |  0.00            |   53505.95       |  10.7011900      |   0.00           |   19.7998365     |     392.03352679 |  0.00            |  0.0000          |  0.0000          |   0.000          |   0.0000         |   0.00           |   20.9625        |   40.860         |   51.3050        |   78.3040        |   186.25         | wiremon          |\n",
       "| 5000             |    0             |  0.00            | 2109923.05       | 421.9846100      |   0.00           | 1001.0032867     | 1002007.58007266 |  0.00            |  0.0000          |  0.0000          |   0.000          |   0.0000         |   0.00           |   89.9625        | 1778.535         | 2687.9225        | 4530.1860        | 12858.65         | wireten          |\n",
       "| 5000             |    0             |  0.00            |   98225.00       |  19.6450000      |  20.00           |    5.1656086     |      26.68351170 |  0.00            |  0.0000          | 12.0000          |  14.000          |  17.0000         |  20.00           |   23.0000        |   26.000         |   28.0000        |   31.0000        |    36.00         | hourstv          |\n",
       "\n"
      ],
      "text/plain": [
       "   N    Nmiss Nmiss_pct sum        avg         meidan.50% std         \n",
       "1  5000 3656  73.12        4845.05   3.6049479   3.60        0.3901961\n",
       "2  5000 3656  73.12        9150.06   6.8080804   7.15        1.2840396\n",
       "3  5000 3296  65.92        6134.90   3.6002934   3.60        0.2834255\n",
       "4  5000 3296  65.92       11497.42   6.7473122   7.05        1.1992365\n",
       "5  5000 2622  52.44        7712.61   3.2433179   3.23        0.4048211\n",
       "6  5000 2622  52.44       15658.51   6.5847393   6.86        1.2219854\n",
       "7  5000 1422  28.44       22992.92   6.4261934   6.64        1.1720479\n",
       "8  5000 1419  28.38       10419.31   2.9096090   2.90        0.5651877\n",
       "9  5000    3   0.06     3542232.15 708.8717531 350.00      979.2910723\n",
       "10 5000    3   0.06       28039.80   5.6113268   5.86        1.6493283\n",
       "11 5000    2   0.04      126677.00  25.3455382  25.00        5.8791487\n",
       "12 5000    2   0.04     3600951.00 720.4783914 425.00      922.2255266\n",
       "13 5000    1   0.02        -652.17  -0.1304601  -0.08        1.2730207\n",
       "14 5000    1   0.02        3484.05   0.6969494   0.74        1.1285878\n",
       "15 5000    0   0.00      235128.00  47.0256000  47.00       17.7703377\n",
       "16 5000    0   0.00       72715.00  14.5430000  14.00        3.2810828\n",
       "17 5000    0   0.00         756.00   0.1512000   0.00        0.3582795\n",
       "18 5000    0   0.00      273798.00  54.7596000  38.00       55.3775112\n",
       "19 5000    0   0.00       18499.20   3.6998400   3.64        0.7469453\n",
       "20 5000    0   0.00       49770.80   9.9541600   8.80        6.3997833\n",
       "21 5000    0   0.00        9286.82   1.8573640   0.93        3.4157893\n",
       "22 5000    0   0.00       18272.28   3.6544560   2.10        5.3952137\n",
       "23 5000    0   0.00       30564.00   6.1128000  -1.00        7.7435178\n",
       "24 5000    0   0.00       11020.00   2.2040000   2.00        1.3939773\n",
       "25 5000    0   0.00       15337.00   3.0674000   2.00        3.4144969\n",
       "26 5000    0   0.00        2502.00   0.5004000   0.00        0.8607834\n",
       "27 5000    0   0.00        1962.00   0.3924000   0.00        0.7960835\n",
       "28 5000    0   0.00         552.00   0.1104000   0.00        0.4942274\n",
       "29 5000    0   0.00         278.00   0.0556000   0.00        0.3257758\n",
       "30 5000    0   0.00         573.00   0.1146000   0.00        0.5687983\n",
       "31 5000    0   0.00         233.00   0.0466000   0.00        0.4695450\n",
       "32 5000    0   0.00        9237.00   1.8474000   0.00        3.0748015\n",
       "33 5000    0   0.00      116162.90  23.2325800  17.00       21.2316367\n",
       "34 5000    0   0.00       50887.00  10.1774000  10.00        3.3911398\n",
       "35 5000    0   0.00     1686012.60 337.2025200 276.36      245.1450683\n",
       "36 5000    0   0.00       23333.00   4.6666000   5.00        2.4970165\n",
       "37 5000    0   0.00      804380.55 160.8761100 125.34      146.2927708\n",
       "38 5000    0   0.00      191024.00  38.2048000  38.00       22.6618880\n",
       "39 5000    0   0.00       67357.25  13.4714500   9.55       12.7733812\n",
       "40 5000    0   0.00       11443.93   2.2887860   2.26        0.7751004\n",
       "41 5000    0   0.00       66322.25  13.2644500   0.00       16.3100178\n",
       "42 5000    0   0.00     2889162.55 577.8325100   0.00      949.1515863\n",
       "43 5000    0   0.00       64956.55  12.9913100   0.00       19.2129426\n",
       "44 5000    0   0.00     2350882.00 470.1764000   0.00      912.2206241\n",
       "45 5000    0   0.00       77219.25  15.4438500  13.75       15.0075691\n",
       "46 5000    0   0.00       53505.95  10.7011900   0.00       19.7998365\n",
       "47 5000    0   0.00     2109923.05 421.9846100   0.00     1001.0032867\n",
       "48 5000    0   0.00       98225.00  19.6450000  20.00        5.1656086\n",
       "   var              pctl.0% pctl.1% pctl.5% pctl.10% pctl.25% pctl.50%\n",
       "1        0.15225301  2.54    2.8086  2.9930   3.120    3.3300   3.60  \n",
       "2        1.64875774  2.54    3.0400  4.1165   4.883    6.1600   7.15  \n",
       "3        0.08033004  2.83    2.9700  3.1400   3.230    3.4100   3.60  \n",
       "4        1.43816811  2.49    3.1703  4.2515   5.030    6.1700   7.05  \n",
       "5        0.16388015  2.08    2.3454  2.5800   2.740    2.9700   3.23  \n",
       "6        1.49324833  2.17    2.7854  4.2085   4.820    5.9100   6.86  \n",
       "7        1.37369638  1.56    2.4800  4.0900   4.940    5.8600   6.64  \n",
       "8        0.31943717  1.18    1.6600  1.9800   2.170    2.5500   2.90  \n",
       "9   959011.00425049  0.90    2.4000 12.6200  28.290  104.6000 350.00  \n",
       "10       2.72028373 -0.11    0.8800  2.5380   3.340    4.6500   5.86  \n",
       "11      34.56438973  8.00   13.0000 16.0000  18.000   21.0000  25.00  \n",
       "12  850499.92193642  0.00    0.0000  0.0000   0.000    0.0000 425.00  \n",
       "13       1.62058170 -6.60   -3.4002 -2.2900  -1.740   -0.9500  -0.08  \n",
       "14       1.27371040 -4.09   -2.1700 -1.2410  -0.780   -0.0200   0.74  \n",
       "15     315.78490162 18.00   18.0000 20.0000  23.000   31.0000  47.00  \n",
       "16      10.76550410  6.00    8.0000  9.0000  10.000   12.0000  14.00  \n",
       "17       0.12836423  0.00    0.0000  0.0000   0.000    0.0000   0.00  \n",
       "18    3066.66874159  9.00    9.0000 13.0000  16.000   24.0000  38.00  \n",
       "19       0.55792728  2.20    2.2000  2.5600   2.770    3.1800   3.64  \n",
       "20      40.95722614  0.00    0.7000  1.9000   2.800    5.1000   8.80  \n",
       "21      11.66761641  0.00    0.0300  0.1000   0.180    0.3900   0.93  \n",
       "22      29.10833109  0.00    0.1100  0.2900   0.460    0.9800   2.10  \n",
       "23      59.96206857 -1.00   -1.0000 -1.0000  -1.000   -1.0000  -1.00  \n",
       "24       1.94317263  1.00    1.0000  1.0000   1.000    1.0000   2.00  \n",
       "25      11.65878900  0.00    0.0000  0.0000   0.000    0.0000   2.00  \n",
       "26       0.74094803  0.00    0.0000  0.0000   0.000    0.0000   0.00  \n",
       "27       0.63374899  0.00    0.0000  0.0000   0.000    0.0000   0.00  \n",
       "28       0.24426069  0.00    0.0000  0.0000   0.000    0.0000   0.00  \n",
       "29       0.10612987  0.00    0.0000  0.0000   0.000    0.0000   0.00  \n",
       "30       0.32353155  0.00    0.0000  0.0000   0.000    0.0000   0.00  \n",
       "31       0.22047253  0.00    0.0000  0.0000   0.000    0.0000   0.00  \n",
       "32       9.45440412  0.00    0.0000  0.0000   0.000    0.0000   0.00  \n",
       "33     450.78239702 -1.00   -1.0000 -1.0000   2.490    9.2000  17.00  \n",
       "34      11.49982921  0.00    2.0000  5.0000   6.000    8.0000  10.00  \n",
       "35   60096.10451011  0.00   40.8195 91.3045 122.534  183.3775 276.36  \n",
       "36       6.23509146  0.00    0.0000  1.0000   1.000    3.0000   5.00  \n",
       "37   21401.57477904  0.00    0.0000 14.8195  28.639   66.9675 125.34  \n",
       "38     513.56116919  0.00    1.0000  4.0000   7.000   18.0000  38.00  \n",
       "39     163.15926625  0.90    1.8500  2.9000   3.700    5.7000   9.55  \n",
       "40       0.60078070 -0.11    0.6200  1.0600   1.310    1.7400   2.26  \n",
       "41     266.01668203  0.00    0.0000  0.0000   0.000    0.0000   0.00  \n",
       "42  900888.73378736  0.00    0.0000  0.0000   0.000    0.0000   0.00  \n",
       "43     369.13716342  0.00    0.0000  0.0000   0.000    0.0000   0.00  \n",
       "44  832146.46711346  0.00    0.0000  0.0000   0.000    0.0000   0.00  \n",
       "45     225.22713010  0.00    0.0000  0.0000   0.000    0.0000  13.75  \n",
       "46     392.03352679  0.00    0.0000  0.0000   0.000    0.0000   0.00  \n",
       "47 1002007.58007266  0.00    0.0000  0.0000   0.000    0.0000   0.00  \n",
       "48      26.68351170  0.00    0.0000 12.0000  14.000   17.0000  20.00  \n",
       "   pctl.75%  pctl.90% pctl.95%  pctl.99%  pctl.100% vars          \n",
       "1     3.8625    4.100    4.2700    4.5757     5.23  lnwiremon     \n",
       "2     7.7600    8.107    8.3100    8.6914     9.46  lnwireten     \n",
       "3     3.7900    3.970    4.0685    4.2697     4.67  lnequipmon    \n",
       "4     7.6500    7.980    8.1200    8.3700     8.78  lnequipten    \n",
       "5     3.5200    3.790    3.9300    4.1900     4.62  lntollmon     \n",
       "6     7.4600    7.880    8.1100    8.4300     8.84  lntollten     \n",
       "7     7.2200    7.670    7.9200    8.3900     9.53  lncardten     \n",
       "8     3.3000    3.640    3.8400    4.2400     5.24  lncardmon     \n",
       "9   913.8500 1808.840 2567.6500 4689.0660 13046.50  longten       \n",
       "10    6.8200    7.500    7.8500    8.4504     9.48  lnlongten     \n",
       "11   29.0000   33.000   35.0000   40.0300    48.00  commutetime   \n",
       "12 1080.0000 1871.500 2455.7500 4011.2000 13705.00  cardten       \n",
       "13    0.7200    1.460    1.8510    2.6600     4.69  lncreddebt    \n",
       "14    1.4600    2.090    2.4700    3.1802     4.95  lnothdebt     \n",
       "15   62.0000   72.000   76.0000   79.0000    79.00  age           \n",
       "16   17.0000   19.000   20.0000   21.0000    23.00  ed            \n",
       "17    0.0000    1.000    1.0000    1.0000     1.00  union         \n",
       "18   67.0000  109.100  147.0000  272.0100  1073.00  income        \n",
       "19    4.2000    4.691    4.9900    5.6100     6.98  lninc         \n",
       "20   13.6000   18.600   22.2000   29.2000    43.10  debtinc       \n",
       "21    2.0600    4.300    6.3715   14.2804   109.07  creddebt      \n",
       "22    4.3100    8.060   11.8120   24.0618   141.46  othdebt       \n",
       "23   14.0000   16.000   18.0000   20.0000    24.00  spoused       \n",
       "24    3.0000    4.000    5.0000    6.0000     9.00  reside        \n",
       "25    5.0000    8.000   10.0000   13.0000    21.00  pets          \n",
       "26    1.0000    2.000    2.0000    3.0000     6.00  pets_cats     \n",
       "27    0.0000    2.000    2.0000    3.0000     7.00  pets_dogs     \n",
       "28    0.0000    0.000    1.0000    3.0000     5.00  pets_birds    \n",
       "29    0.0000    0.000    0.0000    2.0000     6.00  pets_reptiles \n",
       "30    0.0000    0.000    1.0000    3.0000     7.00  pets_small    \n",
       "31    0.0000    0.000    0.0000    2.0000     8.00  pets_saltfish \n",
       "32    4.0000    7.000    8.0000   11.0000    16.00  pets_freshfish\n",
       "33   31.1000   52.910   72.0000   92.0010    99.60  carvalue      \n",
       "34   12.0000   15.000   16.0000   19.0000    23.00  carditems     \n",
       "35  418.5375  610.062  782.3155 1215.8072  3926.41  cardspent     \n",
       "36    6.0000    8.000    9.0000   11.0000    15.00  card2items    \n",
       "37  208.3100  324.718  419.4470  712.1298  2069.25  card2spent    \n",
       "38   59.0000   69.000   72.0000   72.0000    72.00  tenure        \n",
       "39   16.5500   27.000   36.7575   65.2010   179.85  longmon       \n",
       "40    2.8100    3.300    3.6005    4.1800     5.19  lnlongmon     \n",
       "41   24.5000   35.500   43.5000   58.7525   173.00  tollmon       \n",
       "42  885.4500 1918.955 2620.2125 3977.2705  6923.45  tollten       \n",
       "43   30.8000   42.700   49.0525   63.3005   106.30  equipmon      \n",
       "44  510.1625 1912.325 2600.9900 3679.4575  6525.30  equipten      \n",
       "45   22.7500   34.000   42.0000   64.2500   188.50  cardmon       \n",
       "46   20.9625   40.860   51.3050   78.3040   186.25  wiremon       \n",
       "47   89.9625 1778.535 2687.9225 4530.1860 12858.65  wireten       \n",
       "48   23.0000   26.000   28.0000   31.0000    36.00  hourstv       "
      ]
     },
     "metadata": {},
     "output_type": "display_data"
    }
   ],
   "source": [
    "numbs <- as.data.frame(t(sapply(nums, about_nums)))\n",
    "numbs <- mutate(numbs,vars = row.names(numbs)) %>% arrange(desc(Nmiss_pct))\n",
    "numbs"
   ]
  },
  {
   "cell_type": "markdown",
   "metadata": {},
   "source": [
    "There are 8 variables with very high missing value. They are removed. The rest will be imputed with mean value"
   ]
  },
  {
   "cell_type": "code",
   "execution_count": 9,
   "metadata": {},
   "outputs": [],
   "source": [
    "remove <- c(\"lnwiremon\",\"lnwireten\",\"lnequipmon\",\"lnequipten\",\"lntollmon\",\"lntollten\",\"lncardten\",\"lncardmon\")\n",
    "nums <- nums[,!remove,with = F]"
   ]
  },
  {
   "cell_type": "markdown",
   "metadata": {},
   "source": [
    "All the Numeric variables will also be capped at 95-percentile and 5-percentile to remove outliers. This is done to remoce the extreme effects of a few values on the total model to ensure the model performes well even with unseen data"
   ]
  },
  {
   "cell_type": "code",
   "execution_count": 10,
   "metadata": {},
   "outputs": [],
   "source": [
    "# custom function is used\n",
    "outlier_treat <- function(x){\n",
    "  UC1 = quantile(x, p=0.95,na.rm=T)\n",
    "  LC1 = quantile(x, p=0.05,na.rm=T)\n",
    "  \n",
    "  x=ifelse(x>UC1, UC1, x)\n",
    "  x=ifelse(x<LC1, LC1, x)\n",
    "  return(x)\n",
    "}\n",
    "nums <- data.table(apply(nums,2, FUN = outlier_treat))"
   ]
  },
  {
   "cell_type": "markdown",
   "metadata": {},
   "source": [
    "Now the mean value is imputed for the variables that were not removed"
   ]
  },
  {
   "cell_type": "code",
   "execution_count": 11,
   "metadata": {},
   "outputs": [],
   "source": [
    "miss_treat_num = function(x){\n",
    "  x[is.na(x)] = mean(x,na.rm=T) # replaces missings with mean\n",
    "  return(x)\n",
    "}\n",
    "nums <- data.table(apply(nums,2, FUN = miss_treat_num))"
   ]
  },
  {
   "cell_type": "markdown",
   "metadata": {},
   "source": [
    "### Categorical Variables"
   ]
  },
  {
   "cell_type": "code",
   "execution_count": 12,
   "metadata": {
    "scrolled": true
   },
   "outputs": [
    {
     "data": {
      "text/html": [
       "<table>\n",
       "<thead><tr><th scope=col>N</th><th scope=col>Nmiss</th><th scope=col>Nmiss_pct</th><th scope=col>vars</th></tr></thead>\n",
       "<tbody>\n",
       "\t<tr><td>5000             </td><td>2                </td><td>0.04             </td><td>townsize         </td></tr>\n",
       "\t<tr><td>5000             </td><td>0                </td><td>0.00             </td><td>custid           </td></tr>\n",
       "\t<tr><td>5000             </td><td>0                </td><td>0.00             </td><td>region           </td></tr>\n",
       "\t<tr><td>5000             </td><td>0                </td><td>0.00             </td><td>gender           </td></tr>\n",
       "\t<tr><td>5000             </td><td>0                </td><td>0.00             </td><td>agecat           </td></tr>\n",
       "\t<tr><td>5000             </td><td>0                </td><td>0.00             </td><td>birthmonth       </td></tr>\n",
       "\t<tr><td>5000             </td><td>0                </td><td>0.00             </td><td>edcat            </td></tr>\n",
       "\t<tr><td>5000             </td><td>0                </td><td>0.00             </td><td>jobcat           </td></tr>\n",
       "\t<tr><td>5000             </td><td>0                </td><td>0.00             </td><td>employ           </td></tr>\n",
       "\t<tr><td>5000             </td><td>0                </td><td>0.00             </td><td>empcat           </td></tr>\n",
       "\t<tr><td>5000             </td><td>0                </td><td>0.00             </td><td>retire           </td></tr>\n",
       "\t<tr><td>5000             </td><td>0                </td><td>0.00             </td><td>inccat           </td></tr>\n",
       "\t<tr><td>5000             </td><td>0                </td><td>0.00             </td><td>default          </td></tr>\n",
       "\t<tr><td>5000             </td><td>0                </td><td>0.00             </td><td>jobsat           </td></tr>\n",
       "\t<tr><td>5000             </td><td>0                </td><td>0.00             </td><td>marital          </td></tr>\n",
       "\t<tr><td>5000             </td><td>0                </td><td>0.00             </td><td>spousedcat       </td></tr>\n",
       "\t<tr><td>5000             </td><td>0                </td><td>0.00             </td><td>homeown          </td></tr>\n",
       "\t<tr><td>5000             </td><td>0                </td><td>0.00             </td><td>hometype         </td></tr>\n",
       "\t<tr><td>5000             </td><td>0                </td><td>0.00             </td><td>address          </td></tr>\n",
       "\t<tr><td>5000             </td><td>0                </td><td>0.00             </td><td>addresscat       </td></tr>\n",
       "\t<tr><td>5000             </td><td>0                </td><td>0.00             </td><td>cars             </td></tr>\n",
       "\t<tr><td>5000             </td><td>0                </td><td>0.00             </td><td>carown           </td></tr>\n",
       "\t<tr><td>5000             </td><td>0                </td><td>0.00             </td><td>cartype          </td></tr>\n",
       "\t<tr><td>5000             </td><td>0                </td><td>0.00             </td><td>carcatvalue      </td></tr>\n",
       "\t<tr><td>5000             </td><td>0                </td><td>0.00             </td><td>carbought        </td></tr>\n",
       "\t<tr><td>5000             </td><td>0                </td><td>0.00             </td><td>carbuy           </td></tr>\n",
       "\t<tr><td>5000             </td><td>0                </td><td>0.00             </td><td>commute          </td></tr>\n",
       "\t<tr><td>5000             </td><td>0                </td><td>0.00             </td><td>commutecat       </td></tr>\n",
       "\t<tr><td>5000             </td><td>0                </td><td>0.00             </td><td>commutecar       </td></tr>\n",
       "\t<tr><td>5000             </td><td>0                </td><td>0.00             </td><td>commutemotorcycle</td></tr>\n",
       "\t<tr><td>...</td><td>...</td><td>...</td><td>...</td></tr>\n",
       "\t<tr><td>5000          </td><td>0             </td><td>0             </td><td>card2tenurecat</td></tr>\n",
       "\t<tr><td>5000          </td><td>0             </td><td>0             </td><td>active        </td></tr>\n",
       "\t<tr><td>5000          </td><td>0             </td><td>0             </td><td>bfast         </td></tr>\n",
       "\t<tr><td>5000          </td><td>0             </td><td>0             </td><td>churn         </td></tr>\n",
       "\t<tr><td>5000          </td><td>0             </td><td>0             </td><td>tollfree      </td></tr>\n",
       "\t<tr><td>5000          </td><td>0             </td><td>0             </td><td>equip         </td></tr>\n",
       "\t<tr><td>5000          </td><td>0             </td><td>0             </td><td>callcard      </td></tr>\n",
       "\t<tr><td>5000          </td><td>0             </td><td>0             </td><td>wireless      </td></tr>\n",
       "\t<tr><td>5000          </td><td>0             </td><td>0             </td><td>multline      </td></tr>\n",
       "\t<tr><td>5000          </td><td>0             </td><td>0             </td><td>voice         </td></tr>\n",
       "\t<tr><td>5000          </td><td>0             </td><td>0             </td><td>pager         </td></tr>\n",
       "\t<tr><td>5000          </td><td>0             </td><td>0             </td><td>internet      </td></tr>\n",
       "\t<tr><td>5000          </td><td>0             </td><td>0             </td><td>callid        </td></tr>\n",
       "\t<tr><td>5000          </td><td>0             </td><td>0             </td><td>callwait      </td></tr>\n",
       "\t<tr><td>5000          </td><td>0             </td><td>0             </td><td>forward       </td></tr>\n",
       "\t<tr><td>5000          </td><td>0             </td><td>0             </td><td>confer        </td></tr>\n",
       "\t<tr><td>5000          </td><td>0             </td><td>0             </td><td>ebill         </td></tr>\n",
       "\t<tr><td>5000          </td><td>0             </td><td>0             </td><td>owntv         </td></tr>\n",
       "\t<tr><td>5000          </td><td>0             </td><td>0             </td><td>ownvcr        </td></tr>\n",
       "\t<tr><td>5000          </td><td>0             </td><td>0             </td><td>owndvd        </td></tr>\n",
       "\t<tr><td>5000          </td><td>0             </td><td>0             </td><td>owncd         </td></tr>\n",
       "\t<tr><td>5000          </td><td>0             </td><td>0             </td><td>ownpda        </td></tr>\n",
       "\t<tr><td>5000          </td><td>0             </td><td>0             </td><td>ownpc         </td></tr>\n",
       "\t<tr><td>5000          </td><td>0             </td><td>0             </td><td>ownipod       </td></tr>\n",
       "\t<tr><td>5000          </td><td>0             </td><td>0             </td><td>owngame       </td></tr>\n",
       "\t<tr><td>5000          </td><td>0             </td><td>0             </td><td>ownfax        </td></tr>\n",
       "\t<tr><td>5000          </td><td>0             </td><td>0             </td><td>news          </td></tr>\n",
       "\t<tr><td>5000          </td><td>0             </td><td>0             </td><td>response_01   </td></tr>\n",
       "\t<tr><td>5000          </td><td>0             </td><td>0             </td><td>response_02   </td></tr>\n",
       "\t<tr><td>5000          </td><td>0             </td><td>0             </td><td>response_03   </td></tr>\n",
       "</tbody>\n",
       "</table>\n"
      ],
      "text/latex": [
       "\\begin{tabular}{r|llll}\n",
       " N & Nmiss & Nmiss\\_pct & vars\\\\\n",
       "\\hline\n",
       "\t 5000              & 2                 & 0.04              & townsize         \\\\\n",
       "\t 5000              & 0                 & 0.00              & custid           \\\\\n",
       "\t 5000              & 0                 & 0.00              & region           \\\\\n",
       "\t 5000              & 0                 & 0.00              & gender           \\\\\n",
       "\t 5000              & 0                 & 0.00              & agecat           \\\\\n",
       "\t 5000              & 0                 & 0.00              & birthmonth       \\\\\n",
       "\t 5000              & 0                 & 0.00              & edcat            \\\\\n",
       "\t 5000              & 0                 & 0.00              & jobcat           \\\\\n",
       "\t 5000              & 0                 & 0.00              & employ           \\\\\n",
       "\t 5000              & 0                 & 0.00              & empcat           \\\\\n",
       "\t 5000              & 0                 & 0.00              & retire           \\\\\n",
       "\t 5000              & 0                 & 0.00              & inccat           \\\\\n",
       "\t 5000              & 0                 & 0.00              & default          \\\\\n",
       "\t 5000              & 0                 & 0.00              & jobsat           \\\\\n",
       "\t 5000              & 0                 & 0.00              & marital          \\\\\n",
       "\t 5000              & 0                 & 0.00              & spousedcat       \\\\\n",
       "\t 5000              & 0                 & 0.00              & homeown          \\\\\n",
       "\t 5000              & 0                 & 0.00              & hometype         \\\\\n",
       "\t 5000              & 0                 & 0.00              & address          \\\\\n",
       "\t 5000              & 0                 & 0.00              & addresscat       \\\\\n",
       "\t 5000              & 0                 & 0.00              & cars             \\\\\n",
       "\t 5000              & 0                 & 0.00              & carown           \\\\\n",
       "\t 5000              & 0                 & 0.00              & cartype          \\\\\n",
       "\t 5000              & 0                 & 0.00              & carcatvalue      \\\\\n",
       "\t 5000              & 0                 & 0.00              & carbought        \\\\\n",
       "\t 5000              & 0                 & 0.00              & carbuy           \\\\\n",
       "\t 5000              & 0                 & 0.00              & commute          \\\\\n",
       "\t 5000              & 0                 & 0.00              & commutecat       \\\\\n",
       "\t 5000              & 0                 & 0.00              & commutecar       \\\\\n",
       "\t 5000              & 0                 & 0.00              & commutemotorcycle\\\\\n",
       "\t ... & ... & ... & ...\\\\\n",
       "\t 5000           & 0              & 0              & card2tenurecat\\\\\n",
       "\t 5000           & 0              & 0              & active        \\\\\n",
       "\t 5000           & 0              & 0              & bfast         \\\\\n",
       "\t 5000           & 0              & 0              & churn         \\\\\n",
       "\t 5000           & 0              & 0              & tollfree      \\\\\n",
       "\t 5000           & 0              & 0              & equip         \\\\\n",
       "\t 5000           & 0              & 0              & callcard      \\\\\n",
       "\t 5000           & 0              & 0              & wireless      \\\\\n",
       "\t 5000           & 0              & 0              & multline      \\\\\n",
       "\t 5000           & 0              & 0              & voice         \\\\\n",
       "\t 5000           & 0              & 0              & pager         \\\\\n",
       "\t 5000           & 0              & 0              & internet      \\\\\n",
       "\t 5000           & 0              & 0              & callid        \\\\\n",
       "\t 5000           & 0              & 0              & callwait      \\\\\n",
       "\t 5000           & 0              & 0              & forward       \\\\\n",
       "\t 5000           & 0              & 0              & confer        \\\\\n",
       "\t 5000           & 0              & 0              & ebill         \\\\\n",
       "\t 5000           & 0              & 0              & owntv         \\\\\n",
       "\t 5000           & 0              & 0              & ownvcr        \\\\\n",
       "\t 5000           & 0              & 0              & owndvd        \\\\\n",
       "\t 5000           & 0              & 0              & owncd         \\\\\n",
       "\t 5000           & 0              & 0              & ownpda        \\\\\n",
       "\t 5000           & 0              & 0              & ownpc         \\\\\n",
       "\t 5000           & 0              & 0              & ownipod       \\\\\n",
       "\t 5000           & 0              & 0              & owngame       \\\\\n",
       "\t 5000           & 0              & 0              & ownfax        \\\\\n",
       "\t 5000           & 0              & 0              & news          \\\\\n",
       "\t 5000             & 0                & 0                & response\\_01   \\\\\n",
       "\t 5000             & 0                & 0                & response\\_02   \\\\\n",
       "\t 5000             & 0                & 0                & response\\_03   \\\\\n",
       "\\end{tabular}\n"
      ],
      "text/markdown": [
       "\n",
       "| N | Nmiss | Nmiss_pct | vars |\n",
       "|---|---|---|---|\n",
       "| 5000              | 2                 | 0.04              | townsize          |\n",
       "| 5000              | 0                 | 0.00              | custid            |\n",
       "| 5000              | 0                 | 0.00              | region            |\n",
       "| 5000              | 0                 | 0.00              | gender            |\n",
       "| 5000              | 0                 | 0.00              | agecat            |\n",
       "| 5000              | 0                 | 0.00              | birthmonth        |\n",
       "| 5000              | 0                 | 0.00              | edcat             |\n",
       "| 5000              | 0                 | 0.00              | jobcat            |\n",
       "| 5000              | 0                 | 0.00              | employ            |\n",
       "| 5000              | 0                 | 0.00              | empcat            |\n",
       "| 5000              | 0                 | 0.00              | retire            |\n",
       "| 5000              | 0                 | 0.00              | inccat            |\n",
       "| 5000              | 0                 | 0.00              | default           |\n",
       "| 5000              | 0                 | 0.00              | jobsat            |\n",
       "| 5000              | 0                 | 0.00              | marital           |\n",
       "| 5000              | 0                 | 0.00              | spousedcat        |\n",
       "| 5000              | 0                 | 0.00              | homeown           |\n",
       "| 5000              | 0                 | 0.00              | hometype          |\n",
       "| 5000              | 0                 | 0.00              | address           |\n",
       "| 5000              | 0                 | 0.00              | addresscat        |\n",
       "| 5000              | 0                 | 0.00              | cars              |\n",
       "| 5000              | 0                 | 0.00              | carown            |\n",
       "| 5000              | 0                 | 0.00              | cartype           |\n",
       "| 5000              | 0                 | 0.00              | carcatvalue       |\n",
       "| 5000              | 0                 | 0.00              | carbought         |\n",
       "| 5000              | 0                 | 0.00              | carbuy            |\n",
       "| 5000              | 0                 | 0.00              | commute           |\n",
       "| 5000              | 0                 | 0.00              | commutecat        |\n",
       "| 5000              | 0                 | 0.00              | commutecar        |\n",
       "| 5000              | 0                 | 0.00              | commutemotorcycle |\n",
       "| ... | ... | ... | ... |\n",
       "| 5000           | 0              | 0              | card2tenurecat |\n",
       "| 5000           | 0              | 0              | active         |\n",
       "| 5000           | 0              | 0              | bfast          |\n",
       "| 5000           | 0              | 0              | churn          |\n",
       "| 5000           | 0              | 0              | tollfree       |\n",
       "| 5000           | 0              | 0              | equip          |\n",
       "| 5000           | 0              | 0              | callcard       |\n",
       "| 5000           | 0              | 0              | wireless       |\n",
       "| 5000           | 0              | 0              | multline       |\n",
       "| 5000           | 0              | 0              | voice          |\n",
       "| 5000           | 0              | 0              | pager          |\n",
       "| 5000           | 0              | 0              | internet       |\n",
       "| 5000           | 0              | 0              | callid         |\n",
       "| 5000           | 0              | 0              | callwait       |\n",
       "| 5000           | 0              | 0              | forward        |\n",
       "| 5000           | 0              | 0              | confer         |\n",
       "| 5000           | 0              | 0              | ebill          |\n",
       "| 5000           | 0              | 0              | owntv          |\n",
       "| 5000           | 0              | 0              | ownvcr         |\n",
       "| 5000           | 0              | 0              | owndvd         |\n",
       "| 5000           | 0              | 0              | owncd          |\n",
       "| 5000           | 0              | 0              | ownpda         |\n",
       "| 5000           | 0              | 0              | ownpc          |\n",
       "| 5000           | 0              | 0              | ownipod        |\n",
       "| 5000           | 0              | 0              | owngame        |\n",
       "| 5000           | 0              | 0              | ownfax         |\n",
       "| 5000           | 0              | 0              | news           |\n",
       "| 5000           | 0              | 0              | response_01    |\n",
       "| 5000           | 0              | 0              | response_02    |\n",
       "| 5000           | 0              | 0              | response_03    |\n",
       "\n"
      ],
      "text/plain": [
       "    N    Nmiss Nmiss_pct vars             \n",
       "1   5000 2     0.04      townsize         \n",
       "2   5000 0     0.00      custid           \n",
       "3   5000 0     0.00      region           \n",
       "4   5000 0     0.00      gender           \n",
       "5   5000 0     0.00      agecat           \n",
       "6   5000 0     0.00      birthmonth       \n",
       "7   5000 0     0.00      edcat            \n",
       "8   5000 0     0.00      jobcat           \n",
       "9   5000 0     0.00      employ           \n",
       "10  5000 0     0.00      empcat           \n",
       "11  5000 0     0.00      retire           \n",
       "12  5000 0     0.00      inccat           \n",
       "13  5000 0     0.00      default          \n",
       "14  5000 0     0.00      jobsat           \n",
       "15  5000 0     0.00      marital          \n",
       "16  5000 0     0.00      spousedcat       \n",
       "17  5000 0     0.00      homeown          \n",
       "18  5000 0     0.00      hometype         \n",
       "19  5000 0     0.00      address          \n",
       "20  5000 0     0.00      addresscat       \n",
       "21  5000 0     0.00      cars             \n",
       "22  5000 0     0.00      carown           \n",
       "23  5000 0     0.00      cartype          \n",
       "24  5000 0     0.00      carcatvalue      \n",
       "25  5000 0     0.00      carbought        \n",
       "26  5000 0     0.00      carbuy           \n",
       "27  5000 0     0.00      commute          \n",
       "28  5000 0     0.00      commutecat       \n",
       "29  5000 0     0.00      commutecar       \n",
       "30  5000 0     0.00      commutemotorcycle\n",
       "... ...  ...   ...       ...              \n",
       "55  5000 0     0         card2tenurecat   \n",
       "56  5000 0     0         active           \n",
       "57  5000 0     0         bfast            \n",
       "58  5000 0     0         churn            \n",
       "59  5000 0     0         tollfree         \n",
       "60  5000 0     0         equip            \n",
       "61  5000 0     0         callcard         \n",
       "62  5000 0     0         wireless         \n",
       "63  5000 0     0         multline         \n",
       "64  5000 0     0         voice            \n",
       "65  5000 0     0         pager            \n",
       "66  5000 0     0         internet         \n",
       "67  5000 0     0         callid           \n",
       "68  5000 0     0         callwait         \n",
       "69  5000 0     0         forward          \n",
       "70  5000 0     0         confer           \n",
       "71  5000 0     0         ebill            \n",
       "72  5000 0     0         owntv            \n",
       "73  5000 0     0         ownvcr           \n",
       "74  5000 0     0         owndvd           \n",
       "75  5000 0     0         owncd            \n",
       "76  5000 0     0         ownpda           \n",
       "77  5000 0     0         ownpc            \n",
       "78  5000 0     0         ownipod          \n",
       "79  5000 0     0         owngame          \n",
       "80  5000 0     0         ownfax           \n",
       "81  5000 0     0         news             \n",
       "82  5000 0     0         response_01      \n",
       "83  5000 0     0         response_02      \n",
       "84  5000 0     0         response_03      "
      ]
     },
     "metadata": {},
     "output_type": "display_data"
    }
   ],
   "source": [
    "cats <- as.data.frame(t(sapply(rest, about_cats)))\n",
    "cats <- mutate(cats,vars = row.names(cats)) %>% arrange(desc(Nmiss_pct))\n",
    "cats"
   ]
  },
  {
   "cell_type": "markdown",
   "metadata": {},
   "source": [
    "The missing value observations here will be removed"
   ]
  },
  {
   "cell_type": "code",
   "execution_count": 15,
   "metadata": {},
   "outputs": [],
   "source": [
    "cust_final <- cbind(nums,rest)\n",
    "cust_final <- cust_final[complete.cases(cust_final[,c(\"townsize\")])]"
   ]
  },
  {
   "cell_type": "markdown",
   "metadata": {},
   "source": [
    "Now we create the final target variable"
   ]
  },
  {
   "cell_type": "code",
   "execution_count": 16,
   "metadata": {},
   "outputs": [],
   "source": [
    "cust_final$total_spent <- cust_final$cardspent+cust_final$card2spent "
   ]
  },
  {
   "cell_type": "markdown",
   "metadata": {},
   "source": [
    "Since the final variable is a summation of two variables, they are removed along with the other variables closely related to them as they have a very high chance to create inter-item correlation and bloat up the R-squared value"
   ]
  },
  {
   "cell_type": "code",
   "execution_count": 17,
   "metadata": {},
   "outputs": [],
   "source": [
    "cust_final$cardspent <- NULL\n",
    "cust_final$card2spent<- NULL \n",
    "cust_final$card2items<- NULL\n",
    "cust_final$carditems<- NULL\n",
    "cust_final$cardtenurecat <- NULL\n",
    "cust_final$card2tenurecat <- NULL"
   ]
  },
  {
   "cell_type": "markdown",
   "metadata": {},
   "source": [
    "### Checking regression assumptions\n",
    "#### Normality of Y variable"
   ]
  },
  {
   "cell_type": "code",
   "execution_count": 18,
   "metadata": {},
   "outputs": [
    {
     "name": "stderr",
     "output_type": "stream",
     "text": [
      "Warning message:\n",
      "\"package 'repr' was built under R version 3.5.2\""
     ]
    },
    {
     "data": {
      "text/plain": [
       "\n",
       "\tShapiro-Wilk normality test\n",
       "\n",
       "data:  cust_final$total_spent\n",
       "W = 0.92178, p-value < 0.00000000000000022\n"
      ]
     },
     "metadata": {},
     "output_type": "display_data"
    },
    {
     "data": {
      "image/png": "[encoded data removed]",
      "text/plain": [
       "Plot with title \"\""
      ]
     },
     "metadata": {},
     "output_type": "display_data"
    }
   ],
   "source": [
    "library(repr)\n",
    "options(repr.plot.width=5, repr.plot.height=4)\n",
    "plotNormalHistogram(cust_final$total_spent)\n",
    "shapiro.test(cust_final$total_spent)"
   ]
  },
  {
   "cell_type": "markdown",
   "metadata": {},
   "source": [
    "This clearly shows that the total spent variable is not normally distributed. Its shape resembles the shape of an exponential distribution. A square root of the values is taken and examined for normality"
   ]
  },
  {
   "cell_type": "code",
   "execution_count": 19,
   "metadata": {},
   "outputs": [
    {
     "data": {
      "image/png": "[encoded data removed]",
      "text/plain": [
       "Plot with title \"\""
      ]
     },
     "metadata": {},
     "output_type": "display_data"
    }
   ],
   "source": [
    "cust_final$total_spent_sqrt <-  sqrt(cust_final$total_spent)\n",
    "plotNormalHistogram(cust_final$total_spent_sqrt)"
   ]
  },
  {
   "cell_type": "markdown",
   "metadata": {},
   "source": [
    "Now it resembles a normal distribution"
   ]
  },
  {
   "cell_type": "markdown",
   "metadata": {},
   "source": [
    "#### Checking if Y variables and X Variables are correlated"
   ]
  },
  {
   "cell_type": "markdown",
   "metadata": {},
   "source": [
    "Categorical variables are tested if they are related to the Y variables using ANOVA"
   ]
  },
  {
   "cell_type": "code",
   "execution_count": 20,
   "metadata": {
    "scrolled": true
   },
   "outputs": [
    {
     "name": "stderr",
     "output_type": "stream",
     "text": [
      "Warning message in `[.data.table`(cust_final, , !numerics, with = F):\n",
      "\"column(s) not removed because not found: carditems,cardspent,card2items,card2spent,lntollmon,lntollten,lnequipmon,lnequipten,lncardmon,lncardten,lnwiremon,lnwireten\""
     ]
    }
   ],
   "source": [
    "Anov <- function(x){\n",
    "  summary(aov(cust_final$total_spent~x))\n",
    "}\n",
    "\n",
    "cats <- cust_final[,!numerics,with = F]\n",
    "cats$total_spent <- NULL\n",
    "cats$total_spent_sqrt <- NULL\n",
    "\n",
    "apply(cats, 2, FUN = Anov)"
   ]
  },
  {
   "cell_type": "markdown",
   "metadata": {},
   "source": [
    "From the above analysis, we take only the significant variables"
   ]
  },
  {
   "cell_type": "code",
   "execution_count": 21,
   "metadata": {},
   "outputs": [],
   "source": [
    "remove <- c(\"custid\",\"townsize\",\"birthmonth\",\"default\",\"marital\",\"cars\",\"carbought\",\"carbuy\",\"commute\",\"commutecat\",\n",
    "             \"commutecar\",\"commutemotorcycle\",\"commutecarpool\",\"commutebus\",\"commuterail\",\"commutepublic\",\"commutewalk\",\n",
    "             \"commutenonmotor\",\"telecommute\",\"polparty\",\"cardtype\",\"cardbenefit\",\"cardfee\",\"card2type\",\"card2benefit\",\n",
    "             \"active\",\"churn\",\"response_01\")\n",
    "cust_final <- cust_final[,!..remove,]"
   ]
  },
  {
   "cell_type": "code",
   "execution_count": 22,
   "metadata": {},
   "outputs": [],
   "source": [
    "total_spent <- cust_final$total_spent\n",
    "cust_final$total_spent <- NULL"
   ]
  },
  {
   "cell_type": "markdown",
   "metadata": {},
   "source": [
    "Now we run an initial regression model with the whole dataset ands also perform a stepwise regression"
   ]
  },
  {
   "cell_type": "code",
   "execution_count": 23,
   "metadata": {},
   "outputs": [
    {
     "data": {
      "text/plain": [
       "\n",
       "Call:\n",
       "lm(formula = total_spent_sqrt ~ ., data = cust_final)\n",
       "\n",
       "Residuals:\n",
       "     Min       1Q   Median       3Q      Max \n",
       "-15.2917  -3.6961  -0.2673   3.4230  16.7115 \n",
       "\n",
       "Coefficients: (2 not defined because of singularities)\n",
       "                  Estimate  Std. Error t value             Pr(>|t|)    \n",
       "(Intercept)    20.56977214  2.03656452  10.100 < 0.0000000000000002 ***\n",
       "age            -0.03626462  0.02048454  -1.770              0.07673 .  \n",
       "ed              0.02868739  0.09768811   0.294              0.76903    \n",
       "union           0.18171720  0.20446603   0.889              0.37419    \n",
       "income          0.01017152  0.00977900   1.040              0.29833    \n",
       "lninc           2.51702117  0.53211201   4.730           0.00000231 ***\n",
       "debtinc        -0.04912462  0.03287907  -1.494              0.13521    \n",
       "creddebt        0.09049332  0.10135304   0.893              0.37198    \n",
       "lncreddebt      0.12800491  0.15344294   0.834              0.40420    \n",
       "othdebt         0.10356394  0.06292129   1.646              0.09984 .  \n",
       "lnothdebt       0.03283411  0.21869288   0.150              0.88066    \n",
       "spoused        -0.03637699  0.05236989  -0.695              0.48733    \n",
       "reside         -0.00830670  0.08197243  -0.101              0.91929    \n",
       "pets           -0.00688420  0.09855560  -0.070              0.94432    \n",
       "pets_cats       0.01511183  0.14725684   0.103              0.91827    \n",
       "pets_dogs       0.05381617  0.15551830   0.346              0.72932    \n",
       "pets_birds     -0.39224253  0.34802438  -1.127              0.25977    \n",
       "pets_reptiles           NA          NA      NA                   NA    \n",
       "pets_small     -0.04105908  0.38833135  -0.106              0.91580    \n",
       "pets_saltfish           NA          NA      NA                   NA    \n",
       "pets_freshfish -0.01746224  0.10282748  -0.170              0.86516    \n",
       "carvalue       -0.01064235  0.01425465  -0.747              0.45535    \n",
       "commutetime     0.00648335  0.01403664   0.462              0.64418    \n",
       "tenure          0.01245526  0.01988077   0.626              0.53102    \n",
       "longmon         0.09739709  0.08929714   1.091              0.27546    \n",
       "lnlongmon      -0.52975439  0.67321101  -0.787              0.43137    \n",
       "longten        -0.00076091  0.00096999  -0.784              0.43281    \n",
       "lnlongten      -0.07009358  0.27465800  -0.255              0.79858    \n",
       "tollmon        -0.01093946  0.02296259  -0.476              0.63381    \n",
       "tollten         0.00007683  0.00031822   0.241              0.80922    \n",
       "equipmon        0.01827376  0.02541286   0.719              0.47213    \n",
       "equipten        0.00004438  0.00025233   0.176              0.86040    \n",
       "cardmon        -0.02666586  0.01856267  -1.437              0.15091    \n",
       "cardten         0.00037172  0.00037113   1.002              0.31660    \n",
       "wiremon        -0.03406195  0.02473790  -1.377              0.16860    \n",
       "wireten         0.00029471  0.00031619   0.932              0.35135    \n",
       "hourstv         0.01424045  0.01750651   0.813              0.41601    \n",
       "region          0.10999268  0.05270542   2.087              0.03695 *  \n",
       "gender         -0.68700098  0.14652900  -4.688           0.00000283 ***\n",
       "agecat          0.19208928  0.24906588   0.771              0.44060    \n",
       "edcat          -0.17853790  0.24739342  -0.722              0.47053    \n",
       "jobcat         -0.12739328  0.05132963  -2.482              0.01310 *  \n",
       "employ          0.01617989  0.02074605   0.780              0.43549    \n",
       "empcat          0.02556530  0.13527058   0.189              0.85011    \n",
       "retire          0.02386925  0.36984810   0.065              0.94854    \n",
       "inccat          0.09091461  0.25947209   0.350              0.72607    \n",
       "jobsat         -0.08496300  0.06268610  -1.355              0.17536    \n",
       "spousedcat      0.17276037  0.20473701   0.844              0.39881    \n",
       "homeown         0.08304783  0.15969727   0.520              0.60306    \n",
       "hometype        0.10699129  0.08017486   1.334              0.18211    \n",
       "address         0.03300307  0.01749643   1.886              0.05932 .  \n",
       "addresscat     -0.26643190  0.17036368  -1.564              0.11791    \n",
       "carown          0.08423683  0.18736948   0.450              0.65304    \n",
       "cartype         0.03335020  0.14715885   0.227              0.82072    \n",
       "carcatvalue    -0.03687508  0.20699905  -0.178              0.85862    \n",
       "commutebike    -0.30015613  0.22349822  -1.343              0.17934    \n",
       "reason         -0.03354382  0.02565311  -1.308              0.19107    \n",
       "polview        -0.07067846  0.05324420  -1.327              0.18443    \n",
       "polcontrib      0.04134644  0.17192685   0.240              0.80996    \n",
       "vote            0.03735786  0.14839358   0.252              0.80125    \n",
       "card           -1.57691345  0.06691572 -23.566 < 0.0000000000000002 ***\n",
       "cardtenure     -0.00385593  0.02537180  -0.152              0.87921    \n",
       "card2          -0.83782146  0.06784995 -12.348 < 0.0000000000000002 ***\n",
       "card2fee       -0.30994704  0.18762765  -1.652              0.09861 .  \n",
       "card2tenure    -0.02072357  0.03474327  -0.596              0.55088    \n",
       "bfast          -0.02525148  0.08996070  -0.281              0.77896    \n",
       "tollfree        0.21355398  0.39177312   0.545              0.58571    \n",
       "equip          -0.63715895  0.74208953  -0.859              0.39060    \n",
       "callcard        0.05926385  0.28090966   0.211              0.83292    \n",
       "wireless        0.85226419  0.59376145   1.435              0.15125    \n",
       "multline       -0.23718212  0.18924032  -1.253              0.21014    \n",
       "voice          -0.47131956  0.23343454  -2.019              0.04353 *  \n",
       "pager          -0.18115162  0.25617600  -0.707              0.47951    \n",
       "internet        0.22148842  0.07785841   2.845              0.00446 ** \n",
       "callid          0.17122009  0.21749800   0.787              0.43119    \n",
       "callwait       -0.04546667  0.21565709  -0.211              0.83303    \n",
       "forward         0.03103434  0.21396949   0.145              0.88468    \n",
       "confer         -0.10524505  0.21960639  -0.479              0.63179    \n",
       "ebill          -0.21561122  0.20813441  -1.036              0.30029    \n",
       "owntv          -0.76156329  0.66299460  -1.149              0.25075    \n",
       "ownvcr          0.23755130  0.33336602   0.713              0.47614    \n",
       "owndvd          0.47822260  0.32997935   1.449              0.14733    \n",
       "owncd          -0.06233548  0.36579657  -0.170              0.86469    \n",
       "ownpda          0.08849996  0.23909133   0.370              0.71129    \n",
       "ownpc          -0.03616493  0.20705733  -0.175              0.86135    \n",
       "ownipod        -0.05895819  0.17663650  -0.334              0.73856    \n",
       "owngame        -0.12381723  0.17937489  -0.690              0.49006    \n",
       "ownfax          0.28941791  0.25012863   1.157              0.24730    \n",
       "news            0.03140794  0.18451019   0.170              0.86484    \n",
       "response_02     0.01538106  0.21819748   0.070              0.94381    \n",
       "response_03     0.54642165  0.24330530   2.246              0.02476 *  \n",
       "---\n",
       "Signif. codes:  0 '***' 0.001 '**' 0.01 '*' 0.05 '.' 0.1 ' ' 1\n",
       "\n",
       "Residual standard error: 5.12 on 4909 degrees of freedom\n",
       "Multiple R-squared:  0.2699,\tAdjusted R-squared:  0.2568 \n",
       "F-statistic: 20.62 on 88 and 4909 DF,  p-value: < 0.00000000000000022\n"
      ]
     },
     "metadata": {},
     "output_type": "display_data"
    }
   ],
   "source": [
    "\n",
    "fit1 <- lm(total_spent_sqrt~.,data = cust_final)\n",
    "summary(fit1)\n",
    "\n",
    "# step(fit1,direction = \"both\")"
   ]
  },
  {
   "cell_type": "markdown",
   "metadata": {},
   "source": [
    "The final model provided by the stepwise regression is as follows:"
   ]
  },
  {
   "cell_type": "code",
   "execution_count": 25,
   "metadata": {
    "scrolled": true
   },
   "outputs": [
    {
     "data": {
      "text/plain": [
       "\n",
       "Call:\n",
       "lm(formula = total_spent_sqrt ~ age + income + lninc + creddebt + \n",
       "    longmon + cardmon + region + gender + edcat + jobcat + address + \n",
       "    addresscat + commutebike + card + card2 + card2fee + multline + \n",
       "    voice + internet + owndvd + response_03, data = cust_final)\n",
       "\n",
       "Residuals:\n",
       "     Min       1Q   Median       3Q      Max \n",
       "-15.4430  -3.6657  -0.3005   3.4571  16.1574 \n",
       "\n",
       "Coefficients:\n",
       "             Estimate Std. Error t value             Pr(>|t|)    \n",
       "(Intercept) 18.097819   1.065612  16.984 < 0.0000000000000002 ***\n",
       "age         -0.019378   0.007838  -2.472              0.01345 *  \n",
       "income       0.012483   0.006464   1.931              0.05351 .  \n",
       "lninc        2.749583   0.351849   7.815  0.00000000000000668 ***\n",
       "creddebt     0.103918   0.054039   1.923              0.05453 .  \n",
       "longmon      0.020763   0.010863   1.911              0.05601 .  \n",
       "cardmon     -0.011521   0.006573  -1.753              0.07969 .  \n",
       "region       0.118296   0.051203   2.310              0.02091 *  \n",
       "gender      -0.694009   0.144912  -4.789  0.00000172328258990 ***\n",
       "edcat       -0.107521   0.070976  -1.515              0.12987    \n",
       "jobcat      -0.103339   0.042761  -2.417              0.01570 *  \n",
       "address      0.031555   0.016582   1.903              0.05711 .  \n",
       "addresscat  -0.261626   0.160064  -1.635              0.10222    \n",
       "commutebike -0.342787   0.221172  -1.550              0.12124    \n",
       "card        -1.580647   0.066201 -23.876 < 0.0000000000000002 ***\n",
       "card2       -0.844312   0.067111 -12.581 < 0.0000000000000002 ***\n",
       "card2fee    -0.313308   0.185379  -1.690              0.09107 .  \n",
       "multline    -0.286410   0.176303  -1.625              0.10433    \n",
       "voice       -0.412926   0.179709  -2.298              0.02162 *  \n",
       "internet     0.183687   0.060176   3.053              0.00228 ** \n",
       "owndvd       0.422706   0.288540   1.465              0.14299    \n",
       "response_03  0.558175   0.240560   2.320              0.02036 *  \n",
       "---\n",
       "Signif. codes:  0 '***' 0.001 '**' 0.01 '*' 0.05 '.' 0.1 ' ' 1\n",
       "\n",
       "Residual standard error: 5.103 on 4976 degrees of freedom\n",
       "Multiple R-squared:  0.2648,\tAdjusted R-squared:  0.2616 \n",
       "F-statistic: 85.32 on 21 and 4976 DF,  p-value: < 0.00000000000000022\n"
      ]
     },
     "metadata": {},
     "output_type": "display_data"
    }
   ],
   "source": [
    "fit2 <- lm(formula = total_spent_sqrt ~ age + income + lninc + creddebt + \n",
    "             longmon + cardmon + region + gender + edcat + jobcat + address + \n",
    "             addresscat + commutebike + card + card2 + card2fee + multline + \n",
    "             voice + internet + owndvd + response_03, data = cust_final)\n",
    "summary(fit2)"
   ]
  },
  {
   "cell_type": "markdown",
   "metadata": {},
   "source": [
    "Now we perform class conversions on few of the final categorical variables"
   ]
  },
  {
   "cell_type": "code",
   "execution_count": 26,
   "metadata": {},
   "outputs": [],
   "source": [
    "cust_final$region <- factor(cust_final$region,levels = c(1,2,3,4,5),labels = c(\"zone 1\",\"zone 2\",\"zone 3\",\"zone 4\", \"zone 5\"))\n",
    "cust_final$gender <- factor(cust_final$gender, levels = c(0,1),labels = c(\"Male\",\"Female\"))\n",
    "cust_final$edcat <- factor(cust_final$edcat, levels = c(1,2,3,4,5), labels = c(\"Did not complete high school\",\"High school degree\",\"Some college\",\"College degree\",\"Post-undergraduate degree\"))\n",
    "cust_final$jobcat <- factor(cust_final$jobcat, levels= c(1,2,3,4,5,6), labels = c(\"Managerial and Professional\",\"Sales and Office\",\"Service\",\"Agricultural and Natural Resources\",\"Precision Production, Craft, Repair\",\"Operation, Fabrication, General Labor\"))\n",
    "cust_final$address <- as.factor(cust_final$address)\n",
    "cust_final$addresscat <-  factor(cust_final$addresscat, levels = c(1,2,3,4,5), labels = c(\"Less than 3\",\"4 to 7\",\"8 to 15\",\"16 to 25\",\"More than 25\"))\n",
    "cust_final$commutebike <- factor(cust_final$commutebike, levels = c(0,1), labels = c(\"No\",\"Yes\"))\n",
    "cust_final$card <- factor(cust_final$card, levels = c(1,2,3,4,5), labels = c(\"American Express\",\"Visa\",\"Mastercard\",\"Discover\",\"Other\"))\n",
    "cust_final$card2 <- factor(cust_final$card2, levels = c(1,2,3,4,5), labels = c(\"American Express\",\"Visa\",\"Mastercard\",\"Discover\",\"Other\"))\n",
    "cust_final$card2fee <- factor(cust_final$card2fee, levels = c(0,1), labels = c(\"No\",\"Yes\"))\n",
    "cust_final$multline <- factor(cust_final$multline, levels = c(0,1), labels = c(\"No\",\"Yes\"))\n",
    "cust_final$voice <- factor(cust_final$voice, levels = c(0,1), labels = c(\"No\",\"Yes\"))\n",
    "cust_final$internet <- factor(cust_final$internet, levels = c(0,1,2,3,4), labels = c(\"None\", \"Dia-up\",\"DSL\",\"Cable modem\",\"Other\"))\n",
    "cust_final$owndvd <- factor(cust_final$owndvd, levels = c(0,1), labels = c(\"No\",\"Yes\"))\n",
    "cust_final$response_03 <- factor(cust_final$response_03, levels = c(0,1), labels = c(\"No\",\"Yes\"))"
   ]
  },
  {
   "cell_type": "markdown",
   "metadata": {},
   "source": [
    "### Building the Regression model"
   ]
  },
  {
   "cell_type": "markdown",
   "metadata": {},
   "source": [
    "We now split the data as testing and training data randomly. This is generally referred to as ***_holdout_*** method mainly to avoid overfitting the model and also testing how well the model will work on unseen data"
   ]
  },
  {
   "cell_type": "markdown",
   "metadata": {},
   "source": [
    "#### Taking samples"
   ]
  },
  {
   "cell_type": "code",
   "execution_count": 27,
   "metadata": {},
   "outputs": [],
   "source": [
    "set.seed(654)\n",
    "samp <-  sample(1:nrow(cust_final),size = floor(nrow(cust_final)*0.7))\n",
    "cust_final$total_spent <- total_spent\n",
    "\n",
    "Dev <- cust_final[samp,] \n",
    "Test <- cust_final[-samp,] \n",
    "\n",
    "ts_dev <- Dev[,\"total_spent\"]\n",
    "Dev <- Dev[,-(\"total_spent\")]"
   ]
  },
  {
   "cell_type": "markdown",
   "metadata": {},
   "source": [
    "Here, we fit in the model that we obtained from stepwise regression"
   ]
  },
  {
   "cell_type": "code",
   "execution_count": 28,
   "metadata": {},
   "outputs": [
    {
     "data": {
      "text/plain": [
       "\n",
       "Call:\n",
       "lm(formula = total_spent_sqrt ~ age + income + lninc + creddebt + \n",
       "    longmon + cardmon + region + gender + edcat + jobcat + address + \n",
       "    addresscat + commutebike + card + card2 + card2fee + multline + \n",
       "    voice + internet + owndvd + response_03, data = Dev)\n",
       "\n",
       "Residuals:\n",
       "     Min       1Q   Median       3Q      Max \n",
       "-13.7382  -3.5196  -0.2044   3.2667  15.0348 \n",
       "\n",
       "Coefficients: (4 not defined because of singularities)\n",
       "                                             Estimate Std. Error t value\n",
       "(Intercept)                                 19.914601   1.267618  15.710\n",
       "age                                         -0.014831   0.009505  -1.560\n",
       "income                                       0.010178   0.007656   1.329\n",
       "lninc                                        2.747411   0.420624   6.532\n",
       "creddebt                                     0.125053   0.062458   2.002\n",
       "longmon                                      0.020285   0.012633   1.606\n",
       "cardmon                                     -0.010428   0.007572  -1.377\n",
       "regionzone 2                                 0.242982   0.264736   0.918\n",
       "regionzone 3                                -0.015165   0.260693  -0.058\n",
       "regionzone 4                                 0.126708   0.264249   0.480\n",
       "regionzone 5                                 0.544082   0.261527   2.080\n",
       "genderFemale                                -0.538662   0.166268  -3.240\n",
       "edcatHigh school degree                     -0.111692   0.251794  -0.444\n",
       "edcatSome college                           -0.159707   0.288530  -0.554\n",
       "edcatCollege degree                         -0.277095   0.299390  -0.926\n",
       "edcatPost-undergraduate degree              -0.940207   0.416219  -2.259\n",
       "jobcatSales and Office                      -0.156223   0.217242  -0.719\n",
       "jobcatService                               -0.231661   0.284220  -0.815\n",
       "jobcatAgricultural and Natural Resources    -0.741801   0.428278  -1.732\n",
       "jobcatPrecision Production, Craft, Repair   -0.377221   0.319781  -1.180\n",
       "jobcatOperation, Fabrication, General Labor -0.700518   0.280393  -2.498\n",
       "address1                                    -0.581216   0.578989  -1.004\n",
       "address2                                    -0.122323   0.549316  -0.223\n",
       "address3                                    -0.889867   0.599637  -1.484\n",
       "address4                                    -0.712724   0.566020  -1.259\n",
       "address5                                    -0.766698   0.593251  -1.292\n",
       "address6                                    -0.233588   0.617394  -0.378\n",
       "address7                                    -0.466780   0.639054  -0.730\n",
       "address8                                    -1.140151   0.619536  -1.840\n",
       "address9                                    -1.670183   0.648718  -2.575\n",
       "address10                                   -0.646644   0.656331  -0.985\n",
       "address11                                   -0.802145   0.688705  -1.165\n",
       "address12                                   -0.727379   0.651304  -1.117\n",
       "address13                                   -0.830554   0.707289  -1.174\n",
       "address14                                   -0.203240   0.666197  -0.305\n",
       "address15                                   -0.962452   0.711122  -1.353\n",
       "address16                                   -0.984333   0.730156  -1.348\n",
       "address17                                   -0.469801   0.740411  -0.635\n",
       "address18                                   -0.974875   0.729000  -1.337\n",
       "address19                                   -1.063642   0.756497  -1.406\n",
       "address20                                   -1.933704   0.803232  -2.407\n",
       "address21                                   -0.553037   0.756296  -0.731\n",
       "address22                                   -0.354072   0.809118  -0.438\n",
       "address23                                   -1.062226   0.786167  -1.351\n",
       "address24                                   -0.133365   0.857813  -0.155\n",
       "address25                                   -0.416557   0.802875  -0.519\n",
       "address26                                   -1.534008   0.873498  -1.756\n",
       "address27                                   -0.892818   0.825861  -1.081\n",
       "address28                                   -0.212361   0.829641  -0.256\n",
       "address29                                   -1.847836   0.869506  -2.125\n",
       "address30                                   -0.596902   0.889622  -0.671\n",
       "address31                                   -1.219512   0.875257  -1.393\n",
       "address32                                    0.879277   0.903545   0.973\n",
       "address33                                   -1.311903   0.980922  -1.337\n",
       "address34                                   -0.890342   1.025672  -0.868\n",
       "address35                                    0.398319   1.026821   0.388\n",
       "address36                                   -1.208901   1.113052  -1.086\n",
       "address37                                   -1.330761   1.134965  -1.173\n",
       "address38                                   -1.083371   1.051847  -1.030\n",
       "address39                                   -0.965641   1.103149  -0.875\n",
       "address40                                   -1.226111   1.109085  -1.106\n",
       "address41                                   -1.925743   1.337438  -1.440\n",
       "address42                                   -1.109474   1.246460  -0.890\n",
       "address43                                    0.106763   1.351811   0.079\n",
       "address44                                    0.616583   1.383745   0.446\n",
       "address45                                    1.244822   1.292768   0.963\n",
       "address46                                   -1.860581   1.490301  -1.248\n",
       "address47                                   -0.672085   1.553771  -0.433\n",
       "address48                                    0.170174   1.459230   0.117\n",
       "address49                                    2.498792   2.085337   1.198\n",
       "address50                                   -0.251950   3.503474  -0.072\n",
       "address51                                    3.371429   2.090908   1.612\n",
       "address52                                   -0.923887   2.524455  -0.366\n",
       "address53                                    2.719402   2.891634   0.940\n",
       "address55                                    1.651636   2.539332   0.650\n",
       "address57                                    1.670268   2.886315   0.579\n",
       "addresscat4 to 7                                   NA         NA      NA\n",
       "addresscat8 to 15                                  NA         NA      NA\n",
       "addresscat16 to 25                                 NA         NA      NA\n",
       "addresscatMore than 25                             NA         NA      NA\n",
       "commutebikeYes                              -0.225339   0.255142  -0.883\n",
       "cardVisa                                    -5.707000   0.265683 -21.480\n",
       "cardMastercard                              -5.908863   0.268804 -21.982\n",
       "cardDiscover                                -6.838424   0.272334 -25.110\n",
       "cardOther                                   -5.035414   0.455074 -11.065\n",
       "card2Visa                                   -3.901770   0.273519 -14.265\n",
       "card2Mastercard                             -3.668163   0.271804 -13.496\n",
       "card2Discover                               -4.194689   0.297017 -14.123\n",
       "card2Other                                  -2.968656   0.396594  -7.485\n",
       "card2feeYes                                 -0.526811   0.210909  -2.498\n",
       "multlineYes                                 -0.177006   0.202870  -0.873\n",
       "voiceYes                                    -0.397088   0.207332  -1.915\n",
       "internetDia-up                              -0.285991   0.249221  -1.148\n",
       "internetDSL                                 -0.036967   0.296539  -0.125\n",
       "internetCable modem                          0.636178   0.292554   2.175\n",
       "internetOther                                0.261679   0.306063   0.855\n",
       "owndvdYes                                    0.376516   0.325241   1.158\n",
       "response_03Yes                               0.105336   0.271031   0.389\n",
       "                                                        Pr(>|t|)    \n",
       "(Intercept)                                 < 0.0000000000000002 ***\n",
       "age                                                      0.11878    \n",
       "income                                                   0.18380    \n",
       "lninc                                         0.0000000000746785 ***\n",
       "creddebt                                                 0.04534 *  \n",
       "longmon                                                  0.10843    \n",
       "cardmon                                                  0.16854    \n",
       "regionzone 2                                             0.35877    \n",
       "regionzone 3                                             0.95362    \n",
       "regionzone 4                                             0.63161    \n",
       "regionzone 5                                             0.03756 *  \n",
       "genderFemale                                             0.00121 ** \n",
       "edcatHigh school degree                                  0.65737    \n",
       "edcatSome college                                        0.57994    \n",
       "edcatCollege degree                                      0.35475    \n",
       "edcatPost-undergraduate degree                           0.02395 *  \n",
       "jobcatSales and Office                                   0.47212    \n",
       "jobcatService                                            0.41509    \n",
       "jobcatAgricultural and Natural Resources                 0.08335 .  \n",
       "jobcatPrecision Production, Craft, Repair                0.23823    \n",
       "jobcatOperation, Fabrication, General Labor              0.01252 *  \n",
       "address1                                                 0.31552    \n",
       "address2                                                 0.82380    \n",
       "address3                                                 0.13790    \n",
       "address4                                                 0.20805    \n",
       "address5                                                 0.19632    \n",
       "address6                                                 0.70520    \n",
       "address7                                                 0.46518    \n",
       "address8                                                 0.06581 .  \n",
       "address9                                                 0.01008 *  \n",
       "address10                                                0.32458    \n",
       "address11                                                0.24422    \n",
       "address12                                                0.26416    \n",
       "address13                                                0.24037    \n",
       "address14                                                0.76033    \n",
       "address15                                                0.17601    \n",
       "address16                                                0.17771    \n",
       "address17                                                0.52579    \n",
       "address18                                                0.18122    \n",
       "address19                                                0.15981    \n",
       "address20                                                0.01612 *  \n",
       "address21                                                0.46468    \n",
       "address22                                                0.66170    \n",
       "address23                                                0.17674    \n",
       "address24                                                0.87646    \n",
       "address25                                                0.60391    \n",
       "address26                                                0.07915 .  \n",
       "address27                                                0.27974    \n",
       "address28                                                0.79799    \n",
       "address29                                                0.03365 *  \n",
       "address30                                                0.50229    \n",
       "address31                                                0.16361    \n",
       "address32                                                0.33055    \n",
       "address33                                                0.18118    \n",
       "address34                                                0.38542    \n",
       "address35                                                0.69810    \n",
       "address36                                                0.27751    \n",
       "address37                                                0.24107    \n",
       "address38                                                0.30310    \n",
       "address39                                                0.38145    \n",
       "address40                                                0.26901    \n",
       "address41                                                0.15000    \n",
       "address42                                                0.37348    \n",
       "address43                                                0.93705    \n",
       "address44                                                0.65592    \n",
       "address45                                                0.33566    \n",
       "address46                                                0.21195    \n",
       "address47                                                0.66537    \n",
       "address48                                                0.90717    \n",
       "address49                                                0.23090    \n",
       "address50                                                0.94267    \n",
       "address51                                                0.10696    \n",
       "address52                                                0.71441    \n",
       "address53                                                0.34706    \n",
       "address55                                                0.51546    \n",
       "address57                                                0.56284    \n",
       "addresscat4 to 7                                              NA    \n",
       "addresscat8 to 15                                             NA    \n",
       "addresscat16 to 25                                            NA    \n",
       "addresscatMore than 25                                        NA    \n",
       "commutebikeYes                                           0.37720    \n",
       "cardVisa                                    < 0.0000000000000002 ***\n",
       "cardMastercard                              < 0.0000000000000002 ***\n",
       "cardDiscover                                < 0.0000000000000002 ***\n",
       "cardOther                                   < 0.0000000000000002 ***\n",
       "card2Visa                                   < 0.0000000000000002 ***\n",
       "card2Mastercard                             < 0.0000000000000002 ***\n",
       "card2Discover                               < 0.0000000000000002 ***\n",
       "card2Other                                    0.0000000000000903 ***\n",
       "card2feeYes                                              0.01254 *  \n",
       "multlineYes                                              0.38299    \n",
       "voiceYes                                                 0.05555 .  \n",
       "internetDia-up                                           0.25124    \n",
       "internetDSL                                              0.90080    \n",
       "internetCable modem                                      0.02973 *  \n",
       "internetOther                                            0.39262    \n",
       "owndvdYes                                                0.24709    \n",
       "response_03Yes                                           0.69756    \n",
       "---\n",
       "Signif. codes:  0 '***' 0.001 '**' 0.01 '*' 0.05 '.' 0.1 ' ' 1\n",
       "\n",
       "Residual standard error: 4.836 on 3404 degrees of freedom\n",
       "Multiple R-squared:  0.3546,\tAdjusted R-squared:  0.337 \n",
       "F-statistic: 20.11 on 93 and 3404 DF,  p-value: < 0.00000000000000022\n"
      ]
     },
     "metadata": {},
     "output_type": "display_data"
    }
   ],
   "source": [
    "fit2 <- lm(formula = total_spent_sqrt ~ age + income + lninc + creddebt + \n",
    "             longmon + cardmon + region + gender + edcat + jobcat + address + \n",
    "             addresscat + commutebike + card + card2 + card2fee + multline + \n",
    "             voice + internet + owndvd + response_03, data = Dev)\n",
    "summary(fit2)"
   ]
  },
  {
   "cell_type": "markdown",
   "metadata": {},
   "source": [
    "By removing those variables that are insignificant, we get"
   ]
  },
  {
   "cell_type": "code",
   "execution_count": 29,
   "metadata": {
    "scrolled": true
   },
   "outputs": [
    {
     "data": {
      "text/plain": [
       "\n",
       "Call:\n",
       "lm(formula = total_spent_sqrt ~ lninc + creddebt + region + gender + \n",
       "    edcat + jobcat + card + card2 + card2fee + voice + response_03, \n",
       "    data = Dev)\n",
       "\n",
       "Residuals:\n",
       "     Min       1Q   Median       3Q      Max \n",
       "-14.0322  -3.4987  -0.2634   3.2855  14.7520 \n",
       "\n",
       "Coefficients:\n",
       "                                             Estimate Std. Error t value\n",
       "(Intercept)                                 18.136585   0.679098  26.707\n",
       "lninc                                        3.074851   0.154876  19.854\n",
       "creddebt                                     0.135216   0.060892   2.221\n",
       "regionzone 2                                 0.309713   0.261210   1.186\n",
       "regionzone 3                                 0.006137   0.258817   0.024\n",
       "regionzone 4                                 0.203894   0.262512   0.777\n",
       "regionzone 5                                 0.525003   0.258771   2.029\n",
       "genderFemale                                -0.547168   0.165133  -3.314\n",
       "edcatHigh school degree                     -0.052306   0.244311  -0.214\n",
       "edcatSome college                           -0.111149   0.274926  -0.404\n",
       "edcatCollege degree                         -0.192400   0.278549  -0.691\n",
       "edcatPost-undergraduate degree              -0.844285   0.393834  -2.144\n",
       "jobcatSales and Office                      -0.197124   0.215305  -0.916\n",
       "jobcatService                               -0.253447   0.281019  -0.902\n",
       "jobcatAgricultural and Natural Resources    -0.676234   0.422828  -1.599\n",
       "jobcatPrecision Production, Craft, Repair   -0.248592   0.315585  -0.788\n",
       "jobcatOperation, Fabrication, General Labor -0.657255   0.274300  -2.396\n",
       "cardVisa                                    -5.752421   0.263286 -21.849\n",
       "cardMastercard                              -5.931761   0.266912 -22.224\n",
       "cardDiscover                                -6.824790   0.270367 -25.243\n",
       "cardOther                                   -5.041148   0.451533 -11.165\n",
       "card2Visa                                   -3.874907   0.271507 -14.272\n",
       "card2Mastercard                             -3.638932   0.269690 -13.493\n",
       "card2Discover                               -4.174183   0.294998 -14.150\n",
       "card2Other                                  -3.010405   0.393545  -7.649\n",
       "card2feeYes                                 -0.510885   0.209780  -2.435\n",
       "voiceYes                                    -0.408301   0.190630  -2.142\n",
       "response_03Yes                               0.094334   0.268186   0.352\n",
       "                                                        Pr(>|t|)    \n",
       "(Intercept)                                 < 0.0000000000000002 ***\n",
       "lninc                                       < 0.0000000000000002 ***\n",
       "creddebt                                                0.026444 *  \n",
       "regionzone 2                                            0.235827    \n",
       "regionzone 3                                            0.981084    \n",
       "regionzone 4                                            0.437386    \n",
       "regionzone 5                                            0.042552 *  \n",
       "genderFemale                                            0.000931 ***\n",
       "edcatHigh school degree                                 0.830483    \n",
       "edcatSome college                                       0.686027    \n",
       "edcatCollege degree                                     0.489785    \n",
       "edcatPost-undergraduate degree                          0.032122 *  \n",
       "jobcatSales and Office                                  0.359964    \n",
       "jobcatService                                           0.367180    \n",
       "jobcatAgricultural and Natural Resources                0.109842    \n",
       "jobcatPrecision Production, Craft, Repair               0.430914    \n",
       "jobcatOperation, Fabrication, General Labor             0.016622 *  \n",
       "cardVisa                                    < 0.0000000000000002 ***\n",
       "cardMastercard                              < 0.0000000000000002 ***\n",
       "cardDiscover                                < 0.0000000000000002 ***\n",
       "cardOther                                   < 0.0000000000000002 ***\n",
       "card2Visa                                   < 0.0000000000000002 ***\n",
       "card2Mastercard                             < 0.0000000000000002 ***\n",
       "card2Discover                               < 0.0000000000000002 ***\n",
       "card2Other                                     0.000000000000026 ***\n",
       "card2feeYes                                             0.014928 *  \n",
       "voiceYes                                                0.032275 *  \n",
       "response_03Yes                                          0.725047    \n",
       "---\n",
       "Signif. codes:  0 '***' 0.001 '**' 0.01 '*' 0.05 '.' 0.1 ' ' 1\n",
       "\n",
       "Residual standard error: 4.846 on 3470 degrees of freedom\n",
       "Multiple R-squared:  0.3394,\tAdjusted R-squared:  0.3342 \n",
       "F-statistic: 66.03 on 27 and 3470 DF,  p-value: < 0.00000000000000022\n"
      ]
     },
     "metadata": {},
     "output_type": "display_data"
    }
   ],
   "source": [
    "fit3 <- lm(formula = total_spent_sqrt ~ lninc + creddebt + \n",
    "             region + gender + edcat + jobcat + \n",
    "             card + card2 + card2fee + \n",
    "             voice + response_03, data = Dev)\n",
    "summary(fit3)"
   ]
  },
  {
   "cell_type": "markdown",
   "metadata": {},
   "source": [
    "Now we identify influential observations and remove them, else we risk overfitting the model"
   ]
  },
  {
   "cell_type": "code",
   "execution_count": 30,
   "metadata": {},
   "outputs": [
    {
     "data": {
      "image/png": "[encoded data removed]",
      "text/plain": [
       "Plot with title \"\""
      ]
     },
     "metadata": {},
     "output_type": "display_data"
    }
   ],
   "source": [
    "plot(fit3, pch = 18, which = c(4))\n",
    "Dev$CD <- cooks.distance(fit3)\n",
    "Dev1 <- Dev[CD<(4/3498)]"
   ]
  },
  {
   "cell_type": "markdown",
   "metadata": {},
   "source": [
    "Now we run the regression model again"
   ]
  },
  {
   "cell_type": "code",
   "execution_count": 31,
   "metadata": {
    "scrolled": true
   },
   "outputs": [
    {
     "data": {
      "text/plain": [
       "\n",
       "Call:\n",
       "lm(formula = total_spent_sqrt ~ lninc + creddebt + region + gender + \n",
       "    edcat + jobcat + card + card2 + card2fee + voice + response_03, \n",
       "    data = Dev1)\n",
       "\n",
       "Residuals:\n",
       "     Min       1Q   Median       3Q      Max \n",
       "-11.3372  -3.3019  -0.1292   3.2100  11.5625 \n",
       "\n",
       "Coefficients:\n",
       "                                            Estimate Std. Error t value\n",
       "(Intercept)                                 18.16784    0.63401  28.656\n",
       "lninc                                        3.19150    0.14485  22.033\n",
       "creddebt                                     0.11593    0.05739   2.020\n",
       "regionzone 2                                 0.22698    0.24122   0.941\n",
       "regionzone 3                                -0.11936    0.23959  -0.498\n",
       "regionzone 4                                 0.14206    0.24256   0.586\n",
       "regionzone 5                                 0.51691    0.23915   2.161\n",
       "genderFemale                                -0.54128    0.15318  -3.534\n",
       "edcatHigh school degree                     -0.06973    0.22648  -0.308\n",
       "edcatSome college                           -0.16028    0.25465  -0.629\n",
       "edcatCollege degree                         -0.20122    0.25859  -0.778\n",
       "edcatPost-undergraduate degree              -1.10277    0.36998  -2.981\n",
       "jobcatSales and Office                      -0.16044    0.19848  -0.808\n",
       "jobcatService                               -0.38016    0.26269  -1.447\n",
       "jobcatAgricultural and Natural Resources    -0.71137    0.39719  -1.791\n",
       "jobcatPrecision Production, Craft, Repair   -0.31507    0.29348  -1.074\n",
       "jobcatOperation, Fabrication, General Labor -0.73153    0.25416  -2.878\n",
       "cardVisa                                    -6.05843    0.24353 -24.878\n",
       "cardMastercard                              -6.34188    0.24698 -25.678\n",
       "cardDiscover                                -7.11375    0.24992 -28.464\n",
       "cardOther                                   -5.51934    0.42823 -12.889\n",
       "card2Visa                                   -4.13422    0.25270 -16.360\n",
       "card2Mastercard                             -3.84344    0.25155 -15.279\n",
       "card2Discover                               -4.41878    0.27459 -16.092\n",
       "card2Other                                  -3.02892    0.36514  -8.295\n",
       "card2feeYes                                 -0.59013    0.19472  -3.031\n",
       "voiceYes                                    -0.44392    0.17720  -2.505\n",
       "response_03Yes                               0.02145    0.25093   0.085\n",
       "                                                        Pr(>|t|)    \n",
       "(Intercept)                                 < 0.0000000000000002 ***\n",
       "lninc                                       < 0.0000000000000002 ***\n",
       "creddebt                                                0.043435 *  \n",
       "regionzone 2                                            0.346792    \n",
       "regionzone 3                                            0.618396    \n",
       "regionzone 4                                            0.558134    \n",
       "regionzone 5                                            0.030733 *  \n",
       "genderFemale                                            0.000415 ***\n",
       "edcatHigh school degree                                 0.758207    \n",
       "edcatSome college                                       0.529129    \n",
       "edcatCollege degree                                     0.436533    \n",
       "edcatPost-undergraduate degree                          0.002898 ** \n",
       "jobcatSales and Office                                  0.418934    \n",
       "jobcatService                                           0.147941    \n",
       "jobcatAgricultural and Natural Resources                0.073379 .  \n",
       "jobcatPrecision Production, Craft, Repair               0.283094    \n",
       "jobcatOperation, Fabrication, General Labor             0.004025 ** \n",
       "cardVisa                                    < 0.0000000000000002 ***\n",
       "cardMastercard                              < 0.0000000000000002 ***\n",
       "cardDiscover                                < 0.0000000000000002 ***\n",
       "cardOther                                   < 0.0000000000000002 ***\n",
       "card2Visa                                   < 0.0000000000000002 ***\n",
       "card2Mastercard                             < 0.0000000000000002 ***\n",
       "card2Discover                               < 0.0000000000000002 ***\n",
       "card2Other                                  < 0.0000000000000002 ***\n",
       "card2feeYes                                             0.002459 ** \n",
       "voiceYes                                                0.012286 *  \n",
       "response_03Yes                                          0.931879    \n",
       "---\n",
       "Signif. codes:  0 '***' 0.001 '**' 0.01 '*' 0.05 '.' 0.1 ' ' 1\n",
       "\n",
       "Residual standard error: 4.397 on 3326 degrees of freedom\n",
       "Multiple R-squared:  0.4062,\tAdjusted R-squared:  0.4013 \n",
       "F-statistic: 84.25 on 27 and 3326 DF,  p-value: < 0.00000000000000022\n"
      ]
     },
     "metadata": {},
     "output_type": "display_data"
    }
   ],
   "source": [
    "fit4 <- lm(formula = total_spent_sqrt ~ lninc + creddebt + \n",
    "             region + gender + edcat + jobcat + \n",
    "             card + card2 + card2fee + \n",
    "             voice + response_03, data = Dev1)\n",
    "summary(fit4)"
   ]
  },
  {
   "cell_type": "markdown",
   "metadata": {},
   "source": [
    "We check for influential observations again"
   ]
  },
  {
   "cell_type": "code",
   "execution_count": 32,
   "metadata": {
    "scrolled": false
   },
   "outputs": [
    {
     "data": {
      "image/png": "[encoded data removed]",
      "text/plain": [
       "Plot with title \"\""
      ]
     },
     "metadata": {},
     "output_type": "display_data"
    }
   ],
   "source": [
    "plot(fit4, pch = 18, which = c(4))\n",
    "Dev1$CD <- cooks.distance(fit4)\n",
    "Dev2 <- Dev1[CD<(4/3354)]"
   ]
  },
  {
   "cell_type": "markdown",
   "metadata": {},
   "source": [
    "As there were still more influential observations, we remove them too.\n",
    "\n",
    "***NOTE:*** The value of ratio between 4 and the number of observations is an arbitrary value that has seen to work best in removing the influential variables"
   ]
  },
  {
   "cell_type": "markdown",
   "metadata": {},
   "source": [
    "We build another regression model with the remaining data"
   ]
  },
  {
   "cell_type": "code",
   "execution_count": 33,
   "metadata": {
    "scrolled": true
   },
   "outputs": [
    {
     "data": {
      "text/plain": [
       "\n",
       "Call:\n",
       "lm(formula = total_spent_sqrt ~ lninc + creddebt + region + gender + \n",
       "    edcat + jobcat + card + card2 + card2fee + voice + response_03, \n",
       "    data = Dev2)\n",
       "\n",
       "Residuals:\n",
       "     Min       1Q   Median       3Q      Max \n",
       "-10.4713  -3.1848  -0.1047   3.1514  11.4202 \n",
       "\n",
       "Coefficients:\n",
       "                                            Estimate Std. Error t value\n",
       "(Intercept)                                 17.99482    0.61487  29.266\n",
       "lninc                                        3.23784    0.14071  23.011\n",
       "creddebt                                     0.12499    0.05556   2.249\n",
       "regionzone 2                                 0.22841    0.23280   0.981\n",
       "regionzone 3                                -0.26173    0.23113  -1.132\n",
       "regionzone 4                                 0.05624    0.23415   0.240\n",
       "regionzone 5                                 0.47263    0.23066   2.049\n",
       "genderFemale                                -0.58629    0.14810  -3.959\n",
       "edcatHigh school degree                     -0.06819    0.21887  -0.312\n",
       "edcatSome college                           -0.08867    0.24611  -0.360\n",
       "edcatCollege degree                         -0.08918    0.24956  -0.357\n",
       "edcatPost-undergraduate degree              -1.33551    0.35903  -3.720\n",
       "jobcatSales and Office                       0.01427    0.19145   0.075\n",
       "jobcatService                               -0.53053    0.25478  -2.082\n",
       "jobcatAgricultural and Natural Resources    -0.74773    0.39019  -1.916\n",
       "jobcatPrecision Production, Craft, Repair   -0.23939    0.28374  -0.844\n",
       "jobcatOperation, Fabrication, General Labor -0.72627    0.24518  -2.962\n",
       "cardVisa                                    -6.05214    0.23469 -25.787\n",
       "cardMastercard                              -6.34611    0.23779 -26.688\n",
       "cardDiscover                                -7.10169    0.24093 -29.476\n",
       "cardOther                                   -5.70619    0.42073 -13.563\n",
       "card2Visa                                   -4.29022    0.24458 -17.541\n",
       "card2Mastercard                             -3.93765    0.24368 -16.159\n",
       "card2Discover                               -4.48724    0.26513 -16.925\n",
       "card2Other                                  -3.21391    0.35686  -9.006\n",
       "card2feeYes                                 -0.57711    0.18822  -3.066\n",
       "voiceYes                                    -0.47786    0.17112  -2.792\n",
       "response_03Yes                               0.16395    0.24331   0.674\n",
       "                                                        Pr(>|t|)    \n",
       "(Intercept)                                 < 0.0000000000000002 ***\n",
       "lninc                                       < 0.0000000000000002 ***\n",
       "creddebt                                                0.024549 *  \n",
       "regionzone 2                                            0.326596    \n",
       "regionzone 3                                            0.257542    \n",
       "regionzone 4                                            0.810190    \n",
       "regionzone 5                                            0.040539 *  \n",
       "genderFemale                                            0.000077 ***\n",
       "edcatHigh school degree                                 0.755413    \n",
       "edcatSome college                                       0.718654    \n",
       "edcatCollege degree                                     0.720863    \n",
       "edcatPost-undergraduate degree                          0.000203 ***\n",
       "jobcatSales and Office                                  0.940572    \n",
       "jobcatService                                           0.037389 *  \n",
       "jobcatAgricultural and Natural Resources                0.055414 .  \n",
       "jobcatPrecision Production, Craft, Repair               0.398901    \n",
       "jobcatOperation, Fabrication, General Labor             0.003077 ** \n",
       "cardVisa                                    < 0.0000000000000002 ***\n",
       "cardMastercard                              < 0.0000000000000002 ***\n",
       "cardDiscover                                < 0.0000000000000002 ***\n",
       "cardOther                                   < 0.0000000000000002 ***\n",
       "card2Visa                                   < 0.0000000000000002 ***\n",
       "card2Mastercard                             < 0.0000000000000002 ***\n",
       "card2Discover                               < 0.0000000000000002 ***\n",
       "card2Other                                  < 0.0000000000000002 ***\n",
       "card2feeYes                                             0.002186 ** \n",
       "voiceYes                                                0.005262 ** \n",
       "response_03Yes                                          0.500481    \n",
       "---\n",
       "Signif. codes:  0 '***' 0.001 '**' 0.01 '*' 0.05 '.' 0.1 ' ' 1\n",
       "\n",
       "Residual standard error: 4.191 on 3235 degrees of freedom\n",
       "Multiple R-squared:  0.4375,\tAdjusted R-squared:  0.4328 \n",
       "F-statistic: 93.17 on 27 and 3235 DF,  p-value: < 0.00000000000000022\n"
      ]
     },
     "metadata": {},
     "output_type": "display_data"
    }
   ],
   "source": [
    "fit5 <- lm(formula = total_spent_sqrt ~ lninc + creddebt + \n",
    "             region + gender + edcat + jobcat + \n",
    "             card + card2 + card2fee + \n",
    "             voice + response_03, data = Dev2)\n",
    "summary(fit5)"
   ]
  },
  {
   "cell_type": "code",
   "execution_count": 34,
   "metadata": {},
   "outputs": [
    {
     "data": {
      "image/png": "[encoded data removed]",
      "text/plain": [
       "Plot with title \"\""
      ]
     },
     "metadata": {},
     "output_type": "display_data"
    }
   ],
   "source": [
    "plot(fit5, pch = 18, which = c(4))"
   ]
  },
  {
   "cell_type": "markdown",
   "metadata": {},
   "source": [
    "This does not have many outliers that will drastically impact the model, thus we assume this model to have overcome the problem of outliers"
   ]
  },
  {
   "cell_type": "markdown",
   "metadata": {},
   "source": [
    "Now we test for the Multicollinearity in the data. Variance Inflation Factor (VIF) is the measure for that."
   ]
  },
  {
   "cell_type": "code",
   "execution_count": 36,
   "metadata": {
    "scrolled": true
   },
   "outputs": [
    {
     "data": {
      "text/html": [
       "<table>\n",
       "<thead><tr><th></th><th scope=col>GVIF</th><th scope=col>Df</th><th scope=col>GVIF^(1/(2*Df))</th></tr></thead>\n",
       "<tbody>\n",
       "\t<tr><th scope=row>lninc</th><td>1.679257</td><td>1       </td><td>1.295862</td></tr>\n",
       "\t<tr><th scope=row>creddebt</th><td>1.548939</td><td>1       </td><td>1.244564</td></tr>\n",
       "\t<tr><th scope=row>region</th><td>1.031660</td><td>4       </td><td>1.003904</td></tr>\n",
       "\t<tr><th scope=row>gender</th><td>1.017449</td><td>1       </td><td>1.008687</td></tr>\n",
       "\t<tr><th scope=row>edcat</th><td>1.307938</td><td>4       </td><td>1.034126</td></tr>\n",
       "\t<tr><th scope=row>jobcat</th><td>1.081132</td><td>5       </td><td>1.007831</td></tr>\n",
       "\t<tr><th scope=row>card</th><td>1.867058</td><td>4       </td><td>1.081172</td></tr>\n",
       "\t<tr><th scope=row>card2</th><td>1.763097</td><td>4       </td><td>1.073457</td></tr>\n",
       "\t<tr><th scope=row>card2fee</th><td>1.010695</td><td>1       </td><td>1.005333</td></tr>\n",
       "\t<tr><th scope=row>voice</th><td>1.139749</td><td>1       </td><td>1.067590</td></tr>\n",
       "\t<tr><th scope=row>response_03</th><td>1.025998</td><td>1       </td><td>1.012916</td></tr>\n",
       "</tbody>\n",
       "</table>\n"
      ],
      "text/latex": [
       "\\begin{tabular}{r|lll}\n",
       "  & GVIF & Df & GVIF\\textasciicircum{}(1/(2*Df))\\\\\n",
       "\\hline\n",
       "\tlninc & 1.679257 & 1        & 1.295862\\\\\n",
       "\tcreddebt & 1.548939 & 1        & 1.244564\\\\\n",
       "\tregion & 1.031660 & 4        & 1.003904\\\\\n",
       "\tgender & 1.017449 & 1        & 1.008687\\\\\n",
       "\tedcat & 1.307938 & 4        & 1.034126\\\\\n",
       "\tjobcat & 1.081132 & 5        & 1.007831\\\\\n",
       "\tcard & 1.867058 & 4        & 1.081172\\\\\n",
       "\tcard2 & 1.763097 & 4        & 1.073457\\\\\n",
       "\tcard2fee & 1.010695 & 1        & 1.005333\\\\\n",
       "\tvoice & 1.139749 & 1        & 1.067590\\\\\n",
       "\tresponse\\_03 & 1.025998 & 1        & 1.012916\\\\\n",
       "\\end{tabular}\n"
      ],
      "text/markdown": [
       "\n",
       "| <!--/--> | GVIF | Df | GVIF^(1/(2*Df)) |\n",
       "|---|---|---|---|\n",
       "| lninc | 1.679257 | 1        | 1.295862 |\n",
       "| creddebt | 1.548939 | 1        | 1.244564 |\n",
       "| region | 1.031660 | 4        | 1.003904 |\n",
       "| gender | 1.017449 | 1        | 1.008687 |\n",
       "| edcat | 1.307938 | 4        | 1.034126 |\n",
       "| jobcat | 1.081132 | 5        | 1.007831 |\n",
       "| card | 1.867058 | 4        | 1.081172 |\n",
       "| card2 | 1.763097 | 4        | 1.073457 |\n",
       "| card2fee | 1.010695 | 1        | 1.005333 |\n",
       "| voice | 1.139749 | 1        | 1.067590 |\n",
       "| response_03 | 1.025998 | 1        | 1.012916 |\n",
       "\n"
      ],
      "text/plain": [
       "            GVIF     Df GVIF^(1/(2*Df))\n",
       "lninc       1.679257 1  1.295862       \n",
       "creddebt    1.548939 1  1.244564       \n",
       "region      1.031660 4  1.003904       \n",
       "gender      1.017449 1  1.008687       \n",
       "edcat       1.307938 4  1.034126       \n",
       "jobcat      1.081132 5  1.007831       \n",
       "card        1.867058 4  1.081172       \n",
       "card2       1.763097 4  1.073457       \n",
       "card2fee    1.010695 1  1.005333       \n",
       "voice       1.139749 1  1.067590       \n",
       "response_03 1.025998 1  1.012916       "
      ]
     },
     "metadata": {},
     "output_type": "display_data"
    },
    {
     "data": {
      "text/html": [
       "<table>\n",
       "<thead><tr><th></th><th scope=col>GVIF</th><th scope=col>Df</th><th scope=col>GVIF^(1/(2*Df))</th></tr></thead>\n",
       "<tbody>\n",
       "\t<tr><th scope=row>lninc</th><td>0.5955014</td><td>1.00     </td><td>0.7716874</td></tr>\n",
       "\t<tr><th scope=row>creddebt</th><td>0.6456032</td><td>1.00     </td><td>0.8034943</td></tr>\n",
       "\t<tr><th scope=row>region</th><td>0.9693118</td><td>0.25     </td><td>0.9961115</td></tr>\n",
       "\t<tr><th scope=row>gender</th><td>0.9828506</td><td>1.00     </td><td>0.9913882</td></tr>\n",
       "\t<tr><th scope=row>edcat</th><td>0.7645621</td><td>0.25     </td><td>0.9670003</td></tr>\n",
       "\t<tr><th scope=row>jobcat</th><td>0.9249561</td><td>0.20     </td><td>0.9922295</td></tr>\n",
       "\t<tr><th scope=row>card</th><td>0.5356019</td><td>0.25     </td><td>0.9249223</td></tr>\n",
       "\t<tr><th scope=row>card2</th><td>0.5671837</td><td>0.25     </td><td>0.9315699</td></tr>\n",
       "\t<tr><th scope=row>card2fee</th><td>0.9894178</td><td>1.00     </td><td>0.9946948</td></tr>\n",
       "\t<tr><th scope=row>voice</th><td>0.8773864</td><td>1.00     </td><td>0.9366891</td></tr>\n",
       "\t<tr><th scope=row>response_03</th><td>0.9746606</td><td>1.00     </td><td>0.9872490</td></tr>\n",
       "</tbody>\n",
       "</table>\n"
      ],
      "text/latex": [
       "\\begin{tabular}{r|lll}\n",
       "  & GVIF & Df & GVIF\\textasciicircum{}(1/(2*Df))\\\\\n",
       "\\hline\n",
       "\tlninc & 0.5955014 & 1.00      & 0.7716874\\\\\n",
       "\tcreddebt & 0.6456032 & 1.00      & 0.8034943\\\\\n",
       "\tregion & 0.9693118 & 0.25      & 0.9961115\\\\\n",
       "\tgender & 0.9828506 & 1.00      & 0.9913882\\\\\n",
       "\tedcat & 0.7645621 & 0.25      & 0.9670003\\\\\n",
       "\tjobcat & 0.9249561 & 0.20      & 0.9922295\\\\\n",
       "\tcard & 0.5356019 & 0.25      & 0.9249223\\\\\n",
       "\tcard2 & 0.5671837 & 0.25      & 0.9315699\\\\\n",
       "\tcard2fee & 0.9894178 & 1.00      & 0.9946948\\\\\n",
       "\tvoice & 0.8773864 & 1.00      & 0.9366891\\\\\n",
       "\tresponse\\_03 & 0.9746606 & 1.00      & 0.9872490\\\\\n",
       "\\end{tabular}\n"
      ],
      "text/markdown": [
       "\n",
       "| <!--/--> | GVIF | Df | GVIF^(1/(2*Df)) |\n",
       "|---|---|---|---|\n",
       "| lninc | 0.5955014 | 1.00      | 0.7716874 |\n",
       "| creddebt | 0.6456032 | 1.00      | 0.8034943 |\n",
       "| region | 0.9693118 | 0.25      | 0.9961115 |\n",
       "| gender | 0.9828506 | 1.00      | 0.9913882 |\n",
       "| edcat | 0.7645621 | 0.25      | 0.9670003 |\n",
       "| jobcat | 0.9249561 | 0.20      | 0.9922295 |\n",
       "| card | 0.5356019 | 0.25      | 0.9249223 |\n",
       "| card2 | 0.5671837 | 0.25      | 0.9315699 |\n",
       "| card2fee | 0.9894178 | 1.00      | 0.9946948 |\n",
       "| voice | 0.8773864 | 1.00      | 0.9366891 |\n",
       "| response_03 | 0.9746606 | 1.00      | 0.9872490 |\n",
       "\n"
      ],
      "text/plain": [
       "            GVIF      Df   GVIF^(1/(2*Df))\n",
       "lninc       0.5955014 1.00 0.7716874      \n",
       "creddebt    0.6456032 1.00 0.8034943      \n",
       "region      0.9693118 0.25 0.9961115      \n",
       "gender      0.9828506 1.00 0.9913882      \n",
       "edcat       0.7645621 0.25 0.9670003      \n",
       "jobcat      0.9249561 0.20 0.9922295      \n",
       "card        0.5356019 0.25 0.9249223      \n",
       "card2       0.5671837 0.25 0.9315699      \n",
       "card2fee    0.9894178 1.00 0.9946948      \n",
       "voice       0.8773864 1.00 0.9366891      \n",
       "response_03 0.9746606 1.00 0.9872490      "
      ]
     },
     "metadata": {},
     "output_type": "display_data"
    }
   ],
   "source": [
    "library(car)\n",
    "(VIF <- car::vif(fit4))\n",
    "(tolerance <- 1/VIF)\n"
   ]
  },
  {
   "cell_type": "markdown",
   "metadata": {},
   "source": [
    "VIF of all variables into consideration are below 5 and the tolerance level for all the levels are above the required 0.2."
   ]
  },
  {
   "cell_type": "markdown",
   "metadata": {},
   "source": [
    "We remove the same influential observations from the main target variable "
   ]
  },
  {
   "cell_type": "code",
   "execution_count": 37,
   "metadata": {},
   "outputs": [],
   "source": [
    "ts_dev <- ts_dev[Dev$CD<(4/3498)]\n",
    "ts_dev <- ts_dev[Dev1$CD<(4/3354)]"
   ]
  },
  {
   "cell_type": "markdown",
   "metadata": {},
   "source": [
    "The final predicted values are added to the dataset"
   ]
  },
  {
   "cell_type": "code",
   "execution_count": 38,
   "metadata": {},
   "outputs": [],
   "source": [
    "dev_final <- data.frame(cbind(Dev2,ts_dev,pred_sq = predict(fit5, newdata=Dev2)))\n",
    "dev_final$pred <- (dev_final$pred_sq)^2"
   ]
  },
  {
   "cell_type": "markdown",
   "metadata": {},
   "source": [
    "We do the same now for ***Testing data***"
   ]
  },
  {
   "cell_type": "code",
   "execution_count": 40,
   "metadata": {
    "scrolled": true
   },
   "outputs": [],
   "source": [
    "val1 <- data.frame(cbind(Test, pred_sq = predict(fit5, newdata=Test)))\n",
    "val1$pred <- (val1$pred_sq)^2"
   ]
  },
  {
   "cell_type": "markdown",
   "metadata": {},
   "source": [
    "#### MODEL ACCURACY AND PERFORMANCE TEST"
   ]
  },
  {
   "cell_type": "markdown",
   "metadata": {},
   "source": [
    "**Mean Actual Percentage Error (MAPE)**"
   ]
  },
  {
   "cell_type": "code",
   "execution_count": 41,
   "metadata": {},
   "outputs": [
    {
     "data": {
      "text/html": [
       "<dl class=dl-horizontal>\n",
       "\t<dt>Dev</dt>\n",
       "\t\t<dd>0.393283640719207</dd>\n",
       "\t<dt>Val</dt>\n",
       "\t\t<dd>0.422288841861191</dd>\n",
       "</dl>\n"
      ],
      "text/latex": [
       "\\begin{description*}\n",
       "\\item[Dev] 0.393283640719207\n",
       "\\item[Val] 0.422288841861191\n",
       "\\end{description*}\n"
      ],
      "text/markdown": [
       "Dev\n",
       ":   0.393283640719207Val\n",
       ":   0.422288841861191\n",
       "\n"
      ],
      "text/plain": [
       "      Dev       Val \n",
       "0.3932836 0.4222888 "
      ]
     },
     "metadata": {},
     "output_type": "display_data"
    }
   ],
   "source": [
    "m1 <- DescTools::MAPE(x=dev_final$pred,dev_final$total_spent)\n",
    "m2 <- DescTools::MAPE(x=val1$pred,val1$total_spent)\n",
    "c(Dev = m1, Val = m2)"
   ]
  },
  {
   "cell_type": "markdown",
   "metadata": {},
   "source": [
    "The MAPE values here are simmilar, proving that the model is good"
   ]
  },
  {
   "cell_type": "markdown",
   "metadata": {},
   "source": [
    "**Root Mean Square of Error (RMSE)**"
   ]
  },
  {
   "cell_type": "code",
   "execution_count": 42,
   "metadata": {},
   "outputs": [
    {
     "data": {
      "text/html": [
       "<dl class=dl-horizontal>\n",
       "\t<dt>Dev</dt>\n",
       "\t\t<dd>181.925744045662</dd>\n",
       "\t<dt>Val</dt>\n",
       "\t\t<dd>222.763900214767</dd>\n",
       "\t<dt>Range</dt>\n",
       "\t\t<dd>1095.6385</dd>\n",
       "</dl>\n"
      ],
      "text/latex": [
       "\\begin{description*}\n",
       "\\item[Dev] 181.925744045662\n",
       "\\item[Val] 222.763900214767\n",
       "\\item[Range] 1095.6385\n",
       "\\end{description*}\n"
      ],
      "text/markdown": [
       "Dev\n",
       ":   181.925744045662Val\n",
       ":   222.763900214767Range\n",
       ":   1095.6385\n",
       "\n"
      ],
      "text/plain": [
       "      Dev       Val     Range \n",
       " 181.9257  222.7639 1095.6385 "
      ]
     },
     "metadata": {},
     "output_type": "display_data"
    }
   ],
   "source": [
    "m1 <- DescTools::RMSE(x=dev_final$pred,dev_final$total_spent)\n",
    "m2 <- DescTools::RMSE(x=val1$pred,val1$total_spent)\n",
    "m3 <- max(cust_final$total_spent)-min(cust_final$total_spent)\n",
    "c(Dev = m1, Val = m2, Range = m3)"
   ]
  },
  {
   "cell_type": "markdown",
   "metadata": {},
   "source": [
    "The RMSE is also similar, given that the range of the variable is 1095 and the difference is only 9 and the value is less. These measures have proven the model is a good fit. But for a final confirmation, we do decile analysis"
   ]
  },
  {
   "cell_type": "markdown",
   "metadata": {},
   "source": [
    "**Decile Analysis**"
   ]
  },
  {
   "cell_type": "code",
   "execution_count": 43,
   "metadata": {},
   "outputs": [
    {
     "data": {
      "image/png": "[encoded data removed]",
      "text/plain": [
       "plot without title"
      ]
     },
     "metadata": {},
     "output_type": "display_data"
    }
   ],
   "source": [
    "#Decile analysis Training data\n",
    "decLocations <- quantile(dev_final$pred, probs = seq(0.1,0.9,by=0.1))\n",
    "dev_final$decile <- findInterval(dev_final$pred,c(-Inf,decLocations, Inf))\n",
    "dev_final$spen <- dev_final$total_spent\n",
    "\n",
    "dev_decile <- dev_final %>% group_by(decile) %>% \n",
    "  summarise(count = n(),\n",
    "            avg_pred_spend = mean(pred),\n",
    "            avg_spend = mean(spen)\n",
    "  )%>% \n",
    "  dplyr::arrange(desc(decile))\n",
    "\n",
    "\n",
    "require(ggplot2)\n",
    "Decile_Plot <- ggplot(dev_decile)+aes(x = reorder(factor(decile),-decile),y = avg_pred_spend) +\n",
    "  geom_bar(stat = \"identity\",fill = \"cornflowerblue\")+\n",
    "  ggtitle(\"Development data decile analysis\")+\n",
    "  xlab(\"Deciles\")+\n",
    "  ylab(\"Average Predicted Spend\")\n",
    "\n",
    "plot(Decile_Plot)"
   ]
  },
  {
   "cell_type": "markdown",
   "metadata": {},
   "source": [
    "This shows a smooth step shape decrease in the value, denoting that the model is a good fit."
   ]
  },
  {
   "cell_type": "code",
   "execution_count": 44,
   "metadata": {},
   "outputs": [
    {
     "data": {
      "image/png": "[encoded data removed]",
      "text/plain": [
       "plot without title"
      ]
     },
     "metadata": {},
     "output_type": "display_data"
    }
   ],
   "source": [
    "# Decile analysis Validity data\n",
    "decLocations <- quantile(val1$pred, probs = seq(0.1,0.9,by=0.1))\n",
    "val1$decile <- findInterval(val1$pred,c(-Inf,decLocations, Inf))\n",
    "\n",
    "val_decile <- val1 %>% group_by(decile) %>% \n",
    "  dplyr::summarise(count = n(),\n",
    "                   avg_pred_spend = mean(pred),\n",
    "                   avg_spend = mean(total_spent)\n",
    "  ) %>% \n",
    "  dplyr::arrange(desc(decile))\n",
    "\n",
    "\n",
    "Decile_Plot <- ggplot(val_decile)+aes(x = reorder(factor(decile),-decile),y = avg_pred_spend) +\n",
    "  geom_bar(stat = \"identity\",fill = \"indianred1\")+\n",
    "  ggtitle(\"Validity data decile analysis\")+\n",
    "  xlab(\"Deciles\")+\n",
    "  ylab(\"Average Predicted Spend\")\n",
    "\n",
    "plot(Decile_Plot)"
   ]
  },
  {
   "cell_type": "markdown",
   "metadata": {},
   "source": [
    "The decile analysis for the testing dataset also shows the same shape. Thus, this model is reliable."
   ]
  },
  {
   "cell_type": "markdown",
   "metadata": {},
   "source": [
    "Finally, we also examine the correlation between the predicted and the actual values for both the training and testing data and see the correlation coefficient."
   ]
  },
  {
   "cell_type": "code",
   "execution_count": 45,
   "metadata": {
    "scrolled": false
   },
   "outputs": [
    {
     "data": {
      "text/html": [
       "<dl class=dl-horizontal>\n",
       "\t<dt>CorDev</dt>\n",
       "\t\t<dd>0.673713520137376</dd>\n",
       "\t<dt>CorVal</dt>\n",
       "\t\t<dd>0.574462373397682</dd>\n",
       "</dl>\n"
      ],
      "text/latex": [
       "\\begin{description*}\n",
       "\\item[CorDev] 0.673713520137376\n",
       "\\item[CorVal] 0.574462373397682\n",
       "\\end{description*}\n"
      ],
      "text/markdown": [
       "CorDev\n",
       ":   0.673713520137376CorVal\n",
       ":   0.574462373397682\n",
       "\n"
      ],
      "text/plain": [
       "   CorDev    CorVal \n",
       "0.6737135 0.5744624 "
      ]
     },
     "metadata": {},
     "output_type": "display_data"
    },
    {
     "data": {},
     "metadata": {},
     "output_type": "display_data"
    },
    {
     "data": {},
     "metadata": {},
     "output_type": "display_data"
    },
    {
     "data": {
      "image/png": "[encoded data removed]",
      "text/plain": [
       "plot without title"
      ]
     },
     "metadata": {},
     "output_type": "display_data"
    },
    {
     "data": {
      "image/png": "[encoded data removed]",
      "text/plain": [
       "plot without title"
      ]
     },
     "metadata": {},
     "output_type": "display_data"
    }
   ],
   "source": [
    "m1 <- cor(dev_final$pred,dev_final$total_spent)\n",
    "m2 <- cor(val1$pred,val1$total_spent)\n",
    "c(CorDev = m1, CorVal = m2)\n",
    "\n",
    "ggplot(dev_final)+aes(x=pred,y=total_spent)+\n",
    "  geom_point()+\n",
    "  ggtitle(\"Correlation between actual and predicted values - Training Data\")\n",
    "\n",
    "ggplot(val1)+aes(x=pred,y=total_spent)+\n",
    "  geom_point()+\n",
    "  ggtitle(\"Correlation between actual and predicted values - Training Data\")"
   ]
  },
  {
   "cell_type": "markdown",
   "metadata": {},
   "source": [
    "These two plots have shown that there is a lot of dispersion in the data as the value goes higher. A machine learning model might, hopefully have better performance than this model. We will test that next"
   ]
  }
 ],
 "metadata": {
  "kernelspec": {
   "display_name": "R",
   "language": "R",
   "name": "ir"
  },
  "language_info": {
   "codemirror_mode": "r",
   "file_extension": ".r",
   "mimetype": "text/x-r-source",
   "name": "R",
   "pygments_lexer": "r",
   "version": "3.5.1"
  }
 },
 "nbformat": 4,
 "nbformat_minor": 2
}
