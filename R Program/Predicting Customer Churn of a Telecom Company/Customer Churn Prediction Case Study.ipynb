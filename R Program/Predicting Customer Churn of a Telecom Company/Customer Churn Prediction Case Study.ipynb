{
 "cells": [
  {
   "cell_type": "markdown",
   "metadata": {},
   "source": [
    "# Proactive Attrition Management Customer Churn Prediction Case Study\n",
    "\n",
    "## Case Scenario\n",
    "\n",
    "This case calls for devoleping a model to predict the customer Churn for \"Cell2Cell\" a telecom company that seeks to create an incentive plan that will aid in enticing customers who would be Churners and make them remain with Cell2Cell. \n",
    "\n",
    "**The Data** <br>\n",
    "The provided data is a scaled down version of the full data of an anonymus telecom company. There are 71,047 customers and 75 potential predictor variables. The dataset is already divided into \"Calibration\" and \"Validation\" data. The calibration data has equal amount of churners and non-churners.\n",
    "\n",
    "**The Analysis**<br>\n",
    "For analysis here, we will use a Logistic Regression. Logistic regression fits in a logit curve to the data and provides a probability for the happening or non happening of an event (the event in this case refers to Churn). It predicts first, the log likelihood which can be calculated with linear regression as the log-likelihood takes the form of a straight line.  "
   ]
  },
  {
   "cell_type": "markdown",
   "metadata": {},
   "source": [
    "## Case Solution"
   ]
  },
  {
   "cell_type": "markdown",
   "metadata": {},
   "source": [
    "Loading the required libraries"
   ]
  },
  {
   "cell_type": "code",
   "execution_count": 66,
   "metadata": {},
   "outputs": [
    {
     "name": "stderr",
     "output_type": "stream",
     "text": [
      "Warning message:\n",
      "\"package 'ggthemes' was built under R version 3.5.3\""
     ]
    }
   ],
   "source": [
    "library(data.table)\n",
    "library(InformationValue)\n",
    "library(car)\n",
    "library(caret)\n",
    "library(dplyr)\n",
    "library(ModelMetrics)\n",
    "library(Hmisc)\n",
    "library(psych)\n",
    "library(repr)\n",
    "library(ggthemes)\n",
    "options(scipen = 999)"
   ]
  },
  {
   "cell_type": "code",
   "execution_count": 2,
   "metadata": {},
   "outputs": [],
   "source": [
    "cust <- read.csv(\"Proactive Attrition Management-Logistic Regression Case Study.csv\",header = T)"
   ]
  },
  {
   "cell_type": "markdown",
   "metadata": {},
   "source": [
    "We first look at the fields of the data _(The Data dictionary is available in the pdf file in the folder)_"
   ]
  },
  {
   "cell_type": "code",
   "execution_count": 3,
   "metadata": {
    "scrolled": true
   },
   "outputs": [
    {
     "name": "stdout",
     "output_type": "stream",
     "text": [
      "'data.frame':\t71047 obs. of  78 variables:\n",
      " $ REVENUE : num  57.5 82.3 31.7 62.1 25.2 ...\n",
      " $ MOU     : num  482.8 1312.2 25.5 97.5 2.5 ...\n",
      " $ RECCHRGE: num  37.4 75 30 66 25 ...\n",
      " $ DIRECTAS: num  0.25 1.24 0.25 2.48 0 2.23 0.25 0 0.74 0 ...\n",
      " $ OVERAGE : num  22.8 0 0 0 0 ...\n",
      " $ ROAM    : num  0 0 0 0 0 35.5 0 0 1.29 0 ...\n",
      " $ CHANGEM : num  532.2 156.8 59.5 23.5 -2.5 ...\n",
      " $ CHANGER : num  50.99 8.14 4.03 6.82 -0.23 ...\n",
      " $ DROPVCE : num  8.33 52 0 0 0 9 3.33 2 2.67 1.67 ...\n",
      " $ BLCKVCE : num  1 7.67 1 0.33 0 0 1.67 0.67 6 0.33 ...\n",
      " $ UNANSVCE: num  61.33 76 2.33 4 0.33 ...\n",
      " $ CUSTCARE: num  1.67 4.33 0 4 0 0.33 1 0 4.33 0.33 ...\n",
      " $ THREEWAY: num  0.33 1.33 0 0 0 0 0 0 0 0 ...\n",
      " $ MOUREC  : num  55.28 200.32 0 0 1.13 ...\n",
      " $ OUTCALLS: num  46.33 370.33 0 3.67 0.33 ...\n",
      " $ INCALLS : num  6.33 147 0 0 0 4.67 3.67 4.67 8.33 5.67 ...\n",
      " $ PEAKVCE : num  83.67 555.67 1.67 7.67 0.67 ...\n",
      " $ OPEAKVCE: num  157 303.67 1.67 7.33 0.67 ...\n",
      " $ DROPBLK : num  9.33 59.67 1 0.33 0 ...\n",
      " $ CALLFWDV: num  0 0 0 0 0 0 0 0 0 0 ...\n",
      " $ CALLWAIT: num  5.67 22.67 0 0 0 ...\n",
      " $ CHURN   : int  0 0 0 0 0 0 0 0 0 0 ...\n",
      " $ MONTHS  : int  56 59 57 59 53 59 55 59 52 56 ...\n",
      " $ UNIQSUBS: int  1 2 2 2 2 5 2 3 1 1 ...\n",
      " $ ACTVSUBS: int  1 2 2 2 2 1 2 2 1 1 ...\n",
      " $ CSA     : Factor w/ 774 levels \"\",\"AIRAIK803\",..: 366 633 583 580 654 745 580 745 583 366 ...\n",
      " $ PHONES  : int  7 9 2 3 2 10 5 6 4 4 ...\n",
      " $ MODELS  : int  6 4 2 3 2 6 4 5 4 3 ...\n",
      " $ EQPDAYS : int  240 458 601 464 354 199 697 48 408 253 ...\n",
      " $ CUSTOMER: int  1000002 1000006 1000010 1000011 1000014 1000015 1000016 1000018 1000019 1000020 ...\n",
      " $ AGE1    : int  30 30 52 46 0 30 58 46 58 30 ...\n",
      " $ AGE2    : int  0 0 58 46 0 22 58 0 0 30 ...\n",
      " $ CHILDREN: int  0 0 0 1 0 1 1 1 0 1 ...\n",
      " $ CREDITA : int  0 0 1 1 1 0 0 1 1 0 ...\n",
      " $ CREDITAA: int  0 0 0 0 0 0 0 0 0 0 ...\n",
      " $ CREDITB : int  0 0 0 0 0 0 1 0 0 1 ...\n",
      " $ CREDITC : int  0 1 0 0 0 1 0 0 0 0 ...\n",
      " $ CREDITDE: int  1 0 0 0 0 0 0 0 0 0 ...\n",
      " $ CREDITGY: int  0 0 0 0 0 0 0 0 0 0 ...\n",
      " $ CREDITZ : int  0 0 0 0 0 0 0 0 0 0 ...\n",
      " $ PRIZMRUR: int  0 0 0 0 0 0 0 0 0 0 ...\n",
      " $ PRIZMUB : int  0 0 0 0 0 1 1 0 1 0 ...\n",
      " $ PRIZMTWN: int  0 0 0 0 0 0 0 0 0 0 ...\n",
      " $ REFURB  : int  0 0 0 0 0 0 0 0 0 0 ...\n",
      " $ WEBCAP  : int  1 1 1 1 1 1 1 1 1 1 ...\n",
      " $ TRUCK   : int  1 0 0 0 1 0 0 1 0 0 ...\n",
      " $ RV      : int  1 0 0 0 0 0 0 1 0 0 ...\n",
      " $ OCCPROF : int  0 0 0 1 0 0 0 0 0 0 ...\n",
      " $ OCCCLER : int  0 0 0 0 0 0 0 0 0 0 ...\n",
      " $ OCCCRFT : int  0 0 0 0 0 0 0 0 0 0 ...\n",
      " $ OCCSTUD : int  0 0 0 0 0 0 0 0 0 0 ...\n",
      " $ OCCHMKR : int  0 0 0 0 0 0 0 0 0 0 ...\n",
      " $ OCCRET  : int  0 0 0 0 0 0 0 0 0 0 ...\n",
      " $ OCCSELF : int  0 0 1 0 0 0 0 0 0 0 ...\n",
      " $ OWNRENT : int  1 0 0 0 1 0 0 0 0 0 ...\n",
      " $ MARRYUN : int  0 0 0 0 1 0 1 0 0 0 ...\n",
      " $ MARRYYES: int  0 0 1 0 0 0 0 0 0 0 ...\n",
      " $ MARRYNO : int  1 1 0 1 0 1 0 1 1 1 ...\n",
      " $ MAILORD : int  1 1 1 1 0 0 0 1 1 1 ...\n",
      " $ MAILRES : int  1 1 1 1 0 1 0 1 1 1 ...\n",
      " $ MAILFLAG: int  0 0 0 0 0 0 0 1 0 0 ...\n",
      " $ TRAVEL  : int  0 0 1 0 0 0 0 0 0 0 ...\n",
      " $ PCOWN   : int  0 0 0 0 0 1 0 0 0 1 ...\n",
      " $ CREDITCD: int  1 1 1 1 0 1 1 1 1 0 ...\n",
      " $ RETCALLS: int  0 0 0 0 0 0 0 0 0 0 ...\n",
      " $ RETACCPT: int  0 0 0 0 0 0 0 0 0 0 ...\n",
      " $ NEWCELLY: int  0 1 0 1 1 1 0 0 0 1 ...\n",
      " $ NEWCELLN: int  1 0 1 0 0 0 1 1 1 0 ...\n",
      " $ REFER   : int  0 0 0 0 0 0 0 0 0 0 ...\n",
      " $ INCMISS : int  0 0 0 0 0 0 0 0 0 0 ...\n",
      " $ INCOME  : int  5 6 9 6 7 3 1 4 3 1 ...\n",
      " $ MCYCLE  : int  0 0 0 0 0 0 0 0 0 0 ...\n",
      " $ CREDITAD: int  1 0 1 0 0 1 1 1 0 0 ...\n",
      " $ SETPRCM : int  0 0 0 0 0 0 0 0 0 0 ...\n",
      " $ SETPRC  : num  149.99 9.99 29.99 29.99 29.99 ...\n",
      " $ RETCALL : int  0 0 0 0 0 0 0 0 0 0 ...\n",
      " $ CALIBRAT: int  0 0 0 0 0 0 0 0 0 0 ...\n",
      " $ CHURNDEP: num  NA NA NA NA NA NA NA NA NA NA ...\n"
     ]
    }
   ],
   "source": [
    "str(cust)"
   ]
  },
  {
   "cell_type": "markdown",
   "metadata": {},
   "source": [
    "We first remove two variables, one is a variables that does not provide any useful information and another used to divide the data into calibration and validation data so that further processing can be done with ease"
   ]
  },
  {
   "cell_type": "code",
   "execution_count": 4,
   "metadata": {},
   "outputs": [],
   "source": [
    "dta <- cust\n",
    "CALIBRAT <- dta$CALIBRAT\n",
    "dta$CALIBRAT <- NULL\n",
    "dta$CHURNDEP <- NULL"
   ]
  },
  {
   "cell_type": "markdown",
   "metadata": {},
   "source": [
    "Variables with too many levels and can overfit the model will be removed along with those that indicate the missing and non missing values in the variable."
   ]
  },
  {
   "cell_type": "code",
   "execution_count": 5,
   "metadata": {},
   "outputs": [],
   "source": [
    "dta$CSA <- NULL\n",
    "dta$CUSTOMER <- NULL\n",
    "dta$INCMISS <- NULL\n",
    "dta$SETPRCM <- NULL"
   ]
  },
  {
   "cell_type": "markdown",
   "metadata": {},
   "source": [
    "Variables that measure items are done after churn has occured is removed "
   ]
  },
  {
   "cell_type": "code",
   "execution_count": 6,
   "metadata": {},
   "outputs": [],
   "source": [
    "dta$RETCALL <- NULL\n",
    "dta$RETCALLS <- NULL\n",
    "dta$RETACCPT <- NULL\n",
    "dta$NEWCELLN <- NULL # this is a variable that already has a correlated column existing in the data"
   ]
  },
  {
   "cell_type": "markdown",
   "metadata": {},
   "source": [
    "Now we use user defined funtions to get to know the data better"
   ]
  },
  {
   "cell_type": "code",
   "execution_count": 7,
   "metadata": {},
   "outputs": [],
   "source": [
    "about <- function(x){\n",
    "  if(class(x)==\"numeric\"){\n",
    "  n = length(x)\n",
    "  nmiss = sum(is.na(x))\n",
    "  nmiss_pct = (mean(is.na(x)))*100\n",
    "  sum = sum(x, na.rm=T)\n",
    "  mean = mean(x, na.rm=T)\n",
    "  median = quantile(x, p=0.5, na.rm=T)\n",
    "  std = sd(x, na.rm=T)\n",
    "  var = var(x, na.rm=T)\n",
    "  range = max(x, na.rm=T)-min(x, na.rm=T)\n",
    "  pctl = quantile(x, p=c(0, 0.01, 0.05,0.1,0.25,0.5, 0.75,0.9,0.95,0.99,1), na.rm=T)\n",
    "\n",
    "  return(c(N=n, Nmiss =nmiss, Nmiss_pct = nmiss_pct, sum=sum, avg=mean, meidan=median, std=std, var=var, range=range, pctl=pctl))\n",
    "}\n",
    "else{\n",
    "  Var_Type=class(x)\n",
    "  n<-length(x)\n",
    "  nmiss<-sum(is.na(x))\n",
    "  nmiss_pct = (mean(is.na(x)))*100\n",
    "  return( c(Var_Type=Var_Type, n=n,nmiss=nmiss,Nmiss_pct = nmiss_pct))\n",
    "}\n",
    "}"
   ]
  },
  {
   "cell_type": "markdown",
   "metadata": {},
   "source": [
    "Now we examine those variables"
   ]
  },
  {
   "cell_type": "code",
   "execution_count": 8,
   "metadata": {
    "scrolled": true
   },
   "outputs": [
    {
     "data": {
      "text/html": [
       "<table>\n",
       "<thead><tr><th></th><th scope=col>N</th><th scope=col>Nmiss</th><th scope=col>Nmiss_pct</th><th scope=col>sum</th><th scope=col>avg</th><th scope=col>meidan.50.</th><th scope=col>std</th><th scope=col>var</th><th scope=col>range</th><th scope=col>pctl.0.</th><th scope=col>pctl.1.</th><th scope=col>pctl.5.</th><th scope=col>pctl.10.</th><th scope=col>pctl.25.</th><th scope=col>pctl.50.</th><th scope=col>pctl.75.</th><th scope=col>pctl.90.</th><th scope=col>pctl.95.</th><th scope=col>pctl.99.</th><th scope=col>pctl.100.</th></tr></thead>\n",
       "<tbody>\n",
       "\t<tr><th scope=row>REVENUE</th><td>71047         </td><td> 216          </td><td>0.304024097   </td><td> 4168684.94   </td><td> 58.85396140  </td><td> 48.53        </td><td> 44.2436131   </td><td>  1957.4973041</td><td>1229.55       </td><td>   -6.17      </td><td>  10.000      </td><td>  15.515      </td><td>  26.160      </td><td> 33.64        </td><td> 48.53        </td><td> 71.030       </td><td> 103.950      </td><td> 135.390      </td><td> 225.5120     </td><td>1223.38       </td></tr>\n",
       "\t<tr><th scope=row>MOU</th><td>71047         </td><td> 216          </td><td>0.304024097   </td><td>37237867.76   </td><td>525.72839237  </td><td>366.00        </td><td>530.1342593   </td><td>281042.3328604</td><td>7667.75       </td><td>    0.00      </td><td>   0.000      </td><td>  20.415      </td><td>  52.750      </td><td>158.25        </td><td>366.00        </td><td>721.750       </td><td>1202.000      </td><td>1580.250      </td><td>2450.1250     </td><td>7667.75       </td></tr>\n",
       "\t<tr><th scope=row>RECCHRGE</th><td>71047         </td><td> 216          </td><td>0.304024097   </td><td> 3320308.78   </td><td> 46.87649165  </td><td> 44.99        </td><td> 23.9151030   </td><td>   571.9321521</td><td> 411.28       </td><td>  -11.29      </td><td>   9.190      </td><td>  10.000      </td><td>  19.990      </td><td> 30.00        </td><td> 44.99        </td><td> 59.990       </td><td>  75.000      </td><td>  85.000      </td><td> 119.9900     </td><td> 399.99       </td></tr>\n",
       "\t<tr><th scope=row>DIRECTAS</th><td>71047         </td><td> 216          </td><td>0.304024097   </td><td>   63379.66   </td><td>  0.89480115  </td><td>  0.25        </td><td>  2.1978148   </td><td>     4.8303898</td><td> 159.39       </td><td>    0.00      </td><td>   0.000      </td><td>   0.000      </td><td>   0.000      </td><td>  0.00        </td><td>  0.25        </td><td>  0.990       </td><td>   2.480      </td><td>   4.210      </td><td>   9.6500     </td><td> 159.39       </td></tr>\n",
       "\t<tr><th scope=row>OVERAGE</th><td>71047         </td><td> 216          </td><td>0.304024097   </td><td> 2839994.43   </td><td> 40.09535980  </td><td>  2.50        </td><td> 96.3471032   </td><td>  9282.7643027</td><td>4320.75       </td><td>    0.00      </td><td>   0.000      </td><td>   0.000      </td><td>   0.000      </td><td>  0.00        </td><td>  2.50        </td><td> 40.750       </td><td> 115.750      </td><td> 190.375      </td><td> 427.6750     </td><td>4320.75       </td></tr>\n",
       "\t<tr><th scope=row>ROAM</th><td>71047         </td><td> 216          </td><td>0.304024097   </td><td>   86521.92   </td><td>  1.22152617  </td><td>  0.00        </td><td>  9.0811962   </td><td>    82.4681238</td><td>1112.45       </td><td>    0.00      </td><td>   0.000      </td><td>   0.000      </td><td>   0.000      </td><td>  0.00        </td><td>  0.00        </td><td>  0.260       </td><td>   2.130      </td><td>   5.090      </td><td>  21.5570     </td><td>1112.45       </td></tr>\n",
       "\t<tr><th scope=row>CHANGEM</th><td>71047         </td><td> 502          </td><td>0.706574521   </td><td> -765163.62   </td><td>-10.84646141  </td><td> -5.00        </td><td>255.3143155   </td><td> 65185.3996861</td><td>9067.25       </td><td>-3875.00      </td><td>-831.890      </td><td>-376.250      </td><td>-229.250      </td><td>-83.00        </td><td> -5.00        </td><td> 65.750       </td><td> 208.500      </td><td> 345.250      </td><td> 739.6700     </td><td>5192.25       </td></tr>\n",
       "\t<tr><th scope=row>CHANGER</th><td>71047         </td><td> 502          </td><td>0.706574521   </td><td>  -85072.02   </td><td> -1.20592558  </td><td> -0.29        </td><td> 38.7706954   </td><td>  1503.1668189</td><td>3591.22       </td><td>-1107.74      </td><td>-104.536      </td><td> -47.500      </td><td> -27.776      </td><td> -7.11        </td><td> -0.29        </td><td>  1.600       </td><td>  21.810      </td><td>  46.218      </td><td> 118.3456     </td><td>2483.48       </td></tr>\n",
       "\t<tr><th scope=row>DROPVCE</th><td>71047         </td><td>   0          </td><td>0.000000000   </td><td>  426987.32   </td><td>  6.00992751  </td><td>  3.00        </td><td>  9.0061745   </td><td>    81.1111793</td><td> 221.67       </td><td>    0.00      </td><td>   0.000      </td><td>   0.000      </td><td>   0.000      </td><td>  0.67        </td><td>  3.00        </td><td>  7.670       </td><td>  15.000      </td><td>  22.000      </td><td>  42.0000     </td><td> 221.67       </td></tr>\n",
       "\t<tr><th scope=row>BLCKVCE</th><td>71047         </td><td>   0          </td><td>0.000000000   </td><td>  288997.57   </td><td>  4.06769561  </td><td>  1.00        </td><td> 10.6708225   </td><td>   113.8664532</td><td> 384.33       </td><td>    0.00      </td><td>   0.000      </td><td>   0.000      </td><td>   0.000      </td><td>  0.00        </td><td>  1.00        </td><td>  3.670       </td><td>  10.000      </td><td>  17.330      </td><td>  47.0000     </td><td> 384.33       </td></tr>\n",
       "\t<tr><th scope=row>UNANSVCE</th><td>71047         </td><td>   0          </td><td>0.000000000   </td><td> 2014601.10   </td><td> 28.35589258  </td><td> 16.33        </td><td> 38.9042344   </td><td>  1513.5394522</td><td> 848.67       </td><td>    0.00      </td><td>   0.000      </td><td>   0.000      </td><td>   0.330      </td><td>  5.33        </td><td> 16.33        </td><td> 36.670       </td><td>  68.330      </td><td>  97.670      </td><td> 179.3300     </td><td> 848.67       </td></tr>\n",
       "\t<tr><th scope=row>CUSTCARE</th><td>71047         </td><td>   0          </td><td>0.000000000   </td><td>  132560.46   </td><td>  1.86581362  </td><td>  0.00        </td><td>  5.1607990   </td><td>    26.6338465</td><td> 365.67       </td><td>    0.00      </td><td>   0.000      </td><td>   0.000      </td><td>   0.000      </td><td>  0.00        </td><td>  0.00        </td><td>  1.670       </td><td>   5.330      </td><td>   9.330      </td><td>  21.0000     </td><td> 365.67       </td></tr>\n",
       "\t<tr><th scope=row>THREEWAY</th><td>71047         </td><td>   0          </td><td>0.000000000   </td><td>   21309.74   </td><td>  0.29993863  </td><td>  0.00        </td><td>  1.1616021   </td><td>     1.3493194</td><td>  66.00       </td><td>    0.00      </td><td>   0.000      </td><td>   0.000      </td><td>   0.000      </td><td>  0.00        </td><td>  0.00        </td><td>  0.330       </td><td>   0.670      </td><td>   1.330      </td><td>   4.0000     </td><td>  66.00       </td></tr>\n",
       "\t<tr><th scope=row>MOUREC</th><td>71047         </td><td>   0          </td><td>0.000000000   </td><td> 8165809.64   </td><td>114.93531944  </td><td> 52.50        </td><td>166.3057176   </td><td> 27657.5916934</td><td>3287.25       </td><td>    0.00      </td><td>   0.000      </td><td>   0.000      </td><td>   0.000      </td><td>  8.43        </td><td> 52.50        </td><td>154.135       </td><td> 310.262      </td><td> 440.938      </td><td> 772.6548     </td><td>3287.25       </td></tr>\n",
       "\t<tr><th scope=row>OUTCALLS</th><td>71047         </td><td>   0          </td><td>0.000000000   </td><td> 1804345.20   </td><td> 25.39650091  </td><td> 13.67        </td><td> 35.1475249   </td><td>  1235.3485056</td><td> 644.33       </td><td>    0.00      </td><td>   0.000      </td><td>   0.000      </td><td>   0.000      </td><td>  3.33        </td><td> 13.67        </td><td> 34.000       </td><td>  64.330      </td><td>  90.330      </td><td> 164.3300     </td><td> 644.33       </td></tr>\n",
       "\t<tr><th scope=row>INCALLS</th><td>71047         </td><td>   0          </td><td>0.000000000   </td><td>  580931.24   </td><td>  8.17671738  </td><td>  2.00        </td><td> 16.5191066   </td><td>   272.8808823</td><td> 519.33       </td><td>    0.00      </td><td>   0.000      </td><td>   0.000      </td><td>   0.000      </td><td>  0.00        </td><td>  2.00        </td><td>  9.330       </td><td>  22.670      </td><td>  35.670      </td><td>  77.0000     </td><td> 519.33       </td></tr>\n",
       "\t<tr><th scope=row>PEAKVCE</th><td>71047         </td><td>   0          </td><td>0.000000000   </td><td> 6435504.62   </td><td> 90.58094810  </td><td> 62.00        </td><td>104.9148764   </td><td> 11007.1312815</td><td>2090.67       </td><td>    0.00      </td><td>   0.000      </td><td>   0.000      </td><td>   2.330      </td><td> 23.00        </td><td> 62.00        </td><td>121.165       </td><td> 204.330      </td><td> 279.670      </td><td> 500.0000     </td><td>2090.67       </td></tr>\n",
       "\t<tr><th scope=row>OPEAKVCE</th><td>71047         </td><td>   0          </td><td>0.000000000   </td><td> 4818294.44   </td><td> 67.81840810  </td><td> 35.67        </td><td> 93.3289932   </td><td>  8710.3009753</td><td>1572.67       </td><td>    0.00      </td><td>   0.000      </td><td>   0.000      </td><td>   0.670      </td><td> 11.00        </td><td> 35.67        </td><td> 88.670       </td><td> 170.802      </td><td> 242.000      </td><td> 437.0000     </td><td>1572.67       </td></tr>\n",
       "\t<tr><th scope=row>DROPBLK</th><td>71047         </td><td>   0          </td><td>0.000000000   </td><td>  721105.69   </td><td> 10.14969935  </td><td>  5.33        </td><td> 15.4606138   </td><td>   239.0305777</td><td> 489.67       </td><td>    0.00      </td><td>   0.000      </td><td>   0.000      </td><td>   0.000      </td><td>  1.67        </td><td>  5.33        </td><td> 12.670       </td><td>  24.330      </td><td>  35.330      </td><td>  71.3300     </td><td> 489.67       </td></tr>\n",
       "\t<tr><th scope=row>CALLFWDV</th><td>71047         </td><td>   0          </td><td>0.000000000   </td><td>     840.74   </td><td>  0.01183357  </td><td>  0.00        </td><td>  0.5621931   </td><td>     0.3160611</td><td>  81.33       </td><td>    0.00      </td><td>   0.000      </td><td>   0.000      </td><td>   0.000      </td><td>  0.00        </td><td>  0.00        </td><td>  0.000       </td><td>   0.000      </td><td>   0.000      </td><td>   0.0000     </td><td>  81.33       </td></tr>\n",
       "\t<tr><th scope=row>CALLWAIT</th><td>71047         </td><td>   0          </td><td>0.000000000   </td><td>  131641.33   </td><td>  1.85287669  </td><td>  0.33        </td><td>  5.5562592   </td><td>    30.8720160</td><td> 212.67       </td><td>    0.00      </td><td>   0.000      </td><td>   0.000      </td><td>   0.000      </td><td>  0.00        </td><td>  0.33        </td><td>  1.330       </td><td>   4.670      </td><td>   8.670      </td><td>  23.3300     </td><td> 212.67       </td></tr>\n",
       "\t<tr><th scope=row>CHURN</th><td>71047         </td><td>   0          </td><td>0.000000000   </td><td>   20609.00   </td><td>  0.29007558  </td><td>  0.00        </td><td>  0.4538002   </td><td>     0.2059346</td><td>   1.00       </td><td>    0.00      </td><td>   0.000      </td><td>   0.000      </td><td>   0.000      </td><td>  0.00        </td><td>  0.00        </td><td>  1.000       </td><td>   1.000      </td><td>   1.000      </td><td>   1.0000     </td><td>   1.00       </td></tr>\n",
       "\t<tr><th scope=row>MONTHS</th><td>71047         </td><td>   0          </td><td>0.000000000   </td><td> 1332190.00   </td><td> 18.75082692  </td><td> 16.00        </td><td>  9.7875685   </td><td>    95.7964965</td><td>  55.00       </td><td>    6.00      </td><td>   6.000      </td><td>   7.000      </td><td>   8.000      </td><td> 11.00        </td><td> 16.00        </td><td> 24.000       </td><td>  33.000      </td><td>  37.000      </td><td>  49.0000     </td><td>  61.00       </td></tr>\n",
       "\t<tr><th scope=row>UNIQSUBS</th><td>71047         </td><td>   0          </td><td>0.000000000   </td><td>  108670.00   </td><td>  1.52955086  </td><td>  1.00        </td><td>  1.1317740   </td><td>     1.2809125</td><td> 195.00       </td><td>    1.00      </td><td>   1.000      </td><td>   1.000      </td><td>   1.000      </td><td>  1.00        </td><td>  1.00        </td><td>  2.000       </td><td>   3.000      </td><td>   3.000      </td><td>   5.0000     </td><td> 196.00       </td></tr>\n",
       "\t<tr><th scope=row>ACTVSUBS</th><td>71047         </td><td>   0          </td><td>0.000000000   </td><td>   96031.00   </td><td>  1.35165454  </td><td>  1.00        </td><td>  0.6600493   </td><td>     0.4356651</td><td>  53.00       </td><td>    0.00      </td><td>   1.000      </td><td>   1.000      </td><td>   1.000      </td><td>  1.00        </td><td>  1.00        </td><td>  2.000       </td><td>   2.000      </td><td>   2.000      </td><td>   4.0000     </td><td>  53.00       </td></tr>\n",
       "\t<tr><th scope=row>PHONES</th><td>71047         </td><td>   1          </td><td>0.001407519   </td><td>  128495.00   </td><td>  1.80861695  </td><td>  1.00        </td><td>  1.3361203   </td><td>     1.7852173</td><td>  27.00       </td><td>    1.00      </td><td>   1.000      </td><td>   1.000      </td><td>   1.000      </td><td>  1.00        </td><td>  1.00        </td><td>  2.000       </td><td>   3.000      </td><td>   4.000      </td><td>   7.0000     </td><td>  28.00       </td></tr>\n",
       "\t<tr><th scope=row>MODELS</th><td>71047         </td><td>   1          </td><td>0.001407519   </td><td>  110959.00   </td><td>  1.56179095  </td><td>  1.00        </td><td>  0.9082805   </td><td>     0.8249734</td><td>  15.00       </td><td>    1.00      </td><td>   1.000      </td><td>   1.000      </td><td>   1.000      </td><td>  1.00        </td><td>  1.00        </td><td>  2.000       </td><td>   3.000      </td><td>   3.000      </td><td>   5.0000     </td><td>  16.00       </td></tr>\n",
       "\t<tr><th scope=row>EQPDAYS</th><td>71047         </td><td>   1          </td><td>0.001407519   </td><td>27016352.00   </td><td>380.26563072  </td><td>330.00        </td><td>254.2946923   </td><td> 64665.7905414</td><td>1828.00       </td><td>   -5.00      </td><td>   7.000      </td><td>  42.000      </td><td>  87.000      </td><td>204.00        </td><td>330.00        </td><td>515.000       </td><td> 732.000      </td><td> 865.750      </td><td>1150.0000     </td><td>1823.00       </td></tr>\n",
       "\t<tr><th scope=row>AGE1</th><td>71047         </td><td>1244          </td><td>1.750953594   </td><td> 2190077.00   </td><td> 31.37511282  </td><td> 36.00        </td><td> 22.0821950   </td><td>   487.6233352</td><td>  99.00       </td><td>    0.00      </td><td>   0.000      </td><td>   0.000      </td><td>   0.000      </td><td>  0.00        </td><td> 36.00        </td><td> 48.000       </td><td>  56.000      </td><td>  62.000      </td><td>  74.0000     </td><td>  99.00       </td></tr>\n",
       "\t<tr><th scope=row>AGE2</th><td>71047         </td><td>1244          </td><td>1.750953594   </td><td> 1476872.00   </td><td> 21.15771528  </td><td>  0.00        </td><td> 23.9175855   </td><td>   572.0508970</td><td>  99.00       </td><td>    0.00      </td><td>   0.000      </td><td>   0.000      </td><td>   0.000      </td><td>  0.00        </td><td>  0.00        </td><td> 42.000       </td><td>  54.000      </td><td>  62.000      </td><td>  76.0000     </td><td>  99.00       </td></tr>\n",
       "\t<tr><th scope=row>...</th><td>...</td><td>...</td><td>...</td><td>...</td><td>...</td><td>...</td><td>...</td><td>...</td><td>...</td><td>...</td><td>...</td><td>...</td><td>...</td><td>...</td><td>...</td><td>...</td><td>...</td><td>...</td><td>...</td><td>...</td></tr>\n",
       "\t<tr><th scope=row>PRIZMRUR</th><td>71047         </td><td>0             </td><td>0             </td><td>   3392       </td><td> 0.047743043  </td><td>0             </td><td> 0.21322356   </td><td>   0.045464285</td><td>  1.00        </td><td>0             </td><td>0             </td><td>0             </td><td>0             </td><td>0             </td><td>0             </td><td> 0.00         </td><td>  0.00        </td><td>  0.00        </td><td>  1.00        </td><td>  1.00        </td></tr>\n",
       "\t<tr><th scope=row>PRIZMUB</th><td>71047         </td><td>0             </td><td>0             </td><td>  22814       </td><td> 0.321111377  </td><td>0             </td><td> 0.46690677   </td><td>   0.218001929</td><td>  1.00        </td><td>0             </td><td>0             </td><td>0             </td><td>0             </td><td>0             </td><td>0             </td><td> 1.00         </td><td>  1.00        </td><td>  1.00        </td><td>  1.00        </td><td>  1.00        </td></tr>\n",
       "\t<tr><th scope=row>PRIZMTWN</th><td>71047         </td><td>0             </td><td>0             </td><td>  10545       </td><td> 0.148422875  </td><td>0             </td><td> 0.35552117   </td><td>   0.126395304</td><td>  1.00        </td><td>0             </td><td>0             </td><td>0             </td><td>0             </td><td>0             </td><td>0             </td><td> 0.00         </td><td>  1.00        </td><td>  1.00        </td><td>  1.00        </td><td>  1.00        </td></tr>\n",
       "\t<tr><th scope=row>REFURB</th><td>71047         </td><td>0             </td><td>0             </td><td>   9919       </td><td> 0.139611806  </td><td>0             </td><td> 0.34658627   </td><td>   0.120122041</td><td>  1.00        </td><td>0             </td><td>0             </td><td>0             </td><td>0             </td><td>0             </td><td>0             </td><td> 0.00         </td><td>  1.00        </td><td>  1.00        </td><td>  1.00        </td><td>  1.00        </td></tr>\n",
       "\t<tr><th scope=row>WEBCAP</th><td>71047         </td><td>0             </td><td>0             </td><td>  64142       </td><td> 0.902810815  </td><td>1             </td><td> 0.29621729   </td><td>   0.087744682</td><td>  1.00        </td><td>0             </td><td>0             </td><td>0             </td><td>1             </td><td>1             </td><td>1             </td><td> 1.00         </td><td>  1.00        </td><td>  1.00        </td><td>  1.00        </td><td>  1.00        </td></tr>\n",
       "\t<tr><th scope=row>TRUCK</th><td>71047         </td><td>0             </td><td>0             </td><td>  13301       </td><td> 0.187214098  </td><td>0             </td><td> 0.39008604   </td><td>   0.152167121</td><td>  1.00        </td><td>0             </td><td>0             </td><td>0             </td><td>0             </td><td>0             </td><td>0             </td><td> 0.00         </td><td>  1.00        </td><td>  1.00        </td><td>  1.00        </td><td>  1.00        </td></tr>\n",
       "\t<tr><th scope=row>RV</th><td>71047         </td><td>0             </td><td>0             </td><td>   5769       </td><td> 0.081199769  </td><td>0             </td><td> 0.27314358   </td><td>   0.074607417</td><td>  1.00        </td><td>0             </td><td>0             </td><td>0             </td><td>0             </td><td>0             </td><td>0             </td><td> 0.00         </td><td>  0.00        </td><td>  1.00        </td><td>  1.00        </td><td>  1.00        </td></tr>\n",
       "\t<tr><th scope=row>OCCPROF</th><td>71047         </td><td>0             </td><td>0             </td><td>  12355       </td><td> 0.173898968  </td><td>0             </td><td> 0.37902525   </td><td>   0.143660139</td><td>  1.00        </td><td>0             </td><td>0             </td><td>0             </td><td>0             </td><td>0             </td><td>0             </td><td> 0.00         </td><td>  1.00        </td><td>  1.00        </td><td>  1.00        </td><td>  1.00        </td></tr>\n",
       "\t<tr><th scope=row>OCCCLER</th><td>71047         </td><td>0             </td><td>0             </td><td>   1425       </td><td> 0.020057145  </td><td>0             </td><td> 0.14019676   </td><td>   0.019655133</td><td>  1.00        </td><td>0             </td><td>0             </td><td>0             </td><td>0             </td><td>0             </td><td>0             </td><td> 0.00         </td><td>  0.00        </td><td>  0.00        </td><td>  1.00        </td><td>  1.00        </td></tr>\n",
       "\t<tr><th scope=row>OCCCRFT</th><td>71047         </td><td>0             </td><td>0             </td><td>   2106       </td><td> 0.029642349  </td><td>0             </td><td> 0.16959978   </td><td>   0.028764085</td><td>  1.00        </td><td>0             </td><td>0             </td><td>0             </td><td>0             </td><td>0             </td><td>0             </td><td> 0.00         </td><td>  0.00        </td><td>  0.00        </td><td>  1.00        </td><td>  1.00        </td></tr>\n",
       "\t<tr><th scope=row>OCCSTUD</th><td>71047         </td><td>0             </td><td>0             </td><td>    538       </td><td> 0.007572452  </td><td>0             </td><td> 0.08669034   </td><td>   0.007515216</td><td>  1.00        </td><td>0             </td><td>0             </td><td>0             </td><td>0             </td><td>0             </td><td>0             </td><td> 0.00         </td><td>  0.00        </td><td>  0.00        </td><td>  0.00        </td><td>  1.00        </td></tr>\n",
       "\t<tr><th scope=row>OCCHMKR</th><td>71047         </td><td>0             </td><td>0             </td><td>    224       </td><td> 0.003152842  </td><td>0             </td><td> 0.05606199   </td><td>   0.003142946</td><td>  1.00        </td><td>0             </td><td>0             </td><td>0             </td><td>0             </td><td>0             </td><td>0             </td><td> 0.00         </td><td>  0.00        </td><td>  0.00        </td><td>  0.00        </td><td>  1.00        </td></tr>\n",
       "\t<tr><th scope=row>OCCRET</th><td>71047         </td><td>0             </td><td>0             </td><td>   1031       </td><td> 0.014511521  </td><td>0             </td><td> 0.11958736   </td><td>   0.014301138</td><td>  1.00        </td><td>0             </td><td>0             </td><td>0             </td><td>0             </td><td>0             </td><td>0             </td><td> 0.00         </td><td>  0.00        </td><td>  0.00        </td><td>  1.00        </td><td>  1.00        </td></tr>\n",
       "\t<tr><th scope=row>OCCSELF</th><td>71047         </td><td>0             </td><td>0             </td><td>   1267       </td><td> 0.017833265  </td><td>0             </td><td> 0.13234609   </td><td>   0.017515486</td><td>  1.00        </td><td>0             </td><td>0             </td><td>0             </td><td>0             </td><td>0             </td><td>0             </td><td> 0.00         </td><td>  0.00        </td><td>  0.00        </td><td>  1.00        </td><td>  1.00        </td></tr>\n",
       "\t<tr><th scope=row>OWNRENT</th><td>71047         </td><td>0             </td><td>0             </td><td>  23582       </td><td> 0.331921123  </td><td>0             </td><td> 0.47090616   </td><td>   0.221752612</td><td>  1.00        </td><td>0             </td><td>0             </td><td>0             </td><td>0             </td><td>0             </td><td>0             </td><td> 1.00         </td><td>  1.00        </td><td>  1.00        </td><td>  1.00        </td><td>  1.00        </td></tr>\n",
       "\t<tr><th scope=row>MARRYUN</th><td>71047         </td><td>0             </td><td>0             </td><td>  27340       </td><td> 0.384815685  </td><td>0             </td><td> 0.48655514   </td><td>   0.236735906</td><td>  1.00        </td><td>0             </td><td>0             </td><td>0             </td><td>0             </td><td>0             </td><td>0             </td><td> 1.00         </td><td>  1.00        </td><td>  1.00        </td><td>  1.00        </td><td>  1.00        </td></tr>\n",
       "\t<tr><th scope=row>MARRYYES</th><td>71047         </td><td>0             </td><td>0             </td><td>  25959       </td><td> 0.365377848  </td><td>0             </td><td> 0.48153934   </td><td>   0.231880140</td><td>  1.00        </td><td>0             </td><td>0             </td><td>0             </td><td>0             </td><td>0             </td><td>0             </td><td> 1.00         </td><td>  1.00        </td><td>  1.00        </td><td>  1.00        </td><td>  1.00        </td></tr>\n",
       "\t<tr><th scope=row>MARRYNO</th><td>71047         </td><td>0             </td><td>0             </td><td>  17748       </td><td> 0.249806466  </td><td>0             </td><td> 0.43290395   </td><td>   0.187405833</td><td>  1.00        </td><td>0             </td><td>0             </td><td>0             </td><td>0             </td><td>0             </td><td>0             </td><td> 0.00         </td><td>  1.00        </td><td>  1.00        </td><td>  1.00        </td><td>  1.00        </td></tr>\n",
       "\t<tr><th scope=row>MAILORD</th><td>71047         </td><td>0             </td><td>0             </td><td>  25717       </td><td> 0.361971653  </td><td>0             </td><td> 0.48057406   </td><td>   0.230951426</td><td>  1.00        </td><td>0             </td><td>0             </td><td>0             </td><td>0             </td><td>0             </td><td>0             </td><td> 1.00         </td><td>  1.00        </td><td>  1.00        </td><td>  1.00        </td><td>  1.00        </td></tr>\n",
       "\t<tr><th scope=row>MAILRES</th><td>71047         </td><td>0             </td><td>0             </td><td>  26799       </td><td> 0.377201008  </td><td>0             </td><td> 0.48468930   </td><td>   0.234923714</td><td>  1.00        </td><td>0             </td><td>0             </td><td>0             </td><td>0             </td><td>0             </td><td>0             </td><td> 1.00         </td><td>  1.00        </td><td>  1.00        </td><td>  1.00        </td><td>  1.00        </td></tr>\n",
       "\t<tr><th scope=row>MAILFLAG</th><td>71047         </td><td>0             </td><td>0             </td><td>   1024       </td><td> 0.014412994  </td><td>0             </td><td> 0.11918666   </td><td>   0.014205460</td><td>  1.00        </td><td>0             </td><td>0             </td><td>0             </td><td>0             </td><td>0             </td><td>0             </td><td> 0.00         </td><td>  0.00        </td><td>  0.00        </td><td>  1.00        </td><td>  1.00        </td></tr>\n",
       "\t<tr><th scope=row>TRAVEL</th><td>71047         </td><td>0             </td><td>0             </td><td>   4084       </td><td> 0.057483075  </td><td>0             </td><td> 0.23276497   </td><td>   0.054179533</td><td>  1.00        </td><td>0             </td><td>0             </td><td>0             </td><td>0             </td><td>0             </td><td>0             </td><td> 0.00         </td><td>  0.00        </td><td>  1.00        </td><td>  1.00        </td><td>  1.00        </td></tr>\n",
       "\t<tr><th scope=row>PCOWN</th><td>71047         </td><td>0             </td><td>0             </td><td>  13173       </td><td> 0.185412473  </td><td>0             </td><td> 0.38863455   </td><td>   0.151036814</td><td>  1.00        </td><td>0             </td><td>0             </td><td>0             </td><td>0             </td><td>0             </td><td>0             </td><td> 0.00         </td><td>  1.00        </td><td>  1.00        </td><td>  1.00        </td><td>  1.00        </td></tr>\n",
       "\t<tr><th scope=row>CREDITCD</th><td>71047         </td><td>0             </td><td>0             </td><td>  48058       </td><td> 0.676425465  </td><td>1             </td><td> 0.46784307   </td><td>   0.218877136</td><td>  1.00        </td><td>0             </td><td>0             </td><td>0             </td><td>0             </td><td>0             </td><td>1             </td><td> 1.00         </td><td>  1.00        </td><td>  1.00        </td><td>  1.00        </td><td>  1.00        </td></tr>\n",
       "\t<tr><th scope=row>NEWCELLY</th><td>71047         </td><td>0             </td><td>0             </td><td>  13708       </td><td> 0.192942700  </td><td>0             </td><td> 0.39461121   </td><td>   0.155718006</td><td>  1.00        </td><td>0             </td><td>0             </td><td>0             </td><td>0             </td><td>0             </td><td>0             </td><td> 0.00         </td><td>  1.00        </td><td>  1.00        </td><td>  1.00        </td><td>  1.00        </td></tr>\n",
       "\t<tr><th scope=row>REFER</th><td>71047         </td><td>0             </td><td>0             </td><td>   3613       </td><td> 0.050853660  </td><td>0             </td><td> 0.29044369   </td><td>   0.084357539</td><td> 35.00        </td><td>0             </td><td>0             </td><td>0             </td><td>0             </td><td>0             </td><td>0             </td><td> 0.00         </td><td>  0.00        </td><td>  0.00        </td><td>  1.00        </td><td> 35.00        </td></tr>\n",
       "\t<tr><th scope=row>INCOME</th><td>71047         </td><td>0             </td><td>0             </td><td> 307934       </td><td> 4.334229454  </td><td>5             </td><td> 3.13706307   </td><td>   9.841164702</td><td>  9.00        </td><td>0             </td><td>0             </td><td>0             </td><td>0             </td><td>1             </td><td>5             </td><td> 7.00         </td><td>  9.00        </td><td>  9.00        </td><td>  9.00        </td><td>  9.00        </td></tr>\n",
       "\t<tr><th scope=row>MCYCLE</th><td>71047         </td><td>0             </td><td>0             </td><td>    956       </td><td> 0.013455881  </td><td>0             </td><td> 0.11521722   </td><td>   0.013275007</td><td>  1.00        </td><td>0             </td><td>0             </td><td>0             </td><td>0             </td><td>0             </td><td>0             </td><td> 0.00         </td><td>  0.00        </td><td>  0.00        </td><td>  1.00        </td><td>  1.00        </td></tr>\n",
       "\t<tr><th scope=row>CREDITAD</th><td>71047         </td><td>0             </td><td>0             </td><td>   3777       </td><td> 0.053161991  </td><td>0             </td><td> 0.37498805   </td><td>   0.140616040</td><td> 25.00        </td><td>0             </td><td>0             </td><td>0             </td><td>0             </td><td>0             </td><td>0             </td><td> 0.00         </td><td>  0.00        </td><td>  0.00        </td><td>  1.00        </td><td> 25.00        </td></tr>\n",
       "\t<tr><th scope=row>SETPRC</th><td>71047         </td><td>0             </td><td>0             </td><td>2543382       </td><td>35.798584317  </td><td>0             </td><td>57.04096436   </td><td>3253.671615368</td><td>499.99        </td><td>0             </td><td>0             </td><td>0             </td><td>0             </td><td>0             </td><td>0             </td><td>39.99         </td><td>149.99        </td><td>149.99        </td><td>199.99        </td><td>499.99        </td></tr>\n",
       "</tbody>\n",
       "</table>\n"
      ],
      "text/latex": [
       "\\begin{tabular}{r|llllllllllllllllllll}\n",
       "  & N & Nmiss & Nmiss\\_pct & sum & avg & meidan.50. & std & var & range & pctl.0. & pctl.1. & pctl.5. & pctl.10. & pctl.25. & pctl.50. & pctl.75. & pctl.90. & pctl.95. & pctl.99. & pctl.100.\\\\\n",
       "\\hline\n",
       "\tREVENUE & 71047          &  216           & 0.304024097    &  4168684.94    &  58.85396140   &  48.53         &  44.2436131    &   1957.4973041 & 1229.55        &    -6.17       &   10.000       &   15.515       &   26.160       &  33.64         &  48.53         &  71.030        &  103.950       &  135.390       &  225.5120      & 1223.38       \\\\\n",
       "\tMOU & 71047          &  216           & 0.304024097    & 37237867.76    & 525.72839237   & 366.00         & 530.1342593    & 281042.3328604 & 7667.75        &     0.00       &    0.000       &   20.415       &   52.750       & 158.25         & 366.00         & 721.750        & 1202.000       & 1580.250       & 2450.1250      & 7667.75       \\\\\n",
       "\tRECCHRGE & 71047          &  216           & 0.304024097    &  3320308.78    &  46.87649165   &  44.99         &  23.9151030    &    571.9321521 &  411.28        &   -11.29       &    9.190       &   10.000       &   19.990       &  30.00         &  44.99         &  59.990        &   75.000       &   85.000       &  119.9900      &  399.99       \\\\\n",
       "\tDIRECTAS & 71047          &  216           & 0.304024097    &    63379.66    &   0.89480115   &   0.25         &   2.1978148    &      4.8303898 &  159.39        &     0.00       &    0.000       &    0.000       &    0.000       &   0.00         &   0.25         &   0.990        &    2.480       &    4.210       &    9.6500      &  159.39       \\\\\n",
       "\tOVERAGE & 71047          &  216           & 0.304024097    &  2839994.43    &  40.09535980   &   2.50         &  96.3471032    &   9282.7643027 & 4320.75        &     0.00       &    0.000       &    0.000       &    0.000       &   0.00         &   2.50         &  40.750        &  115.750       &  190.375       &  427.6750      & 4320.75       \\\\\n",
       "\tROAM & 71047          &  216           & 0.304024097    &    86521.92    &   1.22152617   &   0.00         &   9.0811962    &     82.4681238 & 1112.45        &     0.00       &    0.000       &    0.000       &    0.000       &   0.00         &   0.00         &   0.260        &    2.130       &    5.090       &   21.5570      & 1112.45       \\\\\n",
       "\tCHANGEM & 71047          &  502           & 0.706574521    &  -765163.62    & -10.84646141   &  -5.00         & 255.3143155    &  65185.3996861 & 9067.25        & -3875.00       & -831.890       & -376.250       & -229.250       & -83.00         &  -5.00         &  65.750        &  208.500       &  345.250       &  739.6700      & 5192.25       \\\\\n",
       "\tCHANGER & 71047          &  502           & 0.706574521    &   -85072.02    &  -1.20592558   &  -0.29         &  38.7706954    &   1503.1668189 & 3591.22        & -1107.74       & -104.536       &  -47.500       &  -27.776       &  -7.11         &  -0.29         &   1.600        &   21.810       &   46.218       &  118.3456      & 2483.48       \\\\\n",
       "\tDROPVCE & 71047          &    0           & 0.000000000    &   426987.32    &   6.00992751   &   3.00         &   9.0061745    &     81.1111793 &  221.67        &     0.00       &    0.000       &    0.000       &    0.000       &   0.67         &   3.00         &   7.670        &   15.000       &   22.000       &   42.0000      &  221.67       \\\\\n",
       "\tBLCKVCE & 71047          &    0           & 0.000000000    &   288997.57    &   4.06769561   &   1.00         &  10.6708225    &    113.8664532 &  384.33        &     0.00       &    0.000       &    0.000       &    0.000       &   0.00         &   1.00         &   3.670        &   10.000       &   17.330       &   47.0000      &  384.33       \\\\\n",
       "\tUNANSVCE & 71047          &    0           & 0.000000000    &  2014601.10    &  28.35589258   &  16.33         &  38.9042344    &   1513.5394522 &  848.67        &     0.00       &    0.000       &    0.000       &    0.330       &   5.33         &  16.33         &  36.670        &   68.330       &   97.670       &  179.3300      &  848.67       \\\\\n",
       "\tCUSTCARE & 71047          &    0           & 0.000000000    &   132560.46    &   1.86581362   &   0.00         &   5.1607990    &     26.6338465 &  365.67        &     0.00       &    0.000       &    0.000       &    0.000       &   0.00         &   0.00         &   1.670        &    5.330       &    9.330       &   21.0000      &  365.67       \\\\\n",
       "\tTHREEWAY & 71047          &    0           & 0.000000000    &    21309.74    &   0.29993863   &   0.00         &   1.1616021    &      1.3493194 &   66.00        &     0.00       &    0.000       &    0.000       &    0.000       &   0.00         &   0.00         &   0.330        &    0.670       &    1.330       &    4.0000      &   66.00       \\\\\n",
       "\tMOUREC & 71047          &    0           & 0.000000000    &  8165809.64    & 114.93531944   &  52.50         & 166.3057176    &  27657.5916934 & 3287.25        &     0.00       &    0.000       &    0.000       &    0.000       &   8.43         &  52.50         & 154.135        &  310.262       &  440.938       &  772.6548      & 3287.25       \\\\\n",
       "\tOUTCALLS & 71047          &    0           & 0.000000000    &  1804345.20    &  25.39650091   &  13.67         &  35.1475249    &   1235.3485056 &  644.33        &     0.00       &    0.000       &    0.000       &    0.000       &   3.33         &  13.67         &  34.000        &   64.330       &   90.330       &  164.3300      &  644.33       \\\\\n",
       "\tINCALLS & 71047          &    0           & 0.000000000    &   580931.24    &   8.17671738   &   2.00         &  16.5191066    &    272.8808823 &  519.33        &     0.00       &    0.000       &    0.000       &    0.000       &   0.00         &   2.00         &   9.330        &   22.670       &   35.670       &   77.0000      &  519.33       \\\\\n",
       "\tPEAKVCE & 71047          &    0           & 0.000000000    &  6435504.62    &  90.58094810   &  62.00         & 104.9148764    &  11007.1312815 & 2090.67        &     0.00       &    0.000       &    0.000       &    2.330       &  23.00         &  62.00         & 121.165        &  204.330       &  279.670       &  500.0000      & 2090.67       \\\\\n",
       "\tOPEAKVCE & 71047          &    0           & 0.000000000    &  4818294.44    &  67.81840810   &  35.67         &  93.3289932    &   8710.3009753 & 1572.67        &     0.00       &    0.000       &    0.000       &    0.670       &  11.00         &  35.67         &  88.670        &  170.802       &  242.000       &  437.0000      & 1572.67       \\\\\n",
       "\tDROPBLK & 71047          &    0           & 0.000000000    &   721105.69    &  10.14969935   &   5.33         &  15.4606138    &    239.0305777 &  489.67        &     0.00       &    0.000       &    0.000       &    0.000       &   1.67         &   5.33         &  12.670        &   24.330       &   35.330       &   71.3300      &  489.67       \\\\\n",
       "\tCALLFWDV & 71047          &    0           & 0.000000000    &      840.74    &   0.01183357   &   0.00         &   0.5621931    &      0.3160611 &   81.33        &     0.00       &    0.000       &    0.000       &    0.000       &   0.00         &   0.00         &   0.000        &    0.000       &    0.000       &    0.0000      &   81.33       \\\\\n",
       "\tCALLWAIT & 71047          &    0           & 0.000000000    &   131641.33    &   1.85287669   &   0.33         &   5.5562592    &     30.8720160 &  212.67        &     0.00       &    0.000       &    0.000       &    0.000       &   0.00         &   0.33         &   1.330        &    4.670       &    8.670       &   23.3300      &  212.67       \\\\\n",
       "\tCHURN & 71047          &    0           & 0.000000000    &    20609.00    &   0.29007558   &   0.00         &   0.4538002    &      0.2059346 &    1.00        &     0.00       &    0.000       &    0.000       &    0.000       &   0.00         &   0.00         &   1.000        &    1.000       &    1.000       &    1.0000      &    1.00       \\\\\n",
       "\tMONTHS & 71047          &    0           & 0.000000000    &  1332190.00    &  18.75082692   &  16.00         &   9.7875685    &     95.7964965 &   55.00        &     6.00       &    6.000       &    7.000       &    8.000       &  11.00         &  16.00         &  24.000        &   33.000       &   37.000       &   49.0000      &   61.00       \\\\\n",
       "\tUNIQSUBS & 71047          &    0           & 0.000000000    &   108670.00    &   1.52955086   &   1.00         &   1.1317740    &      1.2809125 &  195.00        &     1.00       &    1.000       &    1.000       &    1.000       &   1.00         &   1.00         &   2.000        &    3.000       &    3.000       &    5.0000      &  196.00       \\\\\n",
       "\tACTVSUBS & 71047          &    0           & 0.000000000    &    96031.00    &   1.35165454   &   1.00         &   0.6600493    &      0.4356651 &   53.00        &     0.00       &    1.000       &    1.000       &    1.000       &   1.00         &   1.00         &   2.000        &    2.000       &    2.000       &    4.0000      &   53.00       \\\\\n",
       "\tPHONES & 71047          &    1           & 0.001407519    &   128495.00    &   1.80861695   &   1.00         &   1.3361203    &      1.7852173 &   27.00        &     1.00       &    1.000       &    1.000       &    1.000       &   1.00         &   1.00         &   2.000        &    3.000       &    4.000       &    7.0000      &   28.00       \\\\\n",
       "\tMODELS & 71047          &    1           & 0.001407519    &   110959.00    &   1.56179095   &   1.00         &   0.9082805    &      0.8249734 &   15.00        &     1.00       &    1.000       &    1.000       &    1.000       &   1.00         &   1.00         &   2.000        &    3.000       &    3.000       &    5.0000      &   16.00       \\\\\n",
       "\tEQPDAYS & 71047          &    1           & 0.001407519    & 27016352.00    & 380.26563072   & 330.00         & 254.2946923    &  64665.7905414 & 1828.00        &    -5.00       &    7.000       &   42.000       &   87.000       & 204.00         & 330.00         & 515.000        &  732.000       &  865.750       & 1150.0000      & 1823.00       \\\\\n",
       "\tAGE1 & 71047          & 1244           & 1.750953594    &  2190077.00    &  31.37511282   &  36.00         &  22.0821950    &    487.6233352 &   99.00        &     0.00       &    0.000       &    0.000       &    0.000       &   0.00         &  36.00         &  48.000        &   56.000       &   62.000       &   74.0000      &   99.00       \\\\\n",
       "\tAGE2 & 71047          & 1244           & 1.750953594    &  1476872.00    &  21.15771528   &   0.00         &  23.9175855    &    572.0508970 &   99.00        &     0.00       &    0.000       &    0.000       &    0.000       &   0.00         &   0.00         &  42.000        &   54.000       &   62.000       &   76.0000      &   99.00       \\\\\n",
       "\t... & ... & ... & ... & ... & ... & ... & ... & ... & ... & ... & ... & ... & ... & ... & ... & ... & ... & ... & ... & ...\\\\\n",
       "\tPRIZMRUR & 71047          & 0              & 0              &    3392        &  0.047743043   & 0              &  0.21322356    &    0.045464285 &   1.00         & 0              & 0              & 0              & 0              & 0              & 0              &  0.00          &   0.00         &   0.00         &   1.00         &   1.00        \\\\\n",
       "\tPRIZMUB & 71047          & 0              & 0              &   22814        &  0.321111377   & 0              &  0.46690677    &    0.218001929 &   1.00         & 0              & 0              & 0              & 0              & 0              & 0              &  1.00          &   1.00         &   1.00         &   1.00         &   1.00        \\\\\n",
       "\tPRIZMTWN & 71047          & 0              & 0              &   10545        &  0.148422875   & 0              &  0.35552117    &    0.126395304 &   1.00         & 0              & 0              & 0              & 0              & 0              & 0              &  0.00          &   1.00         &   1.00         &   1.00         &   1.00        \\\\\n",
       "\tREFURB & 71047          & 0              & 0              &    9919        &  0.139611806   & 0              &  0.34658627    &    0.120122041 &   1.00         & 0              & 0              & 0              & 0              & 0              & 0              &  0.00          &   1.00         &   1.00         &   1.00         &   1.00        \\\\\n",
       "\tWEBCAP & 71047          & 0              & 0              &   64142        &  0.902810815   & 1              &  0.29621729    &    0.087744682 &   1.00         & 0              & 0              & 0              & 1              & 1              & 1              &  1.00          &   1.00         &   1.00         &   1.00         &   1.00        \\\\\n",
       "\tTRUCK & 71047          & 0              & 0              &   13301        &  0.187214098   & 0              &  0.39008604    &    0.152167121 &   1.00         & 0              & 0              & 0              & 0              & 0              & 0              &  0.00          &   1.00         &   1.00         &   1.00         &   1.00        \\\\\n",
       "\tRV & 71047          & 0              & 0              &    5769        &  0.081199769   & 0              &  0.27314358    &    0.074607417 &   1.00         & 0              & 0              & 0              & 0              & 0              & 0              &  0.00          &   0.00         &   1.00         &   1.00         &   1.00        \\\\\n",
       "\tOCCPROF & 71047          & 0              & 0              &   12355        &  0.173898968   & 0              &  0.37902525    &    0.143660139 &   1.00         & 0              & 0              & 0              & 0              & 0              & 0              &  0.00          &   1.00         &   1.00         &   1.00         &   1.00        \\\\\n",
       "\tOCCCLER & 71047          & 0              & 0              &    1425        &  0.020057145   & 0              &  0.14019676    &    0.019655133 &   1.00         & 0              & 0              & 0              & 0              & 0              & 0              &  0.00          &   0.00         &   0.00         &   1.00         &   1.00        \\\\\n",
       "\tOCCCRFT & 71047          & 0              & 0              &    2106        &  0.029642349   & 0              &  0.16959978    &    0.028764085 &   1.00         & 0              & 0              & 0              & 0              & 0              & 0              &  0.00          &   0.00         &   0.00         &   1.00         &   1.00        \\\\\n",
       "\tOCCSTUD & 71047          & 0              & 0              &     538        &  0.007572452   & 0              &  0.08669034    &    0.007515216 &   1.00         & 0              & 0              & 0              & 0              & 0              & 0              &  0.00          &   0.00         &   0.00         &   0.00         &   1.00        \\\\\n",
       "\tOCCHMKR & 71047          & 0              & 0              &     224        &  0.003152842   & 0              &  0.05606199    &    0.003142946 &   1.00         & 0              & 0              & 0              & 0              & 0              & 0              &  0.00          &   0.00         &   0.00         &   0.00         &   1.00        \\\\\n",
       "\tOCCRET & 71047          & 0              & 0              &    1031        &  0.014511521   & 0              &  0.11958736    &    0.014301138 &   1.00         & 0              & 0              & 0              & 0              & 0              & 0              &  0.00          &   0.00         &   0.00         &   1.00         &   1.00        \\\\\n",
       "\tOCCSELF & 71047          & 0              & 0              &    1267        &  0.017833265   & 0              &  0.13234609    &    0.017515486 &   1.00         & 0              & 0              & 0              & 0              & 0              & 0              &  0.00          &   0.00         &   0.00         &   1.00         &   1.00        \\\\\n",
       "\tOWNRENT & 71047          & 0              & 0              &   23582        &  0.331921123   & 0              &  0.47090616    &    0.221752612 &   1.00         & 0              & 0              & 0              & 0              & 0              & 0              &  1.00          &   1.00         &   1.00         &   1.00         &   1.00        \\\\\n",
       "\tMARRYUN & 71047          & 0              & 0              &   27340        &  0.384815685   & 0              &  0.48655514    &    0.236735906 &   1.00         & 0              & 0              & 0              & 0              & 0              & 0              &  1.00          &   1.00         &   1.00         &   1.00         &   1.00        \\\\\n",
       "\tMARRYYES & 71047          & 0              & 0              &   25959        &  0.365377848   & 0              &  0.48153934    &    0.231880140 &   1.00         & 0              & 0              & 0              & 0              & 0              & 0              &  1.00          &   1.00         &   1.00         &   1.00         &   1.00        \\\\\n",
       "\tMARRYNO & 71047          & 0              & 0              &   17748        &  0.249806466   & 0              &  0.43290395    &    0.187405833 &   1.00         & 0              & 0              & 0              & 0              & 0              & 0              &  0.00          &   1.00         &   1.00         &   1.00         &   1.00        \\\\\n",
       "\tMAILORD & 71047          & 0              & 0              &   25717        &  0.361971653   & 0              &  0.48057406    &    0.230951426 &   1.00         & 0              & 0              & 0              & 0              & 0              & 0              &  1.00          &   1.00         &   1.00         &   1.00         &   1.00        \\\\\n",
       "\tMAILRES & 71047          & 0              & 0              &   26799        &  0.377201008   & 0              &  0.48468930    &    0.234923714 &   1.00         & 0              & 0              & 0              & 0              & 0              & 0              &  1.00          &   1.00         &   1.00         &   1.00         &   1.00        \\\\\n",
       "\tMAILFLAG & 71047          & 0              & 0              &    1024        &  0.014412994   & 0              &  0.11918666    &    0.014205460 &   1.00         & 0              & 0              & 0              & 0              & 0              & 0              &  0.00          &   0.00         &   0.00         &   1.00         &   1.00        \\\\\n",
       "\tTRAVEL & 71047          & 0              & 0              &    4084        &  0.057483075   & 0              &  0.23276497    &    0.054179533 &   1.00         & 0              & 0              & 0              & 0              & 0              & 0              &  0.00          &   0.00         &   1.00         &   1.00         &   1.00        \\\\\n",
       "\tPCOWN & 71047          & 0              & 0              &   13173        &  0.185412473   & 0              &  0.38863455    &    0.151036814 &   1.00         & 0              & 0              & 0              & 0              & 0              & 0              &  0.00          &   1.00         &   1.00         &   1.00         &   1.00        \\\\\n",
       "\tCREDITCD & 71047          & 0              & 0              &   48058        &  0.676425465   & 1              &  0.46784307    &    0.218877136 &   1.00         & 0              & 0              & 0              & 0              & 0              & 1              &  1.00          &   1.00         &   1.00         &   1.00         &   1.00        \\\\\n",
       "\tNEWCELLY & 71047          & 0              & 0              &   13708        &  0.192942700   & 0              &  0.39461121    &    0.155718006 &   1.00         & 0              & 0              & 0              & 0              & 0              & 0              &  0.00          &   1.00         &   1.00         &   1.00         &   1.00        \\\\\n",
       "\tREFER & 71047          & 0              & 0              &    3613        &  0.050853660   & 0              &  0.29044369    &    0.084357539 &  35.00         & 0              & 0              & 0              & 0              & 0              & 0              &  0.00          &   0.00         &   0.00         &   1.00         &  35.00        \\\\\n",
       "\tINCOME & 71047          & 0              & 0              &  307934        &  4.334229454   & 5              &  3.13706307    &    9.841164702 &   9.00         & 0              & 0              & 0              & 0              & 1              & 5              &  7.00          &   9.00         &   9.00         &   9.00         &   9.00        \\\\\n",
       "\tMCYCLE & 71047          & 0              & 0              &     956        &  0.013455881   & 0              &  0.11521722    &    0.013275007 &   1.00         & 0              & 0              & 0              & 0              & 0              & 0              &  0.00          &   0.00         &   0.00         &   1.00         &   1.00        \\\\\n",
       "\tCREDITAD & 71047          & 0              & 0              &    3777        &  0.053161991   & 0              &  0.37498805    &    0.140616040 &  25.00         & 0              & 0              & 0              & 0              & 0              & 0              &  0.00          &   0.00         &   0.00         &   1.00         &  25.00        \\\\\n",
       "\tSETPRC & 71047          & 0              & 0              & 2543382        & 35.798584317   & 0              & 57.04096436    & 3253.671615368 & 499.99         & 0              & 0              & 0              & 0              & 0              & 0              & 39.99          & 149.99         & 149.99         & 199.99         & 499.99        \\\\\n",
       "\\end{tabular}\n"
      ],
      "text/markdown": [
       "\n",
       "| <!--/--> | N | Nmiss | Nmiss_pct | sum | avg | meidan.50. | std | var | range | pctl.0. | pctl.1. | pctl.5. | pctl.10. | pctl.25. | pctl.50. | pctl.75. | pctl.90. | pctl.95. | pctl.99. | pctl.100. |\n",
       "|---|---|---|---|---|---|---|---|---|---|---|---|---|---|---|---|---|---|---|---|---|\n",
       "| REVENUE | 71047          |  216           | 0.304024097    |  4168684.94    |  58.85396140   |  48.53         |  44.2436131    |   1957.4973041 | 1229.55        |    -6.17       |   10.000       |   15.515       |   26.160       |  33.64         |  48.53         |  71.030        |  103.950       |  135.390       |  225.5120      | 1223.38        |\n",
       "| MOU | 71047          |  216           | 0.304024097    | 37237867.76    | 525.72839237   | 366.00         | 530.1342593    | 281042.3328604 | 7667.75        |     0.00       |    0.000       |   20.415       |   52.750       | 158.25         | 366.00         | 721.750        | 1202.000       | 1580.250       | 2450.1250      | 7667.75        |\n",
       "| RECCHRGE | 71047          |  216           | 0.304024097    |  3320308.78    |  46.87649165   |  44.99         |  23.9151030    |    571.9321521 |  411.28        |   -11.29       |    9.190       |   10.000       |   19.990       |  30.00         |  44.99         |  59.990        |   75.000       |   85.000       |  119.9900      |  399.99        |\n",
       "| DIRECTAS | 71047          |  216           | 0.304024097    |    63379.66    |   0.89480115   |   0.25         |   2.1978148    |      4.8303898 |  159.39        |     0.00       |    0.000       |    0.000       |    0.000       |   0.00         |   0.25         |   0.990        |    2.480       |    4.210       |    9.6500      |  159.39        |\n",
       "| OVERAGE | 71047          |  216           | 0.304024097    |  2839994.43    |  40.09535980   |   2.50         |  96.3471032    |   9282.7643027 | 4320.75        |     0.00       |    0.000       |    0.000       |    0.000       |   0.00         |   2.50         |  40.750        |  115.750       |  190.375       |  427.6750      | 4320.75        |\n",
       "| ROAM | 71047          |  216           | 0.304024097    |    86521.92    |   1.22152617   |   0.00         |   9.0811962    |     82.4681238 | 1112.45        |     0.00       |    0.000       |    0.000       |    0.000       |   0.00         |   0.00         |   0.260        |    2.130       |    5.090       |   21.5570      | 1112.45        |\n",
       "| CHANGEM | 71047          |  502           | 0.706574521    |  -765163.62    | -10.84646141   |  -5.00         | 255.3143155    |  65185.3996861 | 9067.25        | -3875.00       | -831.890       | -376.250       | -229.250       | -83.00         |  -5.00         |  65.750        |  208.500       |  345.250       |  739.6700      | 5192.25        |\n",
       "| CHANGER | 71047          |  502           | 0.706574521    |   -85072.02    |  -1.20592558   |  -0.29         |  38.7706954    |   1503.1668189 | 3591.22        | -1107.74       | -104.536       |  -47.500       |  -27.776       |  -7.11         |  -0.29         |   1.600        |   21.810       |   46.218       |  118.3456      | 2483.48        |\n",
       "| DROPVCE | 71047          |    0           | 0.000000000    |   426987.32    |   6.00992751   |   3.00         |   9.0061745    |     81.1111793 |  221.67        |     0.00       |    0.000       |    0.000       |    0.000       |   0.67         |   3.00         |   7.670        |   15.000       |   22.000       |   42.0000      |  221.67        |\n",
       "| BLCKVCE | 71047          |    0           | 0.000000000    |   288997.57    |   4.06769561   |   1.00         |  10.6708225    |    113.8664532 |  384.33        |     0.00       |    0.000       |    0.000       |    0.000       |   0.00         |   1.00         |   3.670        |   10.000       |   17.330       |   47.0000      |  384.33        |\n",
       "| UNANSVCE | 71047          |    0           | 0.000000000    |  2014601.10    |  28.35589258   |  16.33         |  38.9042344    |   1513.5394522 |  848.67        |     0.00       |    0.000       |    0.000       |    0.330       |   5.33         |  16.33         |  36.670        |   68.330       |   97.670       |  179.3300      |  848.67        |\n",
       "| CUSTCARE | 71047          |    0           | 0.000000000    |   132560.46    |   1.86581362   |   0.00         |   5.1607990    |     26.6338465 |  365.67        |     0.00       |    0.000       |    0.000       |    0.000       |   0.00         |   0.00         |   1.670        |    5.330       |    9.330       |   21.0000      |  365.67        |\n",
       "| THREEWAY | 71047          |    0           | 0.000000000    |    21309.74    |   0.29993863   |   0.00         |   1.1616021    |      1.3493194 |   66.00        |     0.00       |    0.000       |    0.000       |    0.000       |   0.00         |   0.00         |   0.330        |    0.670       |    1.330       |    4.0000      |   66.00        |\n",
       "| MOUREC | 71047          |    0           | 0.000000000    |  8165809.64    | 114.93531944   |  52.50         | 166.3057176    |  27657.5916934 | 3287.25        |     0.00       |    0.000       |    0.000       |    0.000       |   8.43         |  52.50         | 154.135        |  310.262       |  440.938       |  772.6548      | 3287.25        |\n",
       "| OUTCALLS | 71047          |    0           | 0.000000000    |  1804345.20    |  25.39650091   |  13.67         |  35.1475249    |   1235.3485056 |  644.33        |     0.00       |    0.000       |    0.000       |    0.000       |   3.33         |  13.67         |  34.000        |   64.330       |   90.330       |  164.3300      |  644.33        |\n",
       "| INCALLS | 71047          |    0           | 0.000000000    |   580931.24    |   8.17671738   |   2.00         |  16.5191066    |    272.8808823 |  519.33        |     0.00       |    0.000       |    0.000       |    0.000       |   0.00         |   2.00         |   9.330        |   22.670       |   35.670       |   77.0000      |  519.33        |\n",
       "| PEAKVCE | 71047          |    0           | 0.000000000    |  6435504.62    |  90.58094810   |  62.00         | 104.9148764    |  11007.1312815 | 2090.67        |     0.00       |    0.000       |    0.000       |    2.330       |  23.00         |  62.00         | 121.165        |  204.330       |  279.670       |  500.0000      | 2090.67        |\n",
       "| OPEAKVCE | 71047          |    0           | 0.000000000    |  4818294.44    |  67.81840810   |  35.67         |  93.3289932    |   8710.3009753 | 1572.67        |     0.00       |    0.000       |    0.000       |    0.670       |  11.00         |  35.67         |  88.670        |  170.802       |  242.000       |  437.0000      | 1572.67        |\n",
       "| DROPBLK | 71047          |    0           | 0.000000000    |   721105.69    |  10.14969935   |   5.33         |  15.4606138    |    239.0305777 |  489.67        |     0.00       |    0.000       |    0.000       |    0.000       |   1.67         |   5.33         |  12.670        |   24.330       |   35.330       |   71.3300      |  489.67        |\n",
       "| CALLFWDV | 71047          |    0           | 0.000000000    |      840.74    |   0.01183357   |   0.00         |   0.5621931    |      0.3160611 |   81.33        |     0.00       |    0.000       |    0.000       |    0.000       |   0.00         |   0.00         |   0.000        |    0.000       |    0.000       |    0.0000      |   81.33        |\n",
       "| CALLWAIT | 71047          |    0           | 0.000000000    |   131641.33    |   1.85287669   |   0.33         |   5.5562592    |     30.8720160 |  212.67        |     0.00       |    0.000       |    0.000       |    0.000       |   0.00         |   0.33         |   1.330        |    4.670       |    8.670       |   23.3300      |  212.67        |\n",
       "| CHURN | 71047          |    0           | 0.000000000    |    20609.00    |   0.29007558   |   0.00         |   0.4538002    |      0.2059346 |    1.00        |     0.00       |    0.000       |    0.000       |    0.000       |   0.00         |   0.00         |   1.000        |    1.000       |    1.000       |    1.0000      |    1.00        |\n",
       "| MONTHS | 71047          |    0           | 0.000000000    |  1332190.00    |  18.75082692   |  16.00         |   9.7875685    |     95.7964965 |   55.00        |     6.00       |    6.000       |    7.000       |    8.000       |  11.00         |  16.00         |  24.000        |   33.000       |   37.000       |   49.0000      |   61.00        |\n",
       "| UNIQSUBS | 71047          |    0           | 0.000000000    |   108670.00    |   1.52955086   |   1.00         |   1.1317740    |      1.2809125 |  195.00        |     1.00       |    1.000       |    1.000       |    1.000       |   1.00         |   1.00         |   2.000        |    3.000       |    3.000       |    5.0000      |  196.00        |\n",
       "| ACTVSUBS | 71047          |    0           | 0.000000000    |    96031.00    |   1.35165454   |   1.00         |   0.6600493    |      0.4356651 |   53.00        |     0.00       |    1.000       |    1.000       |    1.000       |   1.00         |   1.00         |   2.000        |    2.000       |    2.000       |    4.0000      |   53.00        |\n",
       "| PHONES | 71047          |    1           | 0.001407519    |   128495.00    |   1.80861695   |   1.00         |   1.3361203    |      1.7852173 |   27.00        |     1.00       |    1.000       |    1.000       |    1.000       |   1.00         |   1.00         |   2.000        |    3.000       |    4.000       |    7.0000      |   28.00        |\n",
       "| MODELS | 71047          |    1           | 0.001407519    |   110959.00    |   1.56179095   |   1.00         |   0.9082805    |      0.8249734 |   15.00        |     1.00       |    1.000       |    1.000       |    1.000       |   1.00         |   1.00         |   2.000        |    3.000       |    3.000       |    5.0000      |   16.00        |\n",
       "| EQPDAYS | 71047          |    1           | 0.001407519    | 27016352.00    | 380.26563072   | 330.00         | 254.2946923    |  64665.7905414 | 1828.00        |    -5.00       |    7.000       |   42.000       |   87.000       | 204.00         | 330.00         | 515.000        |  732.000       |  865.750       | 1150.0000      | 1823.00        |\n",
       "| AGE1 | 71047          | 1244           | 1.750953594    |  2190077.00    |  31.37511282   |  36.00         |  22.0821950    |    487.6233352 |   99.00        |     0.00       |    0.000       |    0.000       |    0.000       |   0.00         |  36.00         |  48.000        |   56.000       |   62.000       |   74.0000      |   99.00        |\n",
       "| AGE2 | 71047          | 1244           | 1.750953594    |  1476872.00    |  21.15771528   |   0.00         |  23.9175855    |    572.0508970 |   99.00        |     0.00       |    0.000       |    0.000       |    0.000       |   0.00         |   0.00         |  42.000        |   54.000       |   62.000       |   76.0000      |   99.00        |\n",
       "| ... | ... | ... | ... | ... | ... | ... | ... | ... | ... | ... | ... | ... | ... | ... | ... | ... | ... | ... | ... | ... |\n",
       "| PRIZMRUR | 71047          | 0              | 0              |    3392        |  0.047743043   | 0              |  0.21322356    |    0.045464285 |   1.00         | 0              | 0              | 0              | 0              | 0              | 0              |  0.00          |   0.00         |   0.00         |   1.00         |   1.00         |\n",
       "| PRIZMUB | 71047          | 0              | 0              |   22814        |  0.321111377   | 0              |  0.46690677    |    0.218001929 |   1.00         | 0              | 0              | 0              | 0              | 0              | 0              |  1.00          |   1.00         |   1.00         |   1.00         |   1.00         |\n",
       "| PRIZMTWN | 71047          | 0              | 0              |   10545        |  0.148422875   | 0              |  0.35552117    |    0.126395304 |   1.00         | 0              | 0              | 0              | 0              | 0              | 0              |  0.00          |   1.00         |   1.00         |   1.00         |   1.00         |\n",
       "| REFURB | 71047          | 0              | 0              |    9919        |  0.139611806   | 0              |  0.34658627    |    0.120122041 |   1.00         | 0              | 0              | 0              | 0              | 0              | 0              |  0.00          |   1.00         |   1.00         |   1.00         |   1.00         |\n",
       "| WEBCAP | 71047          | 0              | 0              |   64142        |  0.902810815   | 1              |  0.29621729    |    0.087744682 |   1.00         | 0              | 0              | 0              | 1              | 1              | 1              |  1.00          |   1.00         |   1.00         |   1.00         |   1.00         |\n",
       "| TRUCK | 71047          | 0              | 0              |   13301        |  0.187214098   | 0              |  0.39008604    |    0.152167121 |   1.00         | 0              | 0              | 0              | 0              | 0              | 0              |  0.00          |   1.00         |   1.00         |   1.00         |   1.00         |\n",
       "| RV | 71047          | 0              | 0              |    5769        |  0.081199769   | 0              |  0.27314358    |    0.074607417 |   1.00         | 0              | 0              | 0              | 0              | 0              | 0              |  0.00          |   0.00         |   1.00         |   1.00         |   1.00         |\n",
       "| OCCPROF | 71047          | 0              | 0              |   12355        |  0.173898968   | 0              |  0.37902525    |    0.143660139 |   1.00         | 0              | 0              | 0              | 0              | 0              | 0              |  0.00          |   1.00         |   1.00         |   1.00         |   1.00         |\n",
       "| OCCCLER | 71047          | 0              | 0              |    1425        |  0.020057145   | 0              |  0.14019676    |    0.019655133 |   1.00         | 0              | 0              | 0              | 0              | 0              | 0              |  0.00          |   0.00         |   0.00         |   1.00         |   1.00         |\n",
       "| OCCCRFT | 71047          | 0              | 0              |    2106        |  0.029642349   | 0              |  0.16959978    |    0.028764085 |   1.00         | 0              | 0              | 0              | 0              | 0              | 0              |  0.00          |   0.00         |   0.00         |   1.00         |   1.00         |\n",
       "| OCCSTUD | 71047          | 0              | 0              |     538        |  0.007572452   | 0              |  0.08669034    |    0.007515216 |   1.00         | 0              | 0              | 0              | 0              | 0              | 0              |  0.00          |   0.00         |   0.00         |   0.00         |   1.00         |\n",
       "| OCCHMKR | 71047          | 0              | 0              |     224        |  0.003152842   | 0              |  0.05606199    |    0.003142946 |   1.00         | 0              | 0              | 0              | 0              | 0              | 0              |  0.00          |   0.00         |   0.00         |   0.00         |   1.00         |\n",
       "| OCCRET | 71047          | 0              | 0              |    1031        |  0.014511521   | 0              |  0.11958736    |    0.014301138 |   1.00         | 0              | 0              | 0              | 0              | 0              | 0              |  0.00          |   0.00         |   0.00         |   1.00         |   1.00         |\n",
       "| OCCSELF | 71047          | 0              | 0              |    1267        |  0.017833265   | 0              |  0.13234609    |    0.017515486 |   1.00         | 0              | 0              | 0              | 0              | 0              | 0              |  0.00          |   0.00         |   0.00         |   1.00         |   1.00         |\n",
       "| OWNRENT | 71047          | 0              | 0              |   23582        |  0.331921123   | 0              |  0.47090616    |    0.221752612 |   1.00         | 0              | 0              | 0              | 0              | 0              | 0              |  1.00          |   1.00         |   1.00         |   1.00         |   1.00         |\n",
       "| MARRYUN | 71047          | 0              | 0              |   27340        |  0.384815685   | 0              |  0.48655514    |    0.236735906 |   1.00         | 0              | 0              | 0              | 0              | 0              | 0              |  1.00          |   1.00         |   1.00         |   1.00         |   1.00         |\n",
       "| MARRYYES | 71047          | 0              | 0              |   25959        |  0.365377848   | 0              |  0.48153934    |    0.231880140 |   1.00         | 0              | 0              | 0              | 0              | 0              | 0              |  1.00          |   1.00         |   1.00         |   1.00         |   1.00         |\n",
       "| MARRYNO | 71047          | 0              | 0              |   17748        |  0.249806466   | 0              |  0.43290395    |    0.187405833 |   1.00         | 0              | 0              | 0              | 0              | 0              | 0              |  0.00          |   1.00         |   1.00         |   1.00         |   1.00         |\n",
       "| MAILORD | 71047          | 0              | 0              |   25717        |  0.361971653   | 0              |  0.48057406    |    0.230951426 |   1.00         | 0              | 0              | 0              | 0              | 0              | 0              |  1.00          |   1.00         |   1.00         |   1.00         |   1.00         |\n",
       "| MAILRES | 71047          | 0              | 0              |   26799        |  0.377201008   | 0              |  0.48468930    |    0.234923714 |   1.00         | 0              | 0              | 0              | 0              | 0              | 0              |  1.00          |   1.00         |   1.00         |   1.00         |   1.00         |\n",
       "| MAILFLAG | 71047          | 0              | 0              |    1024        |  0.014412994   | 0              |  0.11918666    |    0.014205460 |   1.00         | 0              | 0              | 0              | 0              | 0              | 0              |  0.00          |   0.00         |   0.00         |   1.00         |   1.00         |\n",
       "| TRAVEL | 71047          | 0              | 0              |    4084        |  0.057483075   | 0              |  0.23276497    |    0.054179533 |   1.00         | 0              | 0              | 0              | 0              | 0              | 0              |  0.00          |   0.00         |   1.00         |   1.00         |   1.00         |\n",
       "| PCOWN | 71047          | 0              | 0              |   13173        |  0.185412473   | 0              |  0.38863455    |    0.151036814 |   1.00         | 0              | 0              | 0              | 0              | 0              | 0              |  0.00          |   1.00         |   1.00         |   1.00         |   1.00         |\n",
       "| CREDITCD | 71047          | 0              | 0              |   48058        |  0.676425465   | 1              |  0.46784307    |    0.218877136 |   1.00         | 0              | 0              | 0              | 0              | 0              | 1              |  1.00          |   1.00         |   1.00         |   1.00         |   1.00         |\n",
       "| NEWCELLY | 71047          | 0              | 0              |   13708        |  0.192942700   | 0              |  0.39461121    |    0.155718006 |   1.00         | 0              | 0              | 0              | 0              | 0              | 0              |  0.00          |   1.00         |   1.00         |   1.00         |   1.00         |\n",
       "| REFER | 71047          | 0              | 0              |    3613        |  0.050853660   | 0              |  0.29044369    |    0.084357539 |  35.00         | 0              | 0              | 0              | 0              | 0              | 0              |  0.00          |   0.00         |   0.00         |   1.00         |  35.00         |\n",
       "| INCOME | 71047          | 0              | 0              |  307934        |  4.334229454   | 5              |  3.13706307    |    9.841164702 |   9.00         | 0              | 0              | 0              | 0              | 1              | 5              |  7.00          |   9.00         |   9.00         |   9.00         |   9.00         |\n",
       "| MCYCLE | 71047          | 0              | 0              |     956        |  0.013455881   | 0              |  0.11521722    |    0.013275007 |   1.00         | 0              | 0              | 0              | 0              | 0              | 0              |  0.00          |   0.00         |   0.00         |   1.00         |   1.00         |\n",
       "| CREDITAD | 71047          | 0              | 0              |    3777        |  0.053161991   | 0              |  0.37498805    |    0.140616040 |  25.00         | 0              | 0              | 0              | 0              | 0              | 0              |  0.00          |   0.00         |   0.00         |   1.00         |  25.00         |\n",
       "| SETPRC | 71047          | 0              | 0              | 2543382        | 35.798584317   | 0              | 57.04096436    | 3253.671615368 | 499.99         | 0              | 0              | 0              | 0              | 0              | 0              | 39.99          | 149.99         | 149.99         | 199.99         | 499.99         |\n",
       "\n"
      ],
      "text/plain": [
       "         N     Nmiss Nmiss_pct   sum         avg          meidan.50.\n",
       "REVENUE  71047  216  0.304024097  4168684.94  58.85396140  48.53    \n",
       "MOU      71047  216  0.304024097 37237867.76 525.72839237 366.00    \n",
       "RECCHRGE 71047  216  0.304024097  3320308.78  46.87649165  44.99    \n",
       "DIRECTAS 71047  216  0.304024097    63379.66   0.89480115   0.25    \n",
       "OVERAGE  71047  216  0.304024097  2839994.43  40.09535980   2.50    \n",
       "ROAM     71047  216  0.304024097    86521.92   1.22152617   0.00    \n",
       "CHANGEM  71047  502  0.706574521  -765163.62 -10.84646141  -5.00    \n",
       "CHANGER  71047  502  0.706574521   -85072.02  -1.20592558  -0.29    \n",
       "DROPVCE  71047    0  0.000000000   426987.32   6.00992751   3.00    \n",
       "BLCKVCE  71047    0  0.000000000   288997.57   4.06769561   1.00    \n",
       "UNANSVCE 71047    0  0.000000000  2014601.10  28.35589258  16.33    \n",
       "CUSTCARE 71047    0  0.000000000   132560.46   1.86581362   0.00    \n",
       "THREEWAY 71047    0  0.000000000    21309.74   0.29993863   0.00    \n",
       "MOUREC   71047    0  0.000000000  8165809.64 114.93531944  52.50    \n",
       "OUTCALLS 71047    0  0.000000000  1804345.20  25.39650091  13.67    \n",
       "INCALLS  71047    0  0.000000000   580931.24   8.17671738   2.00    \n",
       "PEAKVCE  71047    0  0.000000000  6435504.62  90.58094810  62.00    \n",
       "OPEAKVCE 71047    0  0.000000000  4818294.44  67.81840810  35.67    \n",
       "DROPBLK  71047    0  0.000000000   721105.69  10.14969935   5.33    \n",
       "CALLFWDV 71047    0  0.000000000      840.74   0.01183357   0.00    \n",
       "CALLWAIT 71047    0  0.000000000   131641.33   1.85287669   0.33    \n",
       "CHURN    71047    0  0.000000000    20609.00   0.29007558   0.00    \n",
       "MONTHS   71047    0  0.000000000  1332190.00  18.75082692  16.00    \n",
       "UNIQSUBS 71047    0  0.000000000   108670.00   1.52955086   1.00    \n",
       "ACTVSUBS 71047    0  0.000000000    96031.00   1.35165454   1.00    \n",
       "PHONES   71047    1  0.001407519   128495.00   1.80861695   1.00    \n",
       "MODELS   71047    1  0.001407519   110959.00   1.56179095   1.00    \n",
       "EQPDAYS  71047    1  0.001407519 27016352.00 380.26563072 330.00    \n",
       "AGE1     71047 1244  1.750953594  2190077.00  31.37511282  36.00    \n",
       "AGE2     71047 1244  1.750953594  1476872.00  21.15771528   0.00    \n",
       "...      ...   ...   ...         ...         ...          ...       \n",
       "PRIZMRUR 71047 0     0              3392      0.047743043 0         \n",
       "PRIZMUB  71047 0     0             22814      0.321111377 0         \n",
       "PRIZMTWN 71047 0     0             10545      0.148422875 0         \n",
       "REFURB   71047 0     0              9919      0.139611806 0         \n",
       "WEBCAP   71047 0     0             64142      0.902810815 1         \n",
       "TRUCK    71047 0     0             13301      0.187214098 0         \n",
       "RV       71047 0     0              5769      0.081199769 0         \n",
       "OCCPROF  71047 0     0             12355      0.173898968 0         \n",
       "OCCCLER  71047 0     0              1425      0.020057145 0         \n",
       "OCCCRFT  71047 0     0              2106      0.029642349 0         \n",
       "OCCSTUD  71047 0     0               538      0.007572452 0         \n",
       "OCCHMKR  71047 0     0               224      0.003152842 0         \n",
       "OCCRET   71047 0     0              1031      0.014511521 0         \n",
       "OCCSELF  71047 0     0              1267      0.017833265 0         \n",
       "OWNRENT  71047 0     0             23582      0.331921123 0         \n",
       "MARRYUN  71047 0     0             27340      0.384815685 0         \n",
       "MARRYYES 71047 0     0             25959      0.365377848 0         \n",
       "MARRYNO  71047 0     0             17748      0.249806466 0         \n",
       "MAILORD  71047 0     0             25717      0.361971653 0         \n",
       "MAILRES  71047 0     0             26799      0.377201008 0         \n",
       "MAILFLAG 71047 0     0              1024      0.014412994 0         \n",
       "TRAVEL   71047 0     0              4084      0.057483075 0         \n",
       "PCOWN    71047 0     0             13173      0.185412473 0         \n",
       "CREDITCD 71047 0     0             48058      0.676425465 1         \n",
       "NEWCELLY 71047 0     0             13708      0.192942700 0         \n",
       "REFER    71047 0     0              3613      0.050853660 0         \n",
       "INCOME   71047 0     0            307934      4.334229454 5         \n",
       "MCYCLE   71047 0     0               956      0.013455881 0         \n",
       "CREDITAD 71047 0     0              3777      0.053161991 0         \n",
       "SETPRC   71047 0     0           2543382     35.798584317 0         \n",
       "         std         var            range   pctl.0.  pctl.1.  pctl.5.  pctl.10.\n",
       "REVENUE   44.2436131   1957.4973041 1229.55    -6.17   10.000   15.515   26.160\n",
       "MOU      530.1342593 281042.3328604 7667.75     0.00    0.000   20.415   52.750\n",
       "RECCHRGE  23.9151030    571.9321521  411.28   -11.29    9.190   10.000   19.990\n",
       "DIRECTAS   2.1978148      4.8303898  159.39     0.00    0.000    0.000    0.000\n",
       "OVERAGE   96.3471032   9282.7643027 4320.75     0.00    0.000    0.000    0.000\n",
       "ROAM       9.0811962     82.4681238 1112.45     0.00    0.000    0.000    0.000\n",
       "CHANGEM  255.3143155  65185.3996861 9067.25 -3875.00 -831.890 -376.250 -229.250\n",
       "CHANGER   38.7706954   1503.1668189 3591.22 -1107.74 -104.536  -47.500  -27.776\n",
       "DROPVCE    9.0061745     81.1111793  221.67     0.00    0.000    0.000    0.000\n",
       "BLCKVCE   10.6708225    113.8664532  384.33     0.00    0.000    0.000    0.000\n",
       "UNANSVCE  38.9042344   1513.5394522  848.67     0.00    0.000    0.000    0.330\n",
       "CUSTCARE   5.1607990     26.6338465  365.67     0.00    0.000    0.000    0.000\n",
       "THREEWAY   1.1616021      1.3493194   66.00     0.00    0.000    0.000    0.000\n",
       "MOUREC   166.3057176  27657.5916934 3287.25     0.00    0.000    0.000    0.000\n",
       "OUTCALLS  35.1475249   1235.3485056  644.33     0.00    0.000    0.000    0.000\n",
       "INCALLS   16.5191066    272.8808823  519.33     0.00    0.000    0.000    0.000\n",
       "PEAKVCE  104.9148764  11007.1312815 2090.67     0.00    0.000    0.000    2.330\n",
       "OPEAKVCE  93.3289932   8710.3009753 1572.67     0.00    0.000    0.000    0.670\n",
       "DROPBLK   15.4606138    239.0305777  489.67     0.00    0.000    0.000    0.000\n",
       "CALLFWDV   0.5621931      0.3160611   81.33     0.00    0.000    0.000    0.000\n",
       "CALLWAIT   5.5562592     30.8720160  212.67     0.00    0.000    0.000    0.000\n",
       "CHURN      0.4538002      0.2059346    1.00     0.00    0.000    0.000    0.000\n",
       "MONTHS     9.7875685     95.7964965   55.00     6.00    6.000    7.000    8.000\n",
       "UNIQSUBS   1.1317740      1.2809125  195.00     1.00    1.000    1.000    1.000\n",
       "ACTVSUBS   0.6600493      0.4356651   53.00     0.00    1.000    1.000    1.000\n",
       "PHONES     1.3361203      1.7852173   27.00     1.00    1.000    1.000    1.000\n",
       "MODELS     0.9082805      0.8249734   15.00     1.00    1.000    1.000    1.000\n",
       "EQPDAYS  254.2946923  64665.7905414 1828.00    -5.00    7.000   42.000   87.000\n",
       "AGE1      22.0821950    487.6233352   99.00     0.00    0.000    0.000    0.000\n",
       "AGE2      23.9175855    572.0508970   99.00     0.00    0.000    0.000    0.000\n",
       "...      ...         ...            ...     ...      ...      ...      ...     \n",
       "PRIZMRUR  0.21322356    0.045464285   1.00  0        0        0        0       \n",
       "PRIZMUB   0.46690677    0.218001929   1.00  0        0        0        0       \n",
       "PRIZMTWN  0.35552117    0.126395304   1.00  0        0        0        0       \n",
       "REFURB    0.34658627    0.120122041   1.00  0        0        0        0       \n",
       "WEBCAP    0.29621729    0.087744682   1.00  0        0        0        1       \n",
       "TRUCK     0.39008604    0.152167121   1.00  0        0        0        0       \n",
       "RV        0.27314358    0.074607417   1.00  0        0        0        0       \n",
       "OCCPROF   0.37902525    0.143660139   1.00  0        0        0        0       \n",
       "OCCCLER   0.14019676    0.019655133   1.00  0        0        0        0       \n",
       "OCCCRFT   0.16959978    0.028764085   1.00  0        0        0        0       \n",
       "OCCSTUD   0.08669034    0.007515216   1.00  0        0        0        0       \n",
       "OCCHMKR   0.05606199    0.003142946   1.00  0        0        0        0       \n",
       "OCCRET    0.11958736    0.014301138   1.00  0        0        0        0       \n",
       "OCCSELF   0.13234609    0.017515486   1.00  0        0        0        0       \n",
       "OWNRENT   0.47090616    0.221752612   1.00  0        0        0        0       \n",
       "MARRYUN   0.48655514    0.236735906   1.00  0        0        0        0       \n",
       "MARRYYES  0.48153934    0.231880140   1.00  0        0        0        0       \n",
       "MARRYNO   0.43290395    0.187405833   1.00  0        0        0        0       \n",
       "MAILORD   0.48057406    0.230951426   1.00  0        0        0        0       \n",
       "MAILRES   0.48468930    0.234923714   1.00  0        0        0        0       \n",
       "MAILFLAG  0.11918666    0.014205460   1.00  0        0        0        0       \n",
       "TRAVEL    0.23276497    0.054179533   1.00  0        0        0        0       \n",
       "PCOWN     0.38863455    0.151036814   1.00  0        0        0        0       \n",
       "CREDITCD  0.46784307    0.218877136   1.00  0        0        0        0       \n",
       "NEWCELLY  0.39461121    0.155718006   1.00  0        0        0        0       \n",
       "REFER     0.29044369    0.084357539  35.00  0        0        0        0       \n",
       "INCOME    3.13706307    9.841164702   9.00  0        0        0        0       \n",
       "MCYCLE    0.11521722    0.013275007   1.00  0        0        0        0       \n",
       "CREDITAD  0.37498805    0.140616040  25.00  0        0        0        0       \n",
       "SETPRC   57.04096436 3253.671615368 499.99  0        0        0        0       \n",
       "         pctl.25. pctl.50. pctl.75. pctl.90. pctl.95. pctl.99.  pctl.100.\n",
       "REVENUE   33.64    48.53    71.030   103.950  135.390  225.5120 1223.38  \n",
       "MOU      158.25   366.00   721.750  1202.000 1580.250 2450.1250 7667.75  \n",
       "RECCHRGE  30.00    44.99    59.990    75.000   85.000  119.9900  399.99  \n",
       "DIRECTAS   0.00     0.25     0.990     2.480    4.210    9.6500  159.39  \n",
       "OVERAGE    0.00     2.50    40.750   115.750  190.375  427.6750 4320.75  \n",
       "ROAM       0.00     0.00     0.260     2.130    5.090   21.5570 1112.45  \n",
       "CHANGEM  -83.00    -5.00    65.750   208.500  345.250  739.6700 5192.25  \n",
       "CHANGER   -7.11    -0.29     1.600    21.810   46.218  118.3456 2483.48  \n",
       "DROPVCE    0.67     3.00     7.670    15.000   22.000   42.0000  221.67  \n",
       "BLCKVCE    0.00     1.00     3.670    10.000   17.330   47.0000  384.33  \n",
       "UNANSVCE   5.33    16.33    36.670    68.330   97.670  179.3300  848.67  \n",
       "CUSTCARE   0.00     0.00     1.670     5.330    9.330   21.0000  365.67  \n",
       "THREEWAY   0.00     0.00     0.330     0.670    1.330    4.0000   66.00  \n",
       "MOUREC     8.43    52.50   154.135   310.262  440.938  772.6548 3287.25  \n",
       "OUTCALLS   3.33    13.67    34.000    64.330   90.330  164.3300  644.33  \n",
       "INCALLS    0.00     2.00     9.330    22.670   35.670   77.0000  519.33  \n",
       "PEAKVCE   23.00    62.00   121.165   204.330  279.670  500.0000 2090.67  \n",
       "OPEAKVCE  11.00    35.67    88.670   170.802  242.000  437.0000 1572.67  \n",
       "DROPBLK    1.67     5.33    12.670    24.330   35.330   71.3300  489.67  \n",
       "CALLFWDV   0.00     0.00     0.000     0.000    0.000    0.0000   81.33  \n",
       "CALLWAIT   0.00     0.33     1.330     4.670    8.670   23.3300  212.67  \n",
       "CHURN      0.00     0.00     1.000     1.000    1.000    1.0000    1.00  \n",
       "MONTHS    11.00    16.00    24.000    33.000   37.000   49.0000   61.00  \n",
       "UNIQSUBS   1.00     1.00     2.000     3.000    3.000    5.0000  196.00  \n",
       "ACTVSUBS   1.00     1.00     2.000     2.000    2.000    4.0000   53.00  \n",
       "PHONES     1.00     1.00     2.000     3.000    4.000    7.0000   28.00  \n",
       "MODELS     1.00     1.00     2.000     3.000    3.000    5.0000   16.00  \n",
       "EQPDAYS  204.00   330.00   515.000   732.000  865.750 1150.0000 1823.00  \n",
       "AGE1       0.00    36.00    48.000    56.000   62.000   74.0000   99.00  \n",
       "AGE2       0.00     0.00    42.000    54.000   62.000   76.0000   99.00  \n",
       "...      ...      ...      ...      ...      ...      ...       ...      \n",
       "PRIZMRUR 0        0         0.00      0.00     0.00     1.00      1.00   \n",
       "PRIZMUB  0        0         1.00      1.00     1.00     1.00      1.00   \n",
       "PRIZMTWN 0        0         0.00      1.00     1.00     1.00      1.00   \n",
       "REFURB   0        0         0.00      1.00     1.00     1.00      1.00   \n",
       "WEBCAP   1        1         1.00      1.00     1.00     1.00      1.00   \n",
       "TRUCK    0        0         0.00      1.00     1.00     1.00      1.00   \n",
       "RV       0        0         0.00      0.00     1.00     1.00      1.00   \n",
       "OCCPROF  0        0         0.00      1.00     1.00     1.00      1.00   \n",
       "OCCCLER  0        0         0.00      0.00     0.00     1.00      1.00   \n",
       "OCCCRFT  0        0         0.00      0.00     0.00     1.00      1.00   \n",
       "OCCSTUD  0        0         0.00      0.00     0.00     0.00      1.00   \n",
       "OCCHMKR  0        0         0.00      0.00     0.00     0.00      1.00   \n",
       "OCCRET   0        0         0.00      0.00     0.00     1.00      1.00   \n",
       "OCCSELF  0        0         0.00      0.00     0.00     1.00      1.00   \n",
       "OWNRENT  0        0         1.00      1.00     1.00     1.00      1.00   \n",
       "MARRYUN  0        0         1.00      1.00     1.00     1.00      1.00   \n",
       "MARRYYES 0        0         1.00      1.00     1.00     1.00      1.00   \n",
       "MARRYNO  0        0         0.00      1.00     1.00     1.00      1.00   \n",
       "MAILORD  0        0         1.00      1.00     1.00     1.00      1.00   \n",
       "MAILRES  0        0         1.00      1.00     1.00     1.00      1.00   \n",
       "MAILFLAG 0        0         0.00      0.00     0.00     1.00      1.00   \n",
       "TRAVEL   0        0         0.00      0.00     1.00     1.00      1.00   \n",
       "PCOWN    0        0         0.00      1.00     1.00     1.00      1.00   \n",
       "CREDITCD 0        1         1.00      1.00     1.00     1.00      1.00   \n",
       "NEWCELLY 0        0         0.00      1.00     1.00     1.00      1.00   \n",
       "REFER    0        0         0.00      0.00     0.00     1.00     35.00   \n",
       "INCOME   1        5         7.00      9.00     9.00     9.00      9.00   \n",
       "MCYCLE   0        0         0.00      0.00     0.00     1.00      1.00   \n",
       "CREDITAD 0        0         0.00      0.00     0.00     1.00     25.00   \n",
       "SETPRC   0        0        39.99    149.99   149.99   199.99    499.99   "
      ]
     },
     "metadata": {},
     "output_type": "display_data"
    }
   ],
   "source": [
    "nums <- sapply(dta,is.numeric)\n",
    "abt_nums <- data.frame(t(apply(dta[nums], 2, about)))\n",
    "abt_nums"
   ]
  },
  {
   "cell_type": "markdown",
   "metadata": {},
   "source": [
    "We impute the missing values with the value of mean"
   ]
  },
  {
   "cell_type": "code",
   "execution_count": 9,
   "metadata": {},
   "outputs": [],
   "source": [
    "dta[nums] <-data.frame(apply(dta[nums],2, function(x) impute(x, mean)))\n",
    "dta[dta$INCOME==0,\"INCOME\"] <- 4.33\n",
    "dta[dta$SETPRC==0,\"SETPRC\"] <- 35.79\n",
    "dta$EQPDAYS <- round(dta$EQPDAYS,digits = 0) # This is rounded as all the values in this variable are integers"
   ]
  },
  {
   "cell_type": "markdown",
   "metadata": {},
   "source": [
    "We now split the data according to their types"
   ]
  },
  {
   "cell_type": "code",
   "execution_count": 10,
   "metadata": {},
   "outputs": [],
   "source": [
    "nums <- subset(dta, select = c( REVENUE, MOU, RECCHRGE, DIRECTAS, OVERAGE, ROAM, CHANGEM, CHANGER, DROPVCE, \n",
    "                                BLCKVCE, UNANSVCE, CUSTCARE, CALLFWDV, CALLWAIT, MONTHS, UNIQSUBS, ACTVSUBS, PHONES,  \n",
    "                                MODELS, EQPDAYS, AGE1, AGE2, REFER, SETPRC, THREEWAY, MOUREC, OUTCALLS, INCALLS,  PEAKVCE, \n",
    "                                OPEAKVCE, DROPBLK,INCOME))\n",
    "\n",
    "others <- subset(dta, select = c(CHURN, CHILDREN, CREDITA, CREDITAA, CREDITB, CREDITC, CREDITDE,\n",
    "                                 CREDITGY, CREDITZ, PRIZMRUR, PRIZMUB, PRIZMTWN, REFURB,\n",
    "                                 WEBCAP, TRUCK, RV, OCCPROF, OCCCLER, OCCCRFT, OCCSTUD, OCCHMKR,\n",
    "                                 OCCRET, OCCSELF, OWNRENT, MARRYUN, MARRYYES, MARRYNO, MAILORD, \n",
    "                                 MAILRES, MAILFLAG, TRAVEL, PCOWN, CREDITCD, NEWCELLY,\n",
    "                                 MCYCLE,CREDITAD))"
   ]
  },
  {
   "cell_type": "markdown",
   "metadata": {},
   "source": [
    "We also round up all the others variables too to ensure that they retain their chatechteristics, if their value had been imputed"
   ]
  },
  {
   "cell_type": "code",
   "execution_count": 11,
   "metadata": {},
   "outputs": [],
   "source": [
    "others <- apply(others,2,FUN = function(x) round(x,digits = 0))"
   ]
  },
  {
   "cell_type": "markdown",
   "metadata": {},
   "source": [
    "We also examine the \"other\" variables"
   ]
  },
  {
   "cell_type": "code",
   "execution_count": 12,
   "metadata": {
    "scrolled": true
   },
   "outputs": [
    {
     "data": {
      "text/html": [
       "<table>\n",
       "<thead><tr><th></th><th scope=col>N</th><th scope=col>Nmiss</th><th scope=col>Nmiss_pct</th><th scope=col>sum</th><th scope=col>avg</th><th scope=col>meidan.50.</th><th scope=col>std</th><th scope=col>var</th><th scope=col>range</th><th scope=col>pctl.0.</th><th scope=col>pctl.1.</th><th scope=col>pctl.5.</th><th scope=col>pctl.10.</th><th scope=col>pctl.25.</th><th scope=col>pctl.50.</th><th scope=col>pctl.75.</th><th scope=col>pctl.90.</th><th scope=col>pctl.95.</th><th scope=col>pctl.99.</th><th scope=col>pctl.100.</th></tr></thead>\n",
       "<tbody>\n",
       "\t<tr><th scope=row>CHURN</th><td>71047      </td><td>0          </td><td>0          </td><td>20609      </td><td>0.290075584</td><td>0          </td><td>0.45380022 </td><td>0.205934638</td><td> 1         </td><td>0          </td><td>0          </td><td>0          </td><td>0          </td><td>0          </td><td>0          </td><td>1          </td><td>1          </td><td>1          </td><td>1          </td><td> 1         </td></tr>\n",
       "\t<tr><th scope=row>CHILDREN</th><td>71047      </td><td>0          </td><td>0          </td><td>17221      </td><td>0.242388841</td><td>0          </td><td>0.42853130 </td><td>0.183639076</td><td> 1         </td><td>0          </td><td>0          </td><td>0          </td><td>0          </td><td>0          </td><td>0          </td><td>0          </td><td>1          </td><td>1          </td><td>1          </td><td> 1         </td></tr>\n",
       "\t<tr><th scope=row>CREDITA</th><td>71047      </td><td>0          </td><td>0          </td><td>11912      </td><td>0.167663659</td><td>0          </td><td>0.37356997 </td><td>0.139554521</td><td> 1         </td><td>0          </td><td>0          </td><td>0          </td><td>0          </td><td>0          </td><td>0          </td><td>0          </td><td>1          </td><td>1          </td><td>1          </td><td> 1         </td></tr>\n",
       "\t<tr><th scope=row>CREDITAA</th><td>71047      </td><td>0          </td><td>0          </td><td>26350      </td><td>0.370881248</td><td>0          </td><td>0.48304413 </td><td>0.233331632</td><td> 1         </td><td>0          </td><td>0          </td><td>0          </td><td>0          </td><td>0          </td><td>0          </td><td>1          </td><td>1          </td><td>1          </td><td>1          </td><td> 1         </td></tr>\n",
       "\t<tr><th scope=row>CREDITB</th><td>71047      </td><td>0          </td><td>0          </td><td>11689      </td><td>0.164524892</td><td>0          </td><td>0.37075381 </td><td>0.137458387</td><td> 1         </td><td>0          </td><td>0          </td><td>0          </td><td>0          </td><td>0          </td><td>0          </td><td>0          </td><td>1          </td><td>1          </td><td>1          </td><td> 1         </td></tr>\n",
       "\t<tr><th scope=row>CREDITC</th><td>71047      </td><td>0          </td><td>0          </td><td> 7420      </td><td>0.104437907</td><td>0          </td><td>0.30582993 </td><td>0.093531947</td><td> 1         </td><td>0          </td><td>0          </td><td>0          </td><td>0          </td><td>0          </td><td>0          </td><td>0          </td><td>1          </td><td>1          </td><td>1          </td><td> 1         </td></tr>\n",
       "\t<tr><th scope=row>CREDITDE</th><td>71047      </td><td>0          </td><td>0          </td><td> 9128      </td><td>0.128478331</td><td>0          </td><td>0.33462401 </td><td>0.111973226</td><td> 1         </td><td>0          </td><td>0          </td><td>0          </td><td>0          </td><td>0          </td><td>0          </td><td>0          </td><td>1          </td><td>1          </td><td>1          </td><td> 1         </td></tr>\n",
       "\t<tr><th scope=row>CREDITGY</th><td>71047      </td><td>0          </td><td>0          </td><td> 1609      </td><td>0.022646980</td><td>0          </td><td>0.14877636 </td><td>0.022134406</td><td> 1         </td><td>0          </td><td>0          </td><td>0          </td><td>0          </td><td>0          </td><td>0          </td><td>0          </td><td>0          </td><td>0          </td><td>1          </td><td> 1         </td></tr>\n",
       "\t<tr><th scope=row>CREDITZ</th><td>71047      </td><td>0          </td><td>0          </td><td> 2939      </td><td>0.041366982</td><td>0          </td><td>0.19913893 </td><td>0.039656313</td><td> 1         </td><td>0          </td><td>0          </td><td>0          </td><td>0          </td><td>0          </td><td>0          </td><td>0          </td><td>0          </td><td>0          </td><td>1          </td><td> 1         </td></tr>\n",
       "\t<tr><th scope=row>PRIZMRUR</th><td>71047      </td><td>0          </td><td>0          </td><td> 3392      </td><td>0.047743043</td><td>0          </td><td>0.21322356 </td><td>0.045464285</td><td> 1         </td><td>0          </td><td>0          </td><td>0          </td><td>0          </td><td>0          </td><td>0          </td><td>0          </td><td>0          </td><td>0          </td><td>1          </td><td> 1         </td></tr>\n",
       "\t<tr><th scope=row>PRIZMUB</th><td>71047      </td><td>0          </td><td>0          </td><td>22814      </td><td>0.321111377</td><td>0          </td><td>0.46690677 </td><td>0.218001929</td><td> 1         </td><td>0          </td><td>0          </td><td>0          </td><td>0          </td><td>0          </td><td>0          </td><td>1          </td><td>1          </td><td>1          </td><td>1          </td><td> 1         </td></tr>\n",
       "\t<tr><th scope=row>PRIZMTWN</th><td>71047      </td><td>0          </td><td>0          </td><td>10545      </td><td>0.148422875</td><td>0          </td><td>0.35552117 </td><td>0.126395304</td><td> 1         </td><td>0          </td><td>0          </td><td>0          </td><td>0          </td><td>0          </td><td>0          </td><td>0          </td><td>1          </td><td>1          </td><td>1          </td><td> 1         </td></tr>\n",
       "\t<tr><th scope=row>REFURB</th><td>71047      </td><td>0          </td><td>0          </td><td> 9919      </td><td>0.139611806</td><td>0          </td><td>0.34658627 </td><td>0.120122041</td><td> 1         </td><td>0          </td><td>0          </td><td>0          </td><td>0          </td><td>0          </td><td>0          </td><td>0          </td><td>1          </td><td>1          </td><td>1          </td><td> 1         </td></tr>\n",
       "\t<tr><th scope=row>WEBCAP</th><td>71047      </td><td>0          </td><td>0          </td><td>64142      </td><td>0.902810815</td><td>1          </td><td>0.29621729 </td><td>0.087744682</td><td> 1         </td><td>0          </td><td>0          </td><td>0          </td><td>1          </td><td>1          </td><td>1          </td><td>1          </td><td>1          </td><td>1          </td><td>1          </td><td> 1         </td></tr>\n",
       "\t<tr><th scope=row>TRUCK</th><td>71047      </td><td>0          </td><td>0          </td><td>13301      </td><td>0.187214098</td><td>0          </td><td>0.39008604 </td><td>0.152167121</td><td> 1         </td><td>0          </td><td>0          </td><td>0          </td><td>0          </td><td>0          </td><td>0          </td><td>0          </td><td>1          </td><td>1          </td><td>1          </td><td> 1         </td></tr>\n",
       "\t<tr><th scope=row>RV</th><td>71047      </td><td>0          </td><td>0          </td><td> 5769      </td><td>0.081199769</td><td>0          </td><td>0.27314358 </td><td>0.074607417</td><td> 1         </td><td>0          </td><td>0          </td><td>0          </td><td>0          </td><td>0          </td><td>0          </td><td>0          </td><td>0          </td><td>1          </td><td>1          </td><td> 1         </td></tr>\n",
       "\t<tr><th scope=row>OCCPROF</th><td>71047      </td><td>0          </td><td>0          </td><td>12355      </td><td>0.173898968</td><td>0          </td><td>0.37902525 </td><td>0.143660139</td><td> 1         </td><td>0          </td><td>0          </td><td>0          </td><td>0          </td><td>0          </td><td>0          </td><td>0          </td><td>1          </td><td>1          </td><td>1          </td><td> 1         </td></tr>\n",
       "\t<tr><th scope=row>OCCCLER</th><td>71047      </td><td>0          </td><td>0          </td><td> 1425      </td><td>0.020057145</td><td>0          </td><td>0.14019676 </td><td>0.019655133</td><td> 1         </td><td>0          </td><td>0          </td><td>0          </td><td>0          </td><td>0          </td><td>0          </td><td>0          </td><td>0          </td><td>0          </td><td>1          </td><td> 1         </td></tr>\n",
       "\t<tr><th scope=row>OCCCRFT</th><td>71047      </td><td>0          </td><td>0          </td><td> 2106      </td><td>0.029642349</td><td>0          </td><td>0.16959978 </td><td>0.028764085</td><td> 1         </td><td>0          </td><td>0          </td><td>0          </td><td>0          </td><td>0          </td><td>0          </td><td>0          </td><td>0          </td><td>0          </td><td>1          </td><td> 1         </td></tr>\n",
       "\t<tr><th scope=row>OCCSTUD</th><td>71047      </td><td>0          </td><td>0          </td><td>  538      </td><td>0.007572452</td><td>0          </td><td>0.08669034 </td><td>0.007515216</td><td> 1         </td><td>0          </td><td>0          </td><td>0          </td><td>0          </td><td>0          </td><td>0          </td><td>0          </td><td>0          </td><td>0          </td><td>0          </td><td> 1         </td></tr>\n",
       "\t<tr><th scope=row>OCCHMKR</th><td>71047      </td><td>0          </td><td>0          </td><td>  224      </td><td>0.003152842</td><td>0          </td><td>0.05606199 </td><td>0.003142946</td><td> 1         </td><td>0          </td><td>0          </td><td>0          </td><td>0          </td><td>0          </td><td>0          </td><td>0          </td><td>0          </td><td>0          </td><td>0          </td><td> 1         </td></tr>\n",
       "\t<tr><th scope=row>OCCRET</th><td>71047      </td><td>0          </td><td>0          </td><td> 1031      </td><td>0.014511521</td><td>0          </td><td>0.11958736 </td><td>0.014301138</td><td> 1         </td><td>0          </td><td>0          </td><td>0          </td><td>0          </td><td>0          </td><td>0          </td><td>0          </td><td>0          </td><td>0          </td><td>1          </td><td> 1         </td></tr>\n",
       "\t<tr><th scope=row>OCCSELF</th><td>71047      </td><td>0          </td><td>0          </td><td> 1267      </td><td>0.017833265</td><td>0          </td><td>0.13234609 </td><td>0.017515486</td><td> 1         </td><td>0          </td><td>0          </td><td>0          </td><td>0          </td><td>0          </td><td>0          </td><td>0          </td><td>0          </td><td>0          </td><td>1          </td><td> 1         </td></tr>\n",
       "\t<tr><th scope=row>OWNRENT</th><td>71047      </td><td>0          </td><td>0          </td><td>23582      </td><td>0.331921123</td><td>0          </td><td>0.47090616 </td><td>0.221752612</td><td> 1         </td><td>0          </td><td>0          </td><td>0          </td><td>0          </td><td>0          </td><td>0          </td><td>1          </td><td>1          </td><td>1          </td><td>1          </td><td> 1         </td></tr>\n",
       "\t<tr><th scope=row>MARRYUN</th><td>71047      </td><td>0          </td><td>0          </td><td>27340      </td><td>0.384815685</td><td>0          </td><td>0.48655514 </td><td>0.236735906</td><td> 1         </td><td>0          </td><td>0          </td><td>0          </td><td>0          </td><td>0          </td><td>0          </td><td>1          </td><td>1          </td><td>1          </td><td>1          </td><td> 1         </td></tr>\n",
       "\t<tr><th scope=row>MARRYYES</th><td>71047      </td><td>0          </td><td>0          </td><td>25959      </td><td>0.365377848</td><td>0          </td><td>0.48153934 </td><td>0.231880140</td><td> 1         </td><td>0          </td><td>0          </td><td>0          </td><td>0          </td><td>0          </td><td>0          </td><td>1          </td><td>1          </td><td>1          </td><td>1          </td><td> 1         </td></tr>\n",
       "\t<tr><th scope=row>MARRYNO</th><td>71047      </td><td>0          </td><td>0          </td><td>17748      </td><td>0.249806466</td><td>0          </td><td>0.43290395 </td><td>0.187405833</td><td> 1         </td><td>0          </td><td>0          </td><td>0          </td><td>0          </td><td>0          </td><td>0          </td><td>0          </td><td>1          </td><td>1          </td><td>1          </td><td> 1         </td></tr>\n",
       "\t<tr><th scope=row>MAILORD</th><td>71047      </td><td>0          </td><td>0          </td><td>25717      </td><td>0.361971653</td><td>0          </td><td>0.48057406 </td><td>0.230951426</td><td> 1         </td><td>0          </td><td>0          </td><td>0          </td><td>0          </td><td>0          </td><td>0          </td><td>1          </td><td>1          </td><td>1          </td><td>1          </td><td> 1         </td></tr>\n",
       "\t<tr><th scope=row>MAILRES</th><td>71047      </td><td>0          </td><td>0          </td><td>26799      </td><td>0.377201008</td><td>0          </td><td>0.48468930 </td><td>0.234923714</td><td> 1         </td><td>0          </td><td>0          </td><td>0          </td><td>0          </td><td>0          </td><td>0          </td><td>1          </td><td>1          </td><td>1          </td><td>1          </td><td> 1         </td></tr>\n",
       "\t<tr><th scope=row>MAILFLAG</th><td>71047      </td><td>0          </td><td>0          </td><td> 1024      </td><td>0.014412994</td><td>0          </td><td>0.11918666 </td><td>0.014205460</td><td> 1         </td><td>0          </td><td>0          </td><td>0          </td><td>0          </td><td>0          </td><td>0          </td><td>0          </td><td>0          </td><td>0          </td><td>1          </td><td> 1         </td></tr>\n",
       "\t<tr><th scope=row>TRAVEL</th><td>71047      </td><td>0          </td><td>0          </td><td> 4084      </td><td>0.057483075</td><td>0          </td><td>0.23276497 </td><td>0.054179533</td><td> 1         </td><td>0          </td><td>0          </td><td>0          </td><td>0          </td><td>0          </td><td>0          </td><td>0          </td><td>0          </td><td>1          </td><td>1          </td><td> 1         </td></tr>\n",
       "\t<tr><th scope=row>PCOWN</th><td>71047      </td><td>0          </td><td>0          </td><td>13173      </td><td>0.185412473</td><td>0          </td><td>0.38863455 </td><td>0.151036814</td><td> 1         </td><td>0          </td><td>0          </td><td>0          </td><td>0          </td><td>0          </td><td>0          </td><td>0          </td><td>1          </td><td>1          </td><td>1          </td><td> 1         </td></tr>\n",
       "\t<tr><th scope=row>CREDITCD</th><td>71047      </td><td>0          </td><td>0          </td><td>48058      </td><td>0.676425465</td><td>1          </td><td>0.46784307 </td><td>0.218877136</td><td> 1         </td><td>0          </td><td>0          </td><td>0          </td><td>0          </td><td>0          </td><td>1          </td><td>1          </td><td>1          </td><td>1          </td><td>1          </td><td> 1         </td></tr>\n",
       "\t<tr><th scope=row>NEWCELLY</th><td>71047      </td><td>0          </td><td>0          </td><td>13708      </td><td>0.192942700</td><td>0          </td><td>0.39461121 </td><td>0.155718006</td><td> 1         </td><td>0          </td><td>0          </td><td>0          </td><td>0          </td><td>0          </td><td>0          </td><td>0          </td><td>1          </td><td>1          </td><td>1          </td><td> 1         </td></tr>\n",
       "\t<tr><th scope=row>MCYCLE</th><td>71047      </td><td>0          </td><td>0          </td><td>  956      </td><td>0.013455881</td><td>0          </td><td>0.11521722 </td><td>0.013275007</td><td> 1         </td><td>0          </td><td>0          </td><td>0          </td><td>0          </td><td>0          </td><td>0          </td><td>0          </td><td>0          </td><td>0          </td><td>1          </td><td> 1         </td></tr>\n",
       "\t<tr><th scope=row>CREDITAD</th><td>71047      </td><td>0          </td><td>0          </td><td> 3777      </td><td>0.053161991</td><td>0          </td><td>0.37498805 </td><td>0.140616040</td><td>25         </td><td>0          </td><td>0          </td><td>0          </td><td>0          </td><td>0          </td><td>0          </td><td>0          </td><td>0          </td><td>0          </td><td>1          </td><td>25         </td></tr>\n",
       "</tbody>\n",
       "</table>\n"
      ],
      "text/latex": [
       "\\begin{tabular}{r|llllllllllllllllllll}\n",
       "  & N & Nmiss & Nmiss\\_pct & sum & avg & meidan.50. & std & var & range & pctl.0. & pctl.1. & pctl.5. & pctl.10. & pctl.25. & pctl.50. & pctl.75. & pctl.90. & pctl.95. & pctl.99. & pctl.100.\\\\\n",
       "\\hline\n",
       "\tCHURN & 71047       & 0           & 0           & 20609       & 0.290075584 & 0           & 0.45380022  & 0.205934638 &  1          & 0           & 0           & 0           & 0           & 0           & 0           & 1           & 1           & 1           & 1           &  1         \\\\\n",
       "\tCHILDREN & 71047       & 0           & 0           & 17221       & 0.242388841 & 0           & 0.42853130  & 0.183639076 &  1          & 0           & 0           & 0           & 0           & 0           & 0           & 0           & 1           & 1           & 1           &  1         \\\\\n",
       "\tCREDITA & 71047       & 0           & 0           & 11912       & 0.167663659 & 0           & 0.37356997  & 0.139554521 &  1          & 0           & 0           & 0           & 0           & 0           & 0           & 0           & 1           & 1           & 1           &  1         \\\\\n",
       "\tCREDITAA & 71047       & 0           & 0           & 26350       & 0.370881248 & 0           & 0.48304413  & 0.233331632 &  1          & 0           & 0           & 0           & 0           & 0           & 0           & 1           & 1           & 1           & 1           &  1         \\\\\n",
       "\tCREDITB & 71047       & 0           & 0           & 11689       & 0.164524892 & 0           & 0.37075381  & 0.137458387 &  1          & 0           & 0           & 0           & 0           & 0           & 0           & 0           & 1           & 1           & 1           &  1         \\\\\n",
       "\tCREDITC & 71047       & 0           & 0           &  7420       & 0.104437907 & 0           & 0.30582993  & 0.093531947 &  1          & 0           & 0           & 0           & 0           & 0           & 0           & 0           & 1           & 1           & 1           &  1         \\\\\n",
       "\tCREDITDE & 71047       & 0           & 0           &  9128       & 0.128478331 & 0           & 0.33462401  & 0.111973226 &  1          & 0           & 0           & 0           & 0           & 0           & 0           & 0           & 1           & 1           & 1           &  1         \\\\\n",
       "\tCREDITGY & 71047       & 0           & 0           &  1609       & 0.022646980 & 0           & 0.14877636  & 0.022134406 &  1          & 0           & 0           & 0           & 0           & 0           & 0           & 0           & 0           & 0           & 1           &  1         \\\\\n",
       "\tCREDITZ & 71047       & 0           & 0           &  2939       & 0.041366982 & 0           & 0.19913893  & 0.039656313 &  1          & 0           & 0           & 0           & 0           & 0           & 0           & 0           & 0           & 0           & 1           &  1         \\\\\n",
       "\tPRIZMRUR & 71047       & 0           & 0           &  3392       & 0.047743043 & 0           & 0.21322356  & 0.045464285 &  1          & 0           & 0           & 0           & 0           & 0           & 0           & 0           & 0           & 0           & 1           &  1         \\\\\n",
       "\tPRIZMUB & 71047       & 0           & 0           & 22814       & 0.321111377 & 0           & 0.46690677  & 0.218001929 &  1          & 0           & 0           & 0           & 0           & 0           & 0           & 1           & 1           & 1           & 1           &  1         \\\\\n",
       "\tPRIZMTWN & 71047       & 0           & 0           & 10545       & 0.148422875 & 0           & 0.35552117  & 0.126395304 &  1          & 0           & 0           & 0           & 0           & 0           & 0           & 0           & 1           & 1           & 1           &  1         \\\\\n",
       "\tREFURB & 71047       & 0           & 0           &  9919       & 0.139611806 & 0           & 0.34658627  & 0.120122041 &  1          & 0           & 0           & 0           & 0           & 0           & 0           & 0           & 1           & 1           & 1           &  1         \\\\\n",
       "\tWEBCAP & 71047       & 0           & 0           & 64142       & 0.902810815 & 1           & 0.29621729  & 0.087744682 &  1          & 0           & 0           & 0           & 1           & 1           & 1           & 1           & 1           & 1           & 1           &  1         \\\\\n",
       "\tTRUCK & 71047       & 0           & 0           & 13301       & 0.187214098 & 0           & 0.39008604  & 0.152167121 &  1          & 0           & 0           & 0           & 0           & 0           & 0           & 0           & 1           & 1           & 1           &  1         \\\\\n",
       "\tRV & 71047       & 0           & 0           &  5769       & 0.081199769 & 0           & 0.27314358  & 0.074607417 &  1          & 0           & 0           & 0           & 0           & 0           & 0           & 0           & 0           & 1           & 1           &  1         \\\\\n",
       "\tOCCPROF & 71047       & 0           & 0           & 12355       & 0.173898968 & 0           & 0.37902525  & 0.143660139 &  1          & 0           & 0           & 0           & 0           & 0           & 0           & 0           & 1           & 1           & 1           &  1         \\\\\n",
       "\tOCCCLER & 71047       & 0           & 0           &  1425       & 0.020057145 & 0           & 0.14019676  & 0.019655133 &  1          & 0           & 0           & 0           & 0           & 0           & 0           & 0           & 0           & 0           & 1           &  1         \\\\\n",
       "\tOCCCRFT & 71047       & 0           & 0           &  2106       & 0.029642349 & 0           & 0.16959978  & 0.028764085 &  1          & 0           & 0           & 0           & 0           & 0           & 0           & 0           & 0           & 0           & 1           &  1         \\\\\n",
       "\tOCCSTUD & 71047       & 0           & 0           &   538       & 0.007572452 & 0           & 0.08669034  & 0.007515216 &  1          & 0           & 0           & 0           & 0           & 0           & 0           & 0           & 0           & 0           & 0           &  1         \\\\\n",
       "\tOCCHMKR & 71047       & 0           & 0           &   224       & 0.003152842 & 0           & 0.05606199  & 0.003142946 &  1          & 0           & 0           & 0           & 0           & 0           & 0           & 0           & 0           & 0           & 0           &  1         \\\\\n",
       "\tOCCRET & 71047       & 0           & 0           &  1031       & 0.014511521 & 0           & 0.11958736  & 0.014301138 &  1          & 0           & 0           & 0           & 0           & 0           & 0           & 0           & 0           & 0           & 1           &  1         \\\\\n",
       "\tOCCSELF & 71047       & 0           & 0           &  1267       & 0.017833265 & 0           & 0.13234609  & 0.017515486 &  1          & 0           & 0           & 0           & 0           & 0           & 0           & 0           & 0           & 0           & 1           &  1         \\\\\n",
       "\tOWNRENT & 71047       & 0           & 0           & 23582       & 0.331921123 & 0           & 0.47090616  & 0.221752612 &  1          & 0           & 0           & 0           & 0           & 0           & 0           & 1           & 1           & 1           & 1           &  1         \\\\\n",
       "\tMARRYUN & 71047       & 0           & 0           & 27340       & 0.384815685 & 0           & 0.48655514  & 0.236735906 &  1          & 0           & 0           & 0           & 0           & 0           & 0           & 1           & 1           & 1           & 1           &  1         \\\\\n",
       "\tMARRYYES & 71047       & 0           & 0           & 25959       & 0.365377848 & 0           & 0.48153934  & 0.231880140 &  1          & 0           & 0           & 0           & 0           & 0           & 0           & 1           & 1           & 1           & 1           &  1         \\\\\n",
       "\tMARRYNO & 71047       & 0           & 0           & 17748       & 0.249806466 & 0           & 0.43290395  & 0.187405833 &  1          & 0           & 0           & 0           & 0           & 0           & 0           & 0           & 1           & 1           & 1           &  1         \\\\\n",
       "\tMAILORD & 71047       & 0           & 0           & 25717       & 0.361971653 & 0           & 0.48057406  & 0.230951426 &  1          & 0           & 0           & 0           & 0           & 0           & 0           & 1           & 1           & 1           & 1           &  1         \\\\\n",
       "\tMAILRES & 71047       & 0           & 0           & 26799       & 0.377201008 & 0           & 0.48468930  & 0.234923714 &  1          & 0           & 0           & 0           & 0           & 0           & 0           & 1           & 1           & 1           & 1           &  1         \\\\\n",
       "\tMAILFLAG & 71047       & 0           & 0           &  1024       & 0.014412994 & 0           & 0.11918666  & 0.014205460 &  1          & 0           & 0           & 0           & 0           & 0           & 0           & 0           & 0           & 0           & 1           &  1         \\\\\n",
       "\tTRAVEL & 71047       & 0           & 0           &  4084       & 0.057483075 & 0           & 0.23276497  & 0.054179533 &  1          & 0           & 0           & 0           & 0           & 0           & 0           & 0           & 0           & 1           & 1           &  1         \\\\\n",
       "\tPCOWN & 71047       & 0           & 0           & 13173       & 0.185412473 & 0           & 0.38863455  & 0.151036814 &  1          & 0           & 0           & 0           & 0           & 0           & 0           & 0           & 1           & 1           & 1           &  1         \\\\\n",
       "\tCREDITCD & 71047       & 0           & 0           & 48058       & 0.676425465 & 1           & 0.46784307  & 0.218877136 &  1          & 0           & 0           & 0           & 0           & 0           & 1           & 1           & 1           & 1           & 1           &  1         \\\\\n",
       "\tNEWCELLY & 71047       & 0           & 0           & 13708       & 0.192942700 & 0           & 0.39461121  & 0.155718006 &  1          & 0           & 0           & 0           & 0           & 0           & 0           & 0           & 1           & 1           & 1           &  1         \\\\\n",
       "\tMCYCLE & 71047       & 0           & 0           &   956       & 0.013455881 & 0           & 0.11521722  & 0.013275007 &  1          & 0           & 0           & 0           & 0           & 0           & 0           & 0           & 0           & 0           & 1           &  1         \\\\\n",
       "\tCREDITAD & 71047       & 0           & 0           &  3777       & 0.053161991 & 0           & 0.37498805  & 0.140616040 & 25          & 0           & 0           & 0           & 0           & 0           & 0           & 0           & 0           & 0           & 1           & 25         \\\\\n",
       "\\end{tabular}\n"
      ],
      "text/markdown": [
       "\n",
       "| <!--/--> | N | Nmiss | Nmiss_pct | sum | avg | meidan.50. | std | var | range | pctl.0. | pctl.1. | pctl.5. | pctl.10. | pctl.25. | pctl.50. | pctl.75. | pctl.90. | pctl.95. | pctl.99. | pctl.100. |\n",
       "|---|---|---|---|---|---|---|---|---|---|---|---|---|---|---|---|---|---|---|---|---|\n",
       "| CHURN | 71047       | 0           | 0           | 20609       | 0.290075584 | 0           | 0.45380022  | 0.205934638 |  1          | 0           | 0           | 0           | 0           | 0           | 0           | 1           | 1           | 1           | 1           |  1          |\n",
       "| CHILDREN | 71047       | 0           | 0           | 17221       | 0.242388841 | 0           | 0.42853130  | 0.183639076 |  1          | 0           | 0           | 0           | 0           | 0           | 0           | 0           | 1           | 1           | 1           |  1          |\n",
       "| CREDITA | 71047       | 0           | 0           | 11912       | 0.167663659 | 0           | 0.37356997  | 0.139554521 |  1          | 0           | 0           | 0           | 0           | 0           | 0           | 0           | 1           | 1           | 1           |  1          |\n",
       "| CREDITAA | 71047       | 0           | 0           | 26350       | 0.370881248 | 0           | 0.48304413  | 0.233331632 |  1          | 0           | 0           | 0           | 0           | 0           | 0           | 1           | 1           | 1           | 1           |  1          |\n",
       "| CREDITB | 71047       | 0           | 0           | 11689       | 0.164524892 | 0           | 0.37075381  | 0.137458387 |  1          | 0           | 0           | 0           | 0           | 0           | 0           | 0           | 1           | 1           | 1           |  1          |\n",
       "| CREDITC | 71047       | 0           | 0           |  7420       | 0.104437907 | 0           | 0.30582993  | 0.093531947 |  1          | 0           | 0           | 0           | 0           | 0           | 0           | 0           | 1           | 1           | 1           |  1          |\n",
       "| CREDITDE | 71047       | 0           | 0           |  9128       | 0.128478331 | 0           | 0.33462401  | 0.111973226 |  1          | 0           | 0           | 0           | 0           | 0           | 0           | 0           | 1           | 1           | 1           |  1          |\n",
       "| CREDITGY | 71047       | 0           | 0           |  1609       | 0.022646980 | 0           | 0.14877636  | 0.022134406 |  1          | 0           | 0           | 0           | 0           | 0           | 0           | 0           | 0           | 0           | 1           |  1          |\n",
       "| CREDITZ | 71047       | 0           | 0           |  2939       | 0.041366982 | 0           | 0.19913893  | 0.039656313 |  1          | 0           | 0           | 0           | 0           | 0           | 0           | 0           | 0           | 0           | 1           |  1          |\n",
       "| PRIZMRUR | 71047       | 0           | 0           |  3392       | 0.047743043 | 0           | 0.21322356  | 0.045464285 |  1          | 0           | 0           | 0           | 0           | 0           | 0           | 0           | 0           | 0           | 1           |  1          |\n",
       "| PRIZMUB | 71047       | 0           | 0           | 22814       | 0.321111377 | 0           | 0.46690677  | 0.218001929 |  1          | 0           | 0           | 0           | 0           | 0           | 0           | 1           | 1           | 1           | 1           |  1          |\n",
       "| PRIZMTWN | 71047       | 0           | 0           | 10545       | 0.148422875 | 0           | 0.35552117  | 0.126395304 |  1          | 0           | 0           | 0           | 0           | 0           | 0           | 0           | 1           | 1           | 1           |  1          |\n",
       "| REFURB | 71047       | 0           | 0           |  9919       | 0.139611806 | 0           | 0.34658627  | 0.120122041 |  1          | 0           | 0           | 0           | 0           | 0           | 0           | 0           | 1           | 1           | 1           |  1          |\n",
       "| WEBCAP | 71047       | 0           | 0           | 64142       | 0.902810815 | 1           | 0.29621729  | 0.087744682 |  1          | 0           | 0           | 0           | 1           | 1           | 1           | 1           | 1           | 1           | 1           |  1          |\n",
       "| TRUCK | 71047       | 0           | 0           | 13301       | 0.187214098 | 0           | 0.39008604  | 0.152167121 |  1          | 0           | 0           | 0           | 0           | 0           | 0           | 0           | 1           | 1           | 1           |  1          |\n",
       "| RV | 71047       | 0           | 0           |  5769       | 0.081199769 | 0           | 0.27314358  | 0.074607417 |  1          | 0           | 0           | 0           | 0           | 0           | 0           | 0           | 0           | 1           | 1           |  1          |\n",
       "| OCCPROF | 71047       | 0           | 0           | 12355       | 0.173898968 | 0           | 0.37902525  | 0.143660139 |  1          | 0           | 0           | 0           | 0           | 0           | 0           | 0           | 1           | 1           | 1           |  1          |\n",
       "| OCCCLER | 71047       | 0           | 0           |  1425       | 0.020057145 | 0           | 0.14019676  | 0.019655133 |  1          | 0           | 0           | 0           | 0           | 0           | 0           | 0           | 0           | 0           | 1           |  1          |\n",
       "| OCCCRFT | 71047       | 0           | 0           |  2106       | 0.029642349 | 0           | 0.16959978  | 0.028764085 |  1          | 0           | 0           | 0           | 0           | 0           | 0           | 0           | 0           | 0           | 1           |  1          |\n",
       "| OCCSTUD | 71047       | 0           | 0           |   538       | 0.007572452 | 0           | 0.08669034  | 0.007515216 |  1          | 0           | 0           | 0           | 0           | 0           | 0           | 0           | 0           | 0           | 0           |  1          |\n",
       "| OCCHMKR | 71047       | 0           | 0           |   224       | 0.003152842 | 0           | 0.05606199  | 0.003142946 |  1          | 0           | 0           | 0           | 0           | 0           | 0           | 0           | 0           | 0           | 0           |  1          |\n",
       "| OCCRET | 71047       | 0           | 0           |  1031       | 0.014511521 | 0           | 0.11958736  | 0.014301138 |  1          | 0           | 0           | 0           | 0           | 0           | 0           | 0           | 0           | 0           | 1           |  1          |\n",
       "| OCCSELF | 71047       | 0           | 0           |  1267       | 0.017833265 | 0           | 0.13234609  | 0.017515486 |  1          | 0           | 0           | 0           | 0           | 0           | 0           | 0           | 0           | 0           | 1           |  1          |\n",
       "| OWNRENT | 71047       | 0           | 0           | 23582       | 0.331921123 | 0           | 0.47090616  | 0.221752612 |  1          | 0           | 0           | 0           | 0           | 0           | 0           | 1           | 1           | 1           | 1           |  1          |\n",
       "| MARRYUN | 71047       | 0           | 0           | 27340       | 0.384815685 | 0           | 0.48655514  | 0.236735906 |  1          | 0           | 0           | 0           | 0           | 0           | 0           | 1           | 1           | 1           | 1           |  1          |\n",
       "| MARRYYES | 71047       | 0           | 0           | 25959       | 0.365377848 | 0           | 0.48153934  | 0.231880140 |  1          | 0           | 0           | 0           | 0           | 0           | 0           | 1           | 1           | 1           | 1           |  1          |\n",
       "| MARRYNO | 71047       | 0           | 0           | 17748       | 0.249806466 | 0           | 0.43290395  | 0.187405833 |  1          | 0           | 0           | 0           | 0           | 0           | 0           | 0           | 1           | 1           | 1           |  1          |\n",
       "| MAILORD | 71047       | 0           | 0           | 25717       | 0.361971653 | 0           | 0.48057406  | 0.230951426 |  1          | 0           | 0           | 0           | 0           | 0           | 0           | 1           | 1           | 1           | 1           |  1          |\n",
       "| MAILRES | 71047       | 0           | 0           | 26799       | 0.377201008 | 0           | 0.48468930  | 0.234923714 |  1          | 0           | 0           | 0           | 0           | 0           | 0           | 1           | 1           | 1           | 1           |  1          |\n",
       "| MAILFLAG | 71047       | 0           | 0           |  1024       | 0.014412994 | 0           | 0.11918666  | 0.014205460 |  1          | 0           | 0           | 0           | 0           | 0           | 0           | 0           | 0           | 0           | 1           |  1          |\n",
       "| TRAVEL | 71047       | 0           | 0           |  4084       | 0.057483075 | 0           | 0.23276497  | 0.054179533 |  1          | 0           | 0           | 0           | 0           | 0           | 0           | 0           | 0           | 1           | 1           |  1          |\n",
       "| PCOWN | 71047       | 0           | 0           | 13173       | 0.185412473 | 0           | 0.38863455  | 0.151036814 |  1          | 0           | 0           | 0           | 0           | 0           | 0           | 0           | 1           | 1           | 1           |  1          |\n",
       "| CREDITCD | 71047       | 0           | 0           | 48058       | 0.676425465 | 1           | 0.46784307  | 0.218877136 |  1          | 0           | 0           | 0           | 0           | 0           | 1           | 1           | 1           | 1           | 1           |  1          |\n",
       "| NEWCELLY | 71047       | 0           | 0           | 13708       | 0.192942700 | 0           | 0.39461121  | 0.155718006 |  1          | 0           | 0           | 0           | 0           | 0           | 0           | 0           | 1           | 1           | 1           |  1          |\n",
       "| MCYCLE | 71047       | 0           | 0           |   956       | 0.013455881 | 0           | 0.11521722  | 0.013275007 |  1          | 0           | 0           | 0           | 0           | 0           | 0           | 0           | 0           | 0           | 1           |  1          |\n",
       "| CREDITAD | 71047       | 0           | 0           |  3777       | 0.053161991 | 0           | 0.37498805  | 0.140616040 | 25          | 0           | 0           | 0           | 0           | 0           | 0           | 0           | 0           | 0           | 1           | 25          |\n",
       "\n"
      ],
      "text/plain": [
       "         N     Nmiss Nmiss_pct sum   avg         meidan.50. std       \n",
       "CHURN    71047 0     0         20609 0.290075584 0          0.45380022\n",
       "CHILDREN 71047 0     0         17221 0.242388841 0          0.42853130\n",
       "CREDITA  71047 0     0         11912 0.167663659 0          0.37356997\n",
       "CREDITAA 71047 0     0         26350 0.370881248 0          0.48304413\n",
       "CREDITB  71047 0     0         11689 0.164524892 0          0.37075381\n",
       "CREDITC  71047 0     0          7420 0.104437907 0          0.30582993\n",
       "CREDITDE 71047 0     0          9128 0.128478331 0          0.33462401\n",
       "CREDITGY 71047 0     0          1609 0.022646980 0          0.14877636\n",
       "CREDITZ  71047 0     0          2939 0.041366982 0          0.19913893\n",
       "PRIZMRUR 71047 0     0          3392 0.047743043 0          0.21322356\n",
       "PRIZMUB  71047 0     0         22814 0.321111377 0          0.46690677\n",
       "PRIZMTWN 71047 0     0         10545 0.148422875 0          0.35552117\n",
       "REFURB   71047 0     0          9919 0.139611806 0          0.34658627\n",
       "WEBCAP   71047 0     0         64142 0.902810815 1          0.29621729\n",
       "TRUCK    71047 0     0         13301 0.187214098 0          0.39008604\n",
       "RV       71047 0     0          5769 0.081199769 0          0.27314358\n",
       "OCCPROF  71047 0     0         12355 0.173898968 0          0.37902525\n",
       "OCCCLER  71047 0     0          1425 0.020057145 0          0.14019676\n",
       "OCCCRFT  71047 0     0          2106 0.029642349 0          0.16959978\n",
       "OCCSTUD  71047 0     0           538 0.007572452 0          0.08669034\n",
       "OCCHMKR  71047 0     0           224 0.003152842 0          0.05606199\n",
       "OCCRET   71047 0     0          1031 0.014511521 0          0.11958736\n",
       "OCCSELF  71047 0     0          1267 0.017833265 0          0.13234609\n",
       "OWNRENT  71047 0     0         23582 0.331921123 0          0.47090616\n",
       "MARRYUN  71047 0     0         27340 0.384815685 0          0.48655514\n",
       "MARRYYES 71047 0     0         25959 0.365377848 0          0.48153934\n",
       "MARRYNO  71047 0     0         17748 0.249806466 0          0.43290395\n",
       "MAILORD  71047 0     0         25717 0.361971653 0          0.48057406\n",
       "MAILRES  71047 0     0         26799 0.377201008 0          0.48468930\n",
       "MAILFLAG 71047 0     0          1024 0.014412994 0          0.11918666\n",
       "TRAVEL   71047 0     0          4084 0.057483075 0          0.23276497\n",
       "PCOWN    71047 0     0         13173 0.185412473 0          0.38863455\n",
       "CREDITCD 71047 0     0         48058 0.676425465 1          0.46784307\n",
       "NEWCELLY 71047 0     0         13708 0.192942700 0          0.39461121\n",
       "MCYCLE   71047 0     0           956 0.013455881 0          0.11521722\n",
       "CREDITAD 71047 0     0          3777 0.053161991 0          0.37498805\n",
       "         var         range pctl.0. pctl.1. pctl.5. pctl.10. pctl.25. pctl.50.\n",
       "CHURN    0.205934638  1    0       0       0       0        0        0       \n",
       "CHILDREN 0.183639076  1    0       0       0       0        0        0       \n",
       "CREDITA  0.139554521  1    0       0       0       0        0        0       \n",
       "CREDITAA 0.233331632  1    0       0       0       0        0        0       \n",
       "CREDITB  0.137458387  1    0       0       0       0        0        0       \n",
       "CREDITC  0.093531947  1    0       0       0       0        0        0       \n",
       "CREDITDE 0.111973226  1    0       0       0       0        0        0       \n",
       "CREDITGY 0.022134406  1    0       0       0       0        0        0       \n",
       "CREDITZ  0.039656313  1    0       0       0       0        0        0       \n",
       "PRIZMRUR 0.045464285  1    0       0       0       0        0        0       \n",
       "PRIZMUB  0.218001929  1    0       0       0       0        0        0       \n",
       "PRIZMTWN 0.126395304  1    0       0       0       0        0        0       \n",
       "REFURB   0.120122041  1    0       0       0       0        0        0       \n",
       "WEBCAP   0.087744682  1    0       0       0       1        1        1       \n",
       "TRUCK    0.152167121  1    0       0       0       0        0        0       \n",
       "RV       0.074607417  1    0       0       0       0        0        0       \n",
       "OCCPROF  0.143660139  1    0       0       0       0        0        0       \n",
       "OCCCLER  0.019655133  1    0       0       0       0        0        0       \n",
       "OCCCRFT  0.028764085  1    0       0       0       0        0        0       \n",
       "OCCSTUD  0.007515216  1    0       0       0       0        0        0       \n",
       "OCCHMKR  0.003142946  1    0       0       0       0        0        0       \n",
       "OCCRET   0.014301138  1    0       0       0       0        0        0       \n",
       "OCCSELF  0.017515486  1    0       0       0       0        0        0       \n",
       "OWNRENT  0.221752612  1    0       0       0       0        0        0       \n",
       "MARRYUN  0.236735906  1    0       0       0       0        0        0       \n",
       "MARRYYES 0.231880140  1    0       0       0       0        0        0       \n",
       "MARRYNO  0.187405833  1    0       0       0       0        0        0       \n",
       "MAILORD  0.230951426  1    0       0       0       0        0        0       \n",
       "MAILRES  0.234923714  1    0       0       0       0        0        0       \n",
       "MAILFLAG 0.014205460  1    0       0       0       0        0        0       \n",
       "TRAVEL   0.054179533  1    0       0       0       0        0        0       \n",
       "PCOWN    0.151036814  1    0       0       0       0        0        0       \n",
       "CREDITCD 0.218877136  1    0       0       0       0        0        1       \n",
       "NEWCELLY 0.155718006  1    0       0       0       0        0        0       \n",
       "MCYCLE   0.013275007  1    0       0       0       0        0        0       \n",
       "CREDITAD 0.140616040 25    0       0       0       0        0        0       \n",
       "         pctl.75. pctl.90. pctl.95. pctl.99. pctl.100.\n",
       "CHURN    1        1        1        1         1       \n",
       "CHILDREN 0        1        1        1         1       \n",
       "CREDITA  0        1        1        1         1       \n",
       "CREDITAA 1        1        1        1         1       \n",
       "CREDITB  0        1        1        1         1       \n",
       "CREDITC  0        1        1        1         1       \n",
       "CREDITDE 0        1        1        1         1       \n",
       "CREDITGY 0        0        0        1         1       \n",
       "CREDITZ  0        0        0        1         1       \n",
       "PRIZMRUR 0        0        0        1         1       \n",
       "PRIZMUB  1        1        1        1         1       \n",
       "PRIZMTWN 0        1        1        1         1       \n",
       "REFURB   0        1        1        1         1       \n",
       "WEBCAP   1        1        1        1         1       \n",
       "TRUCK    0        1        1        1         1       \n",
       "RV       0        0        1        1         1       \n",
       "OCCPROF  0        1        1        1         1       \n",
       "OCCCLER  0        0        0        1         1       \n",
       "OCCCRFT  0        0        0        1         1       \n",
       "OCCSTUD  0        0        0        0         1       \n",
       "OCCHMKR  0        0        0        0         1       \n",
       "OCCRET   0        0        0        1         1       \n",
       "OCCSELF  0        0        0        1         1       \n",
       "OWNRENT  1        1        1        1         1       \n",
       "MARRYUN  1        1        1        1         1       \n",
       "MARRYYES 1        1        1        1         1       \n",
       "MARRYNO  0        1        1        1         1       \n",
       "MAILORD  1        1        1        1         1       \n",
       "MAILRES  1        1        1        1         1       \n",
       "MAILFLAG 0        0        0        1         1       \n",
       "TRAVEL   0        0        1        1         1       \n",
       "PCOWN    0        1        1        1         1       \n",
       "CREDITCD 1        1        1        1         1       \n",
       "NEWCELLY 0        1        1        1         1       \n",
       "MCYCLE   0        0        0        1         1       \n",
       "CREDITAD 0        0        0        1        25       "
      ]
     },
     "metadata": {},
     "output_type": "display_data"
    }
   ],
   "source": [
    "abt_others <- data.frame(t(apply(others, 2, about)))\n",
    "abt_others"
   ]
  },
  {
   "cell_type": "markdown",
   "metadata": {},
   "source": [
    "Now we do outlier treatment for all the numeric values. REFER and CALLFWDV are not treated because of the way in which their values are spread. We use a UDf for the variables which did not have missing values and for the rest, we will manually cap the outliers."
   ]
  },
  {
   "cell_type": "code",
   "execution_count": 13,
   "metadata": {},
   "outputs": [],
   "source": [
    "outlier_treat <- function(x){\n",
    "  UC1 = quantile(x, p=0.95,na.rm=T)\n",
    "  LC1 = quantile(x, p=0.05,na.rm=T)\n",
    "  \n",
    "  x=ifelse(x>UC1, UC1, x)\n",
    "  x=ifelse(x<LC1, LC1, x)\n",
    "  return(x)\n",
    "}\n",
    "\n",
    "treat <- c(\"DROPVCE\", \"BLCKVCE\", \"UNANSVCE\", \"CUSTCARE\", \"CALLWAIT\", \"MONTHS\", \"UNIQSUBS\", \"ACTVSUBS\", \"PHONES\",  \n",
    "           \"MODELS\", \"EQPDAYS\", \"SETPRC\", \"THREEWAY\", \"MOUREC\", \"OUTCALLS\", \"INCALLS\", \"PEAKVCE\", \n",
    "           \"OPEAKVCE\", \"DROPBLK\",\"INCOME\")\n",
    "\n",
    "nums[,treat] <-lapply(nums[,treat],FUN = outlier_treat)"
   ]
  },
  {
   "cell_type": "code",
   "execution_count": 14,
   "metadata": {},
   "outputs": [],
   "source": [
    "nums$AGE1 =ifelse(nums$AGE1>62, 62, nums$AGE1)\n",
    "nums$AGE1 =ifelse(nums$AGE1<0, 0, nums$AGE1)\n",
    "nums$AGE2 =ifelse(nums$AGE2>62, 62, nums$AGE2)\n",
    "nums$AGE2 =ifelse(nums$AGE2<0, 0, nums$AGE2)\n",
    "nums$CHANGEM =ifelse(nums$CHANGEM>345.25, 345.25, nums$CHANGEM)\n",
    "nums$CHANGEM =ifelse(nums$CHANGEM< (-376.250), -376.250, nums$CHANGEM)\n",
    "nums$CHANGER =ifelse(nums$CHANGER>46.218, 46.218, nums$CHANGER)\n",
    "nums$CHANGER =ifelse(nums$CHANGER< (-47.500), -47.500, nums$CHANGER)\n",
    "nums$REVENUE =ifelse(nums$REVENUE<15.515, 15.515, nums$REVENUE)\n",
    "nums$REVENUE =ifelse(nums$REVENUE>135.39, 135.39, nums$REVENUE)\n",
    "nums$MOU =ifelse(nums$MOU<20.415, 20.415, nums$MOU)\n",
    "nums$MOU =ifelse(nums$MOU>1580.25, 1580.25, nums$MOU)\n",
    "nums$RECCHRGE =ifelse(nums$RECCHRGE>85, 85, nums$RECCHRGE)\n",
    "nums$RECCHRGE =ifelse(nums$RECCHRGE<10, 10, nums$RECCHRGE)\n",
    "nums$DIRECTAS =ifelse(nums$DIRECTAS>4.21, 4.21, nums$DIRECTAS)\n",
    "nums$DIRECTAS =ifelse(nums$DIRECTAS<0, 0, nums$DIRECTAS)\n",
    "nums$OVERAGE =ifelse(nums$OVERAGE>190.375, 190.375, nums$OVERAGE)\n",
    "nums$OVERAGE =ifelse(nums$OVERAGE<0, 0, nums$OVERAGE)\n",
    "nums$ROAM =ifelse(nums$ROAM>5.09, 5.09, nums$ROAM)\n",
    "nums$ROAM =ifelse(nums$ROAM<0, 0, nums$ROAM)"
   ]
  },
  {
   "cell_type": "markdown",
   "metadata": {},
   "source": [
    "We will now apply Chi Square Test to see the relationship between categorical variables and the target variable CHURN. This will be a way to select those variables that make are relevant."
   ]
  },
  {
   "cell_type": "code",
   "execution_count": 15,
   "metadata": {
    "scrolled": true
   },
   "outputs": [
    {
     "data": {
      "text/plain": [
       "\n",
       "\tPearson's Chi-squared test with Yates' continuity correction\n",
       "\n",
       "data:  xtabs(~CHURN + CHILDREN, data = others)\n",
       "X-squared = 1.882, df = 1, p-value = 0.1701\n"
      ]
     },
     "metadata": {},
     "output_type": "display_data"
    },
    {
     "data": {
      "text/plain": [
       "\n",
       "\tPearson's Chi-squared test with Yates' continuity correction\n",
       "\n",
       "data:  xtabs(~CHURN + CREDITA, data = others)\n",
       "X-squared = 31.132, df = 1, p-value = 0.00000002411\n"
      ]
     },
     "metadata": {},
     "output_type": "display_data"
    },
    {
     "data": {
      "text/plain": [
       "\n",
       "\tPearson's Chi-squared test with Yates' continuity correction\n",
       "\n",
       "data:  xtabs(~CHURN + CREDITAA, data = others)\n",
       "X-squared = 31.324, df = 1, p-value = 0.00000002183\n"
      ]
     },
     "metadata": {},
     "output_type": "display_data"
    },
    {
     "data": {
      "text/plain": [
       "\n",
       "\tPearson's Chi-squared test with Yates' continuity correction\n",
       "\n",
       "data:  xtabs(~CHURN + CREDITB, data = others)\n",
       "X-squared = 25.805, df = 1, p-value = 0.0000003778\n"
      ]
     },
     "metadata": {},
     "output_type": "display_data"
    },
    {
     "data": {
      "text/plain": [
       "\n",
       "\tPearson's Chi-squared test with Yates' continuity correction\n",
       "\n",
       "data:  xtabs(~CHURN + CREDITC, data = others)\n",
       "X-squared = 25.516, df = 1, p-value = 0.0000004387\n"
      ]
     },
     "metadata": {},
     "output_type": "display_data"
    },
    {
     "data": {
      "text/plain": [
       "\n",
       "\tPearson's Chi-squared test with Yates' continuity correction\n",
       "\n",
       "data:  xtabs(~CHURN + CREDITDE, data = others)\n",
       "X-squared = 222.92, df = 1, p-value < 0.00000000000000022\n"
      ]
     },
     "metadata": {},
     "output_type": "display_data"
    },
    {
     "data": {
      "text/plain": [
       "\n",
       "\tPearson's Chi-squared test with Yates' continuity correction\n",
       "\n",
       "data:  xtabs(~CHURN + CREDITGY, data = others)\n",
       "X-squared = 0.46199, df = 1, p-value = 0.4967\n"
      ]
     },
     "metadata": {},
     "output_type": "display_data"
    },
    {
     "data": {
      "text/plain": [
       "\n",
       "\tPearson's Chi-squared test with Yates' continuity correction\n",
       "\n",
       "data:  xtabs(~CHURN + CREDITZ, data = others)\n",
       "X-squared = 0.015846, df = 1, p-value = 0.8998\n"
      ]
     },
     "metadata": {},
     "output_type": "display_data"
    },
    {
     "data": {
      "text/plain": [
       "\n",
       "\tPearson's Chi-squared test with Yates' continuity correction\n",
       "\n",
       "data:  xtabs(~CHURN + PRIZMRUR, data = others)\n",
       "X-squared = 12.881, df = 1, p-value = 0.0003319\n"
      ]
     },
     "metadata": {},
     "output_type": "display_data"
    },
    {
     "data": {
      "text/plain": [
       "\n",
       "\tPearson's Chi-squared test with Yates' continuity correction\n",
       "\n",
       "data:  xtabs(~CHURN + PRIZMTWN, data = others)\n",
       "X-squared = 7.3586, df = 1, p-value = 0.006674\n"
      ]
     },
     "metadata": {},
     "output_type": "display_data"
    },
    {
     "data": {
      "text/plain": [
       "\n",
       "\tPearson's Chi-squared test with Yates' continuity correction\n",
       "\n",
       "data:  xtabs(~CHURN + PRIZMUB, data = others)\n",
       "X-squared = 6.8939, df = 1, p-value = 0.008649\n"
      ]
     },
     "metadata": {},
     "output_type": "display_data"
    },
    {
     "data": {
      "text/plain": [
       "\n",
       "\tPearson's Chi-squared test with Yates' continuity correction\n",
       "\n",
       "data:  xtabs(~CHURN + WEBCAP, data = others)\n",
       "X-squared = 271.64, df = 1, p-value < 0.00000000000000022\n"
      ]
     },
     "metadata": {},
     "output_type": "display_data"
    },
    {
     "data": {
      "text/plain": [
       "\n",
       "\tPearson's Chi-squared test with Yates' continuity correction\n",
       "\n",
       "data:  xtabs(~CHURN + TRUCK, data = others)\n",
       "X-squared = 0.046775, df = 1, p-value = 0.8288\n"
      ]
     },
     "metadata": {},
     "output_type": "display_data"
    },
    {
     "data": {
      "text/plain": [
       "\n",
       "\tPearson's Chi-squared test with Yates' continuity correction\n",
       "\n",
       "data:  xtabs(~CHURN + RV, data = others)\n",
       "X-squared = 0.11194, df = 1, p-value = 0.7379\n"
      ]
     },
     "metadata": {},
     "output_type": "display_data"
    },
    {
     "data": {
      "text/plain": [
       "\n",
       "\tPearson's Chi-squared test with Yates' continuity correction\n",
       "\n",
       "data:  xtabs(~CHURN + OCCPROF, data = others)\n",
       "X-squared = 3.1512, df = 1, p-value = 0.07587\n"
      ]
     },
     "metadata": {},
     "output_type": "display_data"
    },
    {
     "data": {
      "text/plain": [
       "\n",
       "\tPearson's Chi-squared test with Yates' continuity correction\n",
       "\n",
       "data:  xtabs(~CHURN + OCCCLER, data = others)\n",
       "X-squared = 0.5127, df = 1, p-value = 0.474\n"
      ]
     },
     "metadata": {},
     "output_type": "display_data"
    },
    {
     "data": {
      "text/plain": [
       "\n",
       "\tPearson's Chi-squared test with Yates' continuity correction\n",
       "\n",
       "data:  xtabs(~CHURN + OCCCRFT, data = others)\n",
       "X-squared = 1.9165, df = 1, p-value = 0.1662\n"
      ]
     },
     "metadata": {},
     "output_type": "display_data"
    },
    {
     "data": {
      "text/plain": [
       "\n",
       "\tPearson's Chi-squared test with Yates' continuity correction\n",
       "\n",
       "data:  xtabs(~CHURN + OCCSTUD, data = others)\n",
       "X-squared = 0.10758, df = 1, p-value = 0.7429\n"
      ]
     },
     "metadata": {},
     "output_type": "display_data"
    },
    {
     "data": {
      "text/plain": [
       "\n",
       "\tPearson's Chi-squared test with Yates' continuity correction\n",
       "\n",
       "data:  xtabs(~CHURN + OCCHMKR, data = others)\n",
       "X-squared = 0.92535, df = 1, p-value = 0.3361\n"
      ]
     },
     "metadata": {},
     "output_type": "display_data"
    },
    {
     "data": {
      "text/plain": [
       "\n",
       "\tPearson's Chi-squared test with Yates' continuity correction\n",
       "\n",
       "data:  xtabs(~CHURN + OCCRET, data = others)\n",
       "X-squared = 3.9005, df = 1, p-value = 0.04827\n"
      ]
     },
     "metadata": {},
     "output_type": "display_data"
    },
    {
     "data": {
      "text/plain": [
       "\n",
       "\tPearson's Chi-squared test with Yates' continuity correction\n",
       "\n",
       "data:  xtabs(~CHURN + OWNRENT, data = others)\n",
       "X-squared = 16.868, df = 1, p-value = 0.00004007\n"
      ]
     },
     "metadata": {},
     "output_type": "display_data"
    },
    {
     "data": {
      "text/plain": [
       "\n",
       "\tPearson's Chi-squared test with Yates' continuity correction\n",
       "\n",
       "data:  xtabs(~CHURN + MARRYUN, data = others)\n",
       "X-squared = 28.075, df = 1, p-value = 0.0000001167\n"
      ]
     },
     "metadata": {},
     "output_type": "display_data"
    },
    {
     "data": {
      "text/plain": [
       "\n",
       "\tPearson's Chi-squared test with Yates' continuity correction\n",
       "\n",
       "data:  xtabs(~CHURN + MARRYYES, data = others)\n",
       "X-squared = 1.5099, df = 1, p-value = 0.2191\n"
      ]
     },
     "metadata": {},
     "output_type": "display_data"
    },
    {
     "data": {
      "text/plain": [
       "\n",
       "\tPearson's Chi-squared test with Yates' continuity correction\n",
       "\n",
       "data:  xtabs(~CHURN + MARRYNO, data = others)\n",
       "X-squared = 20.966, df = 1, p-value = 0.000004675\n"
      ]
     },
     "metadata": {},
     "output_type": "display_data"
    },
    {
     "data": {
      "text/plain": [
       "\n",
       "\tPearson's Chi-squared test with Yates' continuity correction\n",
       "\n",
       "data:  xtabs(~CHURN + MAILRES, data = others)\n",
       "X-squared = 42.508, df = 1, p-value = 0.00000000007039\n"
      ]
     },
     "metadata": {},
     "output_type": "display_data"
    },
    {
     "data": {
      "text/plain": [
       "\n",
       "\tPearson's Chi-squared test with Yates' continuity correction\n",
       "\n",
       "data:  xtabs(~CHURN + MAILFLAG, data = others)\n",
       "X-squared = 0.029179, df = 1, p-value = 0.8644\n"
      ]
     },
     "metadata": {},
     "output_type": "display_data"
    },
    {
     "data": {
      "text/plain": [
       "\n",
       "\tPearson's Chi-squared test with Yates' continuity correction\n",
       "\n",
       "data:  xtabs(~CHURN + TRAVEL, data = others)\n",
       "X-squared = 1.0733, df = 1, p-value = 0.3002\n"
      ]
     },
     "metadata": {},
     "output_type": "display_data"
    },
    {
     "data": {
      "text/plain": [
       "\n",
       "\tPearson's Chi-squared test with Yates' continuity correction\n",
       "\n",
       "data:  xtabs(~CHURN + PCOWN, data = others)\n",
       "X-squared = 0.64202, df = 1, p-value = 0.423\n"
      ]
     },
     "metadata": {},
     "output_type": "display_data"
    },
    {
     "data": {
      "text/plain": [
       "\n",
       "\tPearson's Chi-squared test with Yates' continuity correction\n",
       "\n",
       "data:  xtabs(~CHURN + CREDITCD, data = others)\n",
       "X-squared = 7.6926, df = 1, p-value = 0.005545\n"
      ]
     },
     "metadata": {},
     "output_type": "display_data"
    },
    {
     "data": {
      "text/plain": [
       "\n",
       "\tPearson's Chi-squared test with Yates' continuity correction\n",
       "\n",
       "data:  xtabs(~CHURN + NEWCELLY, data = others)\n",
       "X-squared = 4.9185, df = 1, p-value = 0.02657\n"
      ]
     },
     "metadata": {},
     "output_type": "display_data"
    },
    {
     "data": {
      "text/plain": [
       "\n",
       "\tPearson's Chi-squared test with Yates' continuity correction\n",
       "\n",
       "data:  xtabs(~CHURN + MCYCLE, data = others)\n",
       "X-squared = 2.0983, df = 1, p-value = 0.1475\n"
      ]
     },
     "metadata": {},
     "output_type": "display_data"
    },
    {
     "name": "stderr",
     "output_type": "stream",
     "text": [
      "Warning message in chisq.test(xtabs(~CHURN + CREDITAD, data = others)):\n",
      "\"Chi-squared approximation may be incorrect\""
     ]
    },
    {
     "data": {
      "text/plain": [
       "\n",
       "\tPearson's Chi-squared test\n",
       "\n",
       "data:  xtabs(~CHURN + CREDITAD, data = others)\n",
       "X-squared = 18.537, df = 15, p-value = 0.2355\n"
      ]
     },
     "metadata": {},
     "output_type": "display_data"
    },
    {
     "data": {
      "text/plain": [
       "\n",
       "\tPearson's Chi-squared test with Yates' continuity correction\n",
       "\n",
       "data:  xtabs(~CHURN + REFURB, data = others)\n",
       "X-squared = 63.187, df = 1, p-value = 0.00000000000000188\n"
      ]
     },
     "metadata": {},
     "output_type": "display_data"
    },
    {
     "data": {
      "text/plain": [
       "\n",
       "\tPearson's Chi-squared test with Yates' continuity correction\n",
       "\n",
       "data:  xtabs(~CHURN + OCCSELF, data = others)\n",
       "X-squared = 1.1312, df = 1, p-value = 0.2875\n"
      ]
     },
     "metadata": {},
     "output_type": "display_data"
    },
    {
     "data": {
      "text/plain": [
       "\n",
       "\tPearson's Chi-squared test with Yates' continuity correction\n",
       "\n",
       "data:  xtabs(~CHURN + MAILORD, data = others)\n",
       "X-squared = 39.942, df = 1, p-value = 0.0000000002616\n"
      ]
     },
     "metadata": {},
     "output_type": "display_data"
    }
   ],
   "source": [
    "chisq.test(xtabs(~CHURN+CHILDREN,data = others)) # remove\n",
    "chisq.test(xtabs(~CHURN+CREDITA,data = others))\n",
    "chisq.test(xtabs(~CHURN+CREDITAA,data = others))\n",
    "chisq.test(xtabs(~CHURN+CREDITB,data = others)) \n",
    "chisq.test(xtabs(~CHURN+CREDITC,data = others)) \n",
    "chisq.test(xtabs(~CHURN+CREDITDE,data = others))\n",
    "chisq.test(xtabs(~CHURN+CREDITGY,data = others)) #remove\n",
    "chisq.test(xtabs(~CHURN+CREDITZ,data = others)) # remove\n",
    "chisq.test(xtabs(~CHURN+PRIZMRUR,data = others))\n",
    "chisq.test(xtabs(~CHURN+PRIZMTWN,data = others))\n",
    "chisq.test(xtabs(~CHURN+PRIZMUB,data = others))\n",
    "chisq.test(xtabs(~CHURN+WEBCAP,data = others)) \n",
    "chisq.test(xtabs(~CHURN+TRUCK,data = others)) #remove\n",
    "chisq.test(xtabs(~CHURN+RV,data = others)) #remove\n",
    "chisq.test(xtabs(~CHURN+OCCPROF,data = others)) #remove\n",
    "chisq.test(xtabs(~CHURN+OCCCLER,data = others)) #remove\n",
    "chisq.test(xtabs(~CHURN+OCCCRFT,data = others)) #remove\n",
    "chisq.test(xtabs(~CHURN+OCCSTUD,data = others)) #remove\n",
    "chisq.test(xtabs(~CHURN+OCCHMKR,data = others)) #remove\n",
    "chisq.test(xtabs(~CHURN+OCCRET,data = others))\n",
    "chisq.test(xtabs(~CHURN+OWNRENT,data = others))\n",
    "chisq.test(xtabs(~CHURN+MARRYUN,data = others))\n",
    "chisq.test(xtabs(~CHURN+MARRYYES,data = others)) #remove\n",
    "chisq.test(xtabs(~CHURN+MARRYNO,data = others))\n",
    "chisq.test(xtabs(~CHURN+MAILRES,data = others)) \n",
    "chisq.test(xtabs(~CHURN+MAILFLAG,data = others)) #remove\n",
    "chisq.test(xtabs(~CHURN+TRAVEL,data = others)) #remove\n",
    "chisq.test(xtabs(~CHURN+PCOWN,data = others)) #remove\n",
    "chisq.test(xtabs(~CHURN+CREDITCD,data = others)) \n",
    "chisq.test(xtabs(~CHURN+NEWCELLY,data = others))\n",
    "chisq.test(xtabs(~CHURN+MCYCLE,data = others)) #remove\n",
    "chisq.test(xtabs(~CHURN+CREDITAD,data = others)) #remove\n",
    "chisq.test(xtabs(~CHURN+REFURB,data = others)) \n",
    "chisq.test(xtabs(~CHURN+OCCSELF,data = others)) #remove\n",
    "chisq.test(xtabs(~CHURN+MAILORD,data = others))"
   ]
  },
  {
   "cell_type": "markdown",
   "metadata": {},
   "source": [
    "The final selected variables are:"
   ]
  },
  {
   "cell_type": "code",
   "execution_count": 16,
   "metadata": {},
   "outputs": [],
   "source": [
    "others2 <- others[,c(\"CHURN\",\"CREDITAA\",\"CREDITB\",\"CREDITC\",\"CREDITDE\",\"PRIZMTWN\", \"PRIZMUB\",\"WEBCAP\",\"OWNRENT\",\n",
    "                     \"MARRYUN\",\"MAILRES\",\"CREDITCD\",\"NEWCELLY\",\"OCCRET\",\"CREDITA\",\"PRIZMRUR\",\"REFURB\",\"MARRYNO\",\n",
    "                     \"MAILORD\")]"
   ]
  },
  {
   "cell_type": "markdown",
   "metadata": {},
   "source": [
    "Now we merge all the variables"
   ]
  },
  {
   "cell_type": "code",
   "execution_count": 35,
   "metadata": {},
   "outputs": [],
   "source": [
    "cust_ <- cbind(nums,others2)"
   ]
  },
  {
   "cell_type": "markdown",
   "metadata": {},
   "source": [
    "We will run our first model with these variables and then use stepwise regression to select the final list of variables"
   ]
  },
  {
   "cell_type": "code",
   "execution_count": 18,
   "metadata": {
    "scrolled": true
   },
   "outputs": [
    {
     "data": {
      "text/plain": [
       "\n",
       "Call:\n",
       "glm(formula = CHURN ~ ., family = binomial(logit), data = cust_, \n",
       "    maxit = 100)\n",
       "\n",
       "Deviance Residuals: \n",
       "    Min       1Q   Median       3Q      Max  \n",
       "-1.6324  -0.8578  -0.7266   1.3447   2.3542  \n",
       "\n",
       "Coefficients:\n",
       "               Estimate  Std. Error z value             Pr(>|z|)    \n",
       "(Intercept) -1.08336460  0.08211746 -13.193 < 0.0000000000000002 ***\n",
       "REVENUE      0.00271318  0.00080015   3.391             0.000697 ***\n",
       "MOU         -0.00036228  0.00004773  -7.590    0.000000000000032 ***\n",
       "RECCHRGE    -0.00385664  0.00084134  -4.584    0.000004563068851 ***\n",
       "DIRECTAS    -0.00546586  0.00872723  -0.626             0.531118    \n",
       "OVERAGE      0.00248896  0.00033639   7.399    0.000000000000137 ***\n",
       "ROAM         0.02679983  0.00674524   3.973    0.000070930043076 ***\n",
       "CHANGEM     -0.00089038  0.00006556 -13.581 < 0.0000000000000002 ***\n",
       "CHANGER      0.00374785  0.00053120   7.055    0.000000000001721 ***\n",
       "DROPVCE      0.01361880  0.00482823   2.821             0.004792 ** \n",
       "BLCKVCE      0.00426999  0.00528742   0.808             0.419335    \n",
       "UNANSVCE     0.00072051  0.00057762   1.247             0.212265    \n",
       "CUSTCARE    -0.01233109  0.00419091  -2.942             0.003257 ** \n",
       "CALLFWDV    -0.00872517  0.01766730  -0.494             0.621405    \n",
       "CALLWAIT     0.01249400  0.00601396   2.077             0.037755 *  \n",
       "MONTHS      -0.02016889  0.00183564 -10.987 < 0.0000000000000002 ***\n",
       "UNIQSUBS     0.19758255  0.01998837   9.885 < 0.0000000000000002 ***\n",
       "ACTVSUBS    -0.15756364  0.03000147  -5.252    0.000000150567727 ***\n",
       "PHONES       0.13091103  0.02122753   6.167    0.000000000695796 ***\n",
       "MODELS      -0.00042021  0.02892132  -0.015             0.988408    \n",
       "EQPDAYS      0.00158355  0.00006671  23.738 < 0.0000000000000002 ***\n",
       "AGE1        -0.00436658  0.00068720  -6.354    0.000000000209570 ***\n",
       "AGE2        -0.00063654  0.00057381  -1.109             0.267293    \n",
       "REFER       -0.05411286  0.03296786  -1.641             0.100718    \n",
       "SETPRC       0.00093075  0.00026366   3.530             0.000415 ***\n",
       "THREEWAY    -0.10808343  0.02596747  -4.162    0.000031510868709 ***\n",
       "MOUREC       0.00007328  0.00015576   0.471             0.637993    \n",
       "OUTCALLS     0.00005738  0.00069509   0.083             0.934212    \n",
       "INCALLS     -0.00518429  0.00146079  -3.549             0.000387 ***\n",
       "PEAKVCE     -0.00152743  0.00025145  -6.074    0.000000001244772 ***\n",
       "OPEAKVCE     0.00038074  0.00031377   1.213             0.224971    \n",
       "DROPBLK      0.00311361  0.00420387   0.741             0.458903    \n",
       "INCOME      -0.00977434  0.00518050  -1.887             0.059193 .  \n",
       "CREDITAA     0.08198804  0.03757174   2.182             0.029097 *  \n",
       "CREDITB      0.10054737  0.03993698   2.518             0.011814 *  \n",
       "CREDITC     -0.07522293  0.04308586  -1.746             0.080831 .  \n",
       "CREDITDE    -0.28791145  0.04233356  -6.801    0.000000000010388 ***\n",
       "PRIZMTWN     0.03951796  0.02555399   1.546             0.121996    \n",
       "PRIZMUB     -0.04207908  0.01989645  -2.115             0.034438 *  \n",
       "WEBCAP      -0.15485345  0.02941353  -5.265    0.000000140418011 ***\n",
       "OWNRENT      0.01785927  0.03322286   0.538             0.590881    \n",
       "MARRYUN      0.00151662  0.02803139   0.054             0.956852    \n",
       "MAILRES     -0.07903494  0.07096472  -1.114             0.265399    \n",
       "CREDITCD     0.10373312  0.03266990   3.175             0.001497 ** \n",
       "NEWCELLY    -0.04465957  0.02171722  -2.056             0.039743 *  \n",
       "OCCRET      -0.08718050  0.07373222  -1.182             0.237050    \n",
       "CREDITA      0.03016135  0.04256491   0.709             0.478575    \n",
       "PRIZMRUR     0.12023532  0.04021610   2.990             0.002792 ** \n",
       "REFURB       0.26607440  0.02573128  10.341 < 0.0000000000000002 ***\n",
       "MARRYNO     -0.07247304  0.02614076  -2.772             0.005564 ** \n",
       "MAILORD     -0.03738562  0.07082236  -0.528             0.597583    \n",
       "---\n",
       "Signif. codes:  0 '***' 0.001 '**' 0.01 '*' 0.05 '.' 0.1 ' ' 1\n",
       "\n",
       "(Dispersion parameter for binomial family taken to be 1)\n",
       "\n",
       "    Null deviance: 85572  on 71046  degrees of freedom\n",
       "Residual deviance: 83085  on 70996  degrees of freedom\n",
       "AIC: 83187\n",
       "\n",
       "Number of Fisher Scoring iterations: 4\n"
      ]
     },
     "metadata": {},
     "output_type": "display_data"
    }
   ],
   "source": [
    "fit1 <-glm(CHURN~.,data = cust_,family = binomial(logit),maxit=100)\n",
    "summary(fit1)"
   ]
  },
  {
   "cell_type": "code",
   "execution_count": 19,
   "metadata": {},
   "outputs": [],
   "source": [
    "#step(fit1,direction = \"both\")"
   ]
  },
  {
   "cell_type": "markdown",
   "metadata": {},
   "source": [
    "The final model given by stepwise regression is:"
   ]
  },
  {
   "cell_type": "code",
   "execution_count": 36,
   "metadata": {
    "scrolled": false
   },
   "outputs": [],
   "source": [
    "cust_ <- cbind(cust_,CALIBRAT)"
   ]
  },
  {
   "cell_type": "code",
   "execution_count": 37,
   "metadata": {
    "scrolled": true
   },
   "outputs": [
    {
     "data": {
      "text/plain": [
       "\n",
       "Call:\n",
       "glm(formula = CHURN ~ REVENUE + MOU + RECCHRGE + OVERAGE + ROAM + \n",
       "    CHANGEM + CHANGER + DROPVCE + BLCKVCE + CUSTCARE + CALLWAIT + \n",
       "    MONTHS + UNIQSUBS + ACTVSUBS + PHONES + EQPDAYS + AGE1 + \n",
       "    REFER + SETPRC + THREEWAY + INCALLS + PEAKVCE + OPEAKVCE + \n",
       "    INCOME + CREDITAA + CREDITB + CREDITC + CREDITDE + PRIZMTWN + \n",
       "    PRIZMUB + WEBCAP + MAILRES + CREDITCD + NEWCELLY + PRIZMRUR + \n",
       "    REFURB + MARRYNO, family = binomial(logit), data = cust_, \n",
       "    maxit = 100)\n",
       "\n",
       "Deviance Residuals: \n",
       "    Min       1Q   Median       3Q      Max  \n",
       "-1.6228  -0.8583  -0.7269   1.3458   2.3074  \n",
       "\n",
       "Coefficients:\n",
       "               Estimate  Std. Error z value             Pr(>|z|)    \n",
       "(Intercept) -1.04698462  0.06566370 -15.945 < 0.0000000000000002 ***\n",
       "REVENUE      0.00263542  0.00079215   3.327             0.000878 ***\n",
       "MOU         -0.00035352  0.00004420  -7.999  0.00000000000000126 ***\n",
       "RECCHRGE    -0.00382317  0.00083956  -4.554  0.00000526899253690 ***\n",
       "OVERAGE      0.00251443  0.00033543   7.496  0.00000000000006574 ***\n",
       "ROAM         0.02667228  0.00673594   3.960  0.00007504440915595 ***\n",
       "CHANGEM     -0.00089240  0.00006546 -13.632 < 0.0000000000000002 ***\n",
       "CHANGER      0.00374751  0.00053122   7.055  0.00000000000173158 ***\n",
       "DROPVCE      0.01710155  0.00205366   8.327 < 0.0000000000000002 ***\n",
       "BLCKVCE      0.00784912  0.00215570   3.641             0.000271 ***\n",
       "CUSTCARE    -0.01186903  0.00414110  -2.866             0.004155 ** \n",
       "CALLWAIT     0.01237921  0.00588615   2.103             0.035456 *  \n",
       "MONTHS      -0.01998755  0.00172721 -11.572 < 0.0000000000000002 ***\n",
       "UNIQSUBS     0.19920737  0.01985478  10.033 < 0.0000000000000002 ***\n",
       "ACTVSUBS    -0.15780653  0.02995310  -5.268  0.00000013757806161 ***\n",
       "PHONES       0.13030022  0.01550605   8.403 < 0.0000000000000002 ***\n",
       "EQPDAYS      0.00158329  0.00006376  24.831 < 0.0000000000000002 ***\n",
       "AGE1        -0.00489809  0.00057822  -8.471 < 0.0000000000000002 ***\n",
       "REFER       -0.05411407  0.03298776  -1.640             0.100916    \n",
       "SETPRC       0.00092599  0.00026331   3.517             0.000437 ***\n",
       "THREEWAY    -0.10544197  0.02571543  -4.100  0.00004125465629598 ***\n",
       "INCALLS     -0.00510826  0.00125766  -4.062  0.00004871444566470 ***\n",
       "PEAKVCE     -0.00142696  0.00022055  -6.470  0.00000000009797901 ***\n",
       "OPEAKVCE     0.00054224  0.00027387   1.980             0.047716 *  \n",
       "INCOME      -0.01015741  0.00506866  -2.004             0.045074 *  \n",
       "CREDITAA     0.06055646  0.02478311   2.443             0.014547 *  \n",
       "CREDITB      0.07999288  0.02787703   2.869             0.004111 ** \n",
       "CREDITC     -0.09435805  0.03373265  -2.797             0.005154 ** \n",
       "CREDITDE    -0.30594378  0.03354272  -9.121 < 0.0000000000000002 ***\n",
       "PRIZMTWN     0.03874487  0.02547413   1.521             0.128272    \n",
       "PRIZMUB     -0.04305204  0.01985573  -2.168             0.030140 *  \n",
       "WEBCAP      -0.15570769  0.02932418  -5.310  0.00000010970099902 ***\n",
       "MAILRES     -0.12310268  0.02128672  -5.783  0.00000000733473612 ***\n",
       "CREDITCD     0.09256845  0.02633799   3.515             0.000440 ***\n",
       "NEWCELLY    -0.04484131  0.02170965  -2.066             0.038876 *  \n",
       "PRIZMRUR     0.11924562  0.04009843   2.974             0.002941 ** \n",
       "REFURB       0.26609231  0.02533860  10.501 < 0.0000000000000002 ***\n",
       "MARRYNO     -0.06521676  0.02093140  -3.116             0.001835 ** \n",
       "---\n",
       "Signif. codes:  0 '***' 0.001 '**' 0.01 '*' 0.05 '.' 0.1 ' ' 1\n",
       "\n",
       "(Dispersion parameter for binomial family taken to be 1)\n",
       "\n",
       "    Null deviance: 85572  on 71046  degrees of freedom\n",
       "Residual deviance: 83092  on 71009  degrees of freedom\n",
       "AIC: 83168\n",
       "\n",
       "Number of Fisher Scoring iterations: 4\n"
      ]
     },
     "metadata": {},
     "output_type": "display_data"
    }
   ],
   "source": [
    "summary(glm(formula = CHURN ~ REVENUE + MOU + RECCHRGE + OVERAGE + ROAM + \n",
    "        CHANGEM + CHANGER + DROPVCE + BLCKVCE + CUSTCARE + CALLWAIT + \n",
    "        MONTHS + UNIQSUBS + ACTVSUBS + PHONES + EQPDAYS + AGE1 + \n",
    "        REFER + SETPRC + THREEWAY + INCALLS + PEAKVCE + OPEAKVCE + \n",
    "        INCOME + CREDITAA + CREDITB + CREDITC + CREDITDE + PRIZMTWN + \n",
    "        PRIZMUB + WEBCAP + MAILRES + CREDITCD + NEWCELLY + PRIZMRUR + \n",
    "        REFURB + MARRYNO, family = binomial(logit), data = cust_, \n",
    "        maxit = 100))"
   ]
  },
  {
   "cell_type": "markdown",
   "metadata": {},
   "source": [
    "From this model, we will take the numerical variables and check the relevance of their transformations so that they are more relevant to the final model"
   ]
  },
  {
   "cell_type": "code",
   "execution_count": null,
   "metadata": {},
   "outputs": [],
   "source": [
    "convert_select <- function(x){\n",
    "  norm_ <- x\n",
    "  log_ <- log(x)\n",
    "  exp_ <- exp(x)\n",
    "  sqrt_ <- sqrt(x)\n",
    "  sqr_ <- (x)^2\n",
    "  rec <- 1/x\n",
    "  scaled <- scale(x,center = F)\n",
    "  \n",
    "  a <-summary(aov(norm_~cust_$CHURN))\n",
    "  norm_1 <- a[[1]][[5]][[1]]\n",
    "  a <-summary(aov(log_~cust_$CHURN))\n",
    "  log_1 <- a[[1]][[5]][[1]]\n",
    "  a <-summary(aov(exp_~cust_$CHURN))\n",
    "  exp_1 <- a[[1]][[5]][[1]]\n",
    "  a <-summary(aov(sqrt_~cust_$CHURN))\n",
    "  sqrt_1 <- a[[1]][[5]][[1]]\n",
    "  a <-summary(aov(sqr_~cust_$CHURN))\n",
    "  sqr_1 <- a[[1]][[5]][[1]]\n",
    "  a <-summary(aov(rec~cust_$CHURN))\n",
    "  rec1 <- a[[1]][[5]][[1]]\n",
    "  a <-summary(aov(scaled~cust_$CHURN))\n",
    "  scaled_1 <- a[[1]][[5]][[1]]\n",
    "  \n",
    "  reg1 <- glm(formula = cust_$CHURN ~ norm_, family = binomial(logit),maxit = 100)\n",
    "  reg2 <- glm(formula = cust_$CHURN ~ log_, family = binomial(logit),maxit = 100)\n",
    "  reg3 <- glm(formula = cust_$CHURN ~ exp_, family = binomial(logit),maxit = 100)\n",
    "  reg4 <- glm(formula = cust_$CHURN ~ sqrt_, family = binomial(logit),maxit = 100)\n",
    "  reg5 <- glm(formula = cust_$CHURN ~ sqr_, family = binomial(logit),maxit = 100)\n",
    "  reg6 <- glm(formula = cust_$CHURN ~ rec, family = binomial(logit),maxit = 100)\n",
    "  reg7 <- glm(formula = cust_$CHURN ~ scaled, family = binomial(logit),maxit = 100)\n",
    "  \n",
    "  r1 <- MLmetrics::Gini(y_pred = reg1$fitted.values, y_true = as.numeric(cust_$CHURN))\n",
    "  r2 <- MLmetrics::Gini(y_pred = reg2$fitted.values, y_true = as.numeric(cust_$CHURN))\n",
    "  r3 <- MLmetrics::Gini(y_pred = reg3$fitted.values, y_true = as.numeric(cust_$CHURN))\n",
    "  r4 <- MLmetrics::Gini(y_pred = reg4$fitted.values, y_true = as.numeric(cust_$CHURN))\n",
    "  r5 <- MLmetrics::Gini(y_pred = reg5$fitted.values, y_true = as.numeric(cust_$CHURN))\n",
    "  r6 <- MLmetrics::Gini(y_pred = reg6$fitted.values, y_true = as.numeric(cust_$CHURN))\n",
    "  r7 <- MLmetrics::Gini(y_pred = reg7$fitted.values, y_true = as.numeric(cust_$CHURN))\n",
    "  \n",
    "  maxi <- max(r1,r2,r3,r4,r5,r6,r7)\n",
    "  \n",
    "  \n",
    "  return(c(normal=norm_1,log=log_1,exp=exp_1,sqrt=sqrt_1,sqr=sqr_1,rec=rec1,scaled = scaled_1,\n",
    "           gini_norm = r1,gini_log = r2,gini_exp = r3,gini_sqrt = r4,gini_sqr = r5,gini_rec = r6,gini_scaled = r7,maximum = maxi))\n",
    "}\n",
    "convert_select(cust_$RECCHRGE) #scaled\n",
    "convert_select(cust_$UNIQSUBS) #rec\n",
    "convert_select(cust_$MONTHS) #rec\n",
    "convert_select(cust_$REVENUE) #rec\n",
    "convert_select(cust_$ACTVSUBS)\n",
    "convert_select(cust_$PHONES) # sqrt, round\n",
    "convert_select(cust_$SETPRC)\n",
    "convert_select(cust_$INCOME) # exp\n",
    "  \n",
    "convert_select_log <- function(x){\n",
    "  norm_ <- x\n",
    "  exp_ <- exp(x)\n",
    "  sqrt_ <- sqrt(x)\n",
    "  sqr_ <- (x)^2\n",
    "  scaled <- scale(x,center = T)\n",
    " \n",
    "  a <-summary(aov(norm_~cust_$CHURN))\n",
    "  norm_1 <- a[[1]][[5]][[1]]\n",
    "  a <-summary(aov(sqrt_~cust_$CHURN))\n",
    "  sqrt_1 <- a[[1]][[5]][[1]]\n",
    "  a <-summary(aov(sqr_~cust_$CHURN))\n",
    "  sqr_1 <- a[[1]][[5]][[1]]\n",
    "  a <-summary(aov(scaled~cust_$CHURN))\n",
    "  scaled_1 <- a[[1]][[5]][[1]]\n",
    "  \n",
    "  reg1 <- glm(formula = cust_$CHURN ~ norm_, family = binomial(logit),maxit = 100)\n",
    "  reg3 <- glm(formula = cust_$CHURN ~ exp_, family = binomial(logit),maxit = 100)\n",
    "  reg4 <- glm(formula = cust_$CHURN ~ sqrt_, family = binomial(logit),maxit = 100)\n",
    "  reg5 <- glm(formula = cust_$CHURN ~ sqr_, family = binomial(logit),maxit = 100)\n",
    "  reg7 <- glm(formula = cust_$CHURN ~ scaled, family = binomial(logit),maxit = 100)\n",
    "  \n",
    "  r1 <- MLmetrics::Gini(y_pred = reg1$fitted.values, y_true = as.numeric(cust_$CHURN))\n",
    "  r3 <- MLmetrics::Gini(y_pred = reg3$fitted.values, y_true = as.numeric(cust_$CHURN))\n",
    "  r4 <- MLmetrics::Gini(y_pred = reg4$fitted.values, y_true = as.numeric(cust_$CHURN))\n",
    "  r5 <- MLmetrics::Gini(y_pred = reg5$fitted.values, y_true = as.numeric(cust_$CHURN))\n",
    "  r7 <- MLmetrics::Gini(y_pred = reg7$fitted.values, y_true = as.numeric(cust_$CHURN))\n",
    "\n",
    "  maxi <- max(r1,r3,r4,r5,r7)\n",
    "  \n",
    "  return(c(normal=norm_1,sqrt=sqrt_1,sqr=sqr_1,scaled = scaled_1, gini_norm = r1,gini_exp = r3,gini_sqrt = r4,gini_sqr = r5,gini_scaled = r7,maximum = maxi))\n",
    "}\n",
    "\n",
    "convert_select_log(cust_$AGE1) #sqr\n",
    "convert_select_log(cust_$OVERAGE) #sqrt\n",
    "convert_select_log(cust_$DROPVCE) #sqrt\n",
    "convert_select_log(cust_$OPEAKVCE) #sqrt\n",
    "convert_select_log(cust_$PEAKVCE) #sqrt\n",
    "convert_select_log(cust_$CHANGEM)\n",
    "convert_select_log(cust_$CHANGER) #sqr\n",
    "convert_select_log(cust_$ROAM) #sqr\n",
    "convert_select_log(cust_$CUSTCARE) #sqrt\n",
    "convert_select_log(cust_$THREEWAY)\n",
    "convert_select_log(cust_$BLCKVCE) #sqrt\n",
    "convert_select_log(cust_$CALLWAIT) #sqrt\n",
    "convert_select_log(cust_$ACTVSUBS)\n",
    "convert_select_log(cust_$INCALLS) #sqrt\n",
    "convert_select_log(cust_$REFER)\n",
    "\n",
    "convert_select_exp <- function(x){\n",
    "  norm_ <- x\n",
    "  #exp_ <- exp(x)\n",
    "  sqrt_ <- sqrt(x)\n",
    "  sqr_ <- (x)^2\n",
    "  scaled <- scale(x,center = T)\n",
    "  \n",
    "  a <-summary(aov(norm_~cust_$CHURN))\n",
    "  norm_1 <- a[[1]][[5]][[1]]\n",
    "  a <-summary(aov(sqrt_~cust_$CHURN))\n",
    "  sqrt_1 <- a[[1]][[5]][[1]]\n",
    "  a <-summary(aov(sqr_~cust_$CHURN))\n",
    "  sqr_1 <- a[[1]][[5]][[1]]\n",
    "  a <-summary(aov(scaled~cust_$CHURN))\n",
    "  scaled_1 <- a[[1]][[5]][[1]]\n",
    "  \n",
    "  reg1 <- glm(formula = cust_$CHURN ~ norm_, family = binomial(logit),maxit = 100)\n",
    "  #reg3 <- glm(formula = cust_$CHURN ~ exp_, family = binomial(logit),maxit = 100)\n",
    "  reg4 <- glm(formula = cust_$CHURN ~ sqrt_, family = binomial(logit),maxit = 100)\n",
    "  reg5 <- glm(formula = cust_$CHURN ~ sqr_, family = binomial(logit),maxit = 100)\n",
    "  reg7 <- glm(formula = cust_$CHURN ~ scaled, family = binomial(logit),maxit = 100)\n",
    "  \n",
    "  r1 <- MLmetrics::Gini(y_pred = reg1$fitted.values, y_true = as.numeric(cust_$CHURN))\n",
    "  #r3 <- MLmetrics::Gini(y_pred = reg3$fitted.values, y_true = as.numeric(cust_$CHURN))\n",
    "  r4 <- MLmetrics::Gini(y_pred = reg4$fitted.values, y_true = as.numeric(cust_$CHURN))\n",
    "  r5 <- MLmetrics::Gini(y_pred = reg5$fitted.values, y_true = as.numeric(cust_$CHURN))\n",
    "  r7 <- MLmetrics::Gini(y_pred = reg7$fitted.values, y_true = as.numeric(cust_$CHURN))\n",
    "  \n",
    "  maxi <- max(r1,r4,r5,r7)\n",
    "  \n",
    "  return(c(normal=norm_1,sqrt=sqrt_1,sqr=sqr_1,scaled = scaled_1, gini_norm = r1,gini_sqrt = r4,gini_sqr = r5,gini_scaled = r7,maximum = maxi))\n",
    "}\n",
    "convert_select_exp(cust_$MOU) #sqrt\n",
    "convert_select_exp(cust_$EQPDAYS)\n"
   ]
  },
  {
   "cell_type": "markdown",
   "metadata": {},
   "source": [
    "We apply the transformations to the variables"
   ]
  },
  {
   "cell_type": "code",
   "execution_count": 38,
   "metadata": {},
   "outputs": [],
   "source": [
    "cust_1 <- cust_\n",
    "\n",
    "cust_1$MONTHS <- 1/cust_$MONTHS\n",
    "cust_1$DROPVCE <- sqrt(cust_$DROPVCE)\n",
    "cust_1$OPEAKVCE <- sqrt(cust_$OPEAKVCE)\n",
    "cust_1$OVERAGE <- sqrt(sqrt(cust_$OVERAGE))\n",
    "cust_1$RECCHRGE <- scale(cust_$RECCHRGE)\n",
    "cust_1$UNIQSUBS <- 1/(cust_$UNIQSUBS)\n",
    "cust_1$AGE1 <- (cust_$AGE1)^2\n",
    "cust_1$PEAKVCE <- sqrt(cust_$PEAKVCE)\n",
    "cust_1$CHANGER <- (cust_$CHANGER)^2\n",
    "cust_1$REVENUE <- 1/(cust_$REVENUE)\n",
    "cust_1$PHONES <-  round(sqrt(cust_$PHONES),digits = 0)\n",
    "cust_1$INCOME <- exp(cust_$INCOME)\n",
    "cust_1$ROAM <- (cust_$ROAM)^2\n",
    "cust_1$CUSTCARE <- sqrt(cust_$CUSTCARE)\n",
    "cust_1$BLCKVCE <- sqrt(cust_$BLCKVCE)\n",
    "cust_1$CALLWAIT <- sqrt(cust_$CALLWAIT)\n",
    "cust_1$INCALLS <- sqrt(cust_$INCALLS)\n",
    "cust_1$MOU <- sqrt(cust_$MOU)\n",
    "cust_1$EQPDAYS <- round(sqrt(cust_$EQPDAYS))"
   ]
  },
  {
   "cell_type": "markdown",
   "metadata": {},
   "source": [
    "Now we partition the data into Calibration and Validation"
   ]
  },
  {
   "cell_type": "code",
   "execution_count": 83,
   "metadata": {},
   "outputs": [],
   "source": [
    "calib <- cust_1[cust_1$CALIBRAT == 1,]\n",
    "valid <- cust_1[cust_1$CALIBRAT == 0,]\n",
    "\n",
    "calib$CALIBRAT <- NULL\n",
    "valid$CALIBRAT <- NULL\n",
    "\n",
    "calib <- data.table(calib)\n",
    "valid <- data.table(valid)"
   ]
  },
  {
   "cell_type": "markdown",
   "metadata": {},
   "source": [
    "Using the model we obtainied from the first stepwise regression"
   ]
  },
  {
   "cell_type": "code",
   "execution_count": 40,
   "metadata": {
    "scrolled": true
   },
   "outputs": [
    {
     "data": {
      "text/plain": [
       "\n",
       "Call:\n",
       "glm(formula = form, family = binomial(logit), data = calib, maxit = 100)\n",
       "\n",
       "Deviance Residuals: \n",
       "     Min        1Q    Median        3Q       Max  \n",
       "-1.91952  -1.13961   0.01666   1.13568   1.98909  \n",
       "\n",
       "Coefficients:\n",
       "                Estimate   Std. Error z value             Pr(>|z|)    \n",
       "(Intercept)  0.619389578  0.135130432   4.584   0.0000045694545134 ***\n",
       "REVENUE     -4.447156706  1.381378856  -3.219              0.00128 ** \n",
       "MOU         -0.016090923  0.002114412  -7.610   0.0000000000000274 ***\n",
       "RECCHRGE    -0.052471464  0.018466750  -2.841              0.00449 ** \n",
       "OVERAGE      0.108148846  0.011668928   9.268 < 0.0000000000000002 ***\n",
       "ROAM         0.007916131  0.001688927   4.687   0.0000027713367611 ***\n",
       "CHANGEM     -0.000621836  0.000062221  -9.994 < 0.0000000000000002 ***\n",
       "CHANGER      0.000083700  0.000017570   4.764   0.0000019000635500 ***\n",
       "DROPVCE      0.107384249  0.012170123   8.824 < 0.0000000000000002 ***\n",
       "BLCKVCE      0.042430882  0.010453298   4.059   0.0000492642558351 ***\n",
       "CALLWAIT     0.070327091  0.017699953   3.973   0.0000708859169714 ***\n",
       "MONTHS      -1.717000326  0.381965720  -4.495   0.0000069514833088 ***\n",
       "UNIQSUBS    -0.647497984  0.067548553  -9.586 < 0.0000000000000002 ***\n",
       "ACTVSUBS    -0.218621394  0.040557078  -5.390   0.0000000702766979 ***\n",
       "EQPDAYS      0.041197675  0.002291683  17.977 < 0.0000000000000002 ***\n",
       "AGE1        -0.000071038  0.000010330  -6.877   0.0000000000061217 ***\n",
       "SETPRC       0.002004350  0.000303961   6.594   0.0000000000427858 ***\n",
       "THREEWAY    -0.054761553  0.030300350  -1.807              0.07072 .  \n",
       "INCALLS     -0.039222393  0.008391809  -4.674   0.0000029554797895 ***\n",
       "PEAKVCE     -0.042259627  0.004710155  -8.972 < 0.0000000000000002 ***\n",
       "INCOME      -0.000007670  0.000004403  -1.742              0.08151 .  \n",
       "CREDITAA     0.145508039  0.025342655   5.742   0.0000000093771963 ***\n",
       "CREDITB      0.155820298  0.030974037   5.031   0.0000004887570881 ***\n",
       "CREDITDE    -0.194794018  0.036125165  -5.392   0.0000000696012783 ***\n",
       "PRIZMUB     -0.064976101  0.022303651  -2.913              0.00358 ** \n",
       "WEBCAP      -0.160909333  0.036279221  -4.435   0.0000091942941479 ***\n",
       "MAILRES     -0.116435302  0.024989851  -4.659   0.0000031728096187 ***\n",
       "NEWCELLY    -0.080226660  0.026156197  -3.067              0.00216 ** \n",
       "REFURB       0.261311970  0.030659628   8.523 < 0.0000000000000002 ***\n",
       "MARRYNO     -0.072567321  0.024011975  -3.022              0.00251 ** \n",
       "---\n",
       "Signif. codes:  0 '***' 0.001 '**' 0.01 '*' 0.05 '.' 0.1 ' ' 1\n",
       "\n",
       "(Dispersion parameter for binomial family taken to be 1)\n",
       "\n",
       "    Null deviance: 55452  on 39999  degrees of freedom\n",
       "Residual deviance: 53678  on 39970  degrees of freedom\n",
       "AIC: 53738\n",
       "\n",
       "Number of Fisher Scoring iterations: 4\n"
      ]
     },
     "metadata": {},
     "output_type": "display_data"
    }
   ],
   "source": [
    "form <- CHURN ~ REVENUE + MOU + RECCHRGE + OVERAGE + ROAM + \n",
    "        CHANGEM + CHANGER + DROPVCE + BLCKVCE + CALLWAIT + \n",
    "        MONTHS + UNIQSUBS + ACTVSUBS + EQPDAYS + AGE1 + SETPRC + \n",
    "        THREEWAY + INCALLS + PEAKVCE + INCOME + CREDITAA + CREDITB + \n",
    "        CREDITDE + PRIZMUB + WEBCAP + MAILRES + NEWCELLY + REFURB + \n",
    "        MARRYNO\n",
    "\n",
    "fit2 <- glm(form,data = calib,family = binomial(logit),maxit = 100)\n",
    "summary(fit2)"
   ]
  },
  {
   "cell_type": "markdown",
   "metadata": {},
   "source": [
    "We run a stepwise regression on this too"
   ]
  },
  {
   "cell_type": "code",
   "execution_count": 41,
   "metadata": {},
   "outputs": [],
   "source": [
    "#step(fit2,direction = \"both\")"
   ]
  },
  {
   "cell_type": "markdown",
   "metadata": {},
   "source": [
    "The final model now is"
   ]
  },
  {
   "cell_type": "code",
   "execution_count": 42,
   "metadata": {
    "scrolled": true
   },
   "outputs": [
    {
     "data": {
      "text/plain": [
       "\n",
       "Call:\n",
       "glm(formula = form, family = binomial(logit), data = calib, maxit = 100)\n",
       "\n",
       "Deviance Residuals: \n",
       "     Min        1Q    Median        3Q       Max  \n",
       "-1.91952  -1.13961   0.01666   1.13568   1.98909  \n",
       "\n",
       "Coefficients:\n",
       "                Estimate   Std. Error z value             Pr(>|z|)    \n",
       "(Intercept)  0.619389578  0.135130432   4.584   0.0000045694545134 ***\n",
       "REVENUE     -4.447156706  1.381378856  -3.219              0.00128 ** \n",
       "MOU         -0.016090923  0.002114412  -7.610   0.0000000000000274 ***\n",
       "RECCHRGE    -0.052471464  0.018466750  -2.841              0.00449 ** \n",
       "OVERAGE      0.108148846  0.011668928   9.268 < 0.0000000000000002 ***\n",
       "ROAM         0.007916131  0.001688927   4.687   0.0000027713367611 ***\n",
       "CHANGEM     -0.000621836  0.000062221  -9.994 < 0.0000000000000002 ***\n",
       "CHANGER      0.000083700  0.000017570   4.764   0.0000019000635500 ***\n",
       "DROPVCE      0.107384249  0.012170123   8.824 < 0.0000000000000002 ***\n",
       "BLCKVCE      0.042430882  0.010453298   4.059   0.0000492642558351 ***\n",
       "CALLWAIT     0.070327091  0.017699953   3.973   0.0000708859169714 ***\n",
       "MONTHS      -1.717000326  0.381965720  -4.495   0.0000069514833088 ***\n",
       "UNIQSUBS    -0.647497984  0.067548553  -9.586 < 0.0000000000000002 ***\n",
       "ACTVSUBS    -0.218621394  0.040557078  -5.390   0.0000000702766979 ***\n",
       "EQPDAYS      0.041197675  0.002291683  17.977 < 0.0000000000000002 ***\n",
       "AGE1        -0.000071038  0.000010330  -6.877   0.0000000000061217 ***\n",
       "SETPRC       0.002004350  0.000303961   6.594   0.0000000000427858 ***\n",
       "THREEWAY    -0.054761553  0.030300350  -1.807              0.07072 .  \n",
       "INCALLS     -0.039222393  0.008391809  -4.674   0.0000029554797895 ***\n",
       "PEAKVCE     -0.042259627  0.004710155  -8.972 < 0.0000000000000002 ***\n",
       "INCOME      -0.000007670  0.000004403  -1.742              0.08151 .  \n",
       "CREDITAA     0.145508039  0.025342655   5.742   0.0000000093771963 ***\n",
       "CREDITB      0.155820298  0.030974037   5.031   0.0000004887570881 ***\n",
       "CREDITDE    -0.194794018  0.036125165  -5.392   0.0000000696012783 ***\n",
       "PRIZMUB     -0.064976101  0.022303651  -2.913              0.00358 ** \n",
       "WEBCAP      -0.160909333  0.036279221  -4.435   0.0000091942941479 ***\n",
       "MAILRES     -0.116435302  0.024989851  -4.659   0.0000031728096187 ***\n",
       "NEWCELLY    -0.080226660  0.026156197  -3.067              0.00216 ** \n",
       "REFURB       0.261311970  0.030659628   8.523 < 0.0000000000000002 ***\n",
       "MARRYNO     -0.072567321  0.024011975  -3.022              0.00251 ** \n",
       "---\n",
       "Signif. codes:  0 '***' 0.001 '**' 0.01 '*' 0.05 '.' 0.1 ' ' 1\n",
       "\n",
       "(Dispersion parameter for binomial family taken to be 1)\n",
       "\n",
       "    Null deviance: 55452  on 39999  degrees of freedom\n",
       "Residual deviance: 53678  on 39970  degrees of freedom\n",
       "AIC: 53738\n",
       "\n",
       "Number of Fisher Scoring iterations: 4\n"
      ]
     },
     "metadata": {},
     "output_type": "display_data"
    }
   ],
   "source": [
    "form <- CHURN ~ REVENUE + MOU + RECCHRGE + OVERAGE + ROAM + \n",
    "        CHANGEM + CHANGER + DROPVCE + BLCKVCE + CALLWAIT + \n",
    "        MONTHS + UNIQSUBS + ACTVSUBS + EQPDAYS + AGE1 + SETPRC + \n",
    "        THREEWAY + INCALLS + PEAKVCE + INCOME + CREDITAA + CREDITB + \n",
    "        CREDITDE + PRIZMUB + WEBCAP + MAILRES + NEWCELLY + REFURB + \n",
    "        MARRYNO\n",
    "fit2 <- glm(form,data = calib,family = binomial(logit),maxit = 100)\n",
    "summary(fit2)"
   ]
  },
  {
   "cell_type": "markdown",
   "metadata": {},
   "source": [
    "we check for multicollinearity in the data using VIF"
   ]
  },
  {
   "cell_type": "code",
   "execution_count": 43,
   "metadata": {
    "scrolled": true
   },
   "outputs": [
    {
     "data": {
      "text/html": [
       "<dl class=dl-horizontal>\n",
       "\t<dt>REVENUE</dt>\n",
       "\t\t<dd>3.56050885110039</dd>\n",
       "\t<dt>MOU</dt>\n",
       "\t\t<dd>4.05329021123721</dd>\n",
       "\t<dt>RECCHRGE</dt>\n",
       "\t\t<dd>3.23708339147732</dd>\n",
       "\t<dt>OVERAGE</dt>\n",
       "\t\t<dd>2.34018795173727</dd>\n",
       "\t<dt>ROAM</dt>\n",
       "\t\t<dd>1.05673028178433</dd>\n",
       "\t<dt>CHANGEM</dt>\n",
       "\t\t<dd>1.01454766219327</dd>\n",
       "\t<dt>CHANGER</dt>\n",
       "\t\t<dd>1.53604007342482</dd>\n",
       "\t<dt>DROPVCE</dt>\n",
       "\t\t<dd>2.52944550582091</dd>\n",
       "\t<dt>BLCKVCE</dt>\n",
       "\t\t<dd>1.49972868256547</dd>\n",
       "\t<dt>CALLWAIT</dt>\n",
       "\t\t<dd>2.38910972529504</dd>\n",
       "\t<dt>MONTHS</dt>\n",
       "\t\t<dd>1.45525088634501</dd>\n",
       "\t<dt>UNIQSUBS</dt>\n",
       "\t\t<dd>3.15597756272316</dd>\n",
       "\t<dt>ACTVSUBS</dt>\n",
       "\t\t<dd>3.277318314619</dd>\n",
       "\t<dt>EQPDAYS</dt>\n",
       "\t\t<dd>1.86238380004758</dd>\n",
       "\t<dt>AGE1</dt>\n",
       "\t\t<dd>1.45029303981321</dd>\n",
       "\t<dt>SETPRC</dt>\n",
       "\t\t<dd>1.39394237535556</dd>\n",
       "\t<dt>THREEWAY</dt>\n",
       "\t\t<dd>1.20093658506492</dd>\n",
       "\t<dt>INCALLS</dt>\n",
       "\t\t<dd>2.21416892135729</dd>\n",
       "\t<dt>PEAKVCE</dt>\n",
       "\t\t<dd>4.35850022685326</dd>\n",
       "\t<dt>INCOME</dt>\n",
       "\t\t<dd>1.14660245140171</dd>\n",
       "\t<dt>CREDITAA</dt>\n",
       "\t\t<dd>1.44823201995702</dd>\n",
       "\t<dt>CREDITB</dt>\n",
       "\t\t<dd>1.2811801067212</dd>\n",
       "\t<dt>CREDITDE</dt>\n",
       "\t\t<dd>1.2745910068519</dd>\n",
       "\t<dt>PRIZMUB</dt>\n",
       "\t\t<dd>1.03368411819669</dd>\n",
       "\t<dt>WEBCAP</dt>\n",
       "\t\t<dd>1.15815251012443</dd>\n",
       "\t<dt>MAILRES</dt>\n",
       "\t\t<dd>1.3968614238294</dd>\n",
       "\t<dt>NEWCELLY</dt>\n",
       "\t\t<dd>1.01695464122782</dd>\n",
       "\t<dt>REFURB</dt>\n",
       "\t\t<dd>1.10810989372563</dd>\n",
       "\t<dt>MARRYNO</dt>\n",
       "\t\t<dd>1.02295145128723</dd>\n",
       "</dl>\n"
      ],
      "text/latex": [
       "\\begin{description*}\n",
       "\\item[REVENUE] 3.56050885110039\n",
       "\\item[MOU] 4.05329021123721\n",
       "\\item[RECCHRGE] 3.23708339147732\n",
       "\\item[OVERAGE] 2.34018795173727\n",
       "\\item[ROAM] 1.05673028178433\n",
       "\\item[CHANGEM] 1.01454766219327\n",
       "\\item[CHANGER] 1.53604007342482\n",
       "\\item[DROPVCE] 2.52944550582091\n",
       "\\item[BLCKVCE] 1.49972868256547\n",
       "\\item[CALLWAIT] 2.38910972529504\n",
       "\\item[MONTHS] 1.45525088634501\n",
       "\\item[UNIQSUBS] 3.15597756272316\n",
       "\\item[ACTVSUBS] 3.277318314619\n",
       "\\item[EQPDAYS] 1.86238380004758\n",
       "\\item[AGE1] 1.45029303981321\n",
       "\\item[SETPRC] 1.39394237535556\n",
       "\\item[THREEWAY] 1.20093658506492\n",
       "\\item[INCALLS] 2.21416892135729\n",
       "\\item[PEAKVCE] 4.35850022685326\n",
       "\\item[INCOME] 1.14660245140171\n",
       "\\item[CREDITAA] 1.44823201995702\n",
       "\\item[CREDITB] 1.2811801067212\n",
       "\\item[CREDITDE] 1.2745910068519\n",
       "\\item[PRIZMUB] 1.03368411819669\n",
       "\\item[WEBCAP] 1.15815251012443\n",
       "\\item[MAILRES] 1.3968614238294\n",
       "\\item[NEWCELLY] 1.01695464122782\n",
       "\\item[REFURB] 1.10810989372563\n",
       "\\item[MARRYNO] 1.02295145128723\n",
       "\\end{description*}\n"
      ],
      "text/markdown": [
       "REVENUE\n",
       ":   3.56050885110039MOU\n",
       ":   4.05329021123721RECCHRGE\n",
       ":   3.23708339147732OVERAGE\n",
       ":   2.34018795173727ROAM\n",
       ":   1.05673028178433CHANGEM\n",
       ":   1.01454766219327CHANGER\n",
       ":   1.53604007342482DROPVCE\n",
       ":   2.52944550582091BLCKVCE\n",
       ":   1.49972868256547CALLWAIT\n",
       ":   2.38910972529504MONTHS\n",
       ":   1.45525088634501UNIQSUBS\n",
       ":   3.15597756272316ACTVSUBS\n",
       ":   3.277318314619EQPDAYS\n",
       ":   1.86238380004758AGE1\n",
       ":   1.45029303981321SETPRC\n",
       ":   1.39394237535556THREEWAY\n",
       ":   1.20093658506492INCALLS\n",
       ":   2.21416892135729PEAKVCE\n",
       ":   4.35850022685326INCOME\n",
       ":   1.14660245140171CREDITAA\n",
       ":   1.44823201995702CREDITB\n",
       ":   1.2811801067212CREDITDE\n",
       ":   1.2745910068519PRIZMUB\n",
       ":   1.03368411819669WEBCAP\n",
       ":   1.15815251012443MAILRES\n",
       ":   1.3968614238294NEWCELLY\n",
       ":   1.01695464122782REFURB\n",
       ":   1.10810989372563MARRYNO\n",
       ":   1.02295145128723\n",
       "\n"
      ],
      "text/plain": [
       " REVENUE      MOU RECCHRGE  OVERAGE     ROAM  CHANGEM  CHANGER  DROPVCE \n",
       "3.560509 4.053290 3.237083 2.340188 1.056730 1.014548 1.536040 2.529446 \n",
       " BLCKVCE CALLWAIT   MONTHS UNIQSUBS ACTVSUBS  EQPDAYS     AGE1   SETPRC \n",
       "1.499729 2.389110 1.455251 3.155978 3.277318 1.862384 1.450293 1.393942 \n",
       "THREEWAY  INCALLS  PEAKVCE   INCOME CREDITAA  CREDITB CREDITDE  PRIZMUB \n",
       "1.200937 2.214169 4.358500 1.146602 1.448232 1.281180 1.274591 1.033684 \n",
       "  WEBCAP  MAILRES NEWCELLY   REFURB  MARRYNO \n",
       "1.158153 1.396861 1.016955 1.108110 1.022951 "
      ]
     },
     "metadata": {},
     "output_type": "display_data"
    }
   ],
   "source": [
    "vif(fit2)"
   ]
  },
  {
   "cell_type": "markdown",
   "metadata": {},
   "source": [
    "The values of VIF are less than 5. Thus, we can say that there is no multicollinearity in the data"
   ]
  },
  {
   "cell_type": "markdown",
   "metadata": {},
   "source": [
    "Let us find the confusion matrix"
   ]
  },
  {
   "cell_type": "code",
   "execution_count": 46,
   "metadata": {},
   "outputs": [
    {
     "data": {
      "text/html": [
       "<table>\n",
       "<thead><tr><th></th><th scope=col>0</th><th scope=col>1</th></tr></thead>\n",
       "<tbody>\n",
       "\t<tr><th scope=row>0</th><td>10287</td><td> 6801</td></tr>\n",
       "\t<tr><th scope=row>1</th><td> 9713</td><td>13199</td></tr>\n",
       "</tbody>\n",
       "</table>\n"
      ],
      "text/latex": [
       "\\begin{tabular}{r|ll}\n",
       "  & 0 & 1\\\\\n",
       "\\hline\n",
       "\t0 & 10287 &  6801\\\\\n",
       "\t1 &  9713 & 13199\\\\\n",
       "\\end{tabular}\n"
      ],
      "text/markdown": [
       "\n",
       "| <!--/--> | 0 | 1 |\n",
       "|---|---|---|\n",
       "| 0 | 10287 |  6801 |\n",
       "| 1 |  9713 | 13199 |\n",
       "\n"
      ],
      "text/plain": [
       "  0     1    \n",
       "0 10287  6801\n",
       "1  9713 13199"
      ]
     },
     "metadata": {},
     "output_type": "display_data"
    }
   ],
   "source": [
    "predicted <- predict(fit2, calib, type=\"response\")\n",
    "\n",
    "cutoff <- InformationValue::optimalCutoff(calib$CHURN,predicted)\n",
    "\n",
    "# Getting the confusion matrix\n",
    "ConfMat <- InformationValue::confusionMatrix(calib$CHURN, predicted, threshold = cutoff)\n",
    "ConfMat\n"
   ]
  },
  {
   "cell_type": "markdown",
   "metadata": {},
   "source": [
    "Let us calculate the other important metrics too"
   ]
  },
  {
   "cell_type": "code",
   "execution_count": 59,
   "metadata": {},
   "outputs": [
    {
     "data": {
      "text/html": [
       "'Sensitivity: 0.65995'"
      ],
      "text/latex": [
       "'Sensitivity: 0.65995'"
      ],
      "text/markdown": [
       "'Sensitivity: 0.65995'"
      ],
      "text/plain": [
       "[1] \"Sensitivity: 0.65995\""
      ]
     },
     "metadata": {},
     "output_type": "display_data"
    },
    {
     "data": {
      "text/html": [
       "'Specificity: 0.51435'"
      ],
      "text/latex": [
       "'Specificity: 0.51435'"
      ],
      "text/markdown": [
       "'Specificity: 0.51435'"
      ],
      "text/plain": [
       "[1] \"Specificity: 0.51435\""
      ]
     },
     "metadata": {},
     "output_type": "display_data"
    },
    {
     "data": {
      "text/html": [
       "'Bad Rate: 0.4128'"
      ],
      "text/latex": [
       "'Bad Rate: 0.4128'"
      ],
      "text/markdown": [
       "'Bad Rate: 0.4128'"
      ],
      "text/plain": [
       "[1] \"Bad Rate: 0.4128\""
      ]
     },
     "metadata": {},
     "output_type": "display_data"
    }
   ],
   "source": [
    "paste(\"Sensitivity:\",InformationValue::sensitivity(calib$CHURN, predicted, threshold = cutoff))\n",
    "\n",
    "paste(\"Specificity:\",InformationValue::specificity(calib$CHURN, predicted, threshold = cutoff))\n",
    "\n",
    "paste(\"Bad Rate:\",InformationValue::misClassError(calib$CHURN, predicted, threshold = cutoff)) # AKA Bad Rate"
   ]
  },
  {
   "cell_type": "code",
   "execution_count": 64,
   "metadata": {},
   "outputs": [
    {
     "name": "stderr",
     "output_type": "stream",
     "text": [
      "Warning message:\n",
      "\"Removed 15 rows containing missing values (geom_text).\""
     ]
    },
    {
     "data": {
      "image/png": "[encoded data removed]",
      "text/plain": [
       "plot without title"
      ]
     },
     "metadata": {},
     "output_type": "display_data"
    }
   ],
   "source": [
    "options(repr.plot.width=5, repr.plot.height=5)\n",
    "InformationValue::plotROC(calib$CHURN, predicted,Show.labels = T)"
   ]
  },
  {
   "cell_type": "code",
   "execution_count": 65,
   "metadata": {},
   "outputs": [
    {
     "data": {
      "text/html": [
       "<table>\n",
       "<thead><tr><th scope=col>rank</th><th scope=col>total_pop</th><th scope=col>non_responders</th><th scope=col>responders</th><th scope=col>expected_responders_by_random</th><th scope=col>perc_responders</th><th scope=col>perc_non_responders</th><th scope=col>cum_perc_responders</th><th scope=col>cum_perc_non_responders</th><th scope=col>difference</th></tr></thead>\n",
       "<tbody>\n",
       "\t<tr><td> 1     </td><td>4000   </td><td>1422   </td><td>2578   </td><td>2000   </td><td>0.12890</td><td>0.07110</td><td>0.12890</td><td>0.07110</td><td>0.0578 </td></tr>\n",
       "\t<tr><td> 2     </td><td>4000   </td><td>1539   </td><td>2461   </td><td>2000   </td><td>0.12305</td><td>0.07695</td><td>0.25195</td><td>0.14805</td><td>0.1039 </td></tr>\n",
       "\t<tr><td> 3     </td><td>4000   </td><td>1675   </td><td>2325   </td><td>2000   </td><td>0.11625</td><td>0.08375</td><td>0.36820</td><td>0.23180</td><td>0.1364 </td></tr>\n",
       "\t<tr><td> 4     </td><td>4000   </td><td>1781   </td><td>2219   </td><td>2000   </td><td>0.11095</td><td>0.08905</td><td>0.47915</td><td>0.32085</td><td>0.1583 </td></tr>\n",
       "\t<tr><td> 5     </td><td>4000   </td><td>1856   </td><td>2144   </td><td>2000   </td><td>0.10720</td><td>0.09280</td><td>0.58635</td><td>0.41365</td><td>0.1727 </td></tr>\n",
       "\t<tr><td> 6     </td><td>4000   </td><td>2002   </td><td>1998   </td><td>2000   </td><td>0.09990</td><td>0.10010</td><td>0.68625</td><td>0.51375</td><td>0.1725 </td></tr>\n",
       "\t<tr><td> 7     </td><td>4000   </td><td>2083   </td><td>1917   </td><td>2000   </td><td>0.09585</td><td>0.10415</td><td>0.78210</td><td>0.61790</td><td>0.1642 </td></tr>\n",
       "\t<tr><td> 8     </td><td>4000   </td><td>2290   </td><td>1710   </td><td>2000   </td><td>0.08550</td><td>0.11450</td><td>0.86760</td><td>0.73240</td><td>0.1352 </td></tr>\n",
       "\t<tr><td> 9     </td><td>4000   </td><td>2530   </td><td>1470   </td><td>2000   </td><td>0.07350</td><td>0.12650</td><td>0.94110</td><td>0.85890</td><td>0.0822 </td></tr>\n",
       "\t<tr><td>10     </td><td>4000   </td><td>2822   </td><td>1178   </td><td>2000   </td><td>0.05890</td><td>0.14110</td><td>1.00000</td><td>1.00000</td><td>0.0000 </td></tr>\n",
       "</tbody>\n",
       "</table>\n"
      ],
      "text/latex": [
       "\\begin{tabular}{r|llllllllll}\n",
       " rank & total\\_pop & non\\_responders & responders & expected\\_responders\\_by\\_random & perc\\_responders & perc\\_non\\_responders & cum\\_perc\\_responders & cum\\_perc\\_non\\_responders & difference\\\\\n",
       "\\hline\n",
       "\t  1      & 4000    & 1422    & 2578    & 2000    & 0.12890 & 0.07110 & 0.12890 & 0.07110 & 0.0578 \\\\\n",
       "\t  2      & 4000    & 1539    & 2461    & 2000    & 0.12305 & 0.07695 & 0.25195 & 0.14805 & 0.1039 \\\\\n",
       "\t  3      & 4000    & 1675    & 2325    & 2000    & 0.11625 & 0.08375 & 0.36820 & 0.23180 & 0.1364 \\\\\n",
       "\t  4      & 4000    & 1781    & 2219    & 2000    & 0.11095 & 0.08905 & 0.47915 & 0.32085 & 0.1583 \\\\\n",
       "\t  5      & 4000    & 1856    & 2144    & 2000    & 0.10720 & 0.09280 & 0.58635 & 0.41365 & 0.1727 \\\\\n",
       "\t  6      & 4000    & 2002    & 1998    & 2000    & 0.09990 & 0.10010 & 0.68625 & 0.51375 & 0.1725 \\\\\n",
       "\t  7      & 4000    & 2083    & 1917    & 2000    & 0.09585 & 0.10415 & 0.78210 & 0.61790 & 0.1642 \\\\\n",
       "\t  8      & 4000    & 2290    & 1710    & 2000    & 0.08550 & 0.11450 & 0.86760 & 0.73240 & 0.1352 \\\\\n",
       "\t  9      & 4000    & 2530    & 1470    & 2000    & 0.07350 & 0.12650 & 0.94110 & 0.85890 & 0.0822 \\\\\n",
       "\t 10      & 4000    & 2822    & 1178    & 2000    & 0.05890 & 0.14110 & 1.00000 & 1.00000 & 0.0000 \\\\\n",
       "\\end{tabular}\n"
      ],
      "text/markdown": [
       "\n",
       "| rank | total_pop | non_responders | responders | expected_responders_by_random | perc_responders | perc_non_responders | cum_perc_responders | cum_perc_non_responders | difference |\n",
       "|---|---|---|---|---|---|---|---|---|---|\n",
       "|  1      | 4000    | 1422    | 2578    | 2000    | 0.12890 | 0.07110 | 0.12890 | 0.07110 | 0.0578  |\n",
       "|  2      | 4000    | 1539    | 2461    | 2000    | 0.12305 | 0.07695 | 0.25195 | 0.14805 | 0.1039  |\n",
       "|  3      | 4000    | 1675    | 2325    | 2000    | 0.11625 | 0.08375 | 0.36820 | 0.23180 | 0.1364  |\n",
       "|  4      | 4000    | 1781    | 2219    | 2000    | 0.11095 | 0.08905 | 0.47915 | 0.32085 | 0.1583  |\n",
       "|  5      | 4000    | 1856    | 2144    | 2000    | 0.10720 | 0.09280 | 0.58635 | 0.41365 | 0.1727  |\n",
       "|  6      | 4000    | 2002    | 1998    | 2000    | 0.09990 | 0.10010 | 0.68625 | 0.51375 | 0.1725  |\n",
       "|  7      | 4000    | 2083    | 1917    | 2000    | 0.09585 | 0.10415 | 0.78210 | 0.61790 | 0.1642  |\n",
       "|  8      | 4000    | 2290    | 1710    | 2000    | 0.08550 | 0.11450 | 0.86760 | 0.73240 | 0.1352  |\n",
       "|  9      | 4000    | 2530    | 1470    | 2000    | 0.07350 | 0.12650 | 0.94110 | 0.85890 | 0.0822  |\n",
       "| 10      | 4000    | 2822    | 1178    | 2000    | 0.05890 | 0.14110 | 1.00000 | 1.00000 | 0.0000  |\n",
       "\n"
      ],
      "text/plain": [
       "   rank total_pop non_responders responders expected_responders_by_random\n",
       "1   1   4000      1422           2578       2000                         \n",
       "2   2   4000      1539           2461       2000                         \n",
       "3   3   4000      1675           2325       2000                         \n",
       "4   4   4000      1781           2219       2000                         \n",
       "5   5   4000      1856           2144       2000                         \n",
       "6   6   4000      2002           1998       2000                         \n",
       "7   7   4000      2083           1917       2000                         \n",
       "8   8   4000      2290           1710       2000                         \n",
       "9   9   4000      2530           1470       2000                         \n",
       "10 10   4000      2822           1178       2000                         \n",
       "   perc_responders perc_non_responders cum_perc_responders\n",
       "1  0.12890         0.07110             0.12890            \n",
       "2  0.12305         0.07695             0.25195            \n",
       "3  0.11625         0.08375             0.36820            \n",
       "4  0.11095         0.08905             0.47915            \n",
       "5  0.10720         0.09280             0.58635            \n",
       "6  0.09990         0.10010             0.68625            \n",
       "7  0.09585         0.10415             0.78210            \n",
       "8  0.08550         0.11450             0.86760            \n",
       "9  0.07350         0.12650             0.94110            \n",
       "10 0.05890         0.14110             1.00000            \n",
       "   cum_perc_non_responders difference\n",
       "1  0.07110                 0.0578    \n",
       "2  0.14805                 0.1039    \n",
       "3  0.23180                 0.1364    \n",
       "4  0.32085                 0.1583    \n",
       "5  0.41365                 0.1727    \n",
       "6  0.51375                 0.1725    \n",
       "7  0.61790                 0.1642    \n",
       "8  0.73240                 0.1352    \n",
       "9  0.85890                 0.0822    \n",
       "10 1.00000                 0.0000    "
      ]
     },
     "metadata": {},
     "output_type": "display_data"
    }
   ],
   "source": [
    " ks_stat(calib$CHURN, predicted, returnKSTable = T)"
   ]
  },
  {
   "cell_type": "markdown",
   "metadata": {},
   "source": [
    "Now, we will conduct a decile analysis to see if the model is valid"
   ]
  },
  {
   "cell_type": "code",
   "execution_count": 72,
   "metadata": {},
   "outputs": [
    {
     "data": {
      "text/html": [
       "<table>\n",
       "<thead><tr><th scope=col>decile</th><th scope=col>Min_prob</th><th scope=col>Max_prob</th><th scope=col>churn_Count</th><th scope=col>Non_churn_Count</th></tr></thead>\n",
       "<tbody>\n",
       "\t<tr><td>10       </td><td>0.6339875</td><td>0.8415453</td><td>2578     </td><td>1422     </td></tr>\n",
       "\t<tr><td> 9       </td><td>0.5919703</td><td>0.6339733</td><td>2461     </td><td>1539     </td></tr>\n",
       "\t<tr><td> 8       </td><td>0.5593636</td><td>0.5919694</td><td>2325     </td><td>1675     </td></tr>\n",
       "\t<tr><td> 7       </td><td>0.5301308</td><td>0.5593542</td><td>2219     </td><td>1781     </td></tr>\n",
       "\t<tr><td> 6       </td><td>0.5022778</td><td>0.5301287</td><td>2144     </td><td>1856     </td></tr>\n",
       "\t<tr><td> 5       </td><td>0.4735879</td><td>0.5022756</td><td>1998     </td><td>2002     </td></tr>\n",
       "\t<tr><td> 4       </td><td>0.4433115</td><td>0.4735843</td><td>1917     </td><td>2083     </td></tr>\n",
       "\t<tr><td> 3       </td><td>0.4086781</td><td>0.4433086</td><td>1710     </td><td>2290     </td></tr>\n",
       "\t<tr><td> 2       </td><td>0.3625175</td><td>0.4086696</td><td>1470     </td><td>2530     </td></tr>\n",
       "\t<tr><td> 1       </td><td>0.1383115</td><td>0.3624870</td><td>1178     </td><td>2822     </td></tr>\n",
       "</tbody>\n",
       "</table>\n"
      ],
      "text/latex": [
       "\\begin{tabular}{r|lllll}\n",
       " decile & Min\\_prob & Max\\_prob & churn\\_Count & Non\\_churn\\_Count\\\\\n",
       "\\hline\n",
       "\t 10        & 0.6339875 & 0.8415453 & 2578      & 1422     \\\\\n",
       "\t  9        & 0.5919703 & 0.6339733 & 2461      & 1539     \\\\\n",
       "\t  8        & 0.5593636 & 0.5919694 & 2325      & 1675     \\\\\n",
       "\t  7        & 0.5301308 & 0.5593542 & 2219      & 1781     \\\\\n",
       "\t  6        & 0.5022778 & 0.5301287 & 2144      & 1856     \\\\\n",
       "\t  5        & 0.4735879 & 0.5022756 & 1998      & 2002     \\\\\n",
       "\t  4        & 0.4433115 & 0.4735843 & 1917      & 2083     \\\\\n",
       "\t  3        & 0.4086781 & 0.4433086 & 1710      & 2290     \\\\\n",
       "\t  2        & 0.3625175 & 0.4086696 & 1470      & 2530     \\\\\n",
       "\t  1        & 0.1383115 & 0.3624870 & 1178      & 2822     \\\\\n",
       "\\end{tabular}\n"
      ],
      "text/markdown": [
       "\n",
       "| decile | Min_prob | Max_prob | churn_Count | Non_churn_Count |\n",
       "|---|---|---|---|---|\n",
       "| 10        | 0.6339875 | 0.8415453 | 2578      | 1422      |\n",
       "|  9        | 0.5919703 | 0.6339733 | 2461      | 1539      |\n",
       "|  8        | 0.5593636 | 0.5919694 | 2325      | 1675      |\n",
       "|  7        | 0.5301308 | 0.5593542 | 2219      | 1781      |\n",
       "|  6        | 0.5022778 | 0.5301287 | 2144      | 1856      |\n",
       "|  5        | 0.4735879 | 0.5022756 | 1998      | 2002      |\n",
       "|  4        | 0.4433115 | 0.4735843 | 1917      | 2083      |\n",
       "|  3        | 0.4086781 | 0.4433086 | 1710      | 2290      |\n",
       "|  2        | 0.3625175 | 0.4086696 | 1470      | 2530      |\n",
       "|  1        | 0.1383115 | 0.3624870 | 1178      | 2822      |\n",
       "\n"
      ],
      "text/plain": [
       "   decile Min_prob  Max_prob  churn_Count Non_churn_Count\n",
       "1  10     0.6339875 0.8415453 2578        1422           \n",
       "2   9     0.5919703 0.6339733 2461        1539           \n",
       "3   8     0.5593636 0.5919694 2325        1675           \n",
       "4   7     0.5301308 0.5593542 2219        1781           \n",
       "5   6     0.5022778 0.5301287 2144        1856           \n",
       "6   5     0.4735879 0.5022756 1998        2002           \n",
       "7   4     0.4433115 0.4735843 1917        2083           \n",
       "8   3     0.4086781 0.4433086 1710        2290           \n",
       "9   2     0.3625175 0.4086696 1470        2530           \n",
       "10  1     0.1383115 0.3624870 1178        2822           "
      ]
     },
     "metadata": {},
     "output_type": "display_data"
    },
    {
     "data": {},
     "metadata": {},
     "output_type": "display_data"
    },
    {
     "data": {
      "image/png": "[encoded data removed]",
      "text/plain": [
       "plot without title"
      ]
     },
     "metadata": {},
     "output_type": "display_data"
    }
   ],
   "source": [
    "calib <- cbind(calib,pred = predicted)\n",
    "\n",
    "decLocations <- quantile(calib$pred, probs = seq(0.1,0.9,by=0.1))\n",
    "calib$decile <- findInterval(calib$pred,c(-Inf,decLocations, Inf))\n",
    "\n",
    "calib <- data.table(calib)\n",
    "#calib$CHURN <- as.numeric(calib$CHURN)\n",
    "fit_train_DA <- calib %>% group_by(decile) %>% dplyr::summarize(Min_prob = min(pred),\n",
    "                                                                Max_prob = max(pred),\n",
    "                                                                churn_Count = sum(as.numeric(CHURN)),\n",
    "                                                                Non_churn_Count = (length(decile)-sum(as.numeric(CHURN)))\n",
    ") %>% arrange(decile)\n",
    "fit_train_DA <- dplyr::arrange(fit_train_DA, desc(decile))  \n",
    "fit_train_DA\n",
    "\n",
    "DecilePlot <-  ggplot2::ggplot(data = fit_train_DA,aes(x = factor(-decile), y = churn_Count))\n",
    "DecilePlot <- DecilePlot + geom_bar(stat = 'identity',fill = \"salmon3\") \n",
    "DecilePlot <- DecilePlot + xlab(\"The Deciles\") + ylab(\"No of churn Customers\")\n",
    "DecilePlot <- DecilePlot + ggtitle(\"Decile Analyis Graph for customers - calibration data\")\n",
    "DecilePlot <- DecilePlot + theme_economist()\n",
    "DecilePlot\n"
   ]
  },
  {
   "cell_type": "markdown",
   "metadata": {},
   "source": [
    "This forms a smooth step shape, this means that the model is good."
   ]
  },
  {
   "cell_type": "markdown",
   "metadata": {},
   "source": [
    "We conduct a similar analysis for the Validity data too"
   ]
  },
  {
   "cell_type": "code",
   "execution_count": 86,
   "metadata": {},
   "outputs": [
    {
     "data": {
      "text/html": [
       "'This model says that there are 15160 customers who are about to churn.'"
      ],
      "text/latex": [
       "'This model says that there are 15160 customers who are about to churn.'"
      ],
      "text/markdown": [
       "'This model says that there are 15160 customers who are about to churn.'"
      ],
      "text/plain": [
       "[1] \"This model says that there are 15160 customers who are about to churn.\""
      ]
     },
     "metadata": {},
     "output_type": "display_data"
    }
   ],
   "source": [
    "valid<-cbind(valid, pred=predict(fit2, valid, type=\"response\"))\n",
    "valid$churn_pd <- ifelse(valid$pred>cutoff, 1,0)\n",
    "paste(\"This model says that there are\", sum(valid$churn_pd) ,\"customers who are about to churn.\")"
   ]
  },
  {
   "cell_type": "code",
   "execution_count": 78,
   "metadata": {},
   "outputs": [
    {
     "data": {
      "text/html": [
       "<table>\n",
       "<thead><tr><th></th><th scope=col>0</th><th scope=col>1</th></tr></thead>\n",
       "<tbody>\n",
       "\t<tr><th scope=row>0</th><td>15683</td><td>204  </td></tr>\n",
       "\t<tr><th scope=row>1</th><td>14755</td><td>405  </td></tr>\n",
       "</tbody>\n",
       "</table>\n"
      ],
      "text/latex": [
       "\\begin{tabular}{r|ll}\n",
       "  & 0 & 1\\\\\n",
       "\\hline\n",
       "\t0 & 15683 & 204  \\\\\n",
       "\t1 & 14755 & 405  \\\\\n",
       "\\end{tabular}\n"
      ],
      "text/markdown": [
       "\n",
       "| <!--/--> | 0 | 1 |\n",
       "|---|---|---|\n",
       "| 0 | 15683 | 204   |\n",
       "| 1 | 14755 | 405   |\n",
       "\n"
      ],
      "text/plain": [
       "  0     1  \n",
       "0 15683 204\n",
       "1 14755 405"
      ]
     },
     "metadata": {},
     "output_type": "display_data"
    }
   ],
   "source": [
    "InformationValue::confusionMatrix(valid$CHURN, valid$pred, threshold = cutoff)"
   ]
  },
  {
   "cell_type": "code",
   "execution_count": 80,
   "metadata": {},
   "outputs": [
    {
     "data": {
      "text/html": [
       "'Bad Rate: 0.4818'"
      ],
      "text/latex": [
       "'Bad Rate: 0.4818'"
      ],
      "text/markdown": [
       "'Bad Rate: 0.4818'"
      ],
      "text/plain": [
       "[1] \"Bad Rate: 0.4818\""
      ]
     },
     "metadata": {},
     "output_type": "display_data"
    }
   ],
   "source": [
    "paste(\"Bad Rate:\",InformationValue::misClassError(valid$CHURN, valid$pred, threshold = cutoff))"
   ]
  },
  {
   "cell_type": "code",
   "execution_count": 81,
   "metadata": {},
   "outputs": [
    {
     "data": {
      "text/html": [
       "<table>\n",
       "<thead><tr><th scope=col>rank</th><th scope=col>total_pop</th><th scope=col>non_responders</th><th scope=col>responders</th><th scope=col>expected_responders_by_random</th><th scope=col>perc_responders</th><th scope=col>perc_non_responders</th><th scope=col>cum_perc_responders</th><th scope=col>cum_perc_non_responders</th><th scope=col>difference</th></tr></thead>\n",
       "<tbody>\n",
       "\t<tr><td> 1        </td><td>3105      </td><td>3001      </td><td>104       </td><td>60.90588  </td><td>0.17077176</td><td>0.09859386</td><td>0.1707718 </td><td>0.09859386</td><td>0.07217789</td></tr>\n",
       "\t<tr><td> 2        </td><td>3105      </td><td>3015      </td><td> 90       </td><td>60.90588  </td><td>0.14778325</td><td>0.09905381</td><td>0.3185550 </td><td>0.19764768</td><td>0.12090733</td></tr>\n",
       "\t<tr><td> 3        </td><td>3105      </td><td>3022      </td><td> 83       </td><td>60.90588  </td><td>0.13628900</td><td>0.09928379</td><td>0.4548440 </td><td>0.29693147</td><td>0.15791254</td></tr>\n",
       "\t<tr><td> 4        </td><td>3105      </td><td>3036      </td><td> 69       </td><td>60.90588  </td><td>0.11330049</td><td>0.09974374</td><td>0.5681445 </td><td>0.39667521</td><td>0.17146929</td></tr>\n",
       "\t<tr><td> 5        </td><td>3105      </td><td>3042      </td><td> 63       </td><td>60.90588  </td><td>0.10344828</td><td>0.09994086</td><td>0.6715928 </td><td>0.49661607</td><td>0.17497670</td></tr>\n",
       "\t<tr><td> 6        </td><td>3105      </td><td>3047      </td><td> 58       </td><td>60.90588  </td><td>0.09523810</td><td>0.10010513</td><td>0.7668309 </td><td>0.59672120</td><td>0.17010967</td></tr>\n",
       "\t<tr><td> 7        </td><td>3105      </td><td>3060      </td><td> 45       </td><td>60.90588  </td><td>0.07389163</td><td>0.10053223</td><td>0.8407225 </td><td>0.69725343</td><td>0.14346906</td></tr>\n",
       "\t<tr><td> 8        </td><td>3105      </td><td>3065      </td><td> 40       </td><td>60.90588  </td><td>0.06568144</td><td>0.10069650</td><td>0.9064039 </td><td>0.79794993</td><td>0.10845401</td></tr>\n",
       "\t<tr><td> 9        </td><td>3105      </td><td>3069      </td><td> 36       </td><td>60.90588  </td><td>0.05911330</td><td>0.10082791</td><td>0.9655172 </td><td>0.89877784</td><td>0.06673940</td></tr>\n",
       "\t<tr><td>10        </td><td>3102      </td><td>3081      </td><td> 21       </td><td>60.84704  </td><td>0.03448276</td><td>0.10122216</td><td>1.0000000 </td><td>1.00000000</td><td>0.00000000</td></tr>\n",
       "</tbody>\n",
       "</table>\n"
      ],
      "text/latex": [
       "\\begin{tabular}{r|llllllllll}\n",
       " rank & total\\_pop & non\\_responders & responders & expected\\_responders\\_by\\_random & perc\\_responders & perc\\_non\\_responders & cum\\_perc\\_responders & cum\\_perc\\_non\\_responders & difference\\\\\n",
       "\\hline\n",
       "\t  1         & 3105       & 3001       & 104        & 60.90588   & 0.17077176 & 0.09859386 & 0.1707718  & 0.09859386 & 0.07217789\\\\\n",
       "\t  2         & 3105       & 3015       &  90        & 60.90588   & 0.14778325 & 0.09905381 & 0.3185550  & 0.19764768 & 0.12090733\\\\\n",
       "\t  3         & 3105       & 3022       &  83        & 60.90588   & 0.13628900 & 0.09928379 & 0.4548440  & 0.29693147 & 0.15791254\\\\\n",
       "\t  4         & 3105       & 3036       &  69        & 60.90588   & 0.11330049 & 0.09974374 & 0.5681445  & 0.39667521 & 0.17146929\\\\\n",
       "\t  5         & 3105       & 3042       &  63        & 60.90588   & 0.10344828 & 0.09994086 & 0.6715928  & 0.49661607 & 0.17497670\\\\\n",
       "\t  6         & 3105       & 3047       &  58        & 60.90588   & 0.09523810 & 0.10010513 & 0.7668309  & 0.59672120 & 0.17010967\\\\\n",
       "\t  7         & 3105       & 3060       &  45        & 60.90588   & 0.07389163 & 0.10053223 & 0.8407225  & 0.69725343 & 0.14346906\\\\\n",
       "\t  8         & 3105       & 3065       &  40        & 60.90588   & 0.06568144 & 0.10069650 & 0.9064039  & 0.79794993 & 0.10845401\\\\\n",
       "\t  9         & 3105       & 3069       &  36        & 60.90588   & 0.05911330 & 0.10082791 & 0.9655172  & 0.89877784 & 0.06673940\\\\\n",
       "\t 10         & 3102       & 3081       &  21        & 60.84704   & 0.03448276 & 0.10122216 & 1.0000000  & 1.00000000 & 0.00000000\\\\\n",
       "\\end{tabular}\n"
      ],
      "text/markdown": [
       "\n",
       "| rank | total_pop | non_responders | responders | expected_responders_by_random | perc_responders | perc_non_responders | cum_perc_responders | cum_perc_non_responders | difference |\n",
       "|---|---|---|---|---|---|---|---|---|---|\n",
       "|  1         | 3105       | 3001       | 104        | 60.90588   | 0.17077176 | 0.09859386 | 0.1707718  | 0.09859386 | 0.07217789 |\n",
       "|  2         | 3105       | 3015       |  90        | 60.90588   | 0.14778325 | 0.09905381 | 0.3185550  | 0.19764768 | 0.12090733 |\n",
       "|  3         | 3105       | 3022       |  83        | 60.90588   | 0.13628900 | 0.09928379 | 0.4548440  | 0.29693147 | 0.15791254 |\n",
       "|  4         | 3105       | 3036       |  69        | 60.90588   | 0.11330049 | 0.09974374 | 0.5681445  | 0.39667521 | 0.17146929 |\n",
       "|  5         | 3105       | 3042       |  63        | 60.90588   | 0.10344828 | 0.09994086 | 0.6715928  | 0.49661607 | 0.17497670 |\n",
       "|  6         | 3105       | 3047       |  58        | 60.90588   | 0.09523810 | 0.10010513 | 0.7668309  | 0.59672120 | 0.17010967 |\n",
       "|  7         | 3105       | 3060       |  45        | 60.90588   | 0.07389163 | 0.10053223 | 0.8407225  | 0.69725343 | 0.14346906 |\n",
       "|  8         | 3105       | 3065       |  40        | 60.90588   | 0.06568144 | 0.10069650 | 0.9064039  | 0.79794993 | 0.10845401 |\n",
       "|  9         | 3105       | 3069       |  36        | 60.90588   | 0.05911330 | 0.10082791 | 0.9655172  | 0.89877784 | 0.06673940 |\n",
       "| 10         | 3102       | 3081       |  21        | 60.84704   | 0.03448276 | 0.10122216 | 1.0000000  | 1.00000000 | 0.00000000 |\n",
       "\n"
      ],
      "text/plain": [
       "   rank total_pop non_responders responders expected_responders_by_random\n",
       "1   1   3105      3001           104        60.90588                     \n",
       "2   2   3105      3015            90        60.90588                     \n",
       "3   3   3105      3022            83        60.90588                     \n",
       "4   4   3105      3036            69        60.90588                     \n",
       "5   5   3105      3042            63        60.90588                     \n",
       "6   6   3105      3047            58        60.90588                     \n",
       "7   7   3105      3060            45        60.90588                     \n",
       "8   8   3105      3065            40        60.90588                     \n",
       "9   9   3105      3069            36        60.90588                     \n",
       "10 10   3102      3081            21        60.84704                     \n",
       "   perc_responders perc_non_responders cum_perc_responders\n",
       "1  0.17077176      0.09859386          0.1707718          \n",
       "2  0.14778325      0.09905381          0.3185550          \n",
       "3  0.13628900      0.09928379          0.4548440          \n",
       "4  0.11330049      0.09974374          0.5681445          \n",
       "5  0.10344828      0.09994086          0.6715928          \n",
       "6  0.09523810      0.10010513          0.7668309          \n",
       "7  0.07389163      0.10053223          0.8407225          \n",
       "8  0.06568144      0.10069650          0.9064039          \n",
       "9  0.05911330      0.10082791          0.9655172          \n",
       "10 0.03448276      0.10122216          1.0000000          \n",
       "   cum_perc_non_responders difference\n",
       "1  0.09859386              0.07217789\n",
       "2  0.19764768              0.12090733\n",
       "3  0.29693147              0.15791254\n",
       "4  0.39667521              0.17146929\n",
       "5  0.49661607              0.17497670\n",
       "6  0.59672120              0.17010967\n",
       "7  0.69725343              0.14346906\n",
       "8  0.79794993              0.10845401\n",
       "9  0.89877784              0.06673940\n",
       "10 1.00000000              0.00000000"
      ]
     },
     "metadata": {},
     "output_type": "display_data"
    }
   ],
   "source": [
    "ks_stat(valid$CHURN, valid$pred, returnKSTable = T)"
   ]
  },
  {
   "cell_type": "markdown",
   "metadata": {},
   "source": [
    "Decile Analysis"
   ]
  },
  {
   "cell_type": "code",
   "execution_count": 87,
   "metadata": {},
   "outputs": [
    {
     "data": {
      "text/html": [
       "<table>\n",
       "<thead><tr><th scope=col>decile</th><th scope=col>Min_prob</th><th scope=col>Max_prob</th><th scope=col>churn_Count</th><th scope=col>Non_churn_Count</th></tr></thead>\n",
       "<tbody>\n",
       "\t<tr><td>10       </td><td>0.6160525</td><td>0.8438721</td><td>104      </td><td>3001     </td></tr>\n",
       "\t<tr><td> 9       </td><td>0.5702602</td><td>0.6160420</td><td> 90      </td><td>3015     </td></tr>\n",
       "\t<tr><td> 8       </td><td>0.5359044</td><td>0.5702532</td><td> 83      </td><td>3021     </td></tr>\n",
       "\t<tr><td> 7       </td><td>0.5059479</td><td>0.5358990</td><td> 69      </td><td>3036     </td></tr>\n",
       "\t<tr><td> 6       </td><td>0.4786657</td><td>0.5059432</td><td> 63      </td><td>3042     </td></tr>\n",
       "\t<tr><td> 5       </td><td>0.4506350</td><td>0.4786504</td><td> 58      </td><td>3046     </td></tr>\n",
       "\t<tr><td> 4       </td><td>0.4218971</td><td>0.4506291</td><td> 45      </td><td>3060     </td></tr>\n",
       "\t<tr><td> 3       </td><td>0.3890757</td><td>0.4218730</td><td> 40      </td><td>3064     </td></tr>\n",
       "\t<tr><td> 2       </td><td>0.3445732</td><td>0.3890652</td><td> 36      </td><td>3069     </td></tr>\n",
       "\t<tr><td> 1       </td><td>0.1529250</td><td>0.3445549</td><td> 21      </td><td>3084     </td></tr>\n",
       "</tbody>\n",
       "</table>\n"
      ],
      "text/latex": [
       "\\begin{tabular}{r|lllll}\n",
       " decile & Min\\_prob & Max\\_prob & churn\\_Count & Non\\_churn\\_Count\\\\\n",
       "\\hline\n",
       "\t 10        & 0.6160525 & 0.8438721 & 104       & 3001     \\\\\n",
       "\t  9        & 0.5702602 & 0.6160420 &  90       & 3015     \\\\\n",
       "\t  8        & 0.5359044 & 0.5702532 &  83       & 3021     \\\\\n",
       "\t  7        & 0.5059479 & 0.5358990 &  69       & 3036     \\\\\n",
       "\t  6        & 0.4786657 & 0.5059432 &  63       & 3042     \\\\\n",
       "\t  5        & 0.4506350 & 0.4786504 &  58       & 3046     \\\\\n",
       "\t  4        & 0.4218971 & 0.4506291 &  45       & 3060     \\\\\n",
       "\t  3        & 0.3890757 & 0.4218730 &  40       & 3064     \\\\\n",
       "\t  2        & 0.3445732 & 0.3890652 &  36       & 3069     \\\\\n",
       "\t  1        & 0.1529250 & 0.3445549 &  21       & 3084     \\\\\n",
       "\\end{tabular}\n"
      ],
      "text/markdown": [
       "\n",
       "| decile | Min_prob | Max_prob | churn_Count | Non_churn_Count |\n",
       "|---|---|---|---|---|\n",
       "| 10        | 0.6160525 | 0.8438721 | 104       | 3001      |\n",
       "|  9        | 0.5702602 | 0.6160420 |  90       | 3015      |\n",
       "|  8        | 0.5359044 | 0.5702532 |  83       | 3021      |\n",
       "|  7        | 0.5059479 | 0.5358990 |  69       | 3036      |\n",
       "|  6        | 0.4786657 | 0.5059432 |  63       | 3042      |\n",
       "|  5        | 0.4506350 | 0.4786504 |  58       | 3046      |\n",
       "|  4        | 0.4218971 | 0.4506291 |  45       | 3060      |\n",
       "|  3        | 0.3890757 | 0.4218730 |  40       | 3064      |\n",
       "|  2        | 0.3445732 | 0.3890652 |  36       | 3069      |\n",
       "|  1        | 0.1529250 | 0.3445549 |  21       | 3084      |\n",
       "\n"
      ],
      "text/plain": [
       "   decile Min_prob  Max_prob  churn_Count Non_churn_Count\n",
       "1  10     0.6160525 0.8438721 104         3001           \n",
       "2   9     0.5702602 0.6160420  90         3015           \n",
       "3   8     0.5359044 0.5702532  83         3021           \n",
       "4   7     0.5059479 0.5358990  69         3036           \n",
       "5   6     0.4786657 0.5059432  63         3042           \n",
       "6   5     0.4506350 0.4786504  58         3046           \n",
       "7   4     0.4218971 0.4506291  45         3060           \n",
       "8   3     0.3890757 0.4218730  40         3064           \n",
       "9   2     0.3445732 0.3890652  36         3069           \n",
       "10  1     0.1529250 0.3445549  21         3084           "
      ]
     },
     "metadata": {},
     "output_type": "display_data"
    },
    {
     "data": {},
     "metadata": {},
     "output_type": "display_data"
    },
    {
     "data": {
      "image/png": "[encoded data removed]",
      "text/plain": [
       "plot without title"
      ]
     },
     "metadata": {},
     "output_type": "display_data"
    }
   ],
   "source": [
    "decLocations <- quantile(valid$pred, probs = seq(0.1,0.9,by=0.1))\n",
    "valid$decile <- findInterval(valid$pred,c(-Inf,decLocations, Inf))\n",
    "\n",
    "valid <- data.table(valid)\n",
    "fit_test_DA <- valid %>% group_by(decile) %>% dplyr::summarize(Min_prob = min(pred),\n",
    "                                                               Max_prob = max(pred),\n",
    "                                                               churn_Count = sum(as.numeric(CHURN)),\n",
    "                                                               Non_churn_Count = (length(decile)-sum(as.numeric(CHURN)))\n",
    ") %>% arrange(decile)\n",
    "fit_test_DA <- dplyr::arrange(fit_test_DA, desc(decile))  \n",
    "fit_test_DA\n",
    "\n",
    "DecilePlot <-  ggplot2::ggplot(data = fit_test_DA,aes(x = factor(-decile), y = churn_Count))\n",
    "DecilePlot <- DecilePlot + geom_bar(stat = 'identity',fill = \"springgreen4\") \n",
    "DecilePlot <- DecilePlot + xlab(\"The Deciles\") + ylab(\"No of churn Customers\")\n",
    "DecilePlot <- DecilePlot + ggtitle(\"Decile Analyis Graph for customers - validity data\")\n",
    "DecilePlot <- DecilePlot + theme_economist()\n",
    "DecilePlot"
   ]
  },
  {
   "cell_type": "markdown",
   "metadata": {},
   "source": [
    "Though, this logistic regression model gives a good model, unfortunately the model does not have good predictive accuracy."
   ]
  },
  {
   "cell_type": "code",
   "execution_count": null,
   "metadata": {},
   "outputs": [],
   "source": []
  }
 ],
 "metadata": {
  "kernelspec": {
   "display_name": "R",
   "language": "R",
   "name": "ir"
  },
  "language_info": {
   "codemirror_mode": "r",
   "file_extension": ".r",
   "mimetype": "text/x-r-source",
   "name": "R",
   "pygments_lexer": "r",
   "version": "3.5.1"
  }
 },
 "nbformat": 4,
 "nbformat_minor": 2
}
